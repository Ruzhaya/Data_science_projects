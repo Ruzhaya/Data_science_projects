{
 "cells": [
  {
   "cell_type": "markdown",
   "metadata": {
    "toc": true
   },
   "source": [
    "<h1>Содержание<span class=\"tocSkip\"></span></h1>\n",
    "<div class=\"toc\"><ul class=\"toc-item\"><li><span><a href=\"#Подготовка-данных\" data-toc-modified-id=\"Подготовка-данных-1\"><span class=\"toc-item-num\">1&nbsp;&nbsp;</span>Подготовка данных</a></span><ul class=\"toc-item\"><li><span><a href=\"#Подключение-библиотек\" data-toc-modified-id=\"Подключение-библиотек-1.1\"><span class=\"toc-item-num\">1.1&nbsp;&nbsp;</span>Подключение библиотек</a></span></li><li><span><a href=\"#Загрузка-данных\" data-toc-modified-id=\"Загрузка-данных-1.2\"><span class=\"toc-item-num\">1.2&nbsp;&nbsp;</span>Загрузка данных</a></span></li><li><span><a href=\"#Функция-первичного-анализа-фрейма\" data-toc-modified-id=\"Функция-первичного-анализа-фрейма-1.3\"><span class=\"toc-item-num\">1.3&nbsp;&nbsp;</span>Функция первичного анализа фрейма</a></span></li><li><span><a href=\"#Train_df\" data-toc-modified-id=\"Train_df-1.4\"><span class=\"toc-item-num\">1.4&nbsp;&nbsp;</span><code>Train_df</code></a></span><ul class=\"toc-item\"><li><span><a href=\"#Анализ-обучающего-фрейма\" data-toc-modified-id=\"Анализ-обучающего-фрейма-1.4.1\"><span class=\"toc-item-num\">1.4.1&nbsp;&nbsp;</span>Анализ обучающего фрейма</a></span></li><li><span><a href=\"#Проверка-на-дубликаты\" data-toc-modified-id=\"Проверка-на-дубликаты-1.4.2\"><span class=\"toc-item-num\">1.4.2&nbsp;&nbsp;</span>Проверка на дубликаты</a></span></li><li><span><a href=\"#Заполнение-пропусков\" data-toc-modified-id=\"Заполнение-пропусков-1.4.3\"><span class=\"toc-item-num\">1.4.3&nbsp;&nbsp;</span>Заполнение пропусков</a></span></li><li><span><a href=\"#Перевод-даты-в-индекс\" data-toc-modified-id=\"Перевод-даты-в-индекс-1.4.4\"><span class=\"toc-item-num\">1.4.4&nbsp;&nbsp;</span>Перевод даты в индекс</a></span></li></ul></li><li><span><a href=\"#Test_df\" data-toc-modified-id=\"Test_df-1.5\"><span class=\"toc-item-num\">1.5&nbsp;&nbsp;</span><code>Test_df</code></a></span><ul class=\"toc-item\"><li><span><a href=\"#Анализ-тестового-фрейма\" data-toc-modified-id=\"Анализ-тестового-фрейма-1.5.1\"><span class=\"toc-item-num\">1.5.1&nbsp;&nbsp;</span>Анализ тестового фрейма</a></span></li><li><span><a href=\"#Проверка-на-дубликаты\" data-toc-modified-id=\"Проверка-на-дубликаты-1.5.2\"><span class=\"toc-item-num\">1.5.2&nbsp;&nbsp;</span>Проверка на дубликаты</a></span></li><li><span><a href=\"#Заполнение-пропусков\" data-toc-modified-id=\"Заполнение-пропусков-1.5.3\"><span class=\"toc-item-num\">1.5.3&nbsp;&nbsp;</span>Заполнение пропусков</a></span></li><li><span><a href=\"#Перевод-даты-в-индекс\" data-toc-modified-id=\"Перевод-даты-в-индекс-1.5.4\"><span class=\"toc-item-num\">1.5.4&nbsp;&nbsp;</span>Перевод даты в индекс</a></span></li></ul></li><li><span><a href=\"#Full_df\" data-toc-modified-id=\"Full_df-1.6\"><span class=\"toc-item-num\">1.6&nbsp;&nbsp;</span><code>Full_df</code></a></span><ul class=\"toc-item\"><li><span><a href=\"#Анализ-полного-фрейма\" data-toc-modified-id=\"Анализ-полного-фрейма-1.6.1\"><span class=\"toc-item-num\">1.6.1&nbsp;&nbsp;</span>Анализ полного фрейма</a></span></li><li><span><a href=\"#Проверка-на-дубликаты\" data-toc-modified-id=\"Проверка-на-дубликаты-1.6.2\"><span class=\"toc-item-num\">1.6.2&nbsp;&nbsp;</span>Проверка на дубликаты</a></span></li><li><span><a href=\"#Заполнение-пропусков\" data-toc-modified-id=\"Заполнение-пропусков-1.6.3\"><span class=\"toc-item-num\">1.6.3&nbsp;&nbsp;</span>Заполнение пропусков</a></span></li><li><span><a href=\"#Перевод-даты-в-индекс\" data-toc-modified-id=\"Перевод-даты-в-индекс-1.6.4\"><span class=\"toc-item-num\">1.6.4&nbsp;&nbsp;</span>Перевод даты в индекс</a></span></li></ul></li><li><span><a href=\"#Вывод\" data-toc-modified-id=\"Вывод-1.7\"><span class=\"toc-item-num\">1.7&nbsp;&nbsp;</span>Вывод</a></span></li><li><span><a href=\"#Проверка-эффективности-обогащения\" data-toc-modified-id=\"Проверка-эффективности-обогащения-1.8\"><span class=\"toc-item-num\">1.8&nbsp;&nbsp;</span>Проверка эффективности обогащения</a></span></li><li><span><a href=\"#Коррекция-признаков-тестовой-выбороки\" data-toc-modified-id=\"Коррекция-признаков-тестовой-выбороки-1.9\"><span class=\"toc-item-num\">1.9&nbsp;&nbsp;</span>Коррекция признаков тестовой выбороки</a></span></li></ul></li><li><span><a href=\"#Анализ-данных\" data-toc-modified-id=\"Анализ-данных-2\"><span class=\"toc-item-num\">2&nbsp;&nbsp;</span>Анализ данных</a></span><ul class=\"toc-item\"><li><span><a href=\"#График-изменения-концентрации-металлов-на-разных-этапах-очистки\" data-toc-modified-id=\"График-изменения-концентрации-металлов-на-разных-этапах-очистки-2.1\"><span class=\"toc-item-num\">2.1&nbsp;&nbsp;</span>График изменения концентрации металлов на разных этапах очистки</a></span></li><li><span><a href=\"#График-распределения-размеров-гранул-сырья-на-обучающей-и-тестовой-выборках\" data-toc-modified-id=\"График-распределения-размеров-гранул-сырья-на-обучающей-и-тестовой-выборках-2.2\"><span class=\"toc-item-num\">2.2&nbsp;&nbsp;</span>График распределения размеров гранул сырья на обучающей и тестовой выборках</a></span></li><li><span><a href=\"#Суммарная-концентрация-всех-веществ-на-разных-этапах\" data-toc-modified-id=\"Суммарная-концентрация-всех-веществ-на-разных-этапах-2.3\"><span class=\"toc-item-num\">2.3&nbsp;&nbsp;</span>Суммарная концентрация всех веществ на разных этапах</a></span></li><li><span><a href=\"#Удаление-нулевых-значений\" data-toc-modified-id=\"Удаление-нулевых-значений-2.4\"><span class=\"toc-item-num\">2.4&nbsp;&nbsp;</span>Удаление нулевых значений</a></span></li><li><span><a href=\"#Вывод\" data-toc-modified-id=\"Вывод-2.5\"><span class=\"toc-item-num\">2.5&nbsp;&nbsp;</span>Вывод</a></span></li></ul></li><li><span><a href=\"#Модель\" data-toc-modified-id=\"Модель-3\"><span class=\"toc-item-num\">3&nbsp;&nbsp;</span>Модель</a></span><ul class=\"toc-item\"><li><span><a href=\"#Целевой-признак-rougher.output.recovery\" data-toc-modified-id=\"Целевой-признак-rougher.output.recovery-3.1\"><span class=\"toc-item-num\">3.1&nbsp;&nbsp;</span>Целевой признак <code>rougher.output.recovery</code></a></span><ul class=\"toc-item\"><li><span><a href=\"#Подготовка-таблицы-признаков\" data-toc-modified-id=\"Подготовка-таблицы-признаков-3.1.1\"><span class=\"toc-item-num\">3.1.1&nbsp;&nbsp;</span>Подготовка таблицы признаков</a></span></li><li><span><a href=\"#Функция-рассчета-метрики-качества-sMape\" data-toc-modified-id=\"Функция-рассчета-метрики-качества-sMape-3.1.2\"><span class=\"toc-item-num\">3.1.2&nbsp;&nbsp;</span>Функция рассчета метрики качества <code>sMape</code></a></span></li><li><span><a href=\"#Деление-на-фичи-и-таргет\" data-toc-modified-id=\"Деление-на-фичи-и-таргет-3.1.3\"><span class=\"toc-item-num\">3.1.3&nbsp;&nbsp;</span>Деление на фичи и таргет</a></span></li><li><span><a href=\"#Формирование-фичей-и-таргета-на-тестовых-данных\" data-toc-modified-id=\"Формирование-фичей-и-таргета-на-тестовых-данных-3.1.4\"><span class=\"toc-item-num\">3.1.4&nbsp;&nbsp;</span>Формирование фичей и таргета на тестовых данных</a></span></li><li><span><a href=\"#Формирование-пайплайна-предобработки-фичей\" data-toc-modified-id=\"Формирование-пайплайна-предобработки-фичей-3.1.5\"><span class=\"toc-item-num\">3.1.5&nbsp;&nbsp;</span>Формирование пайплайна предобработки фичей</a></span></li><li><span><a href=\"#Модель-Random-Forest\" data-toc-modified-id=\"Модель-Random-Forest-3.1.6\"><span class=\"toc-item-num\">3.1.6&nbsp;&nbsp;</span>Модель <code>Random Forest</code></a></span><ul class=\"toc-item\"><li><span><a href=\"#Функция-подбора-гиперпараметров\" data-toc-modified-id=\"Функция-подбора-гиперпараметров-3.1.6.1\"><span class=\"toc-item-num\">3.1.6.1&nbsp;&nbsp;</span>Функция подбора гиперпараметров</a></span></li><li><span><a href=\"#Подбор-гиперпараметров-для-модели-с-помощью-фреймворка-optuna\" data-toc-modified-id=\"Подбор-гиперпараметров-для-модели-с-помощью-фреймворка-optuna-3.1.6.2\"><span class=\"toc-item-num\">3.1.6.2&nbsp;&nbsp;</span>Подбор гиперпараметров для модели с помощью фреймворка <code>optuna</code></a></span></li><li><span><a href=\"#Обучение-модели-и-проверка-метрики-кросс-валидацией\" data-toc-modified-id=\"Обучение-модели-и-проверка-метрики-кросс-валидацией-3.1.6.3\"><span class=\"toc-item-num\">3.1.6.3&nbsp;&nbsp;</span>Обучение модели и проверка метрики кросс-валидацией</a></span></li><li><span><a href=\"#Вывод\" data-toc-modified-id=\"Вывод-3.1.6.4\"><span class=\"toc-item-num\">3.1.6.4&nbsp;&nbsp;</span>Вывод</a></span></li></ul></li><li><span><a href=\"#Модель-SGDRegressor\" data-toc-modified-id=\"Модель-SGDRegressor-3.1.7\"><span class=\"toc-item-num\">3.1.7&nbsp;&nbsp;</span>Модель <code>SGDRegressor</code></a></span><ul class=\"toc-item\"><li><span><a href=\"#Функция-подбора-гиперпараметров\" data-toc-modified-id=\"Функция-подбора-гиперпараметров-3.1.7.1\"><span class=\"toc-item-num\">3.1.7.1&nbsp;&nbsp;</span>Функция подбора гиперпараметров</a></span></li><li><span><a href=\"#Подбор-гиперпараметров\" data-toc-modified-id=\"Подбор-гиперпараметров-3.1.7.2\"><span class=\"toc-item-num\">3.1.7.2&nbsp;&nbsp;</span>Подбор гиперпараметров</a></span></li><li><span><a href=\"#Обучение-модели-и-проверка-метрики-кросс-валидацией\" data-toc-modified-id=\"Обучение-модели-и-проверка-метрики-кросс-валидацией-3.1.7.3\"><span class=\"toc-item-num\">3.1.7.3&nbsp;&nbsp;</span>Обучение модели и проверка метрики кросс-валидацией</a></span></li><li><span><a href=\"#Вывод\" data-toc-modified-id=\"Вывод-3.1.7.4\"><span class=\"toc-item-num\">3.1.7.4&nbsp;&nbsp;</span>Вывод</a></span></li></ul></li><li><span><a href=\"#Модель-Decision-Tree\" data-toc-modified-id=\"Модель-Decision-Tree-3.1.8\"><span class=\"toc-item-num\">3.1.8&nbsp;&nbsp;</span>Модель <code>Decision Tree</code></a></span><ul class=\"toc-item\"><li><span><a href=\"#Функция-подбора-гиперпараметров\" data-toc-modified-id=\"Функция-подбора-гиперпараметров-3.1.8.1\"><span class=\"toc-item-num\">3.1.8.1&nbsp;&nbsp;</span>Функция подбора гиперпараметров</a></span></li><li><span><a href=\"#Подбор-гиперпараметров\" data-toc-modified-id=\"Подбор-гиперпараметров-3.1.8.2\"><span class=\"toc-item-num\">3.1.8.2&nbsp;&nbsp;</span>Подбор гиперпараметров</a></span></li><li><span><a href=\"#Обучение-модели-и-проверка-метрики-кросс-валидацией\" data-toc-modified-id=\"Обучение-модели-и-проверка-метрики-кросс-валидацией-3.1.8.3\"><span class=\"toc-item-num\">3.1.8.3&nbsp;&nbsp;</span>Обучение модели и проверка метрики кросс-валидацией</a></span></li><li><span><a href=\"#Вывод\" data-toc-modified-id=\"Вывод-3.1.8.4\"><span class=\"toc-item-num\">3.1.8.4&nbsp;&nbsp;</span>Вывод</a></span></li></ul></li></ul></li><li><span><a href=\"#Целевой-признак-final.output.recovery\" data-toc-modified-id=\"Целевой-признак-final.output.recovery-3.2\"><span class=\"toc-item-num\">3.2&nbsp;&nbsp;</span>Целевой признак <code>final.output.recovery</code></a></span><ul class=\"toc-item\"><li><span><a href=\"#Деление-на-обучающую-и-валидационную-выборки\" data-toc-modified-id=\"Деление-на-обучающую-и-валидационную-выборки-3.2.1\"><span class=\"toc-item-num\">3.2.1&nbsp;&nbsp;</span>Деление на обучающую и валидационную выборки</a></span></li><li><span><a href=\"#Формирование-фичей-и-таргета-на-тестовых-данных\" data-toc-modified-id=\"Формирование-фичей-и-таргета-на-тестовых-данных-3.2.2\"><span class=\"toc-item-num\">3.2.2&nbsp;&nbsp;</span>Формирование фичей и таргета на тестовых данных</a></span></li><li><span><a href=\"#Формирование-пайплайна-предобработки-фичей\" data-toc-modified-id=\"Формирование-пайплайна-предобработки-фичей-3.2.3\"><span class=\"toc-item-num\">3.2.3&nbsp;&nbsp;</span>Формирование пайплайна предобработки фичей</a></span></li><li><span><a href=\"#Модель-Random-forest\" data-toc-modified-id=\"Модель-Random-forest-3.2.4\"><span class=\"toc-item-num\">3.2.4&nbsp;&nbsp;</span>Модель <code>Random forest</code></a></span></li><li><span><a href=\"#Модель-SGDRegressor\" data-toc-modified-id=\"Модель-SGDRegressor-3.2.5\"><span class=\"toc-item-num\">3.2.5&nbsp;&nbsp;</span>Модель <code>SGDRegressor</code></a></span></li><li><span><a href=\"#Модель-Decision-tree\" data-toc-modified-id=\"Модель-Decision-tree-3.2.6\"><span class=\"toc-item-num\">3.2.6&nbsp;&nbsp;</span>Модель <code>Decision tree</code></a></span></li></ul></li><li><span><a href=\"#Проверка-лучших-моделей-на-тестовой-выборке\" data-toc-modified-id=\"Проверка-лучших-моделей-на-тестовой-выборке-3.3\"><span class=\"toc-item-num\">3.3&nbsp;&nbsp;</span>Проверка лучших моделей на тестовой выборке</a></span><ul class=\"toc-item\"><li><span><a href=\"#Проверка-по-целевом-признаку-rougher.output.recovery\" data-toc-modified-id=\"Проверка-по-целевом-признаку-rougher.output.recovery-3.3.1\"><span class=\"toc-item-num\">3.3.1&nbsp;&nbsp;</span>Проверка по целевом признаку <code>rougher.output.recovery</code></a></span></li><li><span><a href=\"#Проверка-по-целевому-признаку-final.output.recovery\" data-toc-modified-id=\"Проверка-по-целевому-признаку-final.output.recovery-3.3.2\"><span class=\"toc-item-num\">3.3.2&nbsp;&nbsp;</span>Проверка по целевому признаку <code>final.output.recovery</code></a></span></li><li><span><a href=\"#Сравнение-с-константной-моделью\" data-toc-modified-id=\"Сравнение-с-константной-моделью-3.3.3\"><span class=\"toc-item-num\">3.3.3&nbsp;&nbsp;</span>Сравнение с константной моделью</a></span></li><li><span><a href=\"#Рассчет-итогового-sMAPE\" data-toc-modified-id=\"Рассчет-итогового-sMAPE-3.3.4\"><span class=\"toc-item-num\">3.3.4&nbsp;&nbsp;</span>Рассчет итогового <code>sMAPE</code></a></span></li></ul></li></ul></li><li><span><a href=\"#Выводы\" data-toc-modified-id=\"Выводы-4\"><span class=\"toc-item-num\">4&nbsp;&nbsp;</span>Выводы</a></span></li><li><span><a href=\"#Чек-лист-готовности-проекта\" data-toc-modified-id=\"Чек-лист-готовности-проекта-5\"><span class=\"toc-item-num\">5&nbsp;&nbsp;</span>Чек-лист готовности проекта</a></span></li></ul></div>"
   ]
  },
  {
   "cell_type": "markdown",
   "metadata": {},
   "source": [
    "# Восстановление золота из руды"
   ]
  },
  {
   "cell_type": "markdown",
   "metadata": {},
   "source": [
    "Необходимо подготовить прототип модели машинного обучения для «Цифры». Компания разрабатывает решения для эффективной работы промышленных предприятий.\n",
    "\n",
    "Модель должна предсказать коэффициент восстановления золота из золотосодержащей руды. Модель поможет оптимизировать производство, чтобы не запускать предприятие с убыточными характеристиками.\n",
    "\n",
    "\n",
    "# Описание данных\n",
    "\n",
    "**Технологический процесс**\n",
    "\n",
    "* `Rougher feed` — исходное сырье\n",
    "* `Rougher additions` (или *reagent additions*) — флотационные реагенты: *Xanthate, Sulphate, Depressant*\n",
    "    * `Xanthate` — ксантогенат (промотер, или активатор флотации);\n",
    "    * `Sulphate` — сульфат (на данном производстве сульфид натрия);\n",
    "    * `Depressant` — депрессант (силикат натрия).\n",
    "* `Rougher process` (англ. «грубый процесс») — флотация\n",
    "* `Rougher tails` — отвальные хвосты\n",
    "* `Float banks` — флотационная установка\n",
    "* `Cleaner process` — очистка\n",
    "* `Rougher Au` — черновой концентрат золота\n",
    "* `Final Au` — финальный концентрат золота\n",
    "\n",
    "**Параметры этапов**\n",
    "\n",
    "* `air amount` — объём воздуха\n",
    "* `fluid levels` — уровень жидкости\n",
    "* `feed size` — размер гранул сырья\n",
    "* `feed rate` — скорость подачи\n",
    "\n",
    "# Наименование признаков\n",
    "\n",
    "Наименование признаков должно быть такое:\n",
    "\n",
    "[этап].[тип_параметра].[название_параметра]\n",
    "\n",
    "Пример: `rougher.input.feed_ag`\n",
    "\n",
    "**Возможные значения для блока [этап]:**\n",
    "\n",
    "* `rougher` — флотация\n",
    "* `primary_cleaner` — первичная очистка\n",
    "* `secondary_cleaner` — вторичная очистка\n",
    "* `final` — финальные характеристики\n",
    "\n",
    "**Возможные значения для блока [тип_параметра]:**\n",
    "\n",
    "* `input` — параметры сырья\n",
    "* `output` — параметры продукта\n",
    "* `state` — параметры, характеризующие текущее состояние этапа\n",
    "* `calculation` — расчётные характеристики"
   ]
  },
  {
   "cell_type": "markdown",
   "metadata": {},
   "source": [
    "## Подготовка данных"
   ]
  },
  {
   "cell_type": "markdown",
   "metadata": {},
   "source": [
    "### Подключение библиотек"
   ]
  },
  {
   "cell_type": "code",
   "execution_count": 55,
   "metadata": {},
   "outputs": [],
   "source": [
    "import pandas as pd\n",
    "import seaborn as sns\n",
    "from matplotlib import pyplot as plt\n",
    "import numpy as np\n",
    "from sklearn.metrics import mean_absolute_error\n",
    "from sklearn.preprocessing import StandardScaler\n",
    "from sklearn.model_selection import train_test_split\n",
    "from sklearn.pipeline import Pipeline, make_pipeline\n",
    "from sklearn.compose import ColumnTransformer\n",
    "from sklearn.model_selection import cross_val_score\n",
    "from sklearn.ensemble import RandomForestRegressor\n",
    "from sklearn.linear_model import SGDRegressor\n",
    "from sklearn.tree import DecisionTreeRegressor\n",
    "from sklearn.dummy import DummyRegressor\n",
    "import optuna"
   ]
  },
  {
   "cell_type": "markdown",
   "metadata": {},
   "source": [
    "### Загрузка данных"
   ]
  },
  {
   "cell_type": "code",
   "execution_count": 5,
   "metadata": {},
   "outputs": [],
   "source": [
    "try:\n",
    "    train_df = pd.read_csv('gold_recovery_train_new.csv')\n",
    "    test_df = pd.read_csv('gold_recovery_test_new.csv')\n",
    "    full_df = pd.read_csv('gold_recovery_full_new.csv')\n",
    "except:\n",
    "    train_df = pd.read_csv('/datasets/gold_recovery_train_new.csv')\n",
    "    test_df = pd.read_csv('/datasets/gold_recovery_test_new.csv')\n",
    "    full_df = pd.read_csv('/datasets/gold_recovery_full_new.csv')"
   ]
  },
  {
   "cell_type": "markdown",
   "metadata": {},
   "source": [
    "### Функция первичного анализа фрейма"
   ]
  },
  {
   "cell_type": "code",
   "execution_count": 6,
   "metadata": {},
   "outputs": [],
   "source": [
    "def data_info(data):\n",
    "    data.info()\n",
    "    print('')\n",
    "    print('*'*50)\n",
    "    display(data.head())\n",
    "    print('')\n",
    "    print('*'*50)\n",
    "    display(data.describe())"
   ]
  },
  {
   "cell_type": "markdown",
   "metadata": {},
   "source": [
    "### `Train_df`"
   ]
  },
  {
   "cell_type": "markdown",
   "metadata": {},
   "source": [
    "#### Анализ обучающего фрейма"
   ]
  },
  {
   "cell_type": "code",
   "execution_count": 7,
   "metadata": {
    "collapsed": true,
    "jupyter": {
     "outputs_hidden": true
    }
   },
   "outputs": [
    {
     "name": "stdout",
     "output_type": "stream",
     "text": [
      "<class 'pandas.core.frame.DataFrame'>\n",
      "RangeIndex: 14149 entries, 0 to 14148\n",
      "Data columns (total 87 columns):\n",
      " #   Column                                              Non-Null Count  Dtype  \n",
      "---  ------                                              --------------  -----  \n",
      " 0   date                                                14149 non-null  object \n",
      " 1   final.output.concentrate_ag                         14148 non-null  float64\n",
      " 2   final.output.concentrate_pb                         14148 non-null  float64\n",
      " 3   final.output.concentrate_sol                        13938 non-null  float64\n",
      " 4   final.output.concentrate_au                         14149 non-null  float64\n",
      " 5   final.output.recovery                               14149 non-null  float64\n",
      " 6   final.output.tail_ag                                14149 non-null  float64\n",
      " 7   final.output.tail_pb                                14049 non-null  float64\n",
      " 8   final.output.tail_sol                               14144 non-null  float64\n",
      " 9   final.output.tail_au                                14149 non-null  float64\n",
      " 10  primary_cleaner.input.sulfate                       14129 non-null  float64\n",
      " 11  primary_cleaner.input.depressant                    14117 non-null  float64\n",
      " 12  primary_cleaner.input.feed_size                     14149 non-null  float64\n",
      " 13  primary_cleaner.input.xanthate                      14049 non-null  float64\n",
      " 14  primary_cleaner.output.concentrate_ag               14149 non-null  float64\n",
      " 15  primary_cleaner.output.concentrate_pb               14063 non-null  float64\n",
      " 16  primary_cleaner.output.concentrate_sol              13863 non-null  float64\n",
      " 17  primary_cleaner.output.concentrate_au               14149 non-null  float64\n",
      " 18  primary_cleaner.output.tail_ag                      14148 non-null  float64\n",
      " 19  primary_cleaner.output.tail_pb                      14134 non-null  float64\n",
      " 20  primary_cleaner.output.tail_sol                     14103 non-null  float64\n",
      " 21  primary_cleaner.output.tail_au                      14149 non-null  float64\n",
      " 22  primary_cleaner.state.floatbank8_a_air              14145 non-null  float64\n",
      " 23  primary_cleaner.state.floatbank8_a_level            14148 non-null  float64\n",
      " 24  primary_cleaner.state.floatbank8_b_air              14145 non-null  float64\n",
      " 25  primary_cleaner.state.floatbank8_b_level            14148 non-null  float64\n",
      " 26  primary_cleaner.state.floatbank8_c_air              14147 non-null  float64\n",
      " 27  primary_cleaner.state.floatbank8_c_level            14148 non-null  float64\n",
      " 28  primary_cleaner.state.floatbank8_d_air              14146 non-null  float64\n",
      " 29  primary_cleaner.state.floatbank8_d_level            14148 non-null  float64\n",
      " 30  rougher.calculation.sulfate_to_au_concentrate       14148 non-null  float64\n",
      " 31  rougher.calculation.floatbank10_sulfate_to_au_feed  14148 non-null  float64\n",
      " 32  rougher.calculation.floatbank11_sulfate_to_au_feed  14148 non-null  float64\n",
      " 33  rougher.calculation.au_pb_ratio                     14149 non-null  float64\n",
      " 34  rougher.input.feed_ag                               14149 non-null  float64\n",
      " 35  rougher.input.feed_pb                               14049 non-null  float64\n",
      " 36  rougher.input.feed_rate                             14141 non-null  float64\n",
      " 37  rougher.input.feed_size                             14005 non-null  float64\n",
      " 38  rougher.input.feed_sol                              14071 non-null  float64\n",
      " 39  rougher.input.feed_au                               14149 non-null  float64\n",
      " 40  rougher.input.floatbank10_sulfate                   14120 non-null  float64\n",
      " 41  rougher.input.floatbank10_xanthate                  14141 non-null  float64\n",
      " 42  rougher.input.floatbank11_sulfate                   14113 non-null  float64\n",
      " 43  rougher.input.floatbank11_xanthate                  13721 non-null  float64\n",
      " 44  rougher.output.concentrate_ag                       14149 non-null  float64\n",
      " 45  rougher.output.concentrate_pb                       14149 non-null  float64\n",
      " 46  rougher.output.concentrate_sol                      14127 non-null  float64\n",
      " 47  rougher.output.concentrate_au                       14149 non-null  float64\n",
      " 48  rougher.output.recovery                             14149 non-null  float64\n",
      " 49  rougher.output.tail_ag                              14148 non-null  float64\n",
      " 50  rougher.output.tail_pb                              14149 non-null  float64\n",
      " 51  rougher.output.tail_sol                             14149 non-null  float64\n",
      " 52  rougher.output.tail_au                              14149 non-null  float64\n",
      " 53  rougher.state.floatbank10_a_air                     14148 non-null  float64\n",
      " 54  rougher.state.floatbank10_a_level                   14148 non-null  float64\n",
      " 55  rougher.state.floatbank10_b_air                     14148 non-null  float64\n",
      " 56  rougher.state.floatbank10_b_level                   14148 non-null  float64\n",
      " 57  rougher.state.floatbank10_c_air                     14148 non-null  float64\n",
      " 58  rougher.state.floatbank10_c_level                   14148 non-null  float64\n",
      " 59  rougher.state.floatbank10_d_air                     14149 non-null  float64\n",
      " 60  rougher.state.floatbank10_d_level                   14149 non-null  float64\n",
      " 61  rougher.state.floatbank10_e_air                     13713 non-null  float64\n",
      " 62  rougher.state.floatbank10_e_level                   14149 non-null  float64\n",
      " 63  rougher.state.floatbank10_f_air                     14149 non-null  float64\n",
      " 64  rougher.state.floatbank10_f_level                   14149 non-null  float64\n",
      " 65  secondary_cleaner.output.tail_ag                    14147 non-null  float64\n",
      " 66  secondary_cleaner.output.tail_pb                    14139 non-null  float64\n",
      " 67  secondary_cleaner.output.tail_sol                   12544 non-null  float64\n",
      " 68  secondary_cleaner.output.tail_au                    14149 non-null  float64\n",
      " 69  secondary_cleaner.state.floatbank2_a_air            13932 non-null  float64\n",
      " 70  secondary_cleaner.state.floatbank2_a_level          14148 non-null  float64\n",
      " 71  secondary_cleaner.state.floatbank2_b_air            14128 non-null  float64\n",
      " 72  secondary_cleaner.state.floatbank2_b_level          14148 non-null  float64\n",
      " 73  secondary_cleaner.state.floatbank3_a_air            14145 non-null  float64\n",
      " 74  secondary_cleaner.state.floatbank3_a_level          14148 non-null  float64\n",
      " 75  secondary_cleaner.state.floatbank3_b_air            14148 non-null  float64\n",
      " 76  secondary_cleaner.state.floatbank3_b_level          14148 non-null  float64\n",
      " 77  secondary_cleaner.state.floatbank4_a_air            14143 non-null  float64\n",
      " 78  secondary_cleaner.state.floatbank4_a_level          14148 non-null  float64\n",
      " 79  secondary_cleaner.state.floatbank4_b_air            14148 non-null  float64\n",
      " 80  secondary_cleaner.state.floatbank4_b_level          14148 non-null  float64\n",
      " 81  secondary_cleaner.state.floatbank5_a_air            14148 non-null  float64\n",
      " 82  secondary_cleaner.state.floatbank5_a_level          14148 non-null  float64\n",
      " 83  secondary_cleaner.state.floatbank5_b_air            14148 non-null  float64\n",
      " 84  secondary_cleaner.state.floatbank5_b_level          14148 non-null  float64\n",
      " 85  secondary_cleaner.state.floatbank6_a_air            14147 non-null  float64\n",
      " 86  secondary_cleaner.state.floatbank6_a_level          14148 non-null  float64\n",
      "dtypes: float64(86), object(1)\n",
      "memory usage: 9.4+ MB\n",
      "\n",
      "**************************************************\n"
     ]
    },
    {
     "data": {
      "text/html": [
       "<div>\n",
       "<style scoped>\n",
       "    .dataframe tbody tr th:only-of-type {\n",
       "        vertical-align: middle;\n",
       "    }\n",
       "\n",
       "    .dataframe tbody tr th {\n",
       "        vertical-align: top;\n",
       "    }\n",
       "\n",
       "    .dataframe thead th {\n",
       "        text-align: right;\n",
       "    }\n",
       "</style>\n",
       "<table border=\"1\" class=\"dataframe\">\n",
       "  <thead>\n",
       "    <tr style=\"text-align: right;\">\n",
       "      <th></th>\n",
       "      <th>date</th>\n",
       "      <th>final.output.concentrate_ag</th>\n",
       "      <th>final.output.concentrate_pb</th>\n",
       "      <th>final.output.concentrate_sol</th>\n",
       "      <th>final.output.concentrate_au</th>\n",
       "      <th>final.output.recovery</th>\n",
       "      <th>final.output.tail_ag</th>\n",
       "      <th>final.output.tail_pb</th>\n",
       "      <th>final.output.tail_sol</th>\n",
       "      <th>final.output.tail_au</th>\n",
       "      <th>...</th>\n",
       "      <th>secondary_cleaner.state.floatbank4_a_air</th>\n",
       "      <th>secondary_cleaner.state.floatbank4_a_level</th>\n",
       "      <th>secondary_cleaner.state.floatbank4_b_air</th>\n",
       "      <th>secondary_cleaner.state.floatbank4_b_level</th>\n",
       "      <th>secondary_cleaner.state.floatbank5_a_air</th>\n",
       "      <th>secondary_cleaner.state.floatbank5_a_level</th>\n",
       "      <th>secondary_cleaner.state.floatbank5_b_air</th>\n",
       "      <th>secondary_cleaner.state.floatbank5_b_level</th>\n",
       "      <th>secondary_cleaner.state.floatbank6_a_air</th>\n",
       "      <th>secondary_cleaner.state.floatbank6_a_level</th>\n",
       "    </tr>\n",
       "  </thead>\n",
       "  <tbody>\n",
       "    <tr>\n",
       "      <th>0</th>\n",
       "      <td>2016-01-15 00:00:00</td>\n",
       "      <td>6.055403</td>\n",
       "      <td>9.889648</td>\n",
       "      <td>5.507324</td>\n",
       "      <td>42.192020</td>\n",
       "      <td>70.541216</td>\n",
       "      <td>10.411962</td>\n",
       "      <td>0.895447</td>\n",
       "      <td>16.904297</td>\n",
       "      <td>2.143149</td>\n",
       "      <td>...</td>\n",
       "      <td>14.016835</td>\n",
       "      <td>-502.488007</td>\n",
       "      <td>12.099931</td>\n",
       "      <td>-504.715942</td>\n",
       "      <td>9.925633</td>\n",
       "      <td>-498.310211</td>\n",
       "      <td>8.079666</td>\n",
       "      <td>-500.470978</td>\n",
       "      <td>14.151341</td>\n",
       "      <td>-605.841980</td>\n",
       "    </tr>\n",
       "    <tr>\n",
       "      <th>1</th>\n",
       "      <td>2016-01-15 01:00:00</td>\n",
       "      <td>6.029369</td>\n",
       "      <td>9.968944</td>\n",
       "      <td>5.257781</td>\n",
       "      <td>42.701629</td>\n",
       "      <td>69.266198</td>\n",
       "      <td>10.462676</td>\n",
       "      <td>0.927452</td>\n",
       "      <td>16.634514</td>\n",
       "      <td>2.224930</td>\n",
       "      <td>...</td>\n",
       "      <td>13.992281</td>\n",
       "      <td>-505.503262</td>\n",
       "      <td>11.950531</td>\n",
       "      <td>-501.331529</td>\n",
       "      <td>10.039245</td>\n",
       "      <td>-500.169983</td>\n",
       "      <td>7.984757</td>\n",
       "      <td>-500.582168</td>\n",
       "      <td>13.998353</td>\n",
       "      <td>-599.787184</td>\n",
       "    </tr>\n",
       "    <tr>\n",
       "      <th>2</th>\n",
       "      <td>2016-01-15 02:00:00</td>\n",
       "      <td>6.055926</td>\n",
       "      <td>10.213995</td>\n",
       "      <td>5.383759</td>\n",
       "      <td>42.657501</td>\n",
       "      <td>68.116445</td>\n",
       "      <td>10.507046</td>\n",
       "      <td>0.953716</td>\n",
       "      <td>16.208849</td>\n",
       "      <td>2.257889</td>\n",
       "      <td>...</td>\n",
       "      <td>14.015015</td>\n",
       "      <td>-502.520901</td>\n",
       "      <td>11.912783</td>\n",
       "      <td>-501.133383</td>\n",
       "      <td>10.070913</td>\n",
       "      <td>-500.129135</td>\n",
       "      <td>8.013877</td>\n",
       "      <td>-500.517572</td>\n",
       "      <td>14.028663</td>\n",
       "      <td>-601.427363</td>\n",
       "    </tr>\n",
       "    <tr>\n",
       "      <th>3</th>\n",
       "      <td>2016-01-15 03:00:00</td>\n",
       "      <td>6.047977</td>\n",
       "      <td>9.977019</td>\n",
       "      <td>4.858634</td>\n",
       "      <td>42.689819</td>\n",
       "      <td>68.347543</td>\n",
       "      <td>10.422762</td>\n",
       "      <td>0.883763</td>\n",
       "      <td>16.532835</td>\n",
       "      <td>2.146849</td>\n",
       "      <td>...</td>\n",
       "      <td>14.036510</td>\n",
       "      <td>-500.857308</td>\n",
       "      <td>11.999550</td>\n",
       "      <td>-501.193686</td>\n",
       "      <td>9.970366</td>\n",
       "      <td>-499.201640</td>\n",
       "      <td>7.977324</td>\n",
       "      <td>-500.255908</td>\n",
       "      <td>14.005551</td>\n",
       "      <td>-599.996129</td>\n",
       "    </tr>\n",
       "    <tr>\n",
       "      <th>4</th>\n",
       "      <td>2016-01-15 04:00:00</td>\n",
       "      <td>6.148599</td>\n",
       "      <td>10.142511</td>\n",
       "      <td>4.939416</td>\n",
       "      <td>42.774141</td>\n",
       "      <td>66.927016</td>\n",
       "      <td>10.360302</td>\n",
       "      <td>0.792826</td>\n",
       "      <td>16.525686</td>\n",
       "      <td>2.055292</td>\n",
       "      <td>...</td>\n",
       "      <td>14.027298</td>\n",
       "      <td>-499.838632</td>\n",
       "      <td>11.953070</td>\n",
       "      <td>-501.053894</td>\n",
       "      <td>9.925709</td>\n",
       "      <td>-501.686727</td>\n",
       "      <td>7.894242</td>\n",
       "      <td>-500.356035</td>\n",
       "      <td>13.996647</td>\n",
       "      <td>-601.496691</td>\n",
       "    </tr>\n",
       "  </tbody>\n",
       "</table>\n",
       "<p>5 rows × 87 columns</p>\n",
       "</div>"
      ],
      "text/plain": [
       "                  date  final.output.concentrate_ag  \\\n",
       "0  2016-01-15 00:00:00                     6.055403   \n",
       "1  2016-01-15 01:00:00                     6.029369   \n",
       "2  2016-01-15 02:00:00                     6.055926   \n",
       "3  2016-01-15 03:00:00                     6.047977   \n",
       "4  2016-01-15 04:00:00                     6.148599   \n",
       "\n",
       "   final.output.concentrate_pb  final.output.concentrate_sol  \\\n",
       "0                     9.889648                      5.507324   \n",
       "1                     9.968944                      5.257781   \n",
       "2                    10.213995                      5.383759   \n",
       "3                     9.977019                      4.858634   \n",
       "4                    10.142511                      4.939416   \n",
       "\n",
       "   final.output.concentrate_au  final.output.recovery  final.output.tail_ag  \\\n",
       "0                    42.192020              70.541216             10.411962   \n",
       "1                    42.701629              69.266198             10.462676   \n",
       "2                    42.657501              68.116445             10.507046   \n",
       "3                    42.689819              68.347543             10.422762   \n",
       "4                    42.774141              66.927016             10.360302   \n",
       "\n",
       "   final.output.tail_pb  final.output.tail_sol  final.output.tail_au  ...  \\\n",
       "0              0.895447              16.904297              2.143149  ...   \n",
       "1              0.927452              16.634514              2.224930  ...   \n",
       "2              0.953716              16.208849              2.257889  ...   \n",
       "3              0.883763              16.532835              2.146849  ...   \n",
       "4              0.792826              16.525686              2.055292  ...   \n",
       "\n",
       "   secondary_cleaner.state.floatbank4_a_air  \\\n",
       "0                                 14.016835   \n",
       "1                                 13.992281   \n",
       "2                                 14.015015   \n",
       "3                                 14.036510   \n",
       "4                                 14.027298   \n",
       "\n",
       "   secondary_cleaner.state.floatbank4_a_level  \\\n",
       "0                                 -502.488007   \n",
       "1                                 -505.503262   \n",
       "2                                 -502.520901   \n",
       "3                                 -500.857308   \n",
       "4                                 -499.838632   \n",
       "\n",
       "   secondary_cleaner.state.floatbank4_b_air  \\\n",
       "0                                 12.099931   \n",
       "1                                 11.950531   \n",
       "2                                 11.912783   \n",
       "3                                 11.999550   \n",
       "4                                 11.953070   \n",
       "\n",
       "   secondary_cleaner.state.floatbank4_b_level  \\\n",
       "0                                 -504.715942   \n",
       "1                                 -501.331529   \n",
       "2                                 -501.133383   \n",
       "3                                 -501.193686   \n",
       "4                                 -501.053894   \n",
       "\n",
       "   secondary_cleaner.state.floatbank5_a_air  \\\n",
       "0                                  9.925633   \n",
       "1                                 10.039245   \n",
       "2                                 10.070913   \n",
       "3                                  9.970366   \n",
       "4                                  9.925709   \n",
       "\n",
       "   secondary_cleaner.state.floatbank5_a_level  \\\n",
       "0                                 -498.310211   \n",
       "1                                 -500.169983   \n",
       "2                                 -500.129135   \n",
       "3                                 -499.201640   \n",
       "4                                 -501.686727   \n",
       "\n",
       "   secondary_cleaner.state.floatbank5_b_air  \\\n",
       "0                                  8.079666   \n",
       "1                                  7.984757   \n",
       "2                                  8.013877   \n",
       "3                                  7.977324   \n",
       "4                                  7.894242   \n",
       "\n",
       "   secondary_cleaner.state.floatbank5_b_level  \\\n",
       "0                                 -500.470978   \n",
       "1                                 -500.582168   \n",
       "2                                 -500.517572   \n",
       "3                                 -500.255908   \n",
       "4                                 -500.356035   \n",
       "\n",
       "   secondary_cleaner.state.floatbank6_a_air  \\\n",
       "0                                 14.151341   \n",
       "1                                 13.998353   \n",
       "2                                 14.028663   \n",
       "3                                 14.005551   \n",
       "4                                 13.996647   \n",
       "\n",
       "   secondary_cleaner.state.floatbank6_a_level  \n",
       "0                                 -605.841980  \n",
       "1                                 -599.787184  \n",
       "2                                 -601.427363  \n",
       "3                                 -599.996129  \n",
       "4                                 -601.496691  \n",
       "\n",
       "[5 rows x 87 columns]"
      ]
     },
     "metadata": {},
     "output_type": "display_data"
    },
    {
     "name": "stdout",
     "output_type": "stream",
     "text": [
      "\n",
      "**************************************************\n"
     ]
    },
    {
     "data": {
      "text/html": [
       "<div>\n",
       "<style scoped>\n",
       "    .dataframe tbody tr th:only-of-type {\n",
       "        vertical-align: middle;\n",
       "    }\n",
       "\n",
       "    .dataframe tbody tr th {\n",
       "        vertical-align: top;\n",
       "    }\n",
       "\n",
       "    .dataframe thead th {\n",
       "        text-align: right;\n",
       "    }\n",
       "</style>\n",
       "<table border=\"1\" class=\"dataframe\">\n",
       "  <thead>\n",
       "    <tr style=\"text-align: right;\">\n",
       "      <th></th>\n",
       "      <th>final.output.concentrate_ag</th>\n",
       "      <th>final.output.concentrate_pb</th>\n",
       "      <th>final.output.concentrate_sol</th>\n",
       "      <th>final.output.concentrate_au</th>\n",
       "      <th>final.output.recovery</th>\n",
       "      <th>final.output.tail_ag</th>\n",
       "      <th>final.output.tail_pb</th>\n",
       "      <th>final.output.tail_sol</th>\n",
       "      <th>final.output.tail_au</th>\n",
       "      <th>primary_cleaner.input.sulfate</th>\n",
       "      <th>...</th>\n",
       "      <th>secondary_cleaner.state.floatbank4_a_air</th>\n",
       "      <th>secondary_cleaner.state.floatbank4_a_level</th>\n",
       "      <th>secondary_cleaner.state.floatbank4_b_air</th>\n",
       "      <th>secondary_cleaner.state.floatbank4_b_level</th>\n",
       "      <th>secondary_cleaner.state.floatbank5_a_air</th>\n",
       "      <th>secondary_cleaner.state.floatbank5_a_level</th>\n",
       "      <th>secondary_cleaner.state.floatbank5_b_air</th>\n",
       "      <th>secondary_cleaner.state.floatbank5_b_level</th>\n",
       "      <th>secondary_cleaner.state.floatbank6_a_air</th>\n",
       "      <th>secondary_cleaner.state.floatbank6_a_level</th>\n",
       "    </tr>\n",
       "  </thead>\n",
       "  <tbody>\n",
       "    <tr>\n",
       "      <th>count</th>\n",
       "      <td>14148.000000</td>\n",
       "      <td>14148.000000</td>\n",
       "      <td>13938.000000</td>\n",
       "      <td>14149.000000</td>\n",
       "      <td>14149.000000</td>\n",
       "      <td>14149.000000</td>\n",
       "      <td>14049.000000</td>\n",
       "      <td>14144.000000</td>\n",
       "      <td>14149.000000</td>\n",
       "      <td>14129.000000</td>\n",
       "      <td>...</td>\n",
       "      <td>14143.000000</td>\n",
       "      <td>14148.000000</td>\n",
       "      <td>14148.000000</td>\n",
       "      <td>14148.000000</td>\n",
       "      <td>14148.000000</td>\n",
       "      <td>14148.000000</td>\n",
       "      <td>14148.000000</td>\n",
       "      <td>14148.000000</td>\n",
       "      <td>14147.000000</td>\n",
       "      <td>14148.000000</td>\n",
       "    </tr>\n",
       "    <tr>\n",
       "      <th>mean</th>\n",
       "      <td>5.142034</td>\n",
       "      <td>10.132960</td>\n",
       "      <td>9.202849</td>\n",
       "      <td>44.003792</td>\n",
       "      <td>66.518832</td>\n",
       "      <td>9.607035</td>\n",
       "      <td>2.597298</td>\n",
       "      <td>10.512122</td>\n",
       "      <td>2.918421</td>\n",
       "      <td>133.320659</td>\n",
       "      <td>...</td>\n",
       "      <td>19.985454</td>\n",
       "      <td>-478.696836</td>\n",
       "      <td>15.487065</td>\n",
       "      <td>-460.229416</td>\n",
       "      <td>16.775136</td>\n",
       "      <td>-483.956022</td>\n",
       "      <td>13.064590</td>\n",
       "      <td>-483.966564</td>\n",
       "      <td>19.577539</td>\n",
       "      <td>-506.798480</td>\n",
       "    </tr>\n",
       "    <tr>\n",
       "      <th>std</th>\n",
       "      <td>1.369586</td>\n",
       "      <td>1.654930</td>\n",
       "      <td>2.790516</td>\n",
       "      <td>4.905261</td>\n",
       "      <td>10.295402</td>\n",
       "      <td>2.319069</td>\n",
       "      <td>0.971843</td>\n",
       "      <td>3.003617</td>\n",
       "      <td>0.903712</td>\n",
       "      <td>39.431659</td>\n",
       "      <td>...</td>\n",
       "      <td>5.657723</td>\n",
       "      <td>50.736021</td>\n",
       "      <td>5.255655</td>\n",
       "      <td>58.843586</td>\n",
       "      <td>5.831906</td>\n",
       "      <td>37.892788</td>\n",
       "      <td>5.765617</td>\n",
       "      <td>39.207913</td>\n",
       "      <td>5.764417</td>\n",
       "      <td>37.079249</td>\n",
       "    </tr>\n",
       "    <tr>\n",
       "      <th>min</th>\n",
       "      <td>0.000000</td>\n",
       "      <td>0.000000</td>\n",
       "      <td>0.000000</td>\n",
       "      <td>0.000000</td>\n",
       "      <td>0.000000</td>\n",
       "      <td>0.000000</td>\n",
       "      <td>0.000000</td>\n",
       "      <td>0.000000</td>\n",
       "      <td>0.000000</td>\n",
       "      <td>0.003112</td>\n",
       "      <td>...</td>\n",
       "      <td>0.000000</td>\n",
       "      <td>-799.709069</td>\n",
       "      <td>0.000000</td>\n",
       "      <td>-799.889113</td>\n",
       "      <td>-0.372054</td>\n",
       "      <td>-797.142475</td>\n",
       "      <td>0.646208</td>\n",
       "      <td>-800.006180</td>\n",
       "      <td>0.195324</td>\n",
       "      <td>-809.398668</td>\n",
       "    </tr>\n",
       "    <tr>\n",
       "      <th>25%</th>\n",
       "      <td>4.211620</td>\n",
       "      <td>9.297355</td>\n",
       "      <td>7.484645</td>\n",
       "      <td>43.276111</td>\n",
       "      <td>62.545817</td>\n",
       "      <td>7.997429</td>\n",
       "      <td>1.905973</td>\n",
       "      <td>8.811324</td>\n",
       "      <td>2.368607</td>\n",
       "      <td>107.006651</td>\n",
       "      <td>...</td>\n",
       "      <td>14.990775</td>\n",
       "      <td>-500.628656</td>\n",
       "      <td>11.894558</td>\n",
       "      <td>-500.149000</td>\n",
       "      <td>11.083980</td>\n",
       "      <td>-500.363177</td>\n",
       "      <td>8.994405</td>\n",
       "      <td>-500.105994</td>\n",
       "      <td>14.989304</td>\n",
       "      <td>-500.745104</td>\n",
       "    </tr>\n",
       "    <tr>\n",
       "      <th>50%</th>\n",
       "      <td>4.994652</td>\n",
       "      <td>10.297144</td>\n",
       "      <td>8.845462</td>\n",
       "      <td>44.872436</td>\n",
       "      <td>67.432775</td>\n",
       "      <td>9.480270</td>\n",
       "      <td>2.592022</td>\n",
       "      <td>10.514621</td>\n",
       "      <td>2.851025</td>\n",
       "      <td>133.018328</td>\n",
       "      <td>...</td>\n",
       "      <td>20.001789</td>\n",
       "      <td>-499.681450</td>\n",
       "      <td>14.975536</td>\n",
       "      <td>-499.388738</td>\n",
       "      <td>17.932223</td>\n",
       "      <td>-499.702452</td>\n",
       "      <td>11.997547</td>\n",
       "      <td>-499.914556</td>\n",
       "      <td>19.984175</td>\n",
       "      <td>-500.061431</td>\n",
       "    </tr>\n",
       "    <tr>\n",
       "      <th>75%</th>\n",
       "      <td>5.859540</td>\n",
       "      <td>11.170603</td>\n",
       "      <td>10.487508</td>\n",
       "      <td>46.166425</td>\n",
       "      <td>72.346428</td>\n",
       "      <td>11.003707</td>\n",
       "      <td>3.241723</td>\n",
       "      <td>11.933009</td>\n",
       "      <td>3.434764</td>\n",
       "      <td>159.825396</td>\n",
       "      <td>...</td>\n",
       "      <td>24.990826</td>\n",
       "      <td>-477.472413</td>\n",
       "      <td>20.059375</td>\n",
       "      <td>-400.039008</td>\n",
       "      <td>21.346550</td>\n",
       "      <td>-487.712108</td>\n",
       "      <td>17.982903</td>\n",
       "      <td>-453.186936</td>\n",
       "      <td>24.991623</td>\n",
       "      <td>-499.536466</td>\n",
       "    </tr>\n",
       "    <tr>\n",
       "      <th>max</th>\n",
       "      <td>16.001945</td>\n",
       "      <td>17.031899</td>\n",
       "      <td>18.124851</td>\n",
       "      <td>52.756638</td>\n",
       "      <td>100.000000</td>\n",
       "      <td>19.552149</td>\n",
       "      <td>5.639565</td>\n",
       "      <td>22.317730</td>\n",
       "      <td>8.197408</td>\n",
       "      <td>250.127834</td>\n",
       "      <td>...</td>\n",
       "      <td>30.115735</td>\n",
       "      <td>-245.239184</td>\n",
       "      <td>24.007913</td>\n",
       "      <td>-145.071088</td>\n",
       "      <td>43.709931</td>\n",
       "      <td>-275.073125</td>\n",
       "      <td>27.926001</td>\n",
       "      <td>-157.396071</td>\n",
       "      <td>32.188906</td>\n",
       "      <td>-104.427459</td>\n",
       "    </tr>\n",
       "  </tbody>\n",
       "</table>\n",
       "<p>8 rows × 86 columns</p>\n",
       "</div>"
      ],
      "text/plain": [
       "       final.output.concentrate_ag  final.output.concentrate_pb  \\\n",
       "count                 14148.000000                 14148.000000   \n",
       "mean                      5.142034                    10.132960   \n",
       "std                       1.369586                     1.654930   \n",
       "min                       0.000000                     0.000000   \n",
       "25%                       4.211620                     9.297355   \n",
       "50%                       4.994652                    10.297144   \n",
       "75%                       5.859540                    11.170603   \n",
       "max                      16.001945                    17.031899   \n",
       "\n",
       "       final.output.concentrate_sol  final.output.concentrate_au  \\\n",
       "count                  13938.000000                 14149.000000   \n",
       "mean                       9.202849                    44.003792   \n",
       "std                        2.790516                     4.905261   \n",
       "min                        0.000000                     0.000000   \n",
       "25%                        7.484645                    43.276111   \n",
       "50%                        8.845462                    44.872436   \n",
       "75%                       10.487508                    46.166425   \n",
       "max                       18.124851                    52.756638   \n",
       "\n",
       "       final.output.recovery  final.output.tail_ag  final.output.tail_pb  \\\n",
       "count           14149.000000          14149.000000          14049.000000   \n",
       "mean               66.518832              9.607035              2.597298   \n",
       "std                10.295402              2.319069              0.971843   \n",
       "min                 0.000000              0.000000              0.000000   \n",
       "25%                62.545817              7.997429              1.905973   \n",
       "50%                67.432775              9.480270              2.592022   \n",
       "75%                72.346428             11.003707              3.241723   \n",
       "max               100.000000             19.552149              5.639565   \n",
       "\n",
       "       final.output.tail_sol  final.output.tail_au  \\\n",
       "count           14144.000000          14149.000000   \n",
       "mean               10.512122              2.918421   \n",
       "std                 3.003617              0.903712   \n",
       "min                 0.000000              0.000000   \n",
       "25%                 8.811324              2.368607   \n",
       "50%                10.514621              2.851025   \n",
       "75%                11.933009              3.434764   \n",
       "max                22.317730              8.197408   \n",
       "\n",
       "       primary_cleaner.input.sulfate  ...  \\\n",
       "count                   14129.000000  ...   \n",
       "mean                      133.320659  ...   \n",
       "std                        39.431659  ...   \n",
       "min                         0.003112  ...   \n",
       "25%                       107.006651  ...   \n",
       "50%                       133.018328  ...   \n",
       "75%                       159.825396  ...   \n",
       "max                       250.127834  ...   \n",
       "\n",
       "       secondary_cleaner.state.floatbank4_a_air  \\\n",
       "count                              14143.000000   \n",
       "mean                                  19.985454   \n",
       "std                                    5.657723   \n",
       "min                                    0.000000   \n",
       "25%                                   14.990775   \n",
       "50%                                   20.001789   \n",
       "75%                                   24.990826   \n",
       "max                                   30.115735   \n",
       "\n",
       "       secondary_cleaner.state.floatbank4_a_level  \\\n",
       "count                                14148.000000   \n",
       "mean                                  -478.696836   \n",
       "std                                     50.736021   \n",
       "min                                   -799.709069   \n",
       "25%                                   -500.628656   \n",
       "50%                                   -499.681450   \n",
       "75%                                   -477.472413   \n",
       "max                                   -245.239184   \n",
       "\n",
       "       secondary_cleaner.state.floatbank4_b_air  \\\n",
       "count                              14148.000000   \n",
       "mean                                  15.487065   \n",
       "std                                    5.255655   \n",
       "min                                    0.000000   \n",
       "25%                                   11.894558   \n",
       "50%                                   14.975536   \n",
       "75%                                   20.059375   \n",
       "max                                   24.007913   \n",
       "\n",
       "       secondary_cleaner.state.floatbank4_b_level  \\\n",
       "count                                14148.000000   \n",
       "mean                                  -460.229416   \n",
       "std                                     58.843586   \n",
       "min                                   -799.889113   \n",
       "25%                                   -500.149000   \n",
       "50%                                   -499.388738   \n",
       "75%                                   -400.039008   \n",
       "max                                   -145.071088   \n",
       "\n",
       "       secondary_cleaner.state.floatbank5_a_air  \\\n",
       "count                              14148.000000   \n",
       "mean                                  16.775136   \n",
       "std                                    5.831906   \n",
       "min                                   -0.372054   \n",
       "25%                                   11.083980   \n",
       "50%                                   17.932223   \n",
       "75%                                   21.346550   \n",
       "max                                   43.709931   \n",
       "\n",
       "       secondary_cleaner.state.floatbank5_a_level  \\\n",
       "count                                14148.000000   \n",
       "mean                                  -483.956022   \n",
       "std                                     37.892788   \n",
       "min                                   -797.142475   \n",
       "25%                                   -500.363177   \n",
       "50%                                   -499.702452   \n",
       "75%                                   -487.712108   \n",
       "max                                   -275.073125   \n",
       "\n",
       "       secondary_cleaner.state.floatbank5_b_air  \\\n",
       "count                              14148.000000   \n",
       "mean                                  13.064590   \n",
       "std                                    5.765617   \n",
       "min                                    0.646208   \n",
       "25%                                    8.994405   \n",
       "50%                                   11.997547   \n",
       "75%                                   17.982903   \n",
       "max                                   27.926001   \n",
       "\n",
       "       secondary_cleaner.state.floatbank5_b_level  \\\n",
       "count                                14148.000000   \n",
       "mean                                  -483.966564   \n",
       "std                                     39.207913   \n",
       "min                                   -800.006180   \n",
       "25%                                   -500.105994   \n",
       "50%                                   -499.914556   \n",
       "75%                                   -453.186936   \n",
       "max                                   -157.396071   \n",
       "\n",
       "       secondary_cleaner.state.floatbank6_a_air  \\\n",
       "count                              14147.000000   \n",
       "mean                                  19.577539   \n",
       "std                                    5.764417   \n",
       "min                                    0.195324   \n",
       "25%                                   14.989304   \n",
       "50%                                   19.984175   \n",
       "75%                                   24.991623   \n",
       "max                                   32.188906   \n",
       "\n",
       "       secondary_cleaner.state.floatbank6_a_level  \n",
       "count                                14148.000000  \n",
       "mean                                  -506.798480  \n",
       "std                                     37.079249  \n",
       "min                                   -809.398668  \n",
       "25%                                   -500.745104  \n",
       "50%                                   -500.061431  \n",
       "75%                                   -499.536466  \n",
       "max                                   -104.427459  \n",
       "\n",
       "[8 rows x 86 columns]"
      ]
     },
     "metadata": {},
     "output_type": "display_data"
    }
   ],
   "source": [
    "data_info(train_df)"
   ]
  },
  {
   "cell_type": "markdown",
   "metadata": {},
   "source": [
    "#### Проверка на дубликаты"
   ]
  },
  {
   "cell_type": "code",
   "execution_count": 8,
   "metadata": {},
   "outputs": [
    {
     "data": {
      "text/plain": [
       "0"
      ]
     },
     "execution_count": 8,
     "metadata": {},
     "output_type": "execute_result"
    }
   ],
   "source": [
    "train_df.duplicated().sum()"
   ]
  },
  {
   "cell_type": "markdown",
   "metadata": {},
   "source": [
    "#### Заполнение пропусков"
   ]
  },
  {
   "cell_type": "code",
   "execution_count": 9,
   "metadata": {},
   "outputs": [],
   "source": [
    "train_df = train_df.fillna(method='ffill')"
   ]
  },
  {
   "cell_type": "markdown",
   "metadata": {},
   "source": [
    "#### Перевод даты в индекс"
   ]
  },
  {
   "cell_type": "code",
   "execution_count": 10,
   "metadata": {
    "collapsed": true,
    "jupyter": {
     "outputs_hidden": true
    }
   },
   "outputs": [
    {
     "data": {
      "text/html": [
       "<div>\n",
       "<style scoped>\n",
       "    .dataframe tbody tr th:only-of-type {\n",
       "        vertical-align: middle;\n",
       "    }\n",
       "\n",
       "    .dataframe tbody tr th {\n",
       "        vertical-align: top;\n",
       "    }\n",
       "\n",
       "    .dataframe thead th {\n",
       "        text-align: right;\n",
       "    }\n",
       "</style>\n",
       "<table border=\"1\" class=\"dataframe\">\n",
       "  <thead>\n",
       "    <tr style=\"text-align: right;\">\n",
       "      <th></th>\n",
       "      <th>final.output.concentrate_ag</th>\n",
       "      <th>final.output.concentrate_pb</th>\n",
       "      <th>final.output.concentrate_sol</th>\n",
       "      <th>final.output.concentrate_au</th>\n",
       "      <th>final.output.recovery</th>\n",
       "      <th>final.output.tail_ag</th>\n",
       "      <th>final.output.tail_pb</th>\n",
       "      <th>final.output.tail_sol</th>\n",
       "      <th>final.output.tail_au</th>\n",
       "      <th>primary_cleaner.input.sulfate</th>\n",
       "      <th>...</th>\n",
       "      <th>secondary_cleaner.state.floatbank4_a_air</th>\n",
       "      <th>secondary_cleaner.state.floatbank4_a_level</th>\n",
       "      <th>secondary_cleaner.state.floatbank4_b_air</th>\n",
       "      <th>secondary_cleaner.state.floatbank4_b_level</th>\n",
       "      <th>secondary_cleaner.state.floatbank5_a_air</th>\n",
       "      <th>secondary_cleaner.state.floatbank5_a_level</th>\n",
       "      <th>secondary_cleaner.state.floatbank5_b_air</th>\n",
       "      <th>secondary_cleaner.state.floatbank5_b_level</th>\n",
       "      <th>secondary_cleaner.state.floatbank6_a_air</th>\n",
       "      <th>secondary_cleaner.state.floatbank6_a_level</th>\n",
       "    </tr>\n",
       "    <tr>\n",
       "      <th>date</th>\n",
       "      <th></th>\n",
       "      <th></th>\n",
       "      <th></th>\n",
       "      <th></th>\n",
       "      <th></th>\n",
       "      <th></th>\n",
       "      <th></th>\n",
       "      <th></th>\n",
       "      <th></th>\n",
       "      <th></th>\n",
       "      <th></th>\n",
       "      <th></th>\n",
       "      <th></th>\n",
       "      <th></th>\n",
       "      <th></th>\n",
       "      <th></th>\n",
       "      <th></th>\n",
       "      <th></th>\n",
       "      <th></th>\n",
       "      <th></th>\n",
       "      <th></th>\n",
       "    </tr>\n",
       "  </thead>\n",
       "  <tbody>\n",
       "    <tr>\n",
       "      <th>2016-01-15 00:00:00</th>\n",
       "      <td>6.055403</td>\n",
       "      <td>9.889648</td>\n",
       "      <td>5.507324</td>\n",
       "      <td>42.192020</td>\n",
       "      <td>70.541216</td>\n",
       "      <td>10.411962</td>\n",
       "      <td>0.895447</td>\n",
       "      <td>16.904297</td>\n",
       "      <td>2.143149</td>\n",
       "      <td>127.092003</td>\n",
       "      <td>...</td>\n",
       "      <td>14.016835</td>\n",
       "      <td>-502.488007</td>\n",
       "      <td>12.099931</td>\n",
       "      <td>-504.715942</td>\n",
       "      <td>9.925633</td>\n",
       "      <td>-498.310211</td>\n",
       "      <td>8.079666</td>\n",
       "      <td>-500.470978</td>\n",
       "      <td>14.151341</td>\n",
       "      <td>-605.841980</td>\n",
       "    </tr>\n",
       "    <tr>\n",
       "      <th>2016-01-15 01:00:00</th>\n",
       "      <td>6.029369</td>\n",
       "      <td>9.968944</td>\n",
       "      <td>5.257781</td>\n",
       "      <td>42.701629</td>\n",
       "      <td>69.266198</td>\n",
       "      <td>10.462676</td>\n",
       "      <td>0.927452</td>\n",
       "      <td>16.634514</td>\n",
       "      <td>2.224930</td>\n",
       "      <td>125.629232</td>\n",
       "      <td>...</td>\n",
       "      <td>13.992281</td>\n",
       "      <td>-505.503262</td>\n",
       "      <td>11.950531</td>\n",
       "      <td>-501.331529</td>\n",
       "      <td>10.039245</td>\n",
       "      <td>-500.169983</td>\n",
       "      <td>7.984757</td>\n",
       "      <td>-500.582168</td>\n",
       "      <td>13.998353</td>\n",
       "      <td>-599.787184</td>\n",
       "    </tr>\n",
       "    <tr>\n",
       "      <th>2016-01-15 02:00:00</th>\n",
       "      <td>6.055926</td>\n",
       "      <td>10.213995</td>\n",
       "      <td>5.383759</td>\n",
       "      <td>42.657501</td>\n",
       "      <td>68.116445</td>\n",
       "      <td>10.507046</td>\n",
       "      <td>0.953716</td>\n",
       "      <td>16.208849</td>\n",
       "      <td>2.257889</td>\n",
       "      <td>123.819808</td>\n",
       "      <td>...</td>\n",
       "      <td>14.015015</td>\n",
       "      <td>-502.520901</td>\n",
       "      <td>11.912783</td>\n",
       "      <td>-501.133383</td>\n",
       "      <td>10.070913</td>\n",
       "      <td>-500.129135</td>\n",
       "      <td>8.013877</td>\n",
       "      <td>-500.517572</td>\n",
       "      <td>14.028663</td>\n",
       "      <td>-601.427363</td>\n",
       "    </tr>\n",
       "    <tr>\n",
       "      <th>2016-01-15 03:00:00</th>\n",
       "      <td>6.047977</td>\n",
       "      <td>9.977019</td>\n",
       "      <td>4.858634</td>\n",
       "      <td>42.689819</td>\n",
       "      <td>68.347543</td>\n",
       "      <td>10.422762</td>\n",
       "      <td>0.883763</td>\n",
       "      <td>16.532835</td>\n",
       "      <td>2.146849</td>\n",
       "      <td>122.270188</td>\n",
       "      <td>...</td>\n",
       "      <td>14.036510</td>\n",
       "      <td>-500.857308</td>\n",
       "      <td>11.999550</td>\n",
       "      <td>-501.193686</td>\n",
       "      <td>9.970366</td>\n",
       "      <td>-499.201640</td>\n",
       "      <td>7.977324</td>\n",
       "      <td>-500.255908</td>\n",
       "      <td>14.005551</td>\n",
       "      <td>-599.996129</td>\n",
       "    </tr>\n",
       "    <tr>\n",
       "      <th>2016-01-15 04:00:00</th>\n",
       "      <td>6.148599</td>\n",
       "      <td>10.142511</td>\n",
       "      <td>4.939416</td>\n",
       "      <td>42.774141</td>\n",
       "      <td>66.927016</td>\n",
       "      <td>10.360302</td>\n",
       "      <td>0.792826</td>\n",
       "      <td>16.525686</td>\n",
       "      <td>2.055292</td>\n",
       "      <td>117.988169</td>\n",
       "      <td>...</td>\n",
       "      <td>14.027298</td>\n",
       "      <td>-499.838632</td>\n",
       "      <td>11.953070</td>\n",
       "      <td>-501.053894</td>\n",
       "      <td>9.925709</td>\n",
       "      <td>-501.686727</td>\n",
       "      <td>7.894242</td>\n",
       "      <td>-500.356035</td>\n",
       "      <td>13.996647</td>\n",
       "      <td>-601.496691</td>\n",
       "    </tr>\n",
       "  </tbody>\n",
       "</table>\n",
       "<p>5 rows × 86 columns</p>\n",
       "</div>"
      ],
      "text/plain": [
       "                     final.output.concentrate_ag  final.output.concentrate_pb  \\\n",
       "date                                                                            \n",
       "2016-01-15 00:00:00                     6.055403                     9.889648   \n",
       "2016-01-15 01:00:00                     6.029369                     9.968944   \n",
       "2016-01-15 02:00:00                     6.055926                    10.213995   \n",
       "2016-01-15 03:00:00                     6.047977                     9.977019   \n",
       "2016-01-15 04:00:00                     6.148599                    10.142511   \n",
       "\n",
       "                     final.output.concentrate_sol  \\\n",
       "date                                                \n",
       "2016-01-15 00:00:00                      5.507324   \n",
       "2016-01-15 01:00:00                      5.257781   \n",
       "2016-01-15 02:00:00                      5.383759   \n",
       "2016-01-15 03:00:00                      4.858634   \n",
       "2016-01-15 04:00:00                      4.939416   \n",
       "\n",
       "                     final.output.concentrate_au  final.output.recovery  \\\n",
       "date                                                                      \n",
       "2016-01-15 00:00:00                    42.192020              70.541216   \n",
       "2016-01-15 01:00:00                    42.701629              69.266198   \n",
       "2016-01-15 02:00:00                    42.657501              68.116445   \n",
       "2016-01-15 03:00:00                    42.689819              68.347543   \n",
       "2016-01-15 04:00:00                    42.774141              66.927016   \n",
       "\n",
       "                     final.output.tail_ag  final.output.tail_pb  \\\n",
       "date                                                              \n",
       "2016-01-15 00:00:00             10.411962              0.895447   \n",
       "2016-01-15 01:00:00             10.462676              0.927452   \n",
       "2016-01-15 02:00:00             10.507046              0.953716   \n",
       "2016-01-15 03:00:00             10.422762              0.883763   \n",
       "2016-01-15 04:00:00             10.360302              0.792826   \n",
       "\n",
       "                     final.output.tail_sol  final.output.tail_au  \\\n",
       "date                                                               \n",
       "2016-01-15 00:00:00              16.904297              2.143149   \n",
       "2016-01-15 01:00:00              16.634514              2.224930   \n",
       "2016-01-15 02:00:00              16.208849              2.257889   \n",
       "2016-01-15 03:00:00              16.532835              2.146849   \n",
       "2016-01-15 04:00:00              16.525686              2.055292   \n",
       "\n",
       "                     primary_cleaner.input.sulfate  ...  \\\n",
       "date                                                ...   \n",
       "2016-01-15 00:00:00                     127.092003  ...   \n",
       "2016-01-15 01:00:00                     125.629232  ...   \n",
       "2016-01-15 02:00:00                     123.819808  ...   \n",
       "2016-01-15 03:00:00                     122.270188  ...   \n",
       "2016-01-15 04:00:00                     117.988169  ...   \n",
       "\n",
       "                     secondary_cleaner.state.floatbank4_a_air  \\\n",
       "date                                                            \n",
       "2016-01-15 00:00:00                                 14.016835   \n",
       "2016-01-15 01:00:00                                 13.992281   \n",
       "2016-01-15 02:00:00                                 14.015015   \n",
       "2016-01-15 03:00:00                                 14.036510   \n",
       "2016-01-15 04:00:00                                 14.027298   \n",
       "\n",
       "                     secondary_cleaner.state.floatbank4_a_level  \\\n",
       "date                                                              \n",
       "2016-01-15 00:00:00                                 -502.488007   \n",
       "2016-01-15 01:00:00                                 -505.503262   \n",
       "2016-01-15 02:00:00                                 -502.520901   \n",
       "2016-01-15 03:00:00                                 -500.857308   \n",
       "2016-01-15 04:00:00                                 -499.838632   \n",
       "\n",
       "                     secondary_cleaner.state.floatbank4_b_air  \\\n",
       "date                                                            \n",
       "2016-01-15 00:00:00                                 12.099931   \n",
       "2016-01-15 01:00:00                                 11.950531   \n",
       "2016-01-15 02:00:00                                 11.912783   \n",
       "2016-01-15 03:00:00                                 11.999550   \n",
       "2016-01-15 04:00:00                                 11.953070   \n",
       "\n",
       "                     secondary_cleaner.state.floatbank4_b_level  \\\n",
       "date                                                              \n",
       "2016-01-15 00:00:00                                 -504.715942   \n",
       "2016-01-15 01:00:00                                 -501.331529   \n",
       "2016-01-15 02:00:00                                 -501.133383   \n",
       "2016-01-15 03:00:00                                 -501.193686   \n",
       "2016-01-15 04:00:00                                 -501.053894   \n",
       "\n",
       "                     secondary_cleaner.state.floatbank5_a_air  \\\n",
       "date                                                            \n",
       "2016-01-15 00:00:00                                  9.925633   \n",
       "2016-01-15 01:00:00                                 10.039245   \n",
       "2016-01-15 02:00:00                                 10.070913   \n",
       "2016-01-15 03:00:00                                  9.970366   \n",
       "2016-01-15 04:00:00                                  9.925709   \n",
       "\n",
       "                     secondary_cleaner.state.floatbank5_a_level  \\\n",
       "date                                                              \n",
       "2016-01-15 00:00:00                                 -498.310211   \n",
       "2016-01-15 01:00:00                                 -500.169983   \n",
       "2016-01-15 02:00:00                                 -500.129135   \n",
       "2016-01-15 03:00:00                                 -499.201640   \n",
       "2016-01-15 04:00:00                                 -501.686727   \n",
       "\n",
       "                     secondary_cleaner.state.floatbank5_b_air  \\\n",
       "date                                                            \n",
       "2016-01-15 00:00:00                                  8.079666   \n",
       "2016-01-15 01:00:00                                  7.984757   \n",
       "2016-01-15 02:00:00                                  8.013877   \n",
       "2016-01-15 03:00:00                                  7.977324   \n",
       "2016-01-15 04:00:00                                  7.894242   \n",
       "\n",
       "                     secondary_cleaner.state.floatbank5_b_level  \\\n",
       "date                                                              \n",
       "2016-01-15 00:00:00                                 -500.470978   \n",
       "2016-01-15 01:00:00                                 -500.582168   \n",
       "2016-01-15 02:00:00                                 -500.517572   \n",
       "2016-01-15 03:00:00                                 -500.255908   \n",
       "2016-01-15 04:00:00                                 -500.356035   \n",
       "\n",
       "                     secondary_cleaner.state.floatbank6_a_air  \\\n",
       "date                                                            \n",
       "2016-01-15 00:00:00                                 14.151341   \n",
       "2016-01-15 01:00:00                                 13.998353   \n",
       "2016-01-15 02:00:00                                 14.028663   \n",
       "2016-01-15 03:00:00                                 14.005551   \n",
       "2016-01-15 04:00:00                                 13.996647   \n",
       "\n",
       "                     secondary_cleaner.state.floatbank6_a_level  \n",
       "date                                                             \n",
       "2016-01-15 00:00:00                                 -605.841980  \n",
       "2016-01-15 01:00:00                                 -599.787184  \n",
       "2016-01-15 02:00:00                                 -601.427363  \n",
       "2016-01-15 03:00:00                                 -599.996129  \n",
       "2016-01-15 04:00:00                                 -601.496691  \n",
       "\n",
       "[5 rows x 86 columns]"
      ]
     },
     "execution_count": 10,
     "metadata": {},
     "output_type": "execute_result"
    }
   ],
   "source": [
    "train_df.set_index('date', drop=True, inplace=True)\n",
    "train_df.head()"
   ]
  },
  {
   "cell_type": "markdown",
   "metadata": {},
   "source": [
    "Проверка обучающего датасета показала, что \n",
    "* в данных имелись пропуски, которые были заполнены методом `ffill`, т.е. значением из предыдущей строки \n",
    "* дублей в данных не оказалось,\n",
    "* столбец с датой и временем был переведен в индексы для дальнейшей корректной работы с датасетом"
   ]
  },
  {
   "cell_type": "markdown",
   "metadata": {},
   "source": [
    "### `Test_df`"
   ]
  },
  {
   "cell_type": "markdown",
   "metadata": {},
   "source": [
    "#### Анализ тестового фрейма"
   ]
  },
  {
   "cell_type": "code",
   "execution_count": 11,
   "metadata": {
    "collapsed": true,
    "jupyter": {
     "outputs_hidden": true
    },
    "tags": []
   },
   "outputs": [
    {
     "name": "stdout",
     "output_type": "stream",
     "text": [
      "<class 'pandas.core.frame.DataFrame'>\n",
      "RangeIndex: 5290 entries, 0 to 5289\n",
      "Data columns (total 53 columns):\n",
      " #   Column                                      Non-Null Count  Dtype  \n",
      "---  ------                                      --------------  -----  \n",
      " 0   date                                        5290 non-null   object \n",
      " 1   primary_cleaner.input.sulfate               5286 non-null   float64\n",
      " 2   primary_cleaner.input.depressant            5285 non-null   float64\n",
      " 3   primary_cleaner.input.feed_size             5290 non-null   float64\n",
      " 4   primary_cleaner.input.xanthate              5286 non-null   float64\n",
      " 5   primary_cleaner.state.floatbank8_a_air      5290 non-null   float64\n",
      " 6   primary_cleaner.state.floatbank8_a_level    5290 non-null   float64\n",
      " 7   primary_cleaner.state.floatbank8_b_air      5290 non-null   float64\n",
      " 8   primary_cleaner.state.floatbank8_b_level    5290 non-null   float64\n",
      " 9   primary_cleaner.state.floatbank8_c_air      5290 non-null   float64\n",
      " 10  primary_cleaner.state.floatbank8_c_level    5290 non-null   float64\n",
      " 11  primary_cleaner.state.floatbank8_d_air      5290 non-null   float64\n",
      " 12  primary_cleaner.state.floatbank8_d_level    5290 non-null   float64\n",
      " 13  rougher.input.feed_ag                       5290 non-null   float64\n",
      " 14  rougher.input.feed_pb                       5290 non-null   float64\n",
      " 15  rougher.input.feed_rate                     5287 non-null   float64\n",
      " 16  rougher.input.feed_size                     5289 non-null   float64\n",
      " 17  rougher.input.feed_sol                      5269 non-null   float64\n",
      " 18  rougher.input.feed_au                       5290 non-null   float64\n",
      " 19  rougher.input.floatbank10_sulfate           5285 non-null   float64\n",
      " 20  rougher.input.floatbank10_xanthate          5290 non-null   float64\n",
      " 21  rougher.input.floatbank11_sulfate           5282 non-null   float64\n",
      " 22  rougher.input.floatbank11_xanthate          5265 non-null   float64\n",
      " 23  rougher.state.floatbank10_a_air             5290 non-null   float64\n",
      " 24  rougher.state.floatbank10_a_level           5290 non-null   float64\n",
      " 25  rougher.state.floatbank10_b_air             5290 non-null   float64\n",
      " 26  rougher.state.floatbank10_b_level           5290 non-null   float64\n",
      " 27  rougher.state.floatbank10_c_air             5290 non-null   float64\n",
      " 28  rougher.state.floatbank10_c_level           5290 non-null   float64\n",
      " 29  rougher.state.floatbank10_d_air             5290 non-null   float64\n",
      " 30  rougher.state.floatbank10_d_level           5290 non-null   float64\n",
      " 31  rougher.state.floatbank10_e_air             5290 non-null   float64\n",
      " 32  rougher.state.floatbank10_e_level           5290 non-null   float64\n",
      " 33  rougher.state.floatbank10_f_air             5290 non-null   float64\n",
      " 34  rougher.state.floatbank10_f_level           5290 non-null   float64\n",
      " 35  secondary_cleaner.state.floatbank2_a_air    5287 non-null   float64\n",
      " 36  secondary_cleaner.state.floatbank2_a_level  5290 non-null   float64\n",
      " 37  secondary_cleaner.state.floatbank2_b_air    5288 non-null   float64\n",
      " 38  secondary_cleaner.state.floatbank2_b_level  5290 non-null   float64\n",
      " 39  secondary_cleaner.state.floatbank3_a_air    5281 non-null   float64\n",
      " 40  secondary_cleaner.state.floatbank3_a_level  5290 non-null   float64\n",
      " 41  secondary_cleaner.state.floatbank3_b_air    5290 non-null   float64\n",
      " 42  secondary_cleaner.state.floatbank3_b_level  5290 non-null   float64\n",
      " 43  secondary_cleaner.state.floatbank4_a_air    5290 non-null   float64\n",
      " 44  secondary_cleaner.state.floatbank4_a_level  5290 non-null   float64\n",
      " 45  secondary_cleaner.state.floatbank4_b_air    5290 non-null   float64\n",
      " 46  secondary_cleaner.state.floatbank4_b_level  5290 non-null   float64\n",
      " 47  secondary_cleaner.state.floatbank5_a_air    5290 non-null   float64\n",
      " 48  secondary_cleaner.state.floatbank5_a_level  5290 non-null   float64\n",
      " 49  secondary_cleaner.state.floatbank5_b_air    5290 non-null   float64\n",
      " 50  secondary_cleaner.state.floatbank5_b_level  5290 non-null   float64\n",
      " 51  secondary_cleaner.state.floatbank6_a_air    5290 non-null   float64\n",
      " 52  secondary_cleaner.state.floatbank6_a_level  5290 non-null   float64\n",
      "dtypes: float64(52), object(1)\n",
      "memory usage: 2.1+ MB\n",
      "\n",
      "**************************************************\n"
     ]
    },
    {
     "data": {
      "text/html": [
       "<div>\n",
       "<style scoped>\n",
       "    .dataframe tbody tr th:only-of-type {\n",
       "        vertical-align: middle;\n",
       "    }\n",
       "\n",
       "    .dataframe tbody tr th {\n",
       "        vertical-align: top;\n",
       "    }\n",
       "\n",
       "    .dataframe thead th {\n",
       "        text-align: right;\n",
       "    }\n",
       "</style>\n",
       "<table border=\"1\" class=\"dataframe\">\n",
       "  <thead>\n",
       "    <tr style=\"text-align: right;\">\n",
       "      <th></th>\n",
       "      <th>date</th>\n",
       "      <th>primary_cleaner.input.sulfate</th>\n",
       "      <th>primary_cleaner.input.depressant</th>\n",
       "      <th>primary_cleaner.input.feed_size</th>\n",
       "      <th>primary_cleaner.input.xanthate</th>\n",
       "      <th>primary_cleaner.state.floatbank8_a_air</th>\n",
       "      <th>primary_cleaner.state.floatbank8_a_level</th>\n",
       "      <th>primary_cleaner.state.floatbank8_b_air</th>\n",
       "      <th>primary_cleaner.state.floatbank8_b_level</th>\n",
       "      <th>primary_cleaner.state.floatbank8_c_air</th>\n",
       "      <th>...</th>\n",
       "      <th>secondary_cleaner.state.floatbank4_a_air</th>\n",
       "      <th>secondary_cleaner.state.floatbank4_a_level</th>\n",
       "      <th>secondary_cleaner.state.floatbank4_b_air</th>\n",
       "      <th>secondary_cleaner.state.floatbank4_b_level</th>\n",
       "      <th>secondary_cleaner.state.floatbank5_a_air</th>\n",
       "      <th>secondary_cleaner.state.floatbank5_a_level</th>\n",
       "      <th>secondary_cleaner.state.floatbank5_b_air</th>\n",
       "      <th>secondary_cleaner.state.floatbank5_b_level</th>\n",
       "      <th>secondary_cleaner.state.floatbank6_a_air</th>\n",
       "      <th>secondary_cleaner.state.floatbank6_a_level</th>\n",
       "    </tr>\n",
       "  </thead>\n",
       "  <tbody>\n",
       "    <tr>\n",
       "      <th>0</th>\n",
       "      <td>2016-09-01 00:59:59</td>\n",
       "      <td>210.800909</td>\n",
       "      <td>14.993118</td>\n",
       "      <td>8.080000</td>\n",
       "      <td>1.005021</td>\n",
       "      <td>1398.981301</td>\n",
       "      <td>-500.225577</td>\n",
       "      <td>1399.144926</td>\n",
       "      <td>-499.919735</td>\n",
       "      <td>1400.102998</td>\n",
       "      <td>...</td>\n",
       "      <td>12.023554</td>\n",
       "      <td>-497.795834</td>\n",
       "      <td>8.016656</td>\n",
       "      <td>-501.289139</td>\n",
       "      <td>7.946562</td>\n",
       "      <td>-432.317850</td>\n",
       "      <td>4.872511</td>\n",
       "      <td>-500.037437</td>\n",
       "      <td>26.705889</td>\n",
       "      <td>-499.709414</td>\n",
       "    </tr>\n",
       "    <tr>\n",
       "      <th>1</th>\n",
       "      <td>2016-09-01 01:59:59</td>\n",
       "      <td>215.392455</td>\n",
       "      <td>14.987471</td>\n",
       "      <td>8.080000</td>\n",
       "      <td>0.990469</td>\n",
       "      <td>1398.777912</td>\n",
       "      <td>-500.057435</td>\n",
       "      <td>1398.055362</td>\n",
       "      <td>-499.778182</td>\n",
       "      <td>1396.151033</td>\n",
       "      <td>...</td>\n",
       "      <td>12.058140</td>\n",
       "      <td>-498.695773</td>\n",
       "      <td>8.130979</td>\n",
       "      <td>-499.634209</td>\n",
       "      <td>7.958270</td>\n",
       "      <td>-525.839648</td>\n",
       "      <td>4.878850</td>\n",
       "      <td>-500.162375</td>\n",
       "      <td>25.019940</td>\n",
       "      <td>-499.819438</td>\n",
       "    </tr>\n",
       "    <tr>\n",
       "      <th>2</th>\n",
       "      <td>2016-09-01 02:59:59</td>\n",
       "      <td>215.259946</td>\n",
       "      <td>12.884934</td>\n",
       "      <td>7.786667</td>\n",
       "      <td>0.996043</td>\n",
       "      <td>1398.493666</td>\n",
       "      <td>-500.868360</td>\n",
       "      <td>1398.860436</td>\n",
       "      <td>-499.764529</td>\n",
       "      <td>1398.075709</td>\n",
       "      <td>...</td>\n",
       "      <td>11.962366</td>\n",
       "      <td>-498.767484</td>\n",
       "      <td>8.096893</td>\n",
       "      <td>-500.827423</td>\n",
       "      <td>8.071056</td>\n",
       "      <td>-500.801673</td>\n",
       "      <td>4.905125</td>\n",
       "      <td>-499.828510</td>\n",
       "      <td>24.994862</td>\n",
       "      <td>-500.622559</td>\n",
       "    </tr>\n",
       "    <tr>\n",
       "      <th>3</th>\n",
       "      <td>2016-09-01 03:59:59</td>\n",
       "      <td>215.336236</td>\n",
       "      <td>12.006805</td>\n",
       "      <td>7.640000</td>\n",
       "      <td>0.863514</td>\n",
       "      <td>1399.618111</td>\n",
       "      <td>-498.863574</td>\n",
       "      <td>1397.440120</td>\n",
       "      <td>-499.211024</td>\n",
       "      <td>1400.129303</td>\n",
       "      <td>...</td>\n",
       "      <td>12.033091</td>\n",
       "      <td>-498.350935</td>\n",
       "      <td>8.074946</td>\n",
       "      <td>-499.474407</td>\n",
       "      <td>7.897085</td>\n",
       "      <td>-500.868509</td>\n",
       "      <td>4.931400</td>\n",
       "      <td>-499.963623</td>\n",
       "      <td>24.948919</td>\n",
       "      <td>-498.709987</td>\n",
       "    </tr>\n",
       "    <tr>\n",
       "      <th>4</th>\n",
       "      <td>2016-09-01 04:59:59</td>\n",
       "      <td>199.099327</td>\n",
       "      <td>10.682530</td>\n",
       "      <td>7.530000</td>\n",
       "      <td>0.805575</td>\n",
       "      <td>1401.268123</td>\n",
       "      <td>-500.808305</td>\n",
       "      <td>1398.128818</td>\n",
       "      <td>-499.504543</td>\n",
       "      <td>1402.172226</td>\n",
       "      <td>...</td>\n",
       "      <td>12.025367</td>\n",
       "      <td>-500.786497</td>\n",
       "      <td>8.054678</td>\n",
       "      <td>-500.397500</td>\n",
       "      <td>8.107890</td>\n",
       "      <td>-509.526725</td>\n",
       "      <td>4.957674</td>\n",
       "      <td>-500.360026</td>\n",
       "      <td>25.003331</td>\n",
       "      <td>-500.856333</td>\n",
       "    </tr>\n",
       "  </tbody>\n",
       "</table>\n",
       "<p>5 rows × 53 columns</p>\n",
       "</div>"
      ],
      "text/plain": [
       "                  date  primary_cleaner.input.sulfate  \\\n",
       "0  2016-09-01 00:59:59                     210.800909   \n",
       "1  2016-09-01 01:59:59                     215.392455   \n",
       "2  2016-09-01 02:59:59                     215.259946   \n",
       "3  2016-09-01 03:59:59                     215.336236   \n",
       "4  2016-09-01 04:59:59                     199.099327   \n",
       "\n",
       "   primary_cleaner.input.depressant  primary_cleaner.input.feed_size  \\\n",
       "0                         14.993118                         8.080000   \n",
       "1                         14.987471                         8.080000   \n",
       "2                         12.884934                         7.786667   \n",
       "3                         12.006805                         7.640000   \n",
       "4                         10.682530                         7.530000   \n",
       "\n",
       "   primary_cleaner.input.xanthate  primary_cleaner.state.floatbank8_a_air  \\\n",
       "0                        1.005021                             1398.981301   \n",
       "1                        0.990469                             1398.777912   \n",
       "2                        0.996043                             1398.493666   \n",
       "3                        0.863514                             1399.618111   \n",
       "4                        0.805575                             1401.268123   \n",
       "\n",
       "   primary_cleaner.state.floatbank8_a_level  \\\n",
       "0                               -500.225577   \n",
       "1                               -500.057435   \n",
       "2                               -500.868360   \n",
       "3                               -498.863574   \n",
       "4                               -500.808305   \n",
       "\n",
       "   primary_cleaner.state.floatbank8_b_air  \\\n",
       "0                             1399.144926   \n",
       "1                             1398.055362   \n",
       "2                             1398.860436   \n",
       "3                             1397.440120   \n",
       "4                             1398.128818   \n",
       "\n",
       "   primary_cleaner.state.floatbank8_b_level  \\\n",
       "0                               -499.919735   \n",
       "1                               -499.778182   \n",
       "2                               -499.764529   \n",
       "3                               -499.211024   \n",
       "4                               -499.504543   \n",
       "\n",
       "   primary_cleaner.state.floatbank8_c_air  ...  \\\n",
       "0                             1400.102998  ...   \n",
       "1                             1396.151033  ...   \n",
       "2                             1398.075709  ...   \n",
       "3                             1400.129303  ...   \n",
       "4                             1402.172226  ...   \n",
       "\n",
       "   secondary_cleaner.state.floatbank4_a_air  \\\n",
       "0                                 12.023554   \n",
       "1                                 12.058140   \n",
       "2                                 11.962366   \n",
       "3                                 12.033091   \n",
       "4                                 12.025367   \n",
       "\n",
       "   secondary_cleaner.state.floatbank4_a_level  \\\n",
       "0                                 -497.795834   \n",
       "1                                 -498.695773   \n",
       "2                                 -498.767484   \n",
       "3                                 -498.350935   \n",
       "4                                 -500.786497   \n",
       "\n",
       "   secondary_cleaner.state.floatbank4_b_air  \\\n",
       "0                                  8.016656   \n",
       "1                                  8.130979   \n",
       "2                                  8.096893   \n",
       "3                                  8.074946   \n",
       "4                                  8.054678   \n",
       "\n",
       "   secondary_cleaner.state.floatbank4_b_level  \\\n",
       "0                                 -501.289139   \n",
       "1                                 -499.634209   \n",
       "2                                 -500.827423   \n",
       "3                                 -499.474407   \n",
       "4                                 -500.397500   \n",
       "\n",
       "   secondary_cleaner.state.floatbank5_a_air  \\\n",
       "0                                  7.946562   \n",
       "1                                  7.958270   \n",
       "2                                  8.071056   \n",
       "3                                  7.897085   \n",
       "4                                  8.107890   \n",
       "\n",
       "   secondary_cleaner.state.floatbank5_a_level  \\\n",
       "0                                 -432.317850   \n",
       "1                                 -525.839648   \n",
       "2                                 -500.801673   \n",
       "3                                 -500.868509   \n",
       "4                                 -509.526725   \n",
       "\n",
       "   secondary_cleaner.state.floatbank5_b_air  \\\n",
       "0                                  4.872511   \n",
       "1                                  4.878850   \n",
       "2                                  4.905125   \n",
       "3                                  4.931400   \n",
       "4                                  4.957674   \n",
       "\n",
       "   secondary_cleaner.state.floatbank5_b_level  \\\n",
       "0                                 -500.037437   \n",
       "1                                 -500.162375   \n",
       "2                                 -499.828510   \n",
       "3                                 -499.963623   \n",
       "4                                 -500.360026   \n",
       "\n",
       "   secondary_cleaner.state.floatbank6_a_air  \\\n",
       "0                                 26.705889   \n",
       "1                                 25.019940   \n",
       "2                                 24.994862   \n",
       "3                                 24.948919   \n",
       "4                                 25.003331   \n",
       "\n",
       "   secondary_cleaner.state.floatbank6_a_level  \n",
       "0                                 -499.709414  \n",
       "1                                 -499.819438  \n",
       "2                                 -500.622559  \n",
       "3                                 -498.709987  \n",
       "4                                 -500.856333  \n",
       "\n",
       "[5 rows x 53 columns]"
      ]
     },
     "metadata": {},
     "output_type": "display_data"
    },
    {
     "name": "stdout",
     "output_type": "stream",
     "text": [
      "\n",
      "**************************************************\n"
     ]
    },
    {
     "data": {
      "text/html": [
       "<div>\n",
       "<style scoped>\n",
       "    .dataframe tbody tr th:only-of-type {\n",
       "        vertical-align: middle;\n",
       "    }\n",
       "\n",
       "    .dataframe tbody tr th {\n",
       "        vertical-align: top;\n",
       "    }\n",
       "\n",
       "    .dataframe thead th {\n",
       "        text-align: right;\n",
       "    }\n",
       "</style>\n",
       "<table border=\"1\" class=\"dataframe\">\n",
       "  <thead>\n",
       "    <tr style=\"text-align: right;\">\n",
       "      <th></th>\n",
       "      <th>primary_cleaner.input.sulfate</th>\n",
       "      <th>primary_cleaner.input.depressant</th>\n",
       "      <th>primary_cleaner.input.feed_size</th>\n",
       "      <th>primary_cleaner.input.xanthate</th>\n",
       "      <th>primary_cleaner.state.floatbank8_a_air</th>\n",
       "      <th>primary_cleaner.state.floatbank8_a_level</th>\n",
       "      <th>primary_cleaner.state.floatbank8_b_air</th>\n",
       "      <th>primary_cleaner.state.floatbank8_b_level</th>\n",
       "      <th>primary_cleaner.state.floatbank8_c_air</th>\n",
       "      <th>primary_cleaner.state.floatbank8_c_level</th>\n",
       "      <th>...</th>\n",
       "      <th>secondary_cleaner.state.floatbank4_a_air</th>\n",
       "      <th>secondary_cleaner.state.floatbank4_a_level</th>\n",
       "      <th>secondary_cleaner.state.floatbank4_b_air</th>\n",
       "      <th>secondary_cleaner.state.floatbank4_b_level</th>\n",
       "      <th>secondary_cleaner.state.floatbank5_a_air</th>\n",
       "      <th>secondary_cleaner.state.floatbank5_a_level</th>\n",
       "      <th>secondary_cleaner.state.floatbank5_b_air</th>\n",
       "      <th>secondary_cleaner.state.floatbank5_b_level</th>\n",
       "      <th>secondary_cleaner.state.floatbank6_a_air</th>\n",
       "      <th>secondary_cleaner.state.floatbank6_a_level</th>\n",
       "    </tr>\n",
       "  </thead>\n",
       "  <tbody>\n",
       "    <tr>\n",
       "      <th>count</th>\n",
       "      <td>5286.000000</td>\n",
       "      <td>5285.000000</td>\n",
       "      <td>5290.000000</td>\n",
       "      <td>5286.000000</td>\n",
       "      <td>5.290000e+03</td>\n",
       "      <td>5290.000000</td>\n",
       "      <td>5.290000e+03</td>\n",
       "      <td>5290.000000</td>\n",
       "      <td>5.290000e+03</td>\n",
       "      <td>5290.000000</td>\n",
       "      <td>...</td>\n",
       "      <td>5.290000e+03</td>\n",
       "      <td>5290.000000</td>\n",
       "      <td>5.290000e+03</td>\n",
       "      <td>5290.000000</td>\n",
       "      <td>5290.000000</td>\n",
       "      <td>5290.000000</td>\n",
       "      <td>5290.000000</td>\n",
       "      <td>5290.000000</td>\n",
       "      <td>5290.000000</td>\n",
       "      <td>5290.000000</td>\n",
       "    </tr>\n",
       "    <tr>\n",
       "      <th>mean</th>\n",
       "      <td>174.839652</td>\n",
       "      <td>8.683596</td>\n",
       "      <td>7.266339</td>\n",
       "      <td>1.383803</td>\n",
       "      <td>1.539494e+03</td>\n",
       "      <td>-497.665883</td>\n",
       "      <td>1.545174e+03</td>\n",
       "      <td>-500.273098</td>\n",
       "      <td>1.527272e+03</td>\n",
       "      <td>-498.330680</td>\n",
       "      <td>...</td>\n",
       "      <td>1.632007e+01</td>\n",
       "      <td>-505.144570</td>\n",
       "      <td>1.373544e+01</td>\n",
       "      <td>-463.349858</td>\n",
       "      <td>12.804186</td>\n",
       "      <td>-501.329122</td>\n",
       "      <td>9.881145</td>\n",
       "      <td>-495.663398</td>\n",
       "      <td>17.304935</td>\n",
       "      <td>-501.793193</td>\n",
       "    </tr>\n",
       "    <tr>\n",
       "      <th>std</th>\n",
       "      <td>43.027080</td>\n",
       "      <td>3.072050</td>\n",
       "      <td>0.610219</td>\n",
       "      <td>0.643474</td>\n",
       "      <td>1.167979e+02</td>\n",
       "      <td>19.952431</td>\n",
       "      <td>1.222246e+02</td>\n",
       "      <td>32.968307</td>\n",
       "      <td>1.225380e+02</td>\n",
       "      <td>21.964876</td>\n",
       "      <td>...</td>\n",
       "      <td>3.493583e+00</td>\n",
       "      <td>31.427337</td>\n",
       "      <td>3.430484e+00</td>\n",
       "      <td>86.189107</td>\n",
       "      <td>3.026591</td>\n",
       "      <td>17.951495</td>\n",
       "      <td>2.868205</td>\n",
       "      <td>34.535007</td>\n",
       "      <td>4.536544</td>\n",
       "      <td>39.044215</td>\n",
       "    </tr>\n",
       "    <tr>\n",
       "      <th>min</th>\n",
       "      <td>2.566156</td>\n",
       "      <td>0.003839</td>\n",
       "      <td>5.650000</td>\n",
       "      <td>0.004984</td>\n",
       "      <td>5.445860e-32</td>\n",
       "      <td>-795.316337</td>\n",
       "      <td>6.647490e-32</td>\n",
       "      <td>-799.997015</td>\n",
       "      <td>4.033736e-32</td>\n",
       "      <td>-799.960571</td>\n",
       "      <td>...</td>\n",
       "      <td>1.079872e-16</td>\n",
       "      <td>-799.798523</td>\n",
       "      <td>2.489718e-17</td>\n",
       "      <td>-800.836914</td>\n",
       "      <td>0.069227</td>\n",
       "      <td>-797.323986</td>\n",
       "      <td>0.528083</td>\n",
       "      <td>-800.220337</td>\n",
       "      <td>-0.079426</td>\n",
       "      <td>-809.741464</td>\n",
       "    </tr>\n",
       "    <tr>\n",
       "      <th>25%</th>\n",
       "      <td>147.121401</td>\n",
       "      <td>6.489555</td>\n",
       "      <td>6.890000</td>\n",
       "      <td>0.907623</td>\n",
       "      <td>1.498936e+03</td>\n",
       "      <td>-500.357298</td>\n",
       "      <td>1.498971e+03</td>\n",
       "      <td>-500.703002</td>\n",
       "      <td>1.473230e+03</td>\n",
       "      <td>-501.018117</td>\n",
       "      <td>...</td>\n",
       "      <td>1.403618e+01</td>\n",
       "      <td>-500.868258</td>\n",
       "      <td>1.202862e+01</td>\n",
       "      <td>-500.323028</td>\n",
       "      <td>10.914838</td>\n",
       "      <td>-500.726841</td>\n",
       "      <td>8.036719</td>\n",
       "      <td>-500.194668</td>\n",
       "      <td>13.997317</td>\n",
       "      <td>-500.690984</td>\n",
       "    </tr>\n",
       "    <tr>\n",
       "      <th>50%</th>\n",
       "      <td>177.828489</td>\n",
       "      <td>8.052207</td>\n",
       "      <td>7.250000</td>\n",
       "      <td>1.197610</td>\n",
       "      <td>1.585129e+03</td>\n",
       "      <td>-499.969164</td>\n",
       "      <td>1.595622e+03</td>\n",
       "      <td>-500.028514</td>\n",
       "      <td>1.549595e+03</td>\n",
       "      <td>-500.017711</td>\n",
       "      <td>...</td>\n",
       "      <td>1.700847e+01</td>\n",
       "      <td>-500.115727</td>\n",
       "      <td>1.496486e+01</td>\n",
       "      <td>-499.576513</td>\n",
       "      <td>12.954182</td>\n",
       "      <td>-499.990332</td>\n",
       "      <td>10.004301</td>\n",
       "      <td>-499.990535</td>\n",
       "      <td>16.014935</td>\n",
       "      <td>-500.007126</td>\n",
       "    </tr>\n",
       "    <tr>\n",
       "      <th>75%</th>\n",
       "      <td>208.125438</td>\n",
       "      <td>10.027764</td>\n",
       "      <td>7.600000</td>\n",
       "      <td>1.797819</td>\n",
       "      <td>1.602077e+03</td>\n",
       "      <td>-499.568951</td>\n",
       "      <td>1.602324e+03</td>\n",
       "      <td>-499.293257</td>\n",
       "      <td>1.601144e+03</td>\n",
       "      <td>-498.994130</td>\n",
       "      <td>...</td>\n",
       "      <td>1.803862e+01</td>\n",
       "      <td>-499.404224</td>\n",
       "      <td>1.596213e+01</td>\n",
       "      <td>-400.933805</td>\n",
       "      <td>15.097528</td>\n",
       "      <td>-499.283191</td>\n",
       "      <td>11.997467</td>\n",
       "      <td>-499.719913</td>\n",
       "      <td>21.020013</td>\n",
       "      <td>-499.373018</td>\n",
       "    </tr>\n",
       "    <tr>\n",
       "      <th>max</th>\n",
       "      <td>265.983123</td>\n",
       "      <td>40.000000</td>\n",
       "      <td>15.500000</td>\n",
       "      <td>4.102454</td>\n",
       "      <td>2.103104e+03</td>\n",
       "      <td>-57.195404</td>\n",
       "      <td>1.813084e+03</td>\n",
       "      <td>-142.527229</td>\n",
       "      <td>1.715054e+03</td>\n",
       "      <td>-150.937035</td>\n",
       "      <td>...</td>\n",
       "      <td>3.005180e+01</td>\n",
       "      <td>-401.565212</td>\n",
       "      <td>3.126971e+01</td>\n",
       "      <td>-6.506986</td>\n",
       "      <td>25.258848</td>\n",
       "      <td>-244.483566</td>\n",
       "      <td>14.086866</td>\n",
       "      <td>-137.740004</td>\n",
       "      <td>26.705889</td>\n",
       "      <td>-123.307487</td>\n",
       "    </tr>\n",
       "  </tbody>\n",
       "</table>\n",
       "<p>8 rows × 52 columns</p>\n",
       "</div>"
      ],
      "text/plain": [
       "       primary_cleaner.input.sulfate  primary_cleaner.input.depressant  \\\n",
       "count                    5286.000000                       5285.000000   \n",
       "mean                      174.839652                          8.683596   \n",
       "std                        43.027080                          3.072050   \n",
       "min                         2.566156                          0.003839   \n",
       "25%                       147.121401                          6.489555   \n",
       "50%                       177.828489                          8.052207   \n",
       "75%                       208.125438                         10.027764   \n",
       "max                       265.983123                         40.000000   \n",
       "\n",
       "       primary_cleaner.input.feed_size  primary_cleaner.input.xanthate  \\\n",
       "count                      5290.000000                     5286.000000   \n",
       "mean                          7.266339                        1.383803   \n",
       "std                           0.610219                        0.643474   \n",
       "min                           5.650000                        0.004984   \n",
       "25%                           6.890000                        0.907623   \n",
       "50%                           7.250000                        1.197610   \n",
       "75%                           7.600000                        1.797819   \n",
       "max                          15.500000                        4.102454   \n",
       "\n",
       "       primary_cleaner.state.floatbank8_a_air  \\\n",
       "count                            5.290000e+03   \n",
       "mean                             1.539494e+03   \n",
       "std                              1.167979e+02   \n",
       "min                              5.445860e-32   \n",
       "25%                              1.498936e+03   \n",
       "50%                              1.585129e+03   \n",
       "75%                              1.602077e+03   \n",
       "max                              2.103104e+03   \n",
       "\n",
       "       primary_cleaner.state.floatbank8_a_level  \\\n",
       "count                               5290.000000   \n",
       "mean                                -497.665883   \n",
       "std                                   19.952431   \n",
       "min                                 -795.316337   \n",
       "25%                                 -500.357298   \n",
       "50%                                 -499.969164   \n",
       "75%                                 -499.568951   \n",
       "max                                  -57.195404   \n",
       "\n",
       "       primary_cleaner.state.floatbank8_b_air  \\\n",
       "count                            5.290000e+03   \n",
       "mean                             1.545174e+03   \n",
       "std                              1.222246e+02   \n",
       "min                              6.647490e-32   \n",
       "25%                              1.498971e+03   \n",
       "50%                              1.595622e+03   \n",
       "75%                              1.602324e+03   \n",
       "max                              1.813084e+03   \n",
       "\n",
       "       primary_cleaner.state.floatbank8_b_level  \\\n",
       "count                               5290.000000   \n",
       "mean                                -500.273098   \n",
       "std                                   32.968307   \n",
       "min                                 -799.997015   \n",
       "25%                                 -500.703002   \n",
       "50%                                 -500.028514   \n",
       "75%                                 -499.293257   \n",
       "max                                 -142.527229   \n",
       "\n",
       "       primary_cleaner.state.floatbank8_c_air  \\\n",
       "count                            5.290000e+03   \n",
       "mean                             1.527272e+03   \n",
       "std                              1.225380e+02   \n",
       "min                              4.033736e-32   \n",
       "25%                              1.473230e+03   \n",
       "50%                              1.549595e+03   \n",
       "75%                              1.601144e+03   \n",
       "max                              1.715054e+03   \n",
       "\n",
       "       primary_cleaner.state.floatbank8_c_level  ...  \\\n",
       "count                               5290.000000  ...   \n",
       "mean                                -498.330680  ...   \n",
       "std                                   21.964876  ...   \n",
       "min                                 -799.960571  ...   \n",
       "25%                                 -501.018117  ...   \n",
       "50%                                 -500.017711  ...   \n",
       "75%                                 -498.994130  ...   \n",
       "max                                 -150.937035  ...   \n",
       "\n",
       "       secondary_cleaner.state.floatbank4_a_air  \\\n",
       "count                              5.290000e+03   \n",
       "mean                               1.632007e+01   \n",
       "std                                3.493583e+00   \n",
       "min                                1.079872e-16   \n",
       "25%                                1.403618e+01   \n",
       "50%                                1.700847e+01   \n",
       "75%                                1.803862e+01   \n",
       "max                                3.005180e+01   \n",
       "\n",
       "       secondary_cleaner.state.floatbank4_a_level  \\\n",
       "count                                 5290.000000   \n",
       "mean                                  -505.144570   \n",
       "std                                     31.427337   \n",
       "min                                   -799.798523   \n",
       "25%                                   -500.868258   \n",
       "50%                                   -500.115727   \n",
       "75%                                   -499.404224   \n",
       "max                                   -401.565212   \n",
       "\n",
       "       secondary_cleaner.state.floatbank4_b_air  \\\n",
       "count                              5.290000e+03   \n",
       "mean                               1.373544e+01   \n",
       "std                                3.430484e+00   \n",
       "min                                2.489718e-17   \n",
       "25%                                1.202862e+01   \n",
       "50%                                1.496486e+01   \n",
       "75%                                1.596213e+01   \n",
       "max                                3.126971e+01   \n",
       "\n",
       "       secondary_cleaner.state.floatbank4_b_level  \\\n",
       "count                                 5290.000000   \n",
       "mean                                  -463.349858   \n",
       "std                                     86.189107   \n",
       "min                                   -800.836914   \n",
       "25%                                   -500.323028   \n",
       "50%                                   -499.576513   \n",
       "75%                                   -400.933805   \n",
       "max                                     -6.506986   \n",
       "\n",
       "       secondary_cleaner.state.floatbank5_a_air  \\\n",
       "count                               5290.000000   \n",
       "mean                                  12.804186   \n",
       "std                                    3.026591   \n",
       "min                                    0.069227   \n",
       "25%                                   10.914838   \n",
       "50%                                   12.954182   \n",
       "75%                                   15.097528   \n",
       "max                                   25.258848   \n",
       "\n",
       "       secondary_cleaner.state.floatbank5_a_level  \\\n",
       "count                                 5290.000000   \n",
       "mean                                  -501.329122   \n",
       "std                                     17.951495   \n",
       "min                                   -797.323986   \n",
       "25%                                   -500.726841   \n",
       "50%                                   -499.990332   \n",
       "75%                                   -499.283191   \n",
       "max                                   -244.483566   \n",
       "\n",
       "       secondary_cleaner.state.floatbank5_b_air  \\\n",
       "count                               5290.000000   \n",
       "mean                                   9.881145   \n",
       "std                                    2.868205   \n",
       "min                                    0.528083   \n",
       "25%                                    8.036719   \n",
       "50%                                   10.004301   \n",
       "75%                                   11.997467   \n",
       "max                                   14.086866   \n",
       "\n",
       "       secondary_cleaner.state.floatbank5_b_level  \\\n",
       "count                                 5290.000000   \n",
       "mean                                  -495.663398   \n",
       "std                                     34.535007   \n",
       "min                                   -800.220337   \n",
       "25%                                   -500.194668   \n",
       "50%                                   -499.990535   \n",
       "75%                                   -499.719913   \n",
       "max                                   -137.740004   \n",
       "\n",
       "       secondary_cleaner.state.floatbank6_a_air  \\\n",
       "count                               5290.000000   \n",
       "mean                                  17.304935   \n",
       "std                                    4.536544   \n",
       "min                                   -0.079426   \n",
       "25%                                   13.997317   \n",
       "50%                                   16.014935   \n",
       "75%                                   21.020013   \n",
       "max                                   26.705889   \n",
       "\n",
       "       secondary_cleaner.state.floatbank6_a_level  \n",
       "count                                 5290.000000  \n",
       "mean                                  -501.793193  \n",
       "std                                     39.044215  \n",
       "min                                   -809.741464  \n",
       "25%                                   -500.690984  \n",
       "50%                                   -500.007126  \n",
       "75%                                   -499.373018  \n",
       "max                                   -123.307487  \n",
       "\n",
       "[8 rows x 52 columns]"
      ]
     },
     "metadata": {},
     "output_type": "display_data"
    }
   ],
   "source": [
    "data_info(test_df)"
   ]
  },
  {
   "cell_type": "markdown",
   "metadata": {},
   "source": [
    "#### Проверка на дубликаты"
   ]
  },
  {
   "cell_type": "code",
   "execution_count": 12,
   "metadata": {},
   "outputs": [
    {
     "data": {
      "text/plain": [
       "0"
      ]
     },
     "execution_count": 12,
     "metadata": {},
     "output_type": "execute_result"
    }
   ],
   "source": [
    "test_df.duplicated().sum()"
   ]
  },
  {
   "cell_type": "markdown",
   "metadata": {},
   "source": [
    "#### Заполнение пропусков"
   ]
  },
  {
   "cell_type": "code",
   "execution_count": 13,
   "metadata": {},
   "outputs": [],
   "source": [
    "test_df = test_df.fillna(method='ffill')"
   ]
  },
  {
   "cell_type": "markdown",
   "metadata": {},
   "source": [
    "#### Перевод даты в индекс"
   ]
  },
  {
   "cell_type": "code",
   "execution_count": 14,
   "metadata": {},
   "outputs": [],
   "source": [
    "test_df.set_index('date', drop=True, inplace=True)"
   ]
  },
  {
   "cell_type": "markdown",
   "metadata": {},
   "source": [
    "Проверка тестового датасета показала, что\n",
    "* в данных были пропуски, которые были заполнены так же методом `ffill`,\n",
    "* дублей в данных не было\n",
    "* в данных отсутствуют столбцы с целевыми признаками, а так же столбцы с данными о параметрах выходного продукта и рассчетных параметрах, т.к. предполагается, что на тесте мы имеем только данные о параметрах сырья и описании этапов обработки\n",
    "* столбец с датой и временем так же переведен в индексы для корректной работы с датасетом далее"
   ]
  },
  {
   "cell_type": "markdown",
   "metadata": {},
   "source": [
    "### `Full_df`"
   ]
  },
  {
   "cell_type": "markdown",
   "metadata": {
    "toc-hr-collapsed": true
   },
   "source": [
    "#### Анализ полного фрейма"
   ]
  },
  {
   "cell_type": "code",
   "execution_count": 15,
   "metadata": {
    "collapsed": true,
    "jupyter": {
     "outputs_hidden": true
    }
   },
   "outputs": [
    {
     "name": "stdout",
     "output_type": "stream",
     "text": [
      "<class 'pandas.core.frame.DataFrame'>\n",
      "RangeIndex: 19439 entries, 0 to 19438\n",
      "Data columns (total 87 columns):\n",
      " #   Column                                              Non-Null Count  Dtype  \n",
      "---  ------                                              --------------  -----  \n",
      " 0   date                                                19439 non-null  object \n",
      " 1   final.output.concentrate_ag                         19438 non-null  float64\n",
      " 2   final.output.concentrate_pb                         19438 non-null  float64\n",
      " 3   final.output.concentrate_sol                        19228 non-null  float64\n",
      " 4   final.output.concentrate_au                         19439 non-null  float64\n",
      " 5   final.output.recovery                               19439 non-null  float64\n",
      " 6   final.output.tail_ag                                19438 non-null  float64\n",
      " 7   final.output.tail_pb                                19338 non-null  float64\n",
      " 8   final.output.tail_sol                               19433 non-null  float64\n",
      " 9   final.output.tail_au                                19439 non-null  float64\n",
      " 10  primary_cleaner.input.sulfate                       19415 non-null  float64\n",
      " 11  primary_cleaner.input.depressant                    19402 non-null  float64\n",
      " 12  primary_cleaner.input.feed_size                     19439 non-null  float64\n",
      " 13  primary_cleaner.input.xanthate                      19335 non-null  float64\n",
      " 14  primary_cleaner.output.concentrate_ag               19439 non-null  float64\n",
      " 15  primary_cleaner.output.concentrate_pb               19323 non-null  float64\n",
      " 16  primary_cleaner.output.concentrate_sol              19069 non-null  float64\n",
      " 17  primary_cleaner.output.concentrate_au               19439 non-null  float64\n",
      " 18  primary_cleaner.output.tail_ag                      19435 non-null  float64\n",
      " 19  primary_cleaner.output.tail_pb                      19418 non-null  float64\n",
      " 20  primary_cleaner.output.tail_sol                     19377 non-null  float64\n",
      " 21  primary_cleaner.output.tail_au                      19439 non-null  float64\n",
      " 22  primary_cleaner.state.floatbank8_a_air              19435 non-null  float64\n",
      " 23  primary_cleaner.state.floatbank8_a_level            19438 non-null  float64\n",
      " 24  primary_cleaner.state.floatbank8_b_air              19435 non-null  float64\n",
      " 25  primary_cleaner.state.floatbank8_b_level            19438 non-null  float64\n",
      " 26  primary_cleaner.state.floatbank8_c_air              19437 non-null  float64\n",
      " 27  primary_cleaner.state.floatbank8_c_level            19438 non-null  float64\n",
      " 28  primary_cleaner.state.floatbank8_d_air              19436 non-null  float64\n",
      " 29  primary_cleaner.state.floatbank8_d_level            19438 non-null  float64\n",
      " 30  rougher.calculation.sulfate_to_au_concentrate       19437 non-null  float64\n",
      " 31  rougher.calculation.floatbank10_sulfate_to_au_feed  19437 non-null  float64\n",
      " 32  rougher.calculation.floatbank11_sulfate_to_au_feed  19437 non-null  float64\n",
      " 33  rougher.calculation.au_pb_ratio                     19439 non-null  float64\n",
      " 34  rougher.input.feed_ag                               19439 non-null  float64\n",
      " 35  rougher.input.feed_pb                               19339 non-null  float64\n",
      " 36  rougher.input.feed_rate                             19428 non-null  float64\n",
      " 37  rougher.input.feed_size                             19294 non-null  float64\n",
      " 38  rougher.input.feed_sol                              19340 non-null  float64\n",
      " 39  rougher.input.feed_au                               19439 non-null  float64\n",
      " 40  rougher.input.floatbank10_sulfate                   19405 non-null  float64\n",
      " 41  rougher.input.floatbank10_xanthate                  19431 non-null  float64\n",
      " 42  rougher.input.floatbank11_sulfate                   19395 non-null  float64\n",
      " 43  rougher.input.floatbank11_xanthate                  18986 non-null  float64\n",
      " 44  rougher.output.concentrate_ag                       19439 non-null  float64\n",
      " 45  rougher.output.concentrate_pb                       19439 non-null  float64\n",
      " 46  rougher.output.concentrate_sol                      19416 non-null  float64\n",
      " 47  rougher.output.concentrate_au                       19439 non-null  float64\n",
      " 48  rougher.output.recovery                             19439 non-null  float64\n",
      " 49  rougher.output.tail_ag                              19438 non-null  float64\n",
      " 50  rougher.output.tail_pb                              19439 non-null  float64\n",
      " 51  rougher.output.tail_sol                             19439 non-null  float64\n",
      " 52  rougher.output.tail_au                              19439 non-null  float64\n",
      " 53  rougher.state.floatbank10_a_air                     19438 non-null  float64\n",
      " 54  rougher.state.floatbank10_a_level                   19438 non-null  float64\n",
      " 55  rougher.state.floatbank10_b_air                     19438 non-null  float64\n",
      " 56  rougher.state.floatbank10_b_level                   19438 non-null  float64\n",
      " 57  rougher.state.floatbank10_c_air                     19438 non-null  float64\n",
      " 58  rougher.state.floatbank10_c_level                   19438 non-null  float64\n",
      " 59  rougher.state.floatbank10_d_air                     19439 non-null  float64\n",
      " 60  rougher.state.floatbank10_d_level                   19439 non-null  float64\n",
      " 61  rougher.state.floatbank10_e_air                     19003 non-null  float64\n",
      " 62  rougher.state.floatbank10_e_level                   19439 non-null  float64\n",
      " 63  rougher.state.floatbank10_f_air                     19439 non-null  float64\n",
      " 64  rougher.state.floatbank10_f_level                   19439 non-null  float64\n",
      " 65  secondary_cleaner.output.tail_ag                    19437 non-null  float64\n",
      " 66  secondary_cleaner.output.tail_pb                    19427 non-null  float64\n",
      " 67  secondary_cleaner.output.tail_sol                   17691 non-null  float64\n",
      " 68  secondary_cleaner.output.tail_au                    19439 non-null  float64\n",
      " 69  secondary_cleaner.state.floatbank2_a_air            19219 non-null  float64\n",
      " 70  secondary_cleaner.state.floatbank2_a_level          19438 non-null  float64\n",
      " 71  secondary_cleaner.state.floatbank2_b_air            19416 non-null  float64\n",
      " 72  secondary_cleaner.state.floatbank2_b_level          19438 non-null  float64\n",
      " 73  secondary_cleaner.state.floatbank3_a_air            19426 non-null  float64\n",
      " 74  secondary_cleaner.state.floatbank3_a_level          19438 non-null  float64\n",
      " 75  secondary_cleaner.state.floatbank3_b_air            19438 non-null  float64\n",
      " 76  secondary_cleaner.state.floatbank3_b_level          19438 non-null  float64\n",
      " 77  secondary_cleaner.state.floatbank4_a_air            19433 non-null  float64\n",
      " 78  secondary_cleaner.state.floatbank4_a_level          19438 non-null  float64\n",
      " 79  secondary_cleaner.state.floatbank4_b_air            19438 non-null  float64\n",
      " 80  secondary_cleaner.state.floatbank4_b_level          19438 non-null  float64\n",
      " 81  secondary_cleaner.state.floatbank5_a_air            19438 non-null  float64\n",
      " 82  secondary_cleaner.state.floatbank5_a_level          19438 non-null  float64\n",
      " 83  secondary_cleaner.state.floatbank5_b_air            19438 non-null  float64\n",
      " 84  secondary_cleaner.state.floatbank5_b_level          19438 non-null  float64\n",
      " 85  secondary_cleaner.state.floatbank6_a_air            19437 non-null  float64\n",
      " 86  secondary_cleaner.state.floatbank6_a_level          19438 non-null  float64\n",
      "dtypes: float64(86), object(1)\n",
      "memory usage: 12.9+ MB\n",
      "\n",
      "**************************************************\n"
     ]
    },
    {
     "data": {
      "text/html": [
       "<div>\n",
       "<style scoped>\n",
       "    .dataframe tbody tr th:only-of-type {\n",
       "        vertical-align: middle;\n",
       "    }\n",
       "\n",
       "    .dataframe tbody tr th {\n",
       "        vertical-align: top;\n",
       "    }\n",
       "\n",
       "    .dataframe thead th {\n",
       "        text-align: right;\n",
       "    }\n",
       "</style>\n",
       "<table border=\"1\" class=\"dataframe\">\n",
       "  <thead>\n",
       "    <tr style=\"text-align: right;\">\n",
       "      <th></th>\n",
       "      <th>date</th>\n",
       "      <th>final.output.concentrate_ag</th>\n",
       "      <th>final.output.concentrate_pb</th>\n",
       "      <th>final.output.concentrate_sol</th>\n",
       "      <th>final.output.concentrate_au</th>\n",
       "      <th>final.output.recovery</th>\n",
       "      <th>final.output.tail_ag</th>\n",
       "      <th>final.output.tail_pb</th>\n",
       "      <th>final.output.tail_sol</th>\n",
       "      <th>final.output.tail_au</th>\n",
       "      <th>...</th>\n",
       "      <th>secondary_cleaner.state.floatbank4_a_air</th>\n",
       "      <th>secondary_cleaner.state.floatbank4_a_level</th>\n",
       "      <th>secondary_cleaner.state.floatbank4_b_air</th>\n",
       "      <th>secondary_cleaner.state.floatbank4_b_level</th>\n",
       "      <th>secondary_cleaner.state.floatbank5_a_air</th>\n",
       "      <th>secondary_cleaner.state.floatbank5_a_level</th>\n",
       "      <th>secondary_cleaner.state.floatbank5_b_air</th>\n",
       "      <th>secondary_cleaner.state.floatbank5_b_level</th>\n",
       "      <th>secondary_cleaner.state.floatbank6_a_air</th>\n",
       "      <th>secondary_cleaner.state.floatbank6_a_level</th>\n",
       "    </tr>\n",
       "  </thead>\n",
       "  <tbody>\n",
       "    <tr>\n",
       "      <th>0</th>\n",
       "      <td>2016-01-15 00:00:00</td>\n",
       "      <td>6.055403</td>\n",
       "      <td>9.889648</td>\n",
       "      <td>5.507324</td>\n",
       "      <td>42.192020</td>\n",
       "      <td>70.541216</td>\n",
       "      <td>10.411962</td>\n",
       "      <td>0.895447</td>\n",
       "      <td>16.904297</td>\n",
       "      <td>2.143149</td>\n",
       "      <td>...</td>\n",
       "      <td>14.016835</td>\n",
       "      <td>-502.488007</td>\n",
       "      <td>12.099931</td>\n",
       "      <td>-504.715942</td>\n",
       "      <td>9.925633</td>\n",
       "      <td>-498.310211</td>\n",
       "      <td>8.079666</td>\n",
       "      <td>-500.470978</td>\n",
       "      <td>14.151341</td>\n",
       "      <td>-605.841980</td>\n",
       "    </tr>\n",
       "    <tr>\n",
       "      <th>1</th>\n",
       "      <td>2016-01-15 01:00:00</td>\n",
       "      <td>6.029369</td>\n",
       "      <td>9.968944</td>\n",
       "      <td>5.257781</td>\n",
       "      <td>42.701629</td>\n",
       "      <td>69.266198</td>\n",
       "      <td>10.462676</td>\n",
       "      <td>0.927452</td>\n",
       "      <td>16.634514</td>\n",
       "      <td>2.224930</td>\n",
       "      <td>...</td>\n",
       "      <td>13.992281</td>\n",
       "      <td>-505.503262</td>\n",
       "      <td>11.950531</td>\n",
       "      <td>-501.331529</td>\n",
       "      <td>10.039245</td>\n",
       "      <td>-500.169983</td>\n",
       "      <td>7.984757</td>\n",
       "      <td>-500.582168</td>\n",
       "      <td>13.998353</td>\n",
       "      <td>-599.787184</td>\n",
       "    </tr>\n",
       "    <tr>\n",
       "      <th>2</th>\n",
       "      <td>2016-01-15 02:00:00</td>\n",
       "      <td>6.055926</td>\n",
       "      <td>10.213995</td>\n",
       "      <td>5.383759</td>\n",
       "      <td>42.657501</td>\n",
       "      <td>68.116445</td>\n",
       "      <td>10.507046</td>\n",
       "      <td>0.953716</td>\n",
       "      <td>16.208849</td>\n",
       "      <td>2.257889</td>\n",
       "      <td>...</td>\n",
       "      <td>14.015015</td>\n",
       "      <td>-502.520901</td>\n",
       "      <td>11.912783</td>\n",
       "      <td>-501.133383</td>\n",
       "      <td>10.070913</td>\n",
       "      <td>-500.129135</td>\n",
       "      <td>8.013877</td>\n",
       "      <td>-500.517572</td>\n",
       "      <td>14.028663</td>\n",
       "      <td>-601.427363</td>\n",
       "    </tr>\n",
       "    <tr>\n",
       "      <th>3</th>\n",
       "      <td>2016-01-15 03:00:00</td>\n",
       "      <td>6.047977</td>\n",
       "      <td>9.977019</td>\n",
       "      <td>4.858634</td>\n",
       "      <td>42.689819</td>\n",
       "      <td>68.347543</td>\n",
       "      <td>10.422762</td>\n",
       "      <td>0.883763</td>\n",
       "      <td>16.532835</td>\n",
       "      <td>2.146849</td>\n",
       "      <td>...</td>\n",
       "      <td>14.036510</td>\n",
       "      <td>-500.857308</td>\n",
       "      <td>11.999550</td>\n",
       "      <td>-501.193686</td>\n",
       "      <td>9.970366</td>\n",
       "      <td>-499.201640</td>\n",
       "      <td>7.977324</td>\n",
       "      <td>-500.255908</td>\n",
       "      <td>14.005551</td>\n",
       "      <td>-599.996129</td>\n",
       "    </tr>\n",
       "    <tr>\n",
       "      <th>4</th>\n",
       "      <td>2016-01-15 04:00:00</td>\n",
       "      <td>6.148599</td>\n",
       "      <td>10.142511</td>\n",
       "      <td>4.939416</td>\n",
       "      <td>42.774141</td>\n",
       "      <td>66.927016</td>\n",
       "      <td>10.360302</td>\n",
       "      <td>0.792826</td>\n",
       "      <td>16.525686</td>\n",
       "      <td>2.055292</td>\n",
       "      <td>...</td>\n",
       "      <td>14.027298</td>\n",
       "      <td>-499.838632</td>\n",
       "      <td>11.953070</td>\n",
       "      <td>-501.053894</td>\n",
       "      <td>9.925709</td>\n",
       "      <td>-501.686727</td>\n",
       "      <td>7.894242</td>\n",
       "      <td>-500.356035</td>\n",
       "      <td>13.996647</td>\n",
       "      <td>-601.496691</td>\n",
       "    </tr>\n",
       "  </tbody>\n",
       "</table>\n",
       "<p>5 rows × 87 columns</p>\n",
       "</div>"
      ],
      "text/plain": [
       "                  date  final.output.concentrate_ag  \\\n",
       "0  2016-01-15 00:00:00                     6.055403   \n",
       "1  2016-01-15 01:00:00                     6.029369   \n",
       "2  2016-01-15 02:00:00                     6.055926   \n",
       "3  2016-01-15 03:00:00                     6.047977   \n",
       "4  2016-01-15 04:00:00                     6.148599   \n",
       "\n",
       "   final.output.concentrate_pb  final.output.concentrate_sol  \\\n",
       "0                     9.889648                      5.507324   \n",
       "1                     9.968944                      5.257781   \n",
       "2                    10.213995                      5.383759   \n",
       "3                     9.977019                      4.858634   \n",
       "4                    10.142511                      4.939416   \n",
       "\n",
       "   final.output.concentrate_au  final.output.recovery  final.output.tail_ag  \\\n",
       "0                    42.192020              70.541216             10.411962   \n",
       "1                    42.701629              69.266198             10.462676   \n",
       "2                    42.657501              68.116445             10.507046   \n",
       "3                    42.689819              68.347543             10.422762   \n",
       "4                    42.774141              66.927016             10.360302   \n",
       "\n",
       "   final.output.tail_pb  final.output.tail_sol  final.output.tail_au  ...  \\\n",
       "0              0.895447              16.904297              2.143149  ...   \n",
       "1              0.927452              16.634514              2.224930  ...   \n",
       "2              0.953716              16.208849              2.257889  ...   \n",
       "3              0.883763              16.532835              2.146849  ...   \n",
       "4              0.792826              16.525686              2.055292  ...   \n",
       "\n",
       "   secondary_cleaner.state.floatbank4_a_air  \\\n",
       "0                                 14.016835   \n",
       "1                                 13.992281   \n",
       "2                                 14.015015   \n",
       "3                                 14.036510   \n",
       "4                                 14.027298   \n",
       "\n",
       "   secondary_cleaner.state.floatbank4_a_level  \\\n",
       "0                                 -502.488007   \n",
       "1                                 -505.503262   \n",
       "2                                 -502.520901   \n",
       "3                                 -500.857308   \n",
       "4                                 -499.838632   \n",
       "\n",
       "   secondary_cleaner.state.floatbank4_b_air  \\\n",
       "0                                 12.099931   \n",
       "1                                 11.950531   \n",
       "2                                 11.912783   \n",
       "3                                 11.999550   \n",
       "4                                 11.953070   \n",
       "\n",
       "   secondary_cleaner.state.floatbank4_b_level  \\\n",
       "0                                 -504.715942   \n",
       "1                                 -501.331529   \n",
       "2                                 -501.133383   \n",
       "3                                 -501.193686   \n",
       "4                                 -501.053894   \n",
       "\n",
       "   secondary_cleaner.state.floatbank5_a_air  \\\n",
       "0                                  9.925633   \n",
       "1                                 10.039245   \n",
       "2                                 10.070913   \n",
       "3                                  9.970366   \n",
       "4                                  9.925709   \n",
       "\n",
       "   secondary_cleaner.state.floatbank5_a_level  \\\n",
       "0                                 -498.310211   \n",
       "1                                 -500.169983   \n",
       "2                                 -500.129135   \n",
       "3                                 -499.201640   \n",
       "4                                 -501.686727   \n",
       "\n",
       "   secondary_cleaner.state.floatbank5_b_air  \\\n",
       "0                                  8.079666   \n",
       "1                                  7.984757   \n",
       "2                                  8.013877   \n",
       "3                                  7.977324   \n",
       "4                                  7.894242   \n",
       "\n",
       "   secondary_cleaner.state.floatbank5_b_level  \\\n",
       "0                                 -500.470978   \n",
       "1                                 -500.582168   \n",
       "2                                 -500.517572   \n",
       "3                                 -500.255908   \n",
       "4                                 -500.356035   \n",
       "\n",
       "   secondary_cleaner.state.floatbank6_a_air  \\\n",
       "0                                 14.151341   \n",
       "1                                 13.998353   \n",
       "2                                 14.028663   \n",
       "3                                 14.005551   \n",
       "4                                 13.996647   \n",
       "\n",
       "   secondary_cleaner.state.floatbank6_a_level  \n",
       "0                                 -605.841980  \n",
       "1                                 -599.787184  \n",
       "2                                 -601.427363  \n",
       "3                                 -599.996129  \n",
       "4                                 -601.496691  \n",
       "\n",
       "[5 rows x 87 columns]"
      ]
     },
     "metadata": {},
     "output_type": "display_data"
    },
    {
     "name": "stdout",
     "output_type": "stream",
     "text": [
      "\n",
      "**************************************************\n"
     ]
    },
    {
     "data": {
      "text/html": [
       "<div>\n",
       "<style scoped>\n",
       "    .dataframe tbody tr th:only-of-type {\n",
       "        vertical-align: middle;\n",
       "    }\n",
       "\n",
       "    .dataframe tbody tr th {\n",
       "        vertical-align: top;\n",
       "    }\n",
       "\n",
       "    .dataframe thead th {\n",
       "        text-align: right;\n",
       "    }\n",
       "</style>\n",
       "<table border=\"1\" class=\"dataframe\">\n",
       "  <thead>\n",
       "    <tr style=\"text-align: right;\">\n",
       "      <th></th>\n",
       "      <th>final.output.concentrate_ag</th>\n",
       "      <th>final.output.concentrate_pb</th>\n",
       "      <th>final.output.concentrate_sol</th>\n",
       "      <th>final.output.concentrate_au</th>\n",
       "      <th>final.output.recovery</th>\n",
       "      <th>final.output.tail_ag</th>\n",
       "      <th>final.output.tail_pb</th>\n",
       "      <th>final.output.tail_sol</th>\n",
       "      <th>final.output.tail_au</th>\n",
       "      <th>primary_cleaner.input.sulfate</th>\n",
       "      <th>...</th>\n",
       "      <th>secondary_cleaner.state.floatbank4_a_air</th>\n",
       "      <th>secondary_cleaner.state.floatbank4_a_level</th>\n",
       "      <th>secondary_cleaner.state.floatbank4_b_air</th>\n",
       "      <th>secondary_cleaner.state.floatbank4_b_level</th>\n",
       "      <th>secondary_cleaner.state.floatbank5_a_air</th>\n",
       "      <th>secondary_cleaner.state.floatbank5_a_level</th>\n",
       "      <th>secondary_cleaner.state.floatbank5_b_air</th>\n",
       "      <th>secondary_cleaner.state.floatbank5_b_level</th>\n",
       "      <th>secondary_cleaner.state.floatbank6_a_air</th>\n",
       "      <th>secondary_cleaner.state.floatbank6_a_level</th>\n",
       "    </tr>\n",
       "  </thead>\n",
       "  <tbody>\n",
       "    <tr>\n",
       "      <th>count</th>\n",
       "      <td>19438.000000</td>\n",
       "      <td>19438.000000</td>\n",
       "      <td>19228.000000</td>\n",
       "      <td>19439.000000</td>\n",
       "      <td>19439.000000</td>\n",
       "      <td>19438.000000</td>\n",
       "      <td>19338.000000</td>\n",
       "      <td>19433.000000</td>\n",
       "      <td>19439.000000</td>\n",
       "      <td>19415.000000</td>\n",
       "      <td>...</td>\n",
       "      <td>19433.000000</td>\n",
       "      <td>19438.000000</td>\n",
       "      <td>19438.000000</td>\n",
       "      <td>19438.000000</td>\n",
       "      <td>19438.000000</td>\n",
       "      <td>19438.000000</td>\n",
       "      <td>19438.000000</td>\n",
       "      <td>19438.000000</td>\n",
       "      <td>19437.000000</td>\n",
       "      <td>19438.000000</td>\n",
       "    </tr>\n",
       "    <tr>\n",
       "      <th>mean</th>\n",
       "      <td>5.168470</td>\n",
       "      <td>9.978895</td>\n",
       "      <td>9.501224</td>\n",
       "      <td>44.076513</td>\n",
       "      <td>67.050208</td>\n",
       "      <td>9.688589</td>\n",
       "      <td>2.705795</td>\n",
       "      <td>10.583728</td>\n",
       "      <td>3.042467</td>\n",
       "      <td>144.624774</td>\n",
       "      <td>...</td>\n",
       "      <td>18.987674</td>\n",
       "      <td>-485.894516</td>\n",
       "      <td>15.010366</td>\n",
       "      <td>-461.078636</td>\n",
       "      <td>15.694452</td>\n",
       "      <td>-488.684065</td>\n",
       "      <td>12.198224</td>\n",
       "      <td>-487.149827</td>\n",
       "      <td>18.959024</td>\n",
       "      <td>-505.436305</td>\n",
       "    </tr>\n",
       "    <tr>\n",
       "      <th>std</th>\n",
       "      <td>1.372348</td>\n",
       "      <td>1.669240</td>\n",
       "      <td>2.787537</td>\n",
       "      <td>5.129784</td>\n",
       "      <td>10.125840</td>\n",
       "      <td>2.328642</td>\n",
       "      <td>0.949077</td>\n",
       "      <td>2.868782</td>\n",
       "      <td>0.922808</td>\n",
       "      <td>44.464071</td>\n",
       "      <td>...</td>\n",
       "      <td>5.411058</td>\n",
       "      <td>47.758570</td>\n",
       "      <td>4.890228</td>\n",
       "      <td>67.405524</td>\n",
       "      <td>5.510974</td>\n",
       "      <td>34.533396</td>\n",
       "      <td>5.333024</td>\n",
       "      <td>38.347312</td>\n",
       "      <td>5.550498</td>\n",
       "      <td>37.689057</td>\n",
       "    </tr>\n",
       "    <tr>\n",
       "      <th>min</th>\n",
       "      <td>0.000000</td>\n",
       "      <td>0.000000</td>\n",
       "      <td>0.000000</td>\n",
       "      <td>0.000000</td>\n",
       "      <td>0.000000</td>\n",
       "      <td>0.000000</td>\n",
       "      <td>0.000000</td>\n",
       "      <td>0.000000</td>\n",
       "      <td>0.000000</td>\n",
       "      <td>0.003112</td>\n",
       "      <td>...</td>\n",
       "      <td>0.000000</td>\n",
       "      <td>-799.798523</td>\n",
       "      <td>0.000000</td>\n",
       "      <td>-800.836914</td>\n",
       "      <td>-0.372054</td>\n",
       "      <td>-797.323986</td>\n",
       "      <td>0.528083</td>\n",
       "      <td>-800.220337</td>\n",
       "      <td>-0.079426</td>\n",
       "      <td>-809.741464</td>\n",
       "    </tr>\n",
       "    <tr>\n",
       "      <th>25%</th>\n",
       "      <td>4.251240</td>\n",
       "      <td>9.137262</td>\n",
       "      <td>7.722820</td>\n",
       "      <td>43.402215</td>\n",
       "      <td>63.299712</td>\n",
       "      <td>8.062878</td>\n",
       "      <td>2.040119</td>\n",
       "      <td>8.938947</td>\n",
       "      <td>2.461138</td>\n",
       "      <td>114.107029</td>\n",
       "      <td>...</td>\n",
       "      <td>14.975734</td>\n",
       "      <td>-500.704892</td>\n",
       "      <td>11.940294</td>\n",
       "      <td>-500.187742</td>\n",
       "      <td>10.988606</td>\n",
       "      <td>-500.458467</td>\n",
       "      <td>8.971105</td>\n",
       "      <td>-500.129462</td>\n",
       "      <td>14.983037</td>\n",
       "      <td>-500.728067</td>\n",
       "    </tr>\n",
       "    <tr>\n",
       "      <th>50%</th>\n",
       "      <td>5.066094</td>\n",
       "      <td>10.102433</td>\n",
       "      <td>9.218961</td>\n",
       "      <td>45.011244</td>\n",
       "      <td>68.172738</td>\n",
       "      <td>9.743623</td>\n",
       "      <td>2.748730</td>\n",
       "      <td>10.622456</td>\n",
       "      <td>2.984909</td>\n",
       "      <td>143.232103</td>\n",
       "      <td>...</td>\n",
       "      <td>18.017481</td>\n",
       "      <td>-499.837793</td>\n",
       "      <td>14.971014</td>\n",
       "      <td>-499.459786</td>\n",
       "      <td>15.000036</td>\n",
       "      <td>-499.802605</td>\n",
       "      <td>11.019433</td>\n",
       "      <td>-499.935317</td>\n",
       "      <td>19.960541</td>\n",
       "      <td>-500.048400</td>\n",
       "    </tr>\n",
       "    <tr>\n",
       "      <th>75%</th>\n",
       "      <td>5.895527</td>\n",
       "      <td>11.035769</td>\n",
       "      <td>10.947813</td>\n",
       "      <td>46.275313</td>\n",
       "      <td>72.686642</td>\n",
       "      <td>11.134294</td>\n",
       "      <td>3.333216</td>\n",
       "      <td>12.104271</td>\n",
       "      <td>3.571351</td>\n",
       "      <td>175.075656</td>\n",
       "      <td>...</td>\n",
       "      <td>23.012470</td>\n",
       "      <td>-498.249730</td>\n",
       "      <td>19.034162</td>\n",
       "      <td>-400.118106</td>\n",
       "      <td>18.026190</td>\n",
       "      <td>-498.384187</td>\n",
       "      <td>14.019088</td>\n",
       "      <td>-499.436708</td>\n",
       "      <td>24.003170</td>\n",
       "      <td>-499.495378</td>\n",
       "    </tr>\n",
       "    <tr>\n",
       "      <th>max</th>\n",
       "      <td>16.001945</td>\n",
       "      <td>17.031899</td>\n",
       "      <td>19.615720</td>\n",
       "      <td>52.756638</td>\n",
       "      <td>100.000000</td>\n",
       "      <td>19.552149</td>\n",
       "      <td>5.804178</td>\n",
       "      <td>22.317730</td>\n",
       "      <td>8.245022</td>\n",
       "      <td>265.983123</td>\n",
       "      <td>...</td>\n",
       "      <td>30.115735</td>\n",
       "      <td>-245.239184</td>\n",
       "      <td>31.269706</td>\n",
       "      <td>-6.506986</td>\n",
       "      <td>43.709931</td>\n",
       "      <td>-244.483566</td>\n",
       "      <td>27.926001</td>\n",
       "      <td>-137.740004</td>\n",
       "      <td>32.188906</td>\n",
       "      <td>-104.427459</td>\n",
       "    </tr>\n",
       "  </tbody>\n",
       "</table>\n",
       "<p>8 rows × 86 columns</p>\n",
       "</div>"
      ],
      "text/plain": [
       "       final.output.concentrate_ag  final.output.concentrate_pb  \\\n",
       "count                 19438.000000                 19438.000000   \n",
       "mean                      5.168470                     9.978895   \n",
       "std                       1.372348                     1.669240   \n",
       "min                       0.000000                     0.000000   \n",
       "25%                       4.251240                     9.137262   \n",
       "50%                       5.066094                    10.102433   \n",
       "75%                       5.895527                    11.035769   \n",
       "max                      16.001945                    17.031899   \n",
       "\n",
       "       final.output.concentrate_sol  final.output.concentrate_au  \\\n",
       "count                  19228.000000                 19439.000000   \n",
       "mean                       9.501224                    44.076513   \n",
       "std                        2.787537                     5.129784   \n",
       "min                        0.000000                     0.000000   \n",
       "25%                        7.722820                    43.402215   \n",
       "50%                        9.218961                    45.011244   \n",
       "75%                       10.947813                    46.275313   \n",
       "max                       19.615720                    52.756638   \n",
       "\n",
       "       final.output.recovery  final.output.tail_ag  final.output.tail_pb  \\\n",
       "count           19439.000000          19438.000000          19338.000000   \n",
       "mean               67.050208              9.688589              2.705795   \n",
       "std                10.125840              2.328642              0.949077   \n",
       "min                 0.000000              0.000000              0.000000   \n",
       "25%                63.299712              8.062878              2.040119   \n",
       "50%                68.172738              9.743623              2.748730   \n",
       "75%                72.686642             11.134294              3.333216   \n",
       "max               100.000000             19.552149              5.804178   \n",
       "\n",
       "       final.output.tail_sol  final.output.tail_au  \\\n",
       "count           19433.000000          19439.000000   \n",
       "mean               10.583728              3.042467   \n",
       "std                 2.868782              0.922808   \n",
       "min                 0.000000              0.000000   \n",
       "25%                 8.938947              2.461138   \n",
       "50%                10.622456              2.984909   \n",
       "75%                12.104271              3.571351   \n",
       "max                22.317730              8.245022   \n",
       "\n",
       "       primary_cleaner.input.sulfate  ...  \\\n",
       "count                   19415.000000  ...   \n",
       "mean                      144.624774  ...   \n",
       "std                        44.464071  ...   \n",
       "min                         0.003112  ...   \n",
       "25%                       114.107029  ...   \n",
       "50%                       143.232103  ...   \n",
       "75%                       175.075656  ...   \n",
       "max                       265.983123  ...   \n",
       "\n",
       "       secondary_cleaner.state.floatbank4_a_air  \\\n",
       "count                              19433.000000   \n",
       "mean                                  18.987674   \n",
       "std                                    5.411058   \n",
       "min                                    0.000000   \n",
       "25%                                   14.975734   \n",
       "50%                                   18.017481   \n",
       "75%                                   23.012470   \n",
       "max                                   30.115735   \n",
       "\n",
       "       secondary_cleaner.state.floatbank4_a_level  \\\n",
       "count                                19438.000000   \n",
       "mean                                  -485.894516   \n",
       "std                                     47.758570   \n",
       "min                                   -799.798523   \n",
       "25%                                   -500.704892   \n",
       "50%                                   -499.837793   \n",
       "75%                                   -498.249730   \n",
       "max                                   -245.239184   \n",
       "\n",
       "       secondary_cleaner.state.floatbank4_b_air  \\\n",
       "count                              19438.000000   \n",
       "mean                                  15.010366   \n",
       "std                                    4.890228   \n",
       "min                                    0.000000   \n",
       "25%                                   11.940294   \n",
       "50%                                   14.971014   \n",
       "75%                                   19.034162   \n",
       "max                                   31.269706   \n",
       "\n",
       "       secondary_cleaner.state.floatbank4_b_level  \\\n",
       "count                                19438.000000   \n",
       "mean                                  -461.078636   \n",
       "std                                     67.405524   \n",
       "min                                   -800.836914   \n",
       "25%                                   -500.187742   \n",
       "50%                                   -499.459786   \n",
       "75%                                   -400.118106   \n",
       "max                                     -6.506986   \n",
       "\n",
       "       secondary_cleaner.state.floatbank5_a_air  \\\n",
       "count                              19438.000000   \n",
       "mean                                  15.694452   \n",
       "std                                    5.510974   \n",
       "min                                   -0.372054   \n",
       "25%                                   10.988606   \n",
       "50%                                   15.000036   \n",
       "75%                                   18.026190   \n",
       "max                                   43.709931   \n",
       "\n",
       "       secondary_cleaner.state.floatbank5_a_level  \\\n",
       "count                                19438.000000   \n",
       "mean                                  -488.684065   \n",
       "std                                     34.533396   \n",
       "min                                   -797.323986   \n",
       "25%                                   -500.458467   \n",
       "50%                                   -499.802605   \n",
       "75%                                   -498.384187   \n",
       "max                                   -244.483566   \n",
       "\n",
       "       secondary_cleaner.state.floatbank5_b_air  \\\n",
       "count                              19438.000000   \n",
       "mean                                  12.198224   \n",
       "std                                    5.333024   \n",
       "min                                    0.528083   \n",
       "25%                                    8.971105   \n",
       "50%                                   11.019433   \n",
       "75%                                   14.019088   \n",
       "max                                   27.926001   \n",
       "\n",
       "       secondary_cleaner.state.floatbank5_b_level  \\\n",
       "count                                19438.000000   \n",
       "mean                                  -487.149827   \n",
       "std                                     38.347312   \n",
       "min                                   -800.220337   \n",
       "25%                                   -500.129462   \n",
       "50%                                   -499.935317   \n",
       "75%                                   -499.436708   \n",
       "max                                   -137.740004   \n",
       "\n",
       "       secondary_cleaner.state.floatbank6_a_air  \\\n",
       "count                              19437.000000   \n",
       "mean                                  18.959024   \n",
       "std                                    5.550498   \n",
       "min                                   -0.079426   \n",
       "25%                                   14.983037   \n",
       "50%                                   19.960541   \n",
       "75%                                   24.003170   \n",
       "max                                   32.188906   \n",
       "\n",
       "       secondary_cleaner.state.floatbank6_a_level  \n",
       "count                                19438.000000  \n",
       "mean                                  -505.436305  \n",
       "std                                     37.689057  \n",
       "min                                   -809.741464  \n",
       "25%                                   -500.728067  \n",
       "50%                                   -500.048400  \n",
       "75%                                   -499.495378  \n",
       "max                                   -104.427459  \n",
       "\n",
       "[8 rows x 86 columns]"
      ]
     },
     "metadata": {},
     "output_type": "display_data"
    }
   ],
   "source": [
    "data_info(full_df)"
   ]
  },
  {
   "cell_type": "markdown",
   "metadata": {},
   "source": [
    "#### Проверка на дубликаты"
   ]
  },
  {
   "cell_type": "code",
   "execution_count": 16,
   "metadata": {},
   "outputs": [
    {
     "data": {
      "text/plain": [
       "0"
      ]
     },
     "execution_count": 16,
     "metadata": {},
     "output_type": "execute_result"
    }
   ],
   "source": [
    "full_df.duplicated().sum()"
   ]
  },
  {
   "cell_type": "markdown",
   "metadata": {},
   "source": [
    "#### Заполнение пропусков"
   ]
  },
  {
   "cell_type": "code",
   "execution_count": 17,
   "metadata": {},
   "outputs": [],
   "source": [
    "full_df = full_df.fillna(method='ffill')"
   ]
  },
  {
   "cell_type": "markdown",
   "metadata": {},
   "source": [
    "#### Перевод даты в индекс"
   ]
  },
  {
   "cell_type": "code",
   "execution_count": 18,
   "metadata": {},
   "outputs": [],
   "source": [
    "full_df.set_index('date', drop=True, inplace=True)"
   ]
  },
  {
   "cell_type": "markdown",
   "metadata": {},
   "source": [
    "Анализ полного датасета показал, что\n",
    "* в данных так же были пропуски, заполнены тем же методом `ffill`\n",
    "* дублей в данных не было\n",
    "* дата и время переведены в индексы"
   ]
  },
  {
   "cell_type": "markdown",
   "metadata": {},
   "source": [
    "### Вывод"
   ]
  },
  {
   "cell_type": "markdown",
   "metadata": {},
   "source": [
    "Для корректной дальнейшей работы с данными над каждым датасетом были проведены манипуляции по заполнению пропусков и избавления от столбца дата и время, так же с его помощью в качестве индексов можно будет корректно соединять таблицы и добавлять недостающие столбцы."
   ]
  },
  {
   "cell_type": "markdown",
   "metadata": {},
   "source": [
    "### Проверка эффективности обогащения"
   ]
  },
  {
   "cell_type": "code",
   "execution_count": 19,
   "metadata": {},
   "outputs": [
    {
     "name": "stdout",
     "output_type": "stream",
     "text": [
      "MAE recovery 9.73512347450521e-15\n",
      "date\n",
      "2016-01-15 00:00:00    87.107763\n",
      "2016-01-15 01:00:00    86.843261\n",
      "2016-01-15 02:00:00    86.842308\n",
      "2016-01-15 03:00:00    87.226430\n",
      "2016-01-15 04:00:00    86.688794\n",
      "Name: rougher.output.recovery, dtype: float64\n",
      "date\n",
      "2016-01-15 00:00:00    87.107763\n",
      "2016-01-15 01:00:00    86.843261\n",
      "2016-01-15 02:00:00    86.842308\n",
      "2016-01-15 03:00:00    87.226430\n",
      "2016-01-15 04:00:00    86.688794\n",
      "Name: recovery_rougher, dtype: float64\n"
     ]
    }
   ],
   "source": [
    "train_df['recovery_rougher'] = (train_df['rougher.output.concentrate_au']*\n",
    "                                (train_df['rougher.input.feed_au'] - \n",
    "                                 train_df['rougher.output.tail_au']))/(train_df['rougher.input.feed_au']*\n",
    "                                                                       (train_df['rougher.output.concentrate_au'] - \n",
    "                                                                        train_df['rougher.output.tail_au']))*100\n",
    "print('MAE recovery', mean_absolute_error(train_df['recovery_rougher'], train_df['rougher.output.recovery']))\n",
    "print(train_df['rougher.output.recovery'].head())\n",
    "print(train_df['recovery_rougher'].head())"
   ]
  },
  {
   "cell_type": "markdown",
   "metadata": {},
   "source": [
    "Проверка рассчета эффективности обогащения показала, что данные в таблице верные"
   ]
  },
  {
   "cell_type": "markdown",
   "metadata": {},
   "source": [
    "### Коррекция признаков тестовой выбороки"
   ]
  },
  {
   "cell_type": "code",
   "execution_count": 20,
   "metadata": {},
   "outputs": [
    {
     "data": {
      "text/html": [
       "<div>\n",
       "<style scoped>\n",
       "    .dataframe tbody tr th:only-of-type {\n",
       "        vertical-align: middle;\n",
       "    }\n",
       "\n",
       "    .dataframe tbody tr th {\n",
       "        vertical-align: top;\n",
       "    }\n",
       "\n",
       "    .dataframe thead th {\n",
       "        text-align: right;\n",
       "    }\n",
       "</style>\n",
       "<table border=\"1\" class=\"dataframe\">\n",
       "  <thead>\n",
       "    <tr style=\"text-align: right;\">\n",
       "      <th></th>\n",
       "      <th>primary_cleaner.input.sulfate</th>\n",
       "      <th>primary_cleaner.input.depressant</th>\n",
       "      <th>primary_cleaner.input.feed_size</th>\n",
       "      <th>primary_cleaner.input.xanthate</th>\n",
       "      <th>primary_cleaner.state.floatbank8_a_air</th>\n",
       "      <th>primary_cleaner.state.floatbank8_a_level</th>\n",
       "      <th>primary_cleaner.state.floatbank8_b_air</th>\n",
       "      <th>primary_cleaner.state.floatbank8_b_level</th>\n",
       "      <th>primary_cleaner.state.floatbank8_c_air</th>\n",
       "      <th>primary_cleaner.state.floatbank8_c_level</th>\n",
       "      <th>...</th>\n",
       "      <th>secondary_cleaner.state.floatbank4_b_air</th>\n",
       "      <th>secondary_cleaner.state.floatbank4_b_level</th>\n",
       "      <th>secondary_cleaner.state.floatbank5_a_air</th>\n",
       "      <th>secondary_cleaner.state.floatbank5_a_level</th>\n",
       "      <th>secondary_cleaner.state.floatbank5_b_air</th>\n",
       "      <th>secondary_cleaner.state.floatbank5_b_level</th>\n",
       "      <th>secondary_cleaner.state.floatbank6_a_air</th>\n",
       "      <th>secondary_cleaner.state.floatbank6_a_level</th>\n",
       "      <th>rougher.output.recovery</th>\n",
       "      <th>final.output.recovery</th>\n",
       "    </tr>\n",
       "    <tr>\n",
       "      <th>date</th>\n",
       "      <th></th>\n",
       "      <th></th>\n",
       "      <th></th>\n",
       "      <th></th>\n",
       "      <th></th>\n",
       "      <th></th>\n",
       "      <th></th>\n",
       "      <th></th>\n",
       "      <th></th>\n",
       "      <th></th>\n",
       "      <th></th>\n",
       "      <th></th>\n",
       "      <th></th>\n",
       "      <th></th>\n",
       "      <th></th>\n",
       "      <th></th>\n",
       "      <th></th>\n",
       "      <th></th>\n",
       "      <th></th>\n",
       "      <th></th>\n",
       "      <th></th>\n",
       "    </tr>\n",
       "  </thead>\n",
       "  <tbody>\n",
       "    <tr>\n",
       "      <th>2016-09-01 00:59:59</th>\n",
       "      <td>210.800909</td>\n",
       "      <td>14.993118</td>\n",
       "      <td>8.080000</td>\n",
       "      <td>1.005021</td>\n",
       "      <td>1398.981301</td>\n",
       "      <td>-500.225577</td>\n",
       "      <td>1399.144926</td>\n",
       "      <td>-499.919735</td>\n",
       "      <td>1400.102998</td>\n",
       "      <td>-500.704369</td>\n",
       "      <td>...</td>\n",
       "      <td>8.016656</td>\n",
       "      <td>-501.289139</td>\n",
       "      <td>7.946562</td>\n",
       "      <td>-432.317850</td>\n",
       "      <td>4.872511</td>\n",
       "      <td>-500.037437</td>\n",
       "      <td>26.705889</td>\n",
       "      <td>-499.709414</td>\n",
       "      <td>89.993421</td>\n",
       "      <td>70.273583</td>\n",
       "    </tr>\n",
       "    <tr>\n",
       "      <th>2016-09-01 01:59:59</th>\n",
       "      <td>215.392455</td>\n",
       "      <td>14.987471</td>\n",
       "      <td>8.080000</td>\n",
       "      <td>0.990469</td>\n",
       "      <td>1398.777912</td>\n",
       "      <td>-500.057435</td>\n",
       "      <td>1398.055362</td>\n",
       "      <td>-499.778182</td>\n",
       "      <td>1396.151033</td>\n",
       "      <td>-499.240168</td>\n",
       "      <td>...</td>\n",
       "      <td>8.130979</td>\n",
       "      <td>-499.634209</td>\n",
       "      <td>7.958270</td>\n",
       "      <td>-525.839648</td>\n",
       "      <td>4.878850</td>\n",
       "      <td>-500.162375</td>\n",
       "      <td>25.019940</td>\n",
       "      <td>-499.819438</td>\n",
       "      <td>88.089657</td>\n",
       "      <td>68.910432</td>\n",
       "    </tr>\n",
       "    <tr>\n",
       "      <th>2016-09-01 02:59:59</th>\n",
       "      <td>215.259946</td>\n",
       "      <td>12.884934</td>\n",
       "      <td>7.786667</td>\n",
       "      <td>0.996043</td>\n",
       "      <td>1398.493666</td>\n",
       "      <td>-500.868360</td>\n",
       "      <td>1398.860436</td>\n",
       "      <td>-499.764529</td>\n",
       "      <td>1398.075709</td>\n",
       "      <td>-502.151509</td>\n",
       "      <td>...</td>\n",
       "      <td>8.096893</td>\n",
       "      <td>-500.827423</td>\n",
       "      <td>8.071056</td>\n",
       "      <td>-500.801673</td>\n",
       "      <td>4.905125</td>\n",
       "      <td>-499.828510</td>\n",
       "      <td>24.994862</td>\n",
       "      <td>-500.622559</td>\n",
       "      <td>88.412756</td>\n",
       "      <td>68.143213</td>\n",
       "    </tr>\n",
       "    <tr>\n",
       "      <th>2016-09-01 03:59:59</th>\n",
       "      <td>215.336236</td>\n",
       "      <td>12.006805</td>\n",
       "      <td>7.640000</td>\n",
       "      <td>0.863514</td>\n",
       "      <td>1399.618111</td>\n",
       "      <td>-498.863574</td>\n",
       "      <td>1397.440120</td>\n",
       "      <td>-499.211024</td>\n",
       "      <td>1400.129303</td>\n",
       "      <td>-498.355873</td>\n",
       "      <td>...</td>\n",
       "      <td>8.074946</td>\n",
       "      <td>-499.474407</td>\n",
       "      <td>7.897085</td>\n",
       "      <td>-500.868509</td>\n",
       "      <td>4.931400</td>\n",
       "      <td>-499.963623</td>\n",
       "      <td>24.948919</td>\n",
       "      <td>-498.709987</td>\n",
       "      <td>87.360133</td>\n",
       "      <td>67.776393</td>\n",
       "    </tr>\n",
       "    <tr>\n",
       "      <th>2016-09-01 04:59:59</th>\n",
       "      <td>199.099327</td>\n",
       "      <td>10.682530</td>\n",
       "      <td>7.530000</td>\n",
       "      <td>0.805575</td>\n",
       "      <td>1401.268123</td>\n",
       "      <td>-500.808305</td>\n",
       "      <td>1398.128818</td>\n",
       "      <td>-499.504543</td>\n",
       "      <td>1402.172226</td>\n",
       "      <td>-500.810606</td>\n",
       "      <td>...</td>\n",
       "      <td>8.054678</td>\n",
       "      <td>-500.397500</td>\n",
       "      <td>8.107890</td>\n",
       "      <td>-509.526725</td>\n",
       "      <td>4.957674</td>\n",
       "      <td>-500.360026</td>\n",
       "      <td>25.003331</td>\n",
       "      <td>-500.856333</td>\n",
       "      <td>83.236367</td>\n",
       "      <td>61.467078</td>\n",
       "    </tr>\n",
       "  </tbody>\n",
       "</table>\n",
       "<p>5 rows × 54 columns</p>\n",
       "</div>"
      ],
      "text/plain": [
       "                     primary_cleaner.input.sulfate  \\\n",
       "date                                                 \n",
       "2016-09-01 00:59:59                     210.800909   \n",
       "2016-09-01 01:59:59                     215.392455   \n",
       "2016-09-01 02:59:59                     215.259946   \n",
       "2016-09-01 03:59:59                     215.336236   \n",
       "2016-09-01 04:59:59                     199.099327   \n",
       "\n",
       "                     primary_cleaner.input.depressant  \\\n",
       "date                                                    \n",
       "2016-09-01 00:59:59                         14.993118   \n",
       "2016-09-01 01:59:59                         14.987471   \n",
       "2016-09-01 02:59:59                         12.884934   \n",
       "2016-09-01 03:59:59                         12.006805   \n",
       "2016-09-01 04:59:59                         10.682530   \n",
       "\n",
       "                     primary_cleaner.input.feed_size  \\\n",
       "date                                                   \n",
       "2016-09-01 00:59:59                         8.080000   \n",
       "2016-09-01 01:59:59                         8.080000   \n",
       "2016-09-01 02:59:59                         7.786667   \n",
       "2016-09-01 03:59:59                         7.640000   \n",
       "2016-09-01 04:59:59                         7.530000   \n",
       "\n",
       "                     primary_cleaner.input.xanthate  \\\n",
       "date                                                  \n",
       "2016-09-01 00:59:59                        1.005021   \n",
       "2016-09-01 01:59:59                        0.990469   \n",
       "2016-09-01 02:59:59                        0.996043   \n",
       "2016-09-01 03:59:59                        0.863514   \n",
       "2016-09-01 04:59:59                        0.805575   \n",
       "\n",
       "                     primary_cleaner.state.floatbank8_a_air  \\\n",
       "date                                                          \n",
       "2016-09-01 00:59:59                             1398.981301   \n",
       "2016-09-01 01:59:59                             1398.777912   \n",
       "2016-09-01 02:59:59                             1398.493666   \n",
       "2016-09-01 03:59:59                             1399.618111   \n",
       "2016-09-01 04:59:59                             1401.268123   \n",
       "\n",
       "                     primary_cleaner.state.floatbank8_a_level  \\\n",
       "date                                                            \n",
       "2016-09-01 00:59:59                               -500.225577   \n",
       "2016-09-01 01:59:59                               -500.057435   \n",
       "2016-09-01 02:59:59                               -500.868360   \n",
       "2016-09-01 03:59:59                               -498.863574   \n",
       "2016-09-01 04:59:59                               -500.808305   \n",
       "\n",
       "                     primary_cleaner.state.floatbank8_b_air  \\\n",
       "date                                                          \n",
       "2016-09-01 00:59:59                             1399.144926   \n",
       "2016-09-01 01:59:59                             1398.055362   \n",
       "2016-09-01 02:59:59                             1398.860436   \n",
       "2016-09-01 03:59:59                             1397.440120   \n",
       "2016-09-01 04:59:59                             1398.128818   \n",
       "\n",
       "                     primary_cleaner.state.floatbank8_b_level  \\\n",
       "date                                                            \n",
       "2016-09-01 00:59:59                               -499.919735   \n",
       "2016-09-01 01:59:59                               -499.778182   \n",
       "2016-09-01 02:59:59                               -499.764529   \n",
       "2016-09-01 03:59:59                               -499.211024   \n",
       "2016-09-01 04:59:59                               -499.504543   \n",
       "\n",
       "                     primary_cleaner.state.floatbank8_c_air  \\\n",
       "date                                                          \n",
       "2016-09-01 00:59:59                             1400.102998   \n",
       "2016-09-01 01:59:59                             1396.151033   \n",
       "2016-09-01 02:59:59                             1398.075709   \n",
       "2016-09-01 03:59:59                             1400.129303   \n",
       "2016-09-01 04:59:59                             1402.172226   \n",
       "\n",
       "                     primary_cleaner.state.floatbank8_c_level  ...  \\\n",
       "date                                                           ...   \n",
       "2016-09-01 00:59:59                               -500.704369  ...   \n",
       "2016-09-01 01:59:59                               -499.240168  ...   \n",
       "2016-09-01 02:59:59                               -502.151509  ...   \n",
       "2016-09-01 03:59:59                               -498.355873  ...   \n",
       "2016-09-01 04:59:59                               -500.810606  ...   \n",
       "\n",
       "                     secondary_cleaner.state.floatbank4_b_air  \\\n",
       "date                                                            \n",
       "2016-09-01 00:59:59                                  8.016656   \n",
       "2016-09-01 01:59:59                                  8.130979   \n",
       "2016-09-01 02:59:59                                  8.096893   \n",
       "2016-09-01 03:59:59                                  8.074946   \n",
       "2016-09-01 04:59:59                                  8.054678   \n",
       "\n",
       "                     secondary_cleaner.state.floatbank4_b_level  \\\n",
       "date                                                              \n",
       "2016-09-01 00:59:59                                 -501.289139   \n",
       "2016-09-01 01:59:59                                 -499.634209   \n",
       "2016-09-01 02:59:59                                 -500.827423   \n",
       "2016-09-01 03:59:59                                 -499.474407   \n",
       "2016-09-01 04:59:59                                 -500.397500   \n",
       "\n",
       "                     secondary_cleaner.state.floatbank5_a_air  \\\n",
       "date                                                            \n",
       "2016-09-01 00:59:59                                  7.946562   \n",
       "2016-09-01 01:59:59                                  7.958270   \n",
       "2016-09-01 02:59:59                                  8.071056   \n",
       "2016-09-01 03:59:59                                  7.897085   \n",
       "2016-09-01 04:59:59                                  8.107890   \n",
       "\n",
       "                     secondary_cleaner.state.floatbank5_a_level  \\\n",
       "date                                                              \n",
       "2016-09-01 00:59:59                                 -432.317850   \n",
       "2016-09-01 01:59:59                                 -525.839648   \n",
       "2016-09-01 02:59:59                                 -500.801673   \n",
       "2016-09-01 03:59:59                                 -500.868509   \n",
       "2016-09-01 04:59:59                                 -509.526725   \n",
       "\n",
       "                     secondary_cleaner.state.floatbank5_b_air  \\\n",
       "date                                                            \n",
       "2016-09-01 00:59:59                                  4.872511   \n",
       "2016-09-01 01:59:59                                  4.878850   \n",
       "2016-09-01 02:59:59                                  4.905125   \n",
       "2016-09-01 03:59:59                                  4.931400   \n",
       "2016-09-01 04:59:59                                  4.957674   \n",
       "\n",
       "                     secondary_cleaner.state.floatbank5_b_level  \\\n",
       "date                                                              \n",
       "2016-09-01 00:59:59                                 -500.037437   \n",
       "2016-09-01 01:59:59                                 -500.162375   \n",
       "2016-09-01 02:59:59                                 -499.828510   \n",
       "2016-09-01 03:59:59                                 -499.963623   \n",
       "2016-09-01 04:59:59                                 -500.360026   \n",
       "\n",
       "                     secondary_cleaner.state.floatbank6_a_air  \\\n",
       "date                                                            \n",
       "2016-09-01 00:59:59                                 26.705889   \n",
       "2016-09-01 01:59:59                                 25.019940   \n",
       "2016-09-01 02:59:59                                 24.994862   \n",
       "2016-09-01 03:59:59                                 24.948919   \n",
       "2016-09-01 04:59:59                                 25.003331   \n",
       "\n",
       "                     secondary_cleaner.state.floatbank6_a_level  \\\n",
       "date                                                              \n",
       "2016-09-01 00:59:59                                 -499.709414   \n",
       "2016-09-01 01:59:59                                 -499.819438   \n",
       "2016-09-01 02:59:59                                 -500.622559   \n",
       "2016-09-01 03:59:59                                 -498.709987   \n",
       "2016-09-01 04:59:59                                 -500.856333   \n",
       "\n",
       "                     rougher.output.recovery  final.output.recovery  \n",
       "date                                                                 \n",
       "2016-09-01 00:59:59                89.993421              70.273583  \n",
       "2016-09-01 01:59:59                88.089657              68.910432  \n",
       "2016-09-01 02:59:59                88.412756              68.143213  \n",
       "2016-09-01 03:59:59                87.360133              67.776393  \n",
       "2016-09-01 04:59:59                83.236367              61.467078  \n",
       "\n",
       "[5 rows x 54 columns]"
      ]
     },
     "execution_count": 20,
     "metadata": {},
     "output_type": "execute_result"
    }
   ],
   "source": [
    "test_df = test_df.join(full_df[['rougher.output.recovery', 'final.output.recovery']], how='left')\n",
    "test_df.head()"
   ]
  },
  {
   "cell_type": "code",
   "execution_count": 21,
   "metadata": {
    "collapsed": true,
    "jupyter": {
     "outputs_hidden": true
    }
   },
   "outputs": [
    {
     "name": "stdout",
     "output_type": "stream",
     "text": [
      "<class 'pandas.core.frame.DataFrame'>\n",
      "Index: 14149 entries, 2016-01-15 00:00:00 to 2018-08-18 10:59:59\n",
      "Data columns (total 87 columns):\n",
      " #   Column                                              Non-Null Count  Dtype  \n",
      "---  ------                                              --------------  -----  \n",
      " 0   final.output.concentrate_ag                         14149 non-null  float64\n",
      " 1   final.output.concentrate_pb                         14149 non-null  float64\n",
      " 2   final.output.concentrate_sol                        14149 non-null  float64\n",
      " 3   final.output.concentrate_au                         14149 non-null  float64\n",
      " 4   final.output.recovery                               14149 non-null  float64\n",
      " 5   final.output.tail_ag                                14149 non-null  float64\n",
      " 6   final.output.tail_pb                                14149 non-null  float64\n",
      " 7   final.output.tail_sol                               14149 non-null  float64\n",
      " 8   final.output.tail_au                                14149 non-null  float64\n",
      " 9   primary_cleaner.input.sulfate                       14149 non-null  float64\n",
      " 10  primary_cleaner.input.depressant                    14149 non-null  float64\n",
      " 11  primary_cleaner.input.feed_size                     14149 non-null  float64\n",
      " 12  primary_cleaner.input.xanthate                      14149 non-null  float64\n",
      " 13  primary_cleaner.output.concentrate_ag               14149 non-null  float64\n",
      " 14  primary_cleaner.output.concentrate_pb               14149 non-null  float64\n",
      " 15  primary_cleaner.output.concentrate_sol              14149 non-null  float64\n",
      " 16  primary_cleaner.output.concentrate_au               14149 non-null  float64\n",
      " 17  primary_cleaner.output.tail_ag                      14149 non-null  float64\n",
      " 18  primary_cleaner.output.tail_pb                      14149 non-null  float64\n",
      " 19  primary_cleaner.output.tail_sol                     14149 non-null  float64\n",
      " 20  primary_cleaner.output.tail_au                      14149 non-null  float64\n",
      " 21  primary_cleaner.state.floatbank8_a_air              14149 non-null  float64\n",
      " 22  primary_cleaner.state.floatbank8_a_level            14149 non-null  float64\n",
      " 23  primary_cleaner.state.floatbank8_b_air              14149 non-null  float64\n",
      " 24  primary_cleaner.state.floatbank8_b_level            14149 non-null  float64\n",
      " 25  primary_cleaner.state.floatbank8_c_air              14149 non-null  float64\n",
      " 26  primary_cleaner.state.floatbank8_c_level            14149 non-null  float64\n",
      " 27  primary_cleaner.state.floatbank8_d_air              14149 non-null  float64\n",
      " 28  primary_cleaner.state.floatbank8_d_level            14149 non-null  float64\n",
      " 29  rougher.calculation.sulfate_to_au_concentrate       14149 non-null  float64\n",
      " 30  rougher.calculation.floatbank10_sulfate_to_au_feed  14149 non-null  float64\n",
      " 31  rougher.calculation.floatbank11_sulfate_to_au_feed  14149 non-null  float64\n",
      " 32  rougher.calculation.au_pb_ratio                     14149 non-null  float64\n",
      " 33  rougher.input.feed_ag                               14149 non-null  float64\n",
      " 34  rougher.input.feed_pb                               14149 non-null  float64\n",
      " 35  rougher.input.feed_rate                             14149 non-null  float64\n",
      " 36  rougher.input.feed_size                             14149 non-null  float64\n",
      " 37  rougher.input.feed_sol                              14149 non-null  float64\n",
      " 38  rougher.input.feed_au                               14149 non-null  float64\n",
      " 39  rougher.input.floatbank10_sulfate                   14149 non-null  float64\n",
      " 40  rougher.input.floatbank10_xanthate                  14149 non-null  float64\n",
      " 41  rougher.input.floatbank11_sulfate                   14149 non-null  float64\n",
      " 42  rougher.input.floatbank11_xanthate                  14149 non-null  float64\n",
      " 43  rougher.output.concentrate_ag                       14149 non-null  float64\n",
      " 44  rougher.output.concentrate_pb                       14149 non-null  float64\n",
      " 45  rougher.output.concentrate_sol                      14149 non-null  float64\n",
      " 46  rougher.output.concentrate_au                       14149 non-null  float64\n",
      " 47  rougher.output.recovery                             14149 non-null  float64\n",
      " 48  rougher.output.tail_ag                              14149 non-null  float64\n",
      " 49  rougher.output.tail_pb                              14149 non-null  float64\n",
      " 50  rougher.output.tail_sol                             14149 non-null  float64\n",
      " 51  rougher.output.tail_au                              14149 non-null  float64\n",
      " 52  rougher.state.floatbank10_a_air                     14149 non-null  float64\n",
      " 53  rougher.state.floatbank10_a_level                   14149 non-null  float64\n",
      " 54  rougher.state.floatbank10_b_air                     14149 non-null  float64\n",
      " 55  rougher.state.floatbank10_b_level                   14149 non-null  float64\n",
      " 56  rougher.state.floatbank10_c_air                     14149 non-null  float64\n",
      " 57  rougher.state.floatbank10_c_level                   14149 non-null  float64\n",
      " 58  rougher.state.floatbank10_d_air                     14149 non-null  float64\n",
      " 59  rougher.state.floatbank10_d_level                   14149 non-null  float64\n",
      " 60  rougher.state.floatbank10_e_air                     14149 non-null  float64\n",
      " 61  rougher.state.floatbank10_e_level                   14149 non-null  float64\n",
      " 62  rougher.state.floatbank10_f_air                     14149 non-null  float64\n",
      " 63  rougher.state.floatbank10_f_level                   14149 non-null  float64\n",
      " 64  secondary_cleaner.output.tail_ag                    14149 non-null  float64\n",
      " 65  secondary_cleaner.output.tail_pb                    14149 non-null  float64\n",
      " 66  secondary_cleaner.output.tail_sol                   14149 non-null  float64\n",
      " 67  secondary_cleaner.output.tail_au                    14149 non-null  float64\n",
      " 68  secondary_cleaner.state.floatbank2_a_air            14149 non-null  float64\n",
      " 69  secondary_cleaner.state.floatbank2_a_level          14149 non-null  float64\n",
      " 70  secondary_cleaner.state.floatbank2_b_air            14149 non-null  float64\n",
      " 71  secondary_cleaner.state.floatbank2_b_level          14149 non-null  float64\n",
      " 72  secondary_cleaner.state.floatbank3_a_air            14149 non-null  float64\n",
      " 73  secondary_cleaner.state.floatbank3_a_level          14149 non-null  float64\n",
      " 74  secondary_cleaner.state.floatbank3_b_air            14149 non-null  float64\n",
      " 75  secondary_cleaner.state.floatbank3_b_level          14149 non-null  float64\n",
      " 76  secondary_cleaner.state.floatbank4_a_air            14149 non-null  float64\n",
      " 77  secondary_cleaner.state.floatbank4_a_level          14149 non-null  float64\n",
      " 78  secondary_cleaner.state.floatbank4_b_air            14149 non-null  float64\n",
      " 79  secondary_cleaner.state.floatbank4_b_level          14149 non-null  float64\n",
      " 80  secondary_cleaner.state.floatbank5_a_air            14149 non-null  float64\n",
      " 81  secondary_cleaner.state.floatbank5_a_level          14149 non-null  float64\n",
      " 82  secondary_cleaner.state.floatbank5_b_air            14149 non-null  float64\n",
      " 83  secondary_cleaner.state.floatbank5_b_level          14149 non-null  float64\n",
      " 84  secondary_cleaner.state.floatbank6_a_air            14149 non-null  float64\n",
      " 85  secondary_cleaner.state.floatbank6_a_level          14149 non-null  float64\n",
      " 86  recovery_rougher                                    14149 non-null  float64\n",
      "dtypes: float64(87)\n",
      "memory usage: 10.0+ MB\n"
     ]
    }
   ],
   "source": [
    "train_df.info()"
   ]
  },
  {
   "cell_type": "markdown",
   "metadata": {},
   "source": [
    "## Анализ данных"
   ]
  },
  {
   "cell_type": "markdown",
   "metadata": {},
   "source": [
    "### График изменения концентрации металлов на разных этапах очистки"
   ]
  },
  {
   "cell_type": "code",
   "execution_count": 22,
   "metadata": {
    "tags": []
   },
   "outputs": [
    {
     "data": {
      "image/png": "[encoded data removed]",
      "text/plain": [
       "<Figure size 2160x720 with 3 Axes>"
      ]
     },
     "metadata": {
      "needs_background": "light"
     },
     "output_type": "display_data"
    }
   ],
   "source": [
    "r_input_ag = full_df['rougher.input.feed_ag']\n",
    "r_input_pb = full_df['rougher.input.feed_pb']\n",
    "r_input_au = full_df['rougher.input.feed_au']\n",
    "\n",
    "\n",
    "r_ag = full_df['rougher.output.concentrate_ag']\n",
    "r_pb = full_df['rougher.output.concentrate_pb']\n",
    "r_au = full_df['rougher.output.concentrate_au']\n",
    "\n",
    "pc_ag = full_df['primary_cleaner.output.concentrate_ag']\n",
    "pc_pb = full_df['primary_cleaner.output.concentrate_pb']\n",
    "pc_au = full_df['primary_cleaner.output.concentrate_au']\n",
    "\n",
    "f_ag = full_df['final.output.concentrate_ag']\n",
    "f_pb = full_df['final.output.concentrate_pb']\n",
    "f_au = full_df['final.output.concentrate_au']\n",
    "\n",
    "metal = [\n",
    "    {'metal':'Silver', 'Input feed':r_input_ag ,'Rougher':r_ag, 'Primary cleaner':pc_ag, 'Final':f_ag,},\n",
    "    {'metal':'Lead', 'Input feed':r_input_pb ,'Rougher':r_pb, 'Primary cleaner':pc_pb, 'Final':f_pb},\n",
    "    {'metal':'Gold', 'Input feed':r_input_au ,'Rougher':r_au, 'Primary cleaner':pc_au, 'Final':f_au}\n",
    "]\n",
    "\n",
    "plt.figure(figsize=(30,10))\n",
    "for num, diction in zip(range(1, 4), metal):\n",
    "    ax = plt.subplot(1, 3, num)\n",
    "    sns.histplot(data=diction['Input feed'], ax=ax, bins=20, label='Input feed', alpha=0.6, color= 'orange')\n",
    "    sns.histplot(data=diction['Rougher'], ax=ax, bins=20, label='Rougher', alpha=0.6, color= 'blue')\n",
    "    sns.histplot(data=diction['Primary cleaner'], ax=ax, bins=20, label='Primary cleaner', alpha=0.6, color= 'green')\n",
    "    sns.histplot(data=diction['Final'], ax=ax, bins=20, label='Final', alpha=0.6, color='red')    \n",
    "    plt.title(diction['metal'])\n",
    "    plt.legend()\n",
    "    plt.xlabel('Concentrate')\n",
    "plt.show()"
   ]
  },
  {
   "cell_type": "markdown",
   "metadata": {},
   "source": [
    "По графикам видно, что \n",
    "* концентрация серебра падает от этапа к этапу, \n",
    "* концентрация меди немного увеличивается\n",
    "* концентрация золота увеличивается в разы"
   ]
  },
  {
   "cell_type": "markdown",
   "metadata": {},
   "source": [
    "### График распределения размеров гранул сырья на обучающей и тестовой выборках"
   ]
  },
  {
   "cell_type": "code",
   "execution_count": 23,
   "metadata": {},
   "outputs": [
    {
     "data": {
      "image/png": "[encoded data removed]",
      "text/plain": [
       "<Figure size 1440x720 with 2 Axes>"
      ]
     },
     "metadata": {
      "needs_background": "light"
     },
     "output_type": "display_data"
    }
   ],
   "source": [
    "r_size_train = train_df['rougher.input.feed_size']\n",
    "pc_size_train = train_df['primary_cleaner.input.feed_size']\n",
    "\n",
    "r_size_test = test_df['rougher.input.feed_size']\n",
    "pc_size_test = test_df['primary_cleaner.input.feed_size']\n",
    "\n",
    "feed_size = [\n",
    "    {'stage': 'Rougher', 'train': r_size_train, 'test': r_size_test},\n",
    "    {'stage': 'Primary cleaner', 'train': pc_size_train, 'test': pc_size_test}\n",
    "]\n",
    "\n",
    "plt.figure(figsize=(20,10))\n",
    "\n",
    "for dic, num in zip(feed_size, range(1, 3)):\n",
    "    ax = plt.subplot(1, 2, num)\n",
    "    sns.histplot(data=dic['train'], ax=ax, bins=20, label='Train', alpha=0.6, color= 'blue', kde=True, stat= 'density')\n",
    "    sns.histplot(data=dic['test'], ax=ax, bins=20, label='Test', alpha=0.7, color= 'red', kde=True, stat= 'density')\n",
    "    plt.legend()\n",
    "    plt.xlabel('Size')\n",
    "    plt.title(dic['stage'])\n",
    "plt.show()"
   ]
  },
  {
   "cell_type": "markdown",
   "metadata": {},
   "source": [
    "По графикам видно, что распределения размеров гранул сырья на обучающих и тестовых данных равны."
   ]
  },
  {
   "cell_type": "markdown",
   "metadata": {},
   "source": [
    "### Суммарная концентрация всех веществ на разных этапах"
   ]
  },
  {
   "cell_type": "code",
   "execution_count": 24,
   "metadata": {},
   "outputs": [
    {
     "data": {
      "image/png": "[encoded data removed]",
      "text/plain": [
       "<Figure size 1440x1440 with 4 Axes>"
      ]
     },
     "metadata": {
      "needs_background": "light"
     },
     "output_type": "display_data"
    }
   ],
   "source": [
    "train_df['roughet_input_total'] = (train_df['rougher.input.feed_ag'] + \n",
    "                       train_df['rougher.input.feed_pb'] + \n",
    "                       train_df['rougher.input.feed_sol'] + \n",
    "                       train_df['rougher.input.feed_au'])\n",
    "train_df['roughet_output_total'] = (train_df['rougher.output.concentrate_ag'] + \n",
    "                        train_df['rougher.output.concentrate_pb'] + \n",
    "                        train_df['rougher.output.concentrate_sol'] + \n",
    "                        train_df['rougher.output.concentrate_au'])\n",
    "train_df['primary_clean_output_total'] = (train_df['primary_cleaner.output.concentrate_ag'] + \n",
    "                              train_df['primary_cleaner.output.concentrate_pb'] + \n",
    "                              train_df['primary_cleaner.output.concentrate_sol'] + \n",
    "                              train_df['primary_cleaner.output.concentrate_au']\n",
    "                             )\n",
    "train_df['final_output_total'] = (train_df['final.output.concentrate_ag'] + \n",
    "                      train_df['final.output.concentrate_pb'] + \n",
    "                      train_df['final.output.concentrate_sol'] + \n",
    "                      train_df['final.output.concentrate_au']\n",
    "                     )\n",
    "\n",
    "plt.figure(figsize=(20, 20))\n",
    "\n",
    "for num, col in zip(range(1, 5), train_df[['roughet_input_total', 'roughet_output_total', 'primary_clean_output_total', 'final_output_total']]):\n",
    "    ax = plt.subplot(2,2,num)\n",
    "    sns.histplot(data=train_df, x=col, ax=ax, bins=20, alpha=0.6)\n",
    "    plt.title(col)\n",
    "    plt.xlabel('Concentrate')\n",
    "plt.show()"
   ]
  },
  {
   "cell_type": "markdown",
   "metadata": {},
   "source": [
    "По графикам видно, что\n",
    "* суммарная концентрация всех веществ от этапа к этапу увеличивается\n",
    "* на всех этапах кроме первого появляются нулевые значения, которые являются ошибками"
   ]
  },
  {
   "cell_type": "markdown",
   "metadata": {},
   "source": [
    "### Удаление нулевых значений"
   ]
  },
  {
   "cell_type": "code",
   "execution_count": 25,
   "metadata": {},
   "outputs": [
    {
     "name": "stdout",
     "output_type": "stream",
     "text": [
      "roughet_input_total 0\n",
      "roughet_output_total 297\n",
      "primary_clean_output_total 74\n",
      "final_output_total 58\n"
     ]
    }
   ],
   "source": [
    "for col in train_df[['roughet_input_total', 'roughet_output_total', 'primary_clean_output_total', 'final_output_total']]:\n",
    "    print(col, train_df[train_df[col] == 0].shape[0])"
   ]
  },
  {
   "cell_type": "code",
   "execution_count": 26,
   "metadata": {
    "scrolled": true
   },
   "outputs": [
    {
     "name": "stdout",
     "output_type": "stream",
     "text": [
      "roughet_input_total 0\n",
      "roughet_output_total 0\n",
      "primary_clean_output_total 0\n",
      "final_output_total 0\n"
     ]
    }
   ],
   "source": [
    "for col in train_df[['roughet_input_total', 'roughet_output_total', 'primary_clean_output_total', 'final_output_total']]:\n",
    "    train_df = train_df[train_df[col] != 0]\n",
    "for col in train_df[['roughet_input_total', 'roughet_output_total', 'primary_clean_output_total', 'final_output_total']]:\n",
    "    print(col, train_df[train_df[col] == 0].shape[0])"
   ]
  },
  {
   "cell_type": "markdown",
   "metadata": {},
   "source": [
    "### Вывод"
   ]
  },
  {
   "cell_type": "markdown",
   "metadata": {},
   "source": [
    "На данном этапе мы можем заметить, что\n",
    "* целевая переменная, а именно концентрация золота в процессе всех этапов обработки и отчистки увеличивается\n",
    "* распределения гранул сырья на обучающих и тестовых данных не отличаются, значит оценка модели будет верной\n",
    "* исследование суммарной концентрации на каждом этапе помогло избавиться от ошибочных данных в датасете"
   ]
  },
  {
   "cell_type": "markdown",
   "metadata": {},
   "source": [
    "## Модель"
   ]
  },
  {
   "cell_type": "markdown",
   "metadata": {},
   "source": [
    "### Целевой признак `rougher.output.recovery`"
   ]
  },
  {
   "cell_type": "markdown",
   "metadata": {},
   "source": [
    "#### Подготовка таблицы признаков"
   ]
  },
  {
   "cell_type": "code",
   "execution_count": 27,
   "metadata": {},
   "outputs": [
    {
     "data": {
      "text/plain": [
       "(13725, 54)"
      ]
     },
     "execution_count": 27,
     "metadata": {},
     "output_type": "execute_result"
    }
   ],
   "source": [
    "for column in train_df.columns:\n",
    "    if column not in test_df.columns:\n",
    "        train_df = train_df.drop(column, axis=1)\n",
    "train_df.shape"
   ]
  },
  {
   "cell_type": "markdown",
   "metadata": {},
   "source": [
    "#### Функция рассчета метрики качества `sMape`"
   ]
  },
  {
   "cell_type": "code",
   "execution_count": 28,
   "metadata": {},
   "outputs": [],
   "source": [
    "def smape(target, predictions):\n",
    "    smape = abs(target - predictions) / ((abs(target) + abs(predictions))/2) * 100\n",
    "    smape = smape.fillna(0)\n",
    "    smape = sum(smape) / len(smape)\n",
    "    return smape\n",
    "\n",
    "def sMape_scorer(estimator, X, y):\n",
    "    return smape(estimator.predict(X), y)"
   ]
  },
  {
   "cell_type": "markdown",
   "metadata": {},
   "source": [
    "#### Деление на фичи и таргет"
   ]
  },
  {
   "cell_type": "code",
   "execution_count": 29,
   "metadata": {},
   "outputs": [],
   "source": [
    "columns = [x for x in train_df.columns if 'rougher' in x]\n",
    "train_df_rougher = train_df[columns]\n",
    "X_r = train_df_rougher.drop('rougher.output.recovery', axis=1)\n",
    "y_r = train_df_rougher['rougher.output.recovery']"
   ]
  },
  {
   "cell_type": "markdown",
   "metadata": {},
   "source": [
    "#### Формирование фичей и таргета на тестовых данных"
   ]
  },
  {
   "cell_type": "code",
   "execution_count": 30,
   "metadata": {},
   "outputs": [
    {
     "data": {
      "text/plain": [
       "((5290, 22), (5290,))"
      ]
     },
     "execution_count": 30,
     "metadata": {},
     "output_type": "execute_result"
    }
   ],
   "source": [
    "test_df_rougher = test_df[columns]\n",
    "X_r_test = test_df_rougher.drop('rougher.output.recovery', axis=1)\n",
    "y_r_test = test_df_rougher['rougher.output.recovery']\n",
    "X_r_test.shape, y_r_test.shape"
   ]
  },
  {
   "cell_type": "markdown",
   "metadata": {},
   "source": [
    "#### Формирование пайплайна предобработки фичей"
   ]
  },
  {
   "cell_type": "code",
   "execution_count": 31,
   "metadata": {},
   "outputs": [],
   "source": [
    "numeric_features = X_r.columns\n",
    "numeric_transformer = Pipeline(\n",
    "    steps=[(\"scaler\", StandardScaler())]\n",
    ")\n",
    "preprocessor_rougher = ColumnTransformer(\n",
    "    transformers=[\n",
    "        (\"num\", numeric_transformer, numeric_features)\n",
    "    ]\n",
    ")"
   ]
  },
  {
   "cell_type": "markdown",
   "metadata": {},
   "source": [
    "#### Модель `Random Forest`"
   ]
  },
  {
   "cell_type": "markdown",
   "metadata": {},
   "source": [
    "##### Функция подбора гиперпараметров"
   ]
  },
  {
   "cell_type": "code",
   "execution_count": 32,
   "metadata": {},
   "outputs": [],
   "source": [
    "def objective_f(trial):\n",
    "    regressor_forest = Pipeline(\n",
    "        steps=[(\"preprocessor\", preprocessor_rougher), (\"regressor\", RandomForestRegressor(random_state=45))]\n",
    "    )\n",
    "    \n",
    "    params = {\n",
    "        'regressor__bootstrap': trial.suggest_categorical('bootstrap', [True, False]),\n",
    "        'regressor__max_depth': trial.suggest_int('max_depth', 1, 20),\n",
    "        'regressor__max_features': trial.suggest_categorical('max_features', ['auto', 'sqrt']),\n",
    "        'regressor__min_samples_leaf': trial.suggest_int('min_samples_leaf', 2, 5),\n",
    "        'regressor__min_samples_split': trial.suggest_int('min_samples_split', 3, 10),\n",
    "        'regressor__n_estimators': trial.suggest_int('n_estimators', 100, 500)\n",
    "    }\n",
    "\n",
    "    regressor_forest.set_params(**params)\n",
    "    \n",
    "    regressor_forest.fit(X_r, y_r)\n",
    "    \n",
    "    score_smape = cross_val_score(regressor_forest, X_r, y_r, cv=3, scoring=sMape_scorer)\n",
    "    \n",
    "    return score_smape.mean()"
   ]
  },
  {
   "cell_type": "markdown",
   "metadata": {},
   "source": [
    "##### Подбор гиперпараметров для модели с помощью фреймворка `optuna`"
   ]
  },
  {
   "cell_type": "code",
   "execution_count": 33,
   "metadata": {
    "collapsed": true,
    "jupyter": {
     "outputs_hidden": true
    },
    "tags": []
   },
   "outputs": [
    {
     "name": "stderr",
     "output_type": "stream",
     "text": [
      "\u001b[32m[I 2022-11-11 06:41:03,379]\u001b[0m A new study created in memory with name: no-name-f8030756-c0f2-48ba-8afd-523a4ad34c4f\u001b[0m\n",
      "\u001b[32m[I 2022-11-11 06:41:20,889]\u001b[0m Trial 0 finished with value: 7.770130873060016 and parameters: {'bootstrap': False, 'max_depth': 3, 'max_features': 'sqrt', 'min_samples_leaf': 4, 'min_samples_split': 10, 'n_estimators': 330}. Best is trial 0 with value: 7.770130873060016.\u001b[0m\n",
      "\u001b[32m[I 2022-11-11 06:42:33,923]\u001b[0m Trial 1 finished with value: 8.430518247856794 and parameters: {'bootstrap': False, 'max_depth': 3, 'max_features': 'auto', 'min_samples_leaf': 2, 'min_samples_split': 9, 'n_estimators': 284}. Best is trial 0 with value: 7.770130873060016.\u001b[0m\n",
      "\u001b[32m[I 2022-11-11 06:44:05,478]\u001b[0m Trial 2 finished with value: 7.849837000932979 and parameters: {'bootstrap': True, 'max_depth': 4, 'max_features': 'auto', 'min_samples_leaf': 5, 'min_samples_split': 10, 'n_estimators': 441}. Best is trial 0 with value: 7.770130873060016.\u001b[0m\n",
      "\u001b[32m[I 2022-11-11 06:44:38,387]\u001b[0m Trial 3 finished with value: 7.948473642186351 and parameters: {'bootstrap': True, 'max_depth': 10, 'max_features': 'sqrt', 'min_samples_leaf': 4, 'min_samples_split': 4, 'n_estimators': 363}. Best is trial 0 with value: 7.770130873060016.\u001b[0m\n",
      "\u001b[32m[I 2022-11-11 06:45:02,630]\u001b[0m Trial 4 finished with value: 7.853226316507463 and parameters: {'bootstrap': True, 'max_depth': 6, 'max_features': 'sqrt', 'min_samples_leaf': 4, 'min_samples_split': 6, 'n_estimators': 395}. Best is trial 0 with value: 7.770130873060016.\u001b[0m\n",
      "\u001b[32m[I 2022-11-11 06:45:34,861]\u001b[0m Trial 5 finished with value: 7.778608337010938 and parameters: {'bootstrap': False, 'max_depth': 4, 'max_features': 'sqrt', 'min_samples_leaf': 4, 'min_samples_split': 8, 'n_estimators': 489}. Best is trial 0 with value: 7.770130873060016.\u001b[0m\n",
      "\u001b[32m[I 2022-11-11 06:48:01,304]\u001b[0m Trial 6 finished with value: 8.388754337424947 and parameters: {'bootstrap': False, 'max_depth': 4, 'max_features': 'auto', 'min_samples_leaf': 4, 'min_samples_split': 3, 'n_estimators': 429}. Best is trial 0 with value: 7.770130873060016.\u001b[0m\n",
      "\u001b[32m[I 2022-11-11 06:49:48,267]\u001b[0m Trial 7 finished with value: 8.00606037284304 and parameters: {'bootstrap': True, 'max_depth': 11, 'max_features': 'auto', 'min_samples_leaf': 5, 'min_samples_split': 3, 'n_estimators': 222}. Best is trial 0 with value: 7.770130873060016.\u001b[0m\n",
      "\u001b[32m[I 2022-11-11 06:50:02,342]\u001b[0m Trial 8 finished with value: 7.869128757501976 and parameters: {'bootstrap': True, 'max_depth': 6, 'max_features': 'sqrt', 'min_samples_leaf': 4, 'min_samples_split': 3, 'n_estimators': 220}. Best is trial 0 with value: 7.770130873060016.\u001b[0m\n",
      "\u001b[32m[I 2022-11-11 06:50:45,413]\u001b[0m Trial 9 finished with value: 7.879332963091998 and parameters: {'bootstrap': True, 'max_depth': 4, 'max_features': 'auto', 'min_samples_leaf': 3, 'min_samples_split': 3, 'n_estimators': 198}. Best is trial 0 with value: 7.770130873060016.\u001b[0m\n"
     ]
    },
    {
     "name": "stdout",
     "output_type": "stream",
     "text": [
      "Number of finished trials:  10\n",
      "Best trial:  {'bootstrap': False, 'max_depth': 3, 'max_features': 'sqrt', 'min_samples_leaf': 4, 'min_samples_split': 10, 'n_estimators': 330}\n",
      "Best value:  7.770130873060016\n"
     ]
    }
   ],
   "source": [
    "# study_f = optuna.create_study(direction='minimize')\n",
    "# study_f.optimize(objective_f, n_trials=10)\n",
    "# print('Number of finished trials: ', len(study_f.trials))\n",
    "# print('Best trial: ', study_f.best_trial.params)\n",
    "# print('Best value: ', study_f.best_value)"
   ]
  },
  {
   "cell_type": "markdown",
   "metadata": {},
   "source": [
    "##### Обучение модели и проверка метрики кросс-валидацией"
   ]
  },
  {
   "cell_type": "code",
   "execution_count": 34,
   "metadata": {},
   "outputs": [
    {
     "name": "stdout",
     "output_type": "stream",
     "text": [
      "sMape: 7.770130873060016\n"
     ]
    }
   ],
   "source": [
    "regressor_forest = Pipeline(\n",
    "    steps=[(\"preprocessor\", preprocessor_rougher), (\"regressor\", RandomForestRegressor(random_state=45, \n",
    "                                                                                           bootstrap = False, \n",
    "                                                                                           max_depth = 3, \n",
    "                                                                                           max_features = 'sqrt', \n",
    "                                                                                           min_samples_leaf = 4, \n",
    "                                                                                           min_samples_split = 10,\n",
    "                                                                                           n_estimators = 330))])\n",
    "regressor_forest.fit(X_r, y_r)\n",
    "score_forest = cross_val_score(regressor_forest, X_r, y_r, cv=3, scoring=sMape_scorer)\n",
    "print('sMape:', score_forest.mean())"
   ]
  },
  {
   "cell_type": "markdown",
   "metadata": {},
   "source": [
    "##### Вывод"
   ]
  },
  {
   "cell_type": "markdown",
   "metadata": {},
   "source": [
    "Модель `Random Forest` показала среднее значение кросс-валидации метрики `sMape`  равное **7,77%**"
   ]
  },
  {
   "cell_type": "markdown",
   "metadata": {},
   "source": [
    "#### Модель `SGDRegressor`"
   ]
  },
  {
   "cell_type": "markdown",
   "metadata": {},
   "source": [
    "##### Функция подбора гиперпараметров"
   ]
  },
  {
   "cell_type": "code",
   "execution_count": 35,
   "metadata": {},
   "outputs": [],
   "source": [
    "def objective_sdg(trial):\n",
    "    regressor_sdg = Pipeline(\n",
    "        steps=[(\"preprocessor\", preprocessor_rougher), (\"sdgregressor\", SGDRegressor(random_state=45))]\n",
    "    )\n",
    "    \n",
    "    params = {\n",
    "        'sdgregressor__loss': trial.suggest_categorical('loss', ['squared_loss', 'huber', 'epsilon_insensitive', 'squared_epsilon_insensitive']),\n",
    "        'sdgregressor__penalty': trial.suggest_categorical('penalty', ['l2', 'l1', 'elasticnet']),\n",
    "        'sdgregressor__alpha': trial.suggest_float('alpha', 0.0001, 0.001),\n",
    "        'sdgregressor__l1_ratio': trial.suggest_float('l1_ratio', 0, 1),\n",
    "        'sdgregressor__fit_intercept': trial.suggest_categorical('fit_intercept', [True, False]),\n",
    "        'sdgregressor__shuffle': trial.suggest_categorical('shuffle', [True, False]),\n",
    "        'sdgregressor__learning_rate': trial.suggest_categorical('learning_rate', ['constant', 'optimal', 'invscaling', 'adaptive'])\n",
    "    }\n",
    "    \n",
    "    regressor_sdg.set_params(**params)\n",
    "\n",
    "    regressor_sdg.fit(X_r, y_r)\n",
    "    \n",
    "    score_smape_sgd = cross_val_score(regressor_sdg, X_r, y_r, cv=3, scoring=sMape_scorer)\n",
    "    \n",
    "    return score_smape_sgd.mean()"
   ]
  },
  {
   "cell_type": "markdown",
   "metadata": {},
   "source": [
    "##### Подбор гиперпараметров"
   ]
  },
  {
   "cell_type": "code",
   "execution_count": 36,
   "metadata": {
    "collapsed": true,
    "jupyter": {
     "outputs_hidden": true
    },
    "tags": []
   },
   "outputs": [
    {
     "name": "stderr",
     "output_type": "stream",
     "text": [
      "\u001b[32m[I 2022-11-11 06:52:06,532]\u001b[0m A new study created in memory with name: no-name-7615ec0a-46a7-44b3-aa15-e8ab0fac0ce8\u001b[0m\n",
      "\u001b[32m[I 2022-11-11 06:52:07,048]\u001b[0m Trial 0 finished with value: 10.109169392284842 and parameters: {'loss': 'squared_loss', 'penalty': 'elasticnet', 'alpha': 0.0007198135274156872, 'l1_ratio': 0.33866155918740937, 'fit_intercept': True, 'shuffle': False, 'learning_rate': 'constant'}. Best is trial 0 with value: 10.109169392284842.\u001b[0m\n",
      "\u001b[32m[I 2022-11-11 06:52:08,034]\u001b[0m Trial 1 finished with value: 200.0 and parameters: {'loss': 'epsilon_insensitive', 'penalty': 'l1', 'alpha': 0.0008688841556060632, 'l1_ratio': 0.5898047772325072, 'fit_intercept': False, 'shuffle': True, 'learning_rate': 'adaptive'}. Best is trial 0 with value: 10.109169392284842.\u001b[0m\n",
      "\u001b[32m[I 2022-11-11 06:52:08,640]\u001b[0m Trial 2 finished with value: 199.76221975701984 and parameters: {'loss': 'huber', 'penalty': 'elasticnet', 'alpha': 0.0003226482191780592, 'l1_ratio': 0.2862593075960399, 'fit_intercept': False, 'shuffle': True, 'learning_rate': 'optimal'}. Best is trial 0 with value: 10.109169392284842.\u001b[0m\n",
      "\u001b[32m[I 2022-11-11 06:52:09,222]\u001b[0m Trial 3 finished with value: 199.0631925618344 and parameters: {'loss': 'epsilon_insensitive', 'penalty': 'l2', 'alpha': 0.0001460779419023709, 'l1_ratio': 0.7235088133280313, 'fit_intercept': False, 'shuffle': True, 'learning_rate': 'constant'}. Best is trial 0 with value: 10.109169392284842.\u001b[0m\n",
      "\u001b[32m[I 2022-11-11 06:52:09,837]\u001b[0m Trial 4 finished with value: 8.667296840804012 and parameters: {'loss': 'epsilon_insensitive', 'penalty': 'l2', 'alpha': 0.00042185265318955346, 'l1_ratio': 0.17652707738393592, 'fit_intercept': True, 'shuffle': True, 'learning_rate': 'constant'}. Best is trial 4 with value: 8.667296840804012.\u001b[0m\n",
      "/opt/conda/lib/python3.9/site-packages/sklearn/linear_model/_stochastic_gradient.py:1220: ConvergenceWarning: Maximum number of iteration reached before convergence. Consider increasing max_iter to improve the fit.\n",
      "  warnings.warn(\"Maximum number of iteration reached before \"\n",
      "\u001b[32m[I 2022-11-11 06:52:11,834]\u001b[0m Trial 5 finished with value: 184.44280716272806 and parameters: {'loss': 'squared_loss', 'penalty': 'l2', 'alpha': 0.0003609323116007263, 'l1_ratio': 0.258817062730442, 'fit_intercept': False, 'shuffle': True, 'learning_rate': 'optimal'}. Best is trial 4 with value: 8.667296840804012.\u001b[0m\n",
      "\u001b[32m[I 2022-11-11 06:52:12,580]\u001b[0m Trial 6 finished with value: 10.076322659338231 and parameters: {'loss': 'squared_loss', 'penalty': 'elasticnet', 'alpha': 0.000695723602942972, 'l1_ratio': 0.37333780993856325, 'fit_intercept': True, 'shuffle': False, 'learning_rate': 'constant'}. Best is trial 4 with value: 8.667296840804012.\u001b[0m\n",
      "\u001b[32m[I 2022-11-11 06:52:13,281]\u001b[0m Trial 7 finished with value: 8.239313111648983 and parameters: {'loss': 'huber', 'penalty': 'l2', 'alpha': 0.0008881355746740019, 'l1_ratio': 0.6981442334966841, 'fit_intercept': True, 'shuffle': True, 'learning_rate': 'adaptive'}. Best is trial 7 with value: 8.239313111648983.\u001b[0m\n",
      "\u001b[32m[I 2022-11-11 06:52:13,840]\u001b[0m Trial 8 finished with value: 187.2822532565141 and parameters: {'loss': 'huber', 'penalty': 'elasticnet', 'alpha': 0.0007631254605658165, 'l1_ratio': 0.9075792361963129, 'fit_intercept': False, 'shuffle': True, 'learning_rate': 'optimal'}. Best is trial 7 with value: 8.239313111648983.\u001b[0m\n",
      "\u001b[32m[I 2022-11-11 06:52:14,448]\u001b[0m Trial 9 finished with value: 170.26928740803092 and parameters: {'loss': 'epsilon_insensitive', 'penalty': 'elasticnet', 'alpha': 0.0008963972238489398, 'l1_ratio': 0.15920851900729438, 'fit_intercept': False, 'shuffle': False, 'learning_rate': 'invscaling'}. Best is trial 7 with value: 8.239313111648983.\u001b[0m\n",
      "\u001b[32m[I 2022-11-11 06:52:16,673]\u001b[0m Trial 10 finished with value: 134.56166181403663 and parameters: {'loss': 'squared_epsilon_insensitive', 'penalty': 'l1', 'alpha': 0.0005658004415408624, 'l1_ratio': 0.9989901543511895, 'fit_intercept': True, 'shuffle': False, 'learning_rate': 'adaptive'}. Best is trial 7 with value: 8.239313111648983.\u001b[0m\n",
      "\u001b[32m[I 2022-11-11 06:52:17,382]\u001b[0m Trial 11 finished with value: 8.385195341246392 and parameters: {'loss': 'huber', 'penalty': 'l2', 'alpha': 0.0004666366273251069, 'l1_ratio': 0.07346339896127697, 'fit_intercept': True, 'shuffle': True, 'learning_rate': 'adaptive'}. Best is trial 7 with value: 8.239313111648983.\u001b[0m\n",
      "\u001b[32m[I 2022-11-11 06:52:18,066]\u001b[0m Trial 12 finished with value: 8.194321059463713 and parameters: {'loss': 'huber', 'penalty': 'l2', 'alpha': 0.0009890129743317197, 'l1_ratio': 0.0414133868358596, 'fit_intercept': True, 'shuffle': True, 'learning_rate': 'adaptive'}. Best is trial 12 with value: 8.194321059463713.\u001b[0m\n",
      "\u001b[32m[I 2022-11-11 06:52:18,776]\u001b[0m Trial 13 finished with value: 8.192709742017268 and parameters: {'loss': 'huber', 'penalty': 'l2', 'alpha': 0.0009957427698902878, 'l1_ratio': 0.552989216430117, 'fit_intercept': True, 'shuffle': True, 'learning_rate': 'adaptive'}. Best is trial 13 with value: 8.192709742017268.\u001b[0m\n",
      "\u001b[32m[I 2022-11-11 06:52:19,466]\u001b[0m Trial 14 finished with value: 8.192269489497356 and parameters: {'loss': 'huber', 'penalty': 'l2', 'alpha': 0.0009975442416597358, 'l1_ratio': 0.500409807528086, 'fit_intercept': True, 'shuffle': True, 'learning_rate': 'adaptive'}. Best is trial 14 with value: 8.192269489497356.\u001b[0m\n"
     ]
    },
    {
     "name": "stdout",
     "output_type": "stream",
     "text": [
      "Number of finished trials:  15\n",
      "Best trial:  {'loss': 'huber', 'penalty': 'l2', 'alpha': 0.0009975442416597358, 'l1_ratio': 0.500409807528086, 'fit_intercept': True, 'shuffle': True, 'learning_rate': 'adaptive'}\n",
      "Best value:  8.192269489497356\n"
     ]
    }
   ],
   "source": [
    "# study_sdg = optuna.create_study(direction='minimize')\n",
    "# study_sdg.optimize(objective_sdg, n_trials=15)\n",
    "# print('Number of finished trials: ', len(study_sdg.trials))\n",
    "# print('Best trial: ', study_sdg.best_trial.params)\n",
    "# print('Best value: ', study_sdg.best_value)"
   ]
  },
  {
   "cell_type": "markdown",
   "metadata": {},
   "source": [
    "##### Обучение модели и проверка метрики кросс-валидацией"
   ]
  },
  {
   "cell_type": "code",
   "execution_count": 37,
   "metadata": {},
   "outputs": [
    {
     "name": "stdout",
     "output_type": "stream",
     "text": [
      "sMape: 8.192269489497356\n"
     ]
    }
   ],
   "source": [
    "regressor_sdg = Pipeline(\n",
    "        steps=[(\"preprocessor\", preprocessor_rougher), (\"sdgregressor\", SGDRegressor(random_state=45, \n",
    "                                                                             loss='huber', \n",
    "                                                                             penalty='l2', \n",
    "                                                                             alpha = 0.0009975442416597358, \n",
    "                                                                             l1_ratio = 0.500409807528086, \n",
    "                                                                             fit_intercept = True, shuffle = True, \n",
    "                                                                             learning_rate = 'adaptive'\n",
    "                                                                            ))]\n",
    "    )\n",
    "regressor_sdg.fit(X_r, y_r)\n",
    "score_sdg = cross_val_score(regressor_sdg, X_r, y_r, cv=3, scoring=sMape_scorer)\n",
    "print('sMape:', score_sdg.mean())"
   ]
  },
  {
   "cell_type": "markdown",
   "metadata": {},
   "source": [
    "##### Вывод"
   ]
  },
  {
   "cell_type": "markdown",
   "metadata": {},
   "source": [
    "Модель `SGDRegressor` показала среднее значение кросс-валидации метрики `sMape` равное **8,2%**"
   ]
  },
  {
   "cell_type": "markdown",
   "metadata": {},
   "source": [
    "#### Модель `Decision Tree`"
   ]
  },
  {
   "cell_type": "markdown",
   "metadata": {},
   "source": [
    "##### Функция подбора гиперпараметров"
   ]
  },
  {
   "cell_type": "code",
   "execution_count": 38,
   "metadata": {},
   "outputs": [],
   "source": [
    "def objective_tree(trial):\n",
    "    regressor_tree = Pipeline(\n",
    "        steps=[(\"preprocessor\", preprocessor_rougher), (\"treeregressor\", DecisionTreeRegressor(random_state=45))]\n",
    "    )\n",
    "    \n",
    "    params = {\n",
    "        'treeregressor__criterion': trial.suggest_categorical('criterion', ['mse', 'friedman_mse', 'mae', 'poisson']),\n",
    "        'treeregressor__splitter': trial.suggest_categorical('splitter', ['best', 'random']),\n",
    "        'treeregressor__max_depth': trial.suggest_int('max_depth', 1, 20),\n",
    "        'treeregressor__min_samples_leaf': trial.suggest_int('min_samples_leaf', 2, 5),\n",
    "        'treeregressor__min_samples_split': trial.suggest_int('min_samples_split', 3, 10),\n",
    "        'treeregressor__max_features': trial.suggest_categorical('max_features', ['auto', 'sqrt', 'log2'])\n",
    "    }\n",
    "    \n",
    "    regressor_tree.set_params(**params)\n",
    "\n",
    "    regressor_tree.fit(X_r, y_r)\n",
    "    \n",
    "    score_smape = cross_val_score(regressor_tree, X_r, y_r, cv=3, scoring=sMape_scorer)\n",
    "    \n",
    "    return score_smape.mean()"
   ]
  },
  {
   "cell_type": "markdown",
   "metadata": {},
   "source": [
    "##### Подбор гиперпараметров"
   ]
  },
  {
   "cell_type": "code",
   "execution_count": 39,
   "metadata": {
    "collapsed": true,
    "jupyter": {
     "outputs_hidden": true
    },
    "tags": []
   },
   "outputs": [
    {
     "name": "stderr",
     "output_type": "stream",
     "text": [
      "\u001b[32m[I 2022-11-11 06:53:38,329]\u001b[0m A new study created in memory with name: no-name-9f56ab95-0e7a-4e08-96ec-ca61ff39f8a0\u001b[0m\n",
      "\u001b[32m[I 2022-11-11 06:53:38,410]\u001b[0m Trial 0 finished with value: 9.826684577860895 and parameters: {'criterion': 'poisson', 'splitter': 'random', 'max_depth': 8, 'min_samples_leaf': 4, 'min_samples_split': 9, 'max_features': 'log2'}. Best is trial 0 with value: 9.826684577860895.\u001b[0m\n",
      "\u001b[32m[I 2022-11-11 06:53:38,618]\u001b[0m Trial 1 finished with value: 9.413216360526032 and parameters: {'criterion': 'friedman_mse', 'splitter': 'best', 'max_depth': 10, 'min_samples_leaf': 5, 'min_samples_split': 6, 'max_features': 'log2'}. Best is trial 1 with value: 9.413216360526032.\u001b[0m\n",
      "\u001b[32m[I 2022-11-11 06:53:38,742]\u001b[0m Trial 2 finished with value: 8.91597295598636 and parameters: {'criterion': 'friedman_mse', 'splitter': 'random', 'max_depth': 12, 'min_samples_leaf': 2, 'min_samples_split': 10, 'max_features': 'auto'}. Best is trial 2 with value: 8.91597295598636.\u001b[0m\n",
      "\u001b[32m[I 2022-11-11 06:53:39,572]\u001b[0m Trial 3 finished with value: 10.483295182170544 and parameters: {'criterion': 'friedman_mse', 'splitter': 'best', 'max_depth': 11, 'min_samples_leaf': 3, 'min_samples_split': 8, 'max_features': 'auto'}. Best is trial 2 with value: 8.91597295598636.\u001b[0m\n",
      "\u001b[32m[I 2022-11-11 06:53:42,083]\u001b[0m Trial 4 finished with value: 9.61943451069716 and parameters: {'criterion': 'mae', 'splitter': 'random', 'max_depth': 18, 'min_samples_leaf': 4, 'min_samples_split': 8, 'max_features': 'log2'}. Best is trial 2 with value: 8.91597295598636.\u001b[0m\n",
      "\u001b[32m[I 2022-11-11 06:53:44,348]\u001b[0m Trial 5 finished with value: 8.531021792713412 and parameters: {'criterion': 'mae', 'splitter': 'random', 'max_depth': 8, 'min_samples_leaf': 3, 'min_samples_split': 6, 'max_features': 'log2'}. Best is trial 5 with value: 8.531021792713412.\u001b[0m\n",
      "\u001b[32m[I 2022-11-11 06:53:44,475]\u001b[0m Trial 6 finished with value: 10.179163362225902 and parameters: {'criterion': 'friedman_mse', 'splitter': 'random', 'max_depth': 12, 'min_samples_leaf': 2, 'min_samples_split': 5, 'max_features': 'auto'}. Best is trial 5 with value: 8.531021792713412.\u001b[0m\n",
      "\u001b[32m[I 2022-11-11 06:53:46,252]\u001b[0m Trial 7 finished with value: 8.43069529801899 and parameters: {'criterion': 'poisson', 'splitter': 'best', 'max_depth': 15, 'min_samples_leaf': 3, 'min_samples_split': 5, 'max_features': 'auto'}. Best is trial 7 with value: 8.43069529801899.\u001b[0m\n",
      "\u001b[32m[I 2022-11-11 06:53:46,572]\u001b[0m Trial 8 finished with value: 9.806682594692052 and parameters: {'criterion': 'friedman_mse', 'splitter': 'best', 'max_depth': 20, 'min_samples_leaf': 4, 'min_samples_split': 5, 'max_features': 'sqrt'}. Best is trial 7 with value: 8.43069529801899.\u001b[0m\n",
      "\u001b[32m[I 2022-11-11 06:53:48,967]\u001b[0m Trial 9 finished with value: 9.949981456709457 and parameters: {'criterion': 'mae', 'splitter': 'random', 'max_depth': 18, 'min_samples_leaf': 2, 'min_samples_split': 9, 'max_features': 'log2'}. Best is trial 7 with value: 8.43069529801899.\u001b[0m\n",
      "\u001b[32m[I 2022-11-11 06:53:49,108]\u001b[0m Trial 10 finished with value: 8.802793542833435 and parameters: {'criterion': 'poisson', 'splitter': 'best', 'max_depth': 3, 'min_samples_leaf': 5, 'min_samples_split': 3, 'max_features': 'sqrt'}. Best is trial 7 with value: 8.43069529801899.\u001b[0m\n",
      "\u001b[32m[I 2022-11-11 06:53:49,580]\u001b[0m Trial 11 finished with value: 8.544123798508098 and parameters: {'criterion': 'mse', 'splitter': 'best', 'max_depth': 5, 'min_samples_leaf': 3, 'min_samples_split': 3, 'max_features': 'auto'}. Best is trial 7 with value: 8.43069529801899.\u001b[0m\n",
      "\u001b[32m[I 2022-11-11 06:53:49,933]\u001b[0m Trial 12 finished with value: 8.847936009775347 and parameters: {'criterion': 'poisson', 'splitter': 'best', 'max_depth': 14, 'min_samples_leaf': 3, 'min_samples_split': 5, 'max_features': 'log2'}. Best is trial 7 with value: 8.43069529801899.\u001b[0m\n",
      "\u001b[32m[I 2022-11-11 06:53:56,174]\u001b[0m Trial 13 finished with value: 8.789271733831447 and parameters: {'criterion': 'mae', 'splitter': 'random', 'max_depth': 7, 'min_samples_leaf': 3, 'min_samples_split': 6, 'max_features': 'auto'}. Best is trial 7 with value: 8.43069529801899.\u001b[0m\n",
      "\u001b[32m[I 2022-11-11 06:53:56,448]\u001b[0m Trial 14 finished with value: 9.013918171275153 and parameters: {'criterion': 'mse', 'splitter': 'best', 'max_depth': 15, 'min_samples_leaf': 3, 'min_samples_split': 4, 'max_features': 'sqrt'}. Best is trial 7 with value: 8.43069529801899.\u001b[0m\n"
     ]
    },
    {
     "name": "stdout",
     "output_type": "stream",
     "text": [
      "Number of finished trials:  15\n",
      "Best trial:  {'criterion': 'poisson', 'splitter': 'best', 'max_depth': 15, 'min_samples_leaf': 3, 'min_samples_split': 5, 'max_features': 'auto'}\n",
      "Best value:  8.43069529801899\n"
     ]
    }
   ],
   "source": [
    "# study_tree = optuna.create_study(direction='minimize')\n",
    "# study_tree.optimize(objective_tree, n_trials=15)\n",
    "# print('Number of finished trials: ', len(study_tree.trials))\n",
    "# print('Best trial: ', study_tree.best_trial.params)\n",
    "# print('Best value: ', study_tree.best_value)"
   ]
  },
  {
   "cell_type": "markdown",
   "metadata": {},
   "source": [
    "##### Обучение модели и проверка метрики кросс-валидацией"
   ]
  },
  {
   "cell_type": "code",
   "execution_count": 40,
   "metadata": {},
   "outputs": [
    {
     "name": "stdout",
     "output_type": "stream",
     "text": [
      "sMape: 8.43069529801899\n"
     ]
    }
   ],
   "source": [
    "regressor_tree = Pipeline(\n",
    "        steps=[(\"preprocessor\", preprocessor_rougher), (\"treeregressor\", DecisionTreeRegressor(random_state=45, \n",
    "                                                                                       criterion= 'poisson', \n",
    "                                                                                       splitter='best', \n",
    "                                                                                       max_depth= 15, \n",
    "                                                                                       min_samples_leaf= 3, \n",
    "                                                                                       min_samples_split= 5, \n",
    "                                                                                       max_features= 'auto'))]\n",
    "    )\n",
    "regressor_tree.fit(X_r, y_r)\n",
    "score_tree = cross_val_score(regressor_tree, X_r, y_r, cv=3, scoring=sMape_scorer)\n",
    "print('sMape:', score_tree.mean())"
   ]
  },
  {
   "cell_type": "markdown",
   "metadata": {},
   "source": [
    "##### Вывод"
   ]
  },
  {
   "cell_type": "markdown",
   "metadata": {},
   "source": [
    "Модель `Desicion Tree` показала среднее значение кросс-валидации метрики `sMape` равное **8,43%**"
   ]
  },
  {
   "cell_type": "markdown",
   "metadata": {},
   "source": [
    "### Целевой признак `final.output.recovery`"
   ]
  },
  {
   "cell_type": "markdown",
   "metadata": {},
   "source": [
    "#### Деление на обучающую и валидационную выборки"
   ]
  },
  {
   "cell_type": "code",
   "execution_count": 41,
   "metadata": {},
   "outputs": [
    {
     "data": {
      "text/plain": [
       "((13725, 52), (13725,))"
      ]
     },
     "execution_count": 41,
     "metadata": {},
     "output_type": "execute_result"
    }
   ],
   "source": [
    "X_f = train_df.drop(['final.output.recovery', 'rougher.output.recovery'], axis=1)\n",
    "y_f = train_df['final.output.recovery']\n",
    "# X_f_train, X_f_valid, y_f_train, y_f_valid = train_test_split(\n",
    "#     X_f, y_f, \n",
    "#     test_size=0.20, \n",
    "#     random_state=45\n",
    "# )\n",
    "X_f.shape, y_f.shape"
   ]
  },
  {
   "cell_type": "markdown",
   "metadata": {},
   "source": [
    "#### Формирование фичей и таргета на тестовых данных"
   ]
  },
  {
   "cell_type": "code",
   "execution_count": 42,
   "metadata": {},
   "outputs": [
    {
     "data": {
      "text/plain": [
       "((5290, 52), (5290,))"
      ]
     },
     "execution_count": 42,
     "metadata": {},
     "output_type": "execute_result"
    }
   ],
   "source": [
    "X_f_test = test_df.drop(['final.output.recovery', 'rougher.output.recovery'], axis=1)\n",
    "y_f_test = test_df['final.output.recovery']\n",
    "X_f_test.shape, y_f_test.shape"
   ]
  },
  {
   "cell_type": "markdown",
   "metadata": {},
   "source": [
    "#### Формирование пайплайна предобработки фичей"
   ]
  },
  {
   "cell_type": "code",
   "execution_count": 43,
   "metadata": {},
   "outputs": [],
   "source": [
    "numeric_features = X_f.columns\n",
    "numeric_transformer = Pipeline(\n",
    "    steps=[(\"scaler\", StandardScaler())]\n",
    ")\n",
    "preprocessor_final = ColumnTransformer(\n",
    "    transformers=[\n",
    "        (\"num\", numeric_transformer, numeric_features)\n",
    "    ]\n",
    ")"
   ]
  },
  {
   "cell_type": "markdown",
   "metadata": {},
   "source": [
    "#### Модель `Random forest`"
   ]
  },
  {
   "cell_type": "code",
   "execution_count": 44,
   "metadata": {},
   "outputs": [],
   "source": [
    "def objective_f_f(trial):\n",
    "    regressor_forest_f = Pipeline(\n",
    "        steps=[(\"preprocessor\", preprocessor_final), (\"regressor\", RandomForestRegressor(random_state=45))]\n",
    "    )\n",
    "    \n",
    "    params = {\n",
    "        'regressor__bootstrap': trial.suggest_categorical('bootstrap', [True, False]),\n",
    "        'regressor__max_depth': trial.suggest_int('max_depth', 1, 20),\n",
    "        'regressor__max_features': trial.suggest_categorical('max_features', ['auto', 'sqrt']),\n",
    "        'regressor__min_samples_leaf': trial.suggest_int('min_samples_leaf', 2, 5),\n",
    "        'regressor__min_samples_split': trial.suggest_int('min_samples_split', 3, 10),\n",
    "        'regressor__n_estimators': trial.suggest_int('n_estimators', 100, 500)\n",
    "    }\n",
    "\n",
    "    regressor_forest_f.set_params(**params)\n",
    "    \n",
    "    regressor_forest_f.fit(X_f, y_f)\n",
    "    \n",
    "    score_smape_f = cross_val_score(regressor_forest_f, X_f, y_f, cv=3, scoring=sMape_scorer)\n",
    "    \n",
    "    return score_smape_f.mean()"
   ]
  },
  {
   "cell_type": "code",
   "execution_count": 45,
   "metadata": {
    "collapsed": true,
    "jupyter": {
     "outputs_hidden": true
    },
    "tags": []
   },
   "outputs": [
    {
     "name": "stderr",
     "output_type": "stream",
     "text": [
      "\u001b[32m[I 2022-11-11 06:55:10,676]\u001b[0m A new study created in memory with name: no-name-f4e45377-b061-4ac6-a86d-0463cd5d4ba2\u001b[0m\n",
      "\u001b[32m[I 2022-11-11 07:05:22,511]\u001b[0m Trial 0 finished with value: 10.722883413534106 and parameters: {'bootstrap': True, 'max_depth': 15, 'max_features': 'auto', 'min_samples_leaf': 2, 'min_samples_split': 3, 'n_estimators': 427}. Best is trial 0 with value: 10.722883413534106.\u001b[0m\n",
      "\u001b[32m[I 2022-11-11 07:08:44,883]\u001b[0m Trial 1 finished with value: 12.914784922368058 and parameters: {'bootstrap': False, 'max_depth': 10, 'max_features': 'auto', 'min_samples_leaf': 2, 'min_samples_split': 7, 'n_estimators': 116}. Best is trial 0 with value: 10.722883413534106.\u001b[0m\n",
      "\u001b[32m[I 2022-11-11 07:14:31,971]\u001b[0m Trial 2 finished with value: 10.779129246440766 and parameters: {'bootstrap': True, 'max_depth': 15, 'max_features': 'auto', 'min_samples_leaf': 2, 'min_samples_split': 6, 'n_estimators': 248}. Best is trial 0 with value: 10.722883413534106.\u001b[0m\n",
      "\u001b[32m[I 2022-11-11 07:15:08,565]\u001b[0m Trial 3 finished with value: 10.462656623489636 and parameters: {'bootstrap': False, 'max_depth': 8, 'max_features': 'sqrt', 'min_samples_leaf': 2, 'min_samples_split': 10, 'n_estimators': 180}. Best is trial 3 with value: 10.462656623489636.\u001b[0m\n",
      "\u001b[32m[I 2022-11-11 07:15:59,578]\u001b[0m Trial 4 finished with value: 10.384629526914798 and parameters: {'bootstrap': True, 'max_depth': 14, 'max_features': 'sqrt', 'min_samples_leaf': 5, 'min_samples_split': 10, 'n_estimators': 273}. Best is trial 4 with value: 10.384629526914798.\u001b[0m\n",
      "\u001b[32m[I 2022-11-11 07:21:48,732]\u001b[0m Trial 5 finished with value: 10.572490101629123 and parameters: {'bootstrap': True, 'max_depth': 12, 'max_features': 'auto', 'min_samples_leaf': 3, 'min_samples_split': 3, 'n_estimators': 293}. Best is trial 4 with value: 10.384629526914798.\u001b[0m\n",
      "\u001b[32m[I 2022-11-11 07:22:36,576]\u001b[0m Trial 6 finished with value: 10.275256894786404 and parameters: {'bootstrap': True, 'max_depth': 10, 'max_features': 'sqrt', 'min_samples_leaf': 5, 'min_samples_split': 6, 'n_estimators': 313}. Best is trial 6 with value: 10.275256894786404.\u001b[0m\n",
      "\u001b[32m[I 2022-11-11 07:27:07,854]\u001b[0m Trial 7 finished with value: 10.65090046193837 and parameters: {'bootstrap': True, 'max_depth': 5, 'max_features': 'auto', 'min_samples_leaf': 5, 'min_samples_split': 4, 'n_estimators': 447}. Best is trial 6 with value: 10.275256894786404.\u001b[0m\n",
      "\u001b[32m[I 2022-11-11 07:27:30,466]\u001b[0m Trial 8 finished with value: 10.332825692385741 and parameters: {'bootstrap': True, 'max_depth': 14, 'max_features': 'sqrt', 'min_samples_leaf': 3, 'min_samples_split': 8, 'n_estimators': 116}. Best is trial 6 with value: 10.275256894786404.\u001b[0m\n",
      "\u001b[32m[I 2022-11-11 07:36:58,268]\u001b[0m Trial 9 finished with value: 11.323526757255385 and parameters: {'bootstrap': False, 'max_depth': 8, 'max_features': 'auto', 'min_samples_leaf': 5, 'min_samples_split': 10, 'n_estimators': 381}. Best is trial 6 with value: 10.275256894786404.\u001b[0m\n"
     ]
    },
    {
     "name": "stdout",
     "output_type": "stream",
     "text": [
      "Number of finished trials:  10\n",
      "Best trial:  {'bootstrap': True, 'max_depth': 10, 'max_features': 'sqrt', 'min_samples_leaf': 5, 'min_samples_split': 6, 'n_estimators': 313}\n",
      "Best value:  10.275256894786404\n"
     ]
    }
   ],
   "source": [
    "# study_forest_f = optuna.create_study(direction='minimize')\n",
    "# study_forest_f.optimize(objective_f_f, n_trials=10)\n",
    "# print('Number of finished trials: ', len(study_forest_f.trials))\n",
    "# print('Best trial: ', study_forest_f.best_trial.params)\n",
    "# print('Best value: ', study_forest_f.best_value)"
   ]
  },
  {
   "cell_type": "code",
   "execution_count": 46,
   "metadata": {},
   "outputs": [
    {
     "name": "stdout",
     "output_type": "stream",
     "text": [
      "sMape: 10.275256894786404\n"
     ]
    }
   ],
   "source": [
    "regressor_forest_f = Pipeline(\n",
    "    steps=[(\"preprocessor\", preprocessor_final), (\"regressor\", RandomForestRegressor(random_state=45, \n",
    "                                                                                           bootstrap = True, \n",
    "                                                                                           max_depth = 10, \n",
    "                                                                                           max_features = 'sqrt', \n",
    "                                                                                           min_samples_leaf = 5, \n",
    "                                                                                           min_samples_split = 6,\n",
    "                                                                                           n_estimators = 313))])\n",
    "regressor_forest_f.fit(X_f, y_f)\n",
    "score_forest_final = cross_val_score(regressor_forest_f, X_f, y_f, cv=3, scoring=sMape_scorer)\n",
    "print('sMape:', score_forest_final.mean())"
   ]
  },
  {
   "cell_type": "markdown",
   "metadata": {},
   "source": [
    "Модель `Random Forest` показала среднее значение кросс-валидации метрики `sMape` равное **10,27%**"
   ]
  },
  {
   "cell_type": "markdown",
   "metadata": {},
   "source": [
    "#### Модель `SGDRegressor`"
   ]
  },
  {
   "cell_type": "code",
   "execution_count": 47,
   "metadata": {},
   "outputs": [],
   "source": [
    "def objective_sdg_f(trial):\n",
    "    regressor_sdg = Pipeline(\n",
    "        steps=[(\"preprocessor\", preprocessor_final), (\"sdgregressor\", SGDRegressor(random_state=45))]\n",
    "    )\n",
    "    \n",
    "    params = {\n",
    "        'sdgregressor__loss': trial.suggest_categorical('loss', ['squared_loss', 'huber', 'epsilon_insensitive', 'squared_epsilon_insensitive']),\n",
    "        'sdgregressor__penalty': trial.suggest_categorical('penalty', ['l2', 'l1', 'elasticnet']),\n",
    "        'sdgregressor__alpha': trial.suggest_float('alpha', 0.0001, 0.001),\n",
    "        'sdgregressor__l1_ratio': trial.suggest_float('l1_ratio', 0, 1),\n",
    "        'sdgregressor__fit_intercept': trial.suggest_categorical('fit_intercept', [True, False]),\n",
    "        'sdgregressor__shuffle': trial.suggest_categorical('shuffle', [True, False]),\n",
    "        'sdgregressor__learning_rate': trial.suggest_categorical('learning_rate', ['constant', 'optimal', 'invscaling', 'adaptive'])\n",
    "    }\n",
    "    \n",
    "    regressor_sdg.set_params(**params)\n",
    "\n",
    "    regressor_sdg.fit(X_f, y_f)\n",
    "    \n",
    "    score_smape_f = cross_val_score(regressor_sdg, X_f, y_f, cv=3, scoring=sMape_scorer)\n",
    "    \n",
    "    return score_smape_f.mean()"
   ]
  },
  {
   "cell_type": "code",
   "execution_count": 48,
   "metadata": {
    "collapsed": true,
    "jupyter": {
     "outputs_hidden": true
    },
    "tags": []
   },
   "outputs": [
    {
     "name": "stderr",
     "output_type": "stream",
     "text": [
      "\u001b[32m[I 2022-11-11 07:41:43,551]\u001b[0m A new study created in memory with name: no-name-6180e09d-8360-42d6-8d70-7c0d10b3945a\u001b[0m\n",
      "\u001b[32m[I 2022-11-11 07:41:44,199]\u001b[0m Trial 0 finished with value: 14.410715495142965 and parameters: {'loss': 'epsilon_insensitive', 'penalty': 'elasticnet', 'alpha': 0.00010038853680127898, 'l1_ratio': 0.14149723797754443, 'fit_intercept': True, 'shuffle': False, 'learning_rate': 'constant'}. Best is trial 0 with value: 14.410715495142965.\u001b[0m\n",
      "\u001b[32m[I 2022-11-11 07:41:45,366]\u001b[0m Trial 1 finished with value: 196.14768650332067 and parameters: {'loss': 'huber', 'penalty': 'elasticnet', 'alpha': 0.0007705496217472391, 'l1_ratio': 0.6527030732888163, 'fit_intercept': False, 'shuffle': False, 'learning_rate': 'adaptive'}. Best is trial 0 with value: 14.410715495142965.\u001b[0m\n",
      "\u001b[32m[I 2022-11-11 07:41:50,842]\u001b[0m Trial 2 finished with value: 12.823913047124561 and parameters: {'loss': 'squared_epsilon_insensitive', 'penalty': 'elasticnet', 'alpha': 0.0008316134318812678, 'l1_ratio': 0.2342243074134609, 'fit_intercept': True, 'shuffle': False, 'learning_rate': 'adaptive'}. Best is trial 2 with value: 12.823913047124561.\u001b[0m\n",
      "\u001b[32m[I 2022-11-11 07:41:51,622]\u001b[0m Trial 3 finished with value: 200.0 and parameters: {'loss': 'huber', 'penalty': 'l1', 'alpha': 0.0004070817308304415, 'l1_ratio': 0.5247171695820095, 'fit_intercept': False, 'shuffle': True, 'learning_rate': 'constant'}. Best is trial 2 with value: 12.823913047124561.\u001b[0m\n",
      "\u001b[32m[I 2022-11-11 07:41:52,244]\u001b[0m Trial 4 finished with value: 17.87702216324193 and parameters: {'loss': 'squared_loss', 'penalty': 'l2', 'alpha': 0.00024310552121578968, 'l1_ratio': 0.4053807839621688, 'fit_intercept': True, 'shuffle': True, 'learning_rate': 'constant'}. Best is trial 2 with value: 12.823913047124561.\u001b[0m\n",
      "\u001b[32m[I 2022-11-11 07:41:52,844]\u001b[0m Trial 5 finished with value: 112.45237813179978 and parameters: {'loss': 'squared_loss', 'penalty': 'elasticnet', 'alpha': 0.0006845324607951354, 'l1_ratio': 0.6229325342662259, 'fit_intercept': False, 'shuffle': False, 'learning_rate': 'invscaling'}. Best is trial 2 with value: 12.823913047124561.\u001b[0m\n",
      "\u001b[32m[I 2022-11-11 07:41:53,692]\u001b[0m Trial 6 finished with value: 13.009009595468834 and parameters: {'loss': 'squared_epsilon_insensitive', 'penalty': 'l2', 'alpha': 0.0008697756317629716, 'l1_ratio': 0.13397128290661386, 'fit_intercept': True, 'shuffle': True, 'learning_rate': 'invscaling'}. Best is trial 2 with value: 12.823913047124561.\u001b[0m\n",
      "\u001b[32m[I 2022-11-11 07:41:54,344]\u001b[0m Trial 7 finished with value: 15.063904786911115 and parameters: {'loss': 'squared_epsilon_insensitive', 'penalty': 'l2', 'alpha': 0.0005403453264271527, 'l1_ratio': 0.7311948652354576, 'fit_intercept': True, 'shuffle': False, 'learning_rate': 'invscaling'}. Best is trial 2 with value: 12.823913047124561.\u001b[0m\n",
      "\u001b[32m[I 2022-11-11 07:41:54,954]\u001b[0m Trial 8 finished with value: 11.356253187868697 and parameters: {'loss': 'huber', 'penalty': 'l2', 'alpha': 0.0009390783338952751, 'l1_ratio': 0.49012476183966214, 'fit_intercept': True, 'shuffle': True, 'learning_rate': 'optimal'}. Best is trial 8 with value: 11.356253187868697.\u001b[0m\n",
      "\u001b[32m[I 2022-11-11 07:42:00,324]\u001b[0m Trial 9 finished with value: 123.62136461406389 and parameters: {'loss': 'squared_epsilon_insensitive', 'penalty': 'elasticnet', 'alpha': 0.00028747246990862713, 'l1_ratio': 0.3870453350322408, 'fit_intercept': False, 'shuffle': False, 'learning_rate': 'adaptive'}. Best is trial 8 with value: 11.356253187868697.\u001b[0m\n",
      "\u001b[32m[I 2022-11-11 07:42:01,138]\u001b[0m Trial 10 finished with value: 10.964249586598148 and parameters: {'loss': 'huber', 'penalty': 'l1', 'alpha': 0.0009739364155871673, 'l1_ratio': 0.8900781158895297, 'fit_intercept': True, 'shuffle': True, 'learning_rate': 'optimal'}. Best is trial 10 with value: 10.964249586598148.\u001b[0m\n",
      "\u001b[32m[I 2022-11-11 07:42:01,865]\u001b[0m Trial 11 finished with value: 10.93366269917155 and parameters: {'loss': 'huber', 'penalty': 'l1', 'alpha': 0.0009920584662731873, 'l1_ratio': 0.9848255506733212, 'fit_intercept': True, 'shuffle': True, 'learning_rate': 'optimal'}. Best is trial 11 with value: 10.93366269917155.\u001b[0m\n",
      "\u001b[32m[I 2022-11-11 07:42:02,564]\u001b[0m Trial 12 finished with value: 10.968136098469627 and parameters: {'loss': 'huber', 'penalty': 'l1', 'alpha': 0.00098756348766846, 'l1_ratio': 0.9891672711235807, 'fit_intercept': True, 'shuffle': True, 'learning_rate': 'optimal'}. Best is trial 11 with value: 10.93366269917155.\u001b[0m\n",
      "\u001b[32m[I 2022-11-11 07:42:03,288]\u001b[0m Trial 13 finished with value: 11.407957571371133 and parameters: {'loss': 'huber', 'penalty': 'l1', 'alpha': 0.0006761629655623407, 'l1_ratio': 0.9615624283342141, 'fit_intercept': True, 'shuffle': True, 'learning_rate': 'optimal'}. Best is trial 11 with value: 10.93366269917155.\u001b[0m\n",
      "\u001b[32m[I 2022-11-11 07:42:04,544]\u001b[0m Trial 14 finished with value: 12.368422254681205 and parameters: {'loss': 'epsilon_insensitive', 'penalty': 'l1', 'alpha': 0.0009742221495457396, 'l1_ratio': 0.8531860066026645, 'fit_intercept': True, 'shuffle': True, 'learning_rate': 'optimal'}. Best is trial 11 with value: 10.93366269917155.\u001b[0m\n"
     ]
    },
    {
     "name": "stdout",
     "output_type": "stream",
     "text": [
      "Number of finished trials:  15\n",
      "Best trial:  {'loss': 'huber', 'penalty': 'l1', 'alpha': 0.0009920584662731873, 'l1_ratio': 0.9848255506733212, 'fit_intercept': True, 'shuffle': True, 'learning_rate': 'optimal'}\n",
      "Best value:  10.93366269917155\n"
     ]
    }
   ],
   "source": [
    "# study_sgd_f = optuna.create_study(direction='minimize')\n",
    "# study_sgd_f.optimize(objective_sdg_f, n_trials=15)\n",
    "# print('Number of finished trials: ', len(study_sgd_f.trials))\n",
    "# print('Best trial: ', study_sgd_f.best_trial.params)\n",
    "# print('Best value: ', study_sgd_f.best_value)"
   ]
  },
  {
   "cell_type": "code",
   "execution_count": 49,
   "metadata": {},
   "outputs": [
    {
     "name": "stdout",
     "output_type": "stream",
     "text": [
      "sMape: 10.93366269917155\n"
     ]
    }
   ],
   "source": [
    "regressor_sdg_f = Pipeline(\n",
    "        steps=[(\"preprocessor\", preprocessor_final), (\"sdgregressor\", SGDRegressor(random_state=45, \n",
    "                                                                             loss='huber', \n",
    "                                                                             penalty='l1', \n",
    "                                                                             alpha = 0.0009920584662731873, \n",
    "                                                                             l1_ratio = 0.9848255506733212, \n",
    "                                                                             fit_intercept = True, shuffle = True, \n",
    "                                                                             learning_rate = 'optimal'\n",
    "                                                                            ))]\n",
    "    )\n",
    "regressor_sdg_f.fit(X_f, y_f)\n",
    "score_sdg_f = cross_val_score(regressor_sdg_f, X_f, y_f, cv=3, scoring=sMape_scorer)\n",
    "print('sMape:', score_sdg_f.mean())"
   ]
  },
  {
   "cell_type": "markdown",
   "metadata": {},
   "source": [
    "Модель `SGDRegressor` на валидационных данных показала средние значение кросс-валидации метрики `sMape` равное **10,93%**"
   ]
  },
  {
   "cell_type": "markdown",
   "metadata": {},
   "source": [
    "#### Модель `Decision tree`"
   ]
  },
  {
   "cell_type": "code",
   "execution_count": 50,
   "metadata": {},
   "outputs": [],
   "source": [
    "def objective_tree_f(trial):\n",
    "    regressor_tree = Pipeline(\n",
    "        steps=[(\"preprocessor\", preprocessor_final), (\"treeregressor\", DecisionTreeRegressor(random_state=45))]\n",
    "    )\n",
    "    \n",
    "    params = {\n",
    "        'treeregressor__criterion': trial.suggest_categorical('criterion', ['mse', 'friedman_mse', 'mae', 'poisson']),\n",
    "        'treeregressor__splitter': trial.suggest_categorical('splitter', ['best', 'random']),\n",
    "        'treeregressor__max_depth': trial.suggest_int('max_depth', 1, 20),\n",
    "        'treeregressor__min_samples_leaf': trial.suggest_int('min_samples_leaf', 2, 5),\n",
    "        'treeregressor__min_samples_split': trial.suggest_int('min_samples_split', 3, 10),\n",
    "        'treeregressor__max_features': trial.suggest_categorical('max_features', ['auto', 'sqrt', 'log2'])\n",
    "    }\n",
    "    \n",
    "    regressor_tree.set_params(**params)\n",
    "\n",
    "    regressor_tree.fit(X_f, y_f)\n",
    "    \n",
    "    score_smape_f = cross_val_score(regressor_tree, X_f, y_f, cv=3, scoring=sMape_scorer)\n",
    "    \n",
    "    return score_smape_f.mean()"
   ]
  },
  {
   "cell_type": "code",
   "execution_count": 51,
   "metadata": {
    "collapsed": true,
    "jupyter": {
     "outputs_hidden": true
    },
    "tags": []
   },
   "outputs": [
    {
     "name": "stderr",
     "output_type": "stream",
     "text": [
      "\u001b[32m[I 2022-11-11 07:44:23,538]\u001b[0m A new study created in memory with name: no-name-0891a43f-c1d2-45c3-9d1a-22d88c60109f\u001b[0m\n",
      "\u001b[32m[I 2022-11-11 07:44:25,908]\u001b[0m Trial 0 finished with value: 13.420108552927227 and parameters: {'criterion': 'friedman_mse', 'splitter': 'best', 'max_depth': 15, 'min_samples_leaf': 5, 'min_samples_split': 8, 'max_features': 'auto'}. Best is trial 0 with value: 13.420108552927227.\u001b[0m\n",
      "\u001b[32m[I 2022-11-11 07:44:38,113]\u001b[0m Trial 1 finished with value: 12.719034118549919 and parameters: {'criterion': 'mae', 'splitter': 'best', 'max_depth': 6, 'min_samples_leaf': 5, 'min_samples_split': 5, 'max_features': 'log2'}. Best is trial 1 with value: 12.719034118549919.\u001b[0m\n",
      "\u001b[32m[I 2022-11-11 07:44:38,443]\u001b[0m Trial 2 finished with value: 18.547329016136384 and parameters: {'criterion': 'mse', 'splitter': 'best', 'max_depth': 14, 'min_samples_leaf': 2, 'min_samples_split': 7, 'max_features': 'log2'}. Best is trial 1 with value: 12.719034118549919.\u001b[0m\n",
      "\u001b[32m[I 2022-11-11 07:44:38,546]\u001b[0m Trial 3 finished with value: 13.099851765792295 and parameters: {'criterion': 'friedman_mse', 'splitter': 'random', 'max_depth': 5, 'min_samples_leaf': 5, 'min_samples_split': 10, 'max_features': 'sqrt'}. Best is trial 1 with value: 12.719034118549919.\u001b[0m\n",
      "\u001b[32m[I 2022-11-11 07:44:38,663]\u001b[0m Trial 4 finished with value: 11.764050476581671 and parameters: {'criterion': 'mse', 'splitter': 'random', 'max_depth': 12, 'min_samples_leaf': 5, 'min_samples_split': 3, 'max_features': 'log2'}. Best is trial 4 with value: 11.764050476581671.\u001b[0m\n",
      "\u001b[32m[I 2022-11-11 07:44:41,302]\u001b[0m Trial 5 finished with value: 15.13239900619717 and parameters: {'criterion': 'mae', 'splitter': 'random', 'max_depth': 11, 'min_samples_leaf': 4, 'min_samples_split': 7, 'max_features': 'log2'}. Best is trial 4 with value: 11.764050476581671.\u001b[0m\n",
      "\u001b[32m[I 2022-11-11 07:44:41,418]\u001b[0m Trial 6 finished with value: 12.724027870960287 and parameters: {'criterion': 'friedman_mse', 'splitter': 'random', 'max_depth': 15, 'min_samples_leaf': 5, 'min_samples_split': 7, 'max_features': 'log2'}. Best is trial 4 with value: 11.764050476581671.\u001b[0m\n",
      "\u001b[32m[I 2022-11-11 07:44:46,323]\u001b[0m Trial 7 finished with value: 11.064629061173157 and parameters: {'criterion': 'poisson', 'splitter': 'best', 'max_depth': 18, 'min_samples_leaf': 3, 'min_samples_split': 9, 'max_features': 'auto'}. Best is trial 7 with value: 11.064629061173157.\u001b[0m\n",
      "\u001b[32m[I 2022-11-11 07:44:48,906]\u001b[0m Trial 8 finished with value: 10.911172215061006 and parameters: {'criterion': 'poisson', 'splitter': 'best', 'max_depth': 9, 'min_samples_leaf': 2, 'min_samples_split': 5, 'max_features': 'auto'}. Best is trial 8 with value: 10.911172215061006.\u001b[0m\n",
      "\u001b[32m[I 2022-11-11 07:45:08,685]\u001b[0m Trial 9 finished with value: 14.591282371818982 and parameters: {'criterion': 'mae', 'splitter': 'random', 'max_depth': 18, 'min_samples_leaf': 2, 'min_samples_split': 6, 'max_features': 'auto'}. Best is trial 8 with value: 10.911172215061006.\u001b[0m\n",
      "\u001b[32m[I 2022-11-11 07:45:08,868]\u001b[0m Trial 10 finished with value: 10.894902129211944 and parameters: {'criterion': 'poisson', 'splitter': 'best', 'max_depth': 2, 'min_samples_leaf': 3, 'min_samples_split': 3, 'max_features': 'sqrt'}. Best is trial 10 with value: 10.894902129211944.\u001b[0m\n",
      "\u001b[32m[I 2022-11-11 07:45:09,013]\u001b[0m Trial 11 finished with value: 10.895271067384627 and parameters: {'criterion': 'poisson', 'splitter': 'best', 'max_depth': 1, 'min_samples_leaf': 3, 'min_samples_split': 3, 'max_features': 'sqrt'}. Best is trial 10 with value: 10.894902129211944.\u001b[0m\n",
      "\u001b[32m[I 2022-11-11 07:45:09,157]\u001b[0m Trial 12 finished with value: 10.895271067384627 and parameters: {'criterion': 'poisson', 'splitter': 'best', 'max_depth': 1, 'min_samples_leaf': 3, 'min_samples_split': 3, 'max_features': 'sqrt'}. Best is trial 10 with value: 10.894902129211944.\u001b[0m\n",
      "\u001b[32m[I 2022-11-11 07:45:09,293]\u001b[0m Trial 13 finished with value: 10.895271067384627 and parameters: {'criterion': 'poisson', 'splitter': 'best', 'max_depth': 1, 'min_samples_leaf': 3, 'min_samples_split': 4, 'max_features': 'sqrt'}. Best is trial 10 with value: 10.894902129211944.\u001b[0m\n",
      "\u001b[32m[I 2022-11-11 07:45:09,554]\u001b[0m Trial 14 finished with value: 10.909047759911472 and parameters: {'criterion': 'poisson', 'splitter': 'best', 'max_depth': 4, 'min_samples_leaf': 4, 'min_samples_split': 4, 'max_features': 'sqrt'}. Best is trial 10 with value: 10.894902129211944.\u001b[0m\n"
     ]
    },
    {
     "name": "stdout",
     "output_type": "stream",
     "text": [
      "Number of finished trials:  15\n",
      "Best trial:  {'criterion': 'poisson', 'splitter': 'best', 'max_depth': 2, 'min_samples_leaf': 3, 'min_samples_split': 3, 'max_features': 'sqrt'}\n",
      "Best value:  10.894902129211944\n"
     ]
    }
   ],
   "source": [
    "# study_tree_f = optuna.create_study(direction='minimize')\n",
    "# study_tree_f.optimize(objective_tree_f, n_trials=15)\n",
    "# print('Number of finished trials: ', len(study_tree_f.trials))\n",
    "# print('Best trial: ', study_tree_f.best_trial.params)\n",
    "# print('Best value: ', study_tree_f.best_value)"
   ]
  },
  {
   "cell_type": "code",
   "execution_count": 52,
   "metadata": {
    "scrolled": true
   },
   "outputs": [
    {
     "name": "stdout",
     "output_type": "stream",
     "text": [
      "sMape: 10.894902129211944\n"
     ]
    }
   ],
   "source": [
    "regressor_tree_f = Pipeline(\n",
    "        steps=[(\"preprocessor\", preprocessor_final), (\"treeregressor\", DecisionTreeRegressor(random_state=45, \n",
    "                                                                                       criterion= 'poisson', \n",
    "                                                                                       splitter='best', \n",
    "                                                                                       max_depth= 2, \n",
    "                                                                                       min_samples_leaf= 3, \n",
    "                                                                                       min_samples_split= 3, \n",
    "                                                                                       max_features= 'sqrt'))]\n",
    "    )\n",
    "regressor_tree_f.fit(X_f, y_f)\n",
    "score_tree_f = cross_val_score(regressor_tree_f, X_f, y_f, cv=3, scoring=sMape_scorer)\n",
    "print('sMape:', score_tree_f.mean())"
   ]
  },
  {
   "cell_type": "markdown",
   "metadata": {},
   "source": [
    "Модель `Decision Tree` показала среднее значение кросс-валидации метрики `sMape` равное **10,89%**"
   ]
  },
  {
   "cell_type": "markdown",
   "metadata": {},
   "source": [
    "### Проверка лучших моделей на тестовой выборке"
   ]
  },
  {
   "cell_type": "markdown",
   "metadata": {},
   "source": [
    "#### Проверка по целевом признаку `rougher.output.recovery`"
   ]
  },
  {
   "cell_type": "code",
   "execution_count": 53,
   "metadata": {},
   "outputs": [
    {
     "name": "stdout",
     "output_type": "stream",
     "text": [
      "sMape на тестовых данных: 7.991626667939876\n"
     ]
    }
   ],
   "source": [
    "y_pred_r = regressor_forest.predict(X_r_test)\n",
    "smape_test_r = smape(y_r_test, y_pred_r)\n",
    "print('sMape на тестовых данных:', smape_test_r)"
   ]
  },
  {
   "cell_type": "markdown",
   "metadata": {},
   "source": [
    "#### Проверка по целевому признаку `final.output.recovery`"
   ]
  },
  {
   "cell_type": "code",
   "execution_count": 54,
   "metadata": {},
   "outputs": [
    {
     "name": "stdout",
     "output_type": "stream",
     "text": [
      "sMape на тестовых данных: 9.04932107800833\n"
     ]
    }
   ],
   "source": [
    "y_pred_f = regressor_forest_f.predict(X_f_test)\n",
    "smape_test_f = smape(y_f_test, y_pred_f)\n",
    "print('sMape на тестовых данных:', smape_test_f)"
   ]
  },
  {
   "cell_type": "markdown",
   "metadata": {},
   "source": [
    "#### Сравнение с константной моделью"
   ]
  },
  {
   "cell_type": "code",
   "execution_count": 57,
   "metadata": {},
   "outputs": [
    {
     "name": "stdout",
     "output_type": "stream",
     "text": [
      "sMape константной модели на тестовых данных для признака rougher.output.recovery: 9.064360592154223\n",
      "sMape константной модели на тестовых данных для признака final.output.recovery: 10.086634972028302\n"
     ]
    }
   ],
   "source": [
    "dummy_reg_r = DummyRegressor()\n",
    "dummy_reg_r.fit(X_r, y_r)\n",
    "y_dummy_r = dummy_reg_r.predict(X_r_test)\n",
    "smape_dummy_r = smape(y_r_test, y_dummy_r)\n",
    "\n",
    "dummy_reg_f = DummyRegressor()\n",
    "dummy_reg_f.fit(X_f, y_f)\n",
    "y_dummy_f = dummy_reg_f.predict(X_f_test)\n",
    "smape_dummy_f = smape(y_f_test, y_dummy_f)\n",
    "\n",
    "print('sMape константной модели на тестовых данных для признака rougher.output.recovery:', smape_dummy_r)\n",
    "print('sMape константной модели на тестовых данных для признака final.output.recovery:', smape_dummy_f)"
   ]
  },
  {
   "cell_type": "markdown",
   "metadata": {},
   "source": [
    "#### Рассчет итогового `sMAPE`"
   ]
  },
  {
   "cell_type": "code",
   "execution_count": 58,
   "metadata": {},
   "outputs": [
    {
     "name": "stdout",
     "output_type": "stream",
     "text": [
      "Итоговое sMape: 8.784897475491217\n"
     ]
    }
   ],
   "source": [
    "final_smape = 0.25*smape_test_r + 0.75*smape_test_f\n",
    "print('Итоговое sMape:', final_smape)"
   ]
  },
  {
   "cell_type": "markdown",
   "metadata": {},
   "source": [
    "## Выводы"
   ]
  },
  {
   "cell_type": "markdown",
   "metadata": {},
   "source": [
    "В ходе исследования было обучено по 3 модели для каждого из двух целевых признаков:\n",
    "\n",
    "* Обучение и валидация\n",
    "    1. Целевой признак `rougher.output.recovery`\n",
    "        * Модель `Random Forest` - `sMape` среднее на кросс-валидации **7,77%**\n",
    "        * Модель `SGDRegressor` - `sMape` среднее на кросс-валидации **8,2%**\n",
    "        * Модель `Decision Tree` - `sMape` среднее на кросс-валидации **8,43%**\n",
    "    2. Целевой признак `final.output.recovery`\n",
    "        * Модель `Random Forest` - `sMape` среднее на кросс-валидации **10,27%**\n",
    "        * Модель `SGDRegressor` - `sMape` среднее на кросс-валидации **10,93%**\n",
    "        * Модель `Decision Tree` - `sMape` среднее на кросс-валидации **10,89%**\n",
    "* Тест\n",
    "    1. Целевой признак `rougher.output.recovery`\n",
    "        * Модель `Random Forest` - `sMape` **7,99%**\n",
    "    2. Целевой признак `final.output.recovery`\n",
    "        * Модель `Random Forest` - `sMape` **9,04%**\n",
    "\n",
    "\n",
    "* Константная модель `DummyRegressor`\n",
    "    1. Целевой признак `rougher.output.recovery` - `sMape` **9,06%**\n",
    "    2. Целевой признак `final.output.recovery` - `sMape` **10,08%**\n",
    "        \n",
    "Итоговое среднее метрики `sMape` равно **8,78%**."
   ]
  }
 ],
 "metadata": {
  "ExecuteTimeLog": [
   {
    "duration": 2380,
    "start_time": "2022-11-10T18:53:59.714Z"
   },
   {
    "duration": 3281,
    "start_time": "2022-11-10T18:54:02.096Z"
   },
   {
    "duration": 744,
    "start_time": "2022-11-10T18:54:05.379Z"
   },
   {
    "duration": 4,
    "start_time": "2022-11-10T18:54:06.125Z"
   },
   {
    "duration": 358,
    "start_time": "2022-11-10T18:54:06.131Z"
   },
   {
    "duration": 149,
    "start_time": "2022-11-10T18:54:06.492Z"
   },
   {
    "duration": 10,
    "start_time": "2022-11-10T18:54:06.643Z"
   },
   {
    "duration": 42,
    "start_time": "2022-11-10T18:54:06.655Z"
   },
   {
    "duration": 184,
    "start_time": "2022-11-10T18:54:06.699Z"
   },
   {
    "duration": 22,
    "start_time": "2022-11-10T18:54:06.885Z"
   },
   {
    "duration": 5,
    "start_time": "2022-11-10T18:54:06.908Z"
   },
   {
    "duration": 23,
    "start_time": "2022-11-10T18:54:06.915Z"
   },
   {
    "duration": 299,
    "start_time": "2022-11-10T18:54:06.944Z"
   },
   {
    "duration": 117,
    "start_time": "2022-11-10T18:54:07.245Z"
   },
   {
    "duration": 12,
    "start_time": "2022-11-10T18:54:07.364Z"
   },
   {
    "duration": 12,
    "start_time": "2022-11-10T18:54:07.378Z"
   },
   {
    "duration": 23,
    "start_time": "2022-11-10T18:54:07.392Z"
   },
   {
    "duration": 45,
    "start_time": "2022-11-10T18:54:07.417Z"
   },
   {
    "duration": 15,
    "start_time": "2022-11-10T18:54:07.464Z"
   },
   {
    "duration": 975,
    "start_time": "2022-11-10T18:54:07.481Z"
   },
   {
    "duration": 1047,
    "start_time": "2022-11-10T18:54:08.458Z"
   },
   {
    "duration": 828,
    "start_time": "2022-11-10T18:54:09.507Z"
   },
   {
    "duration": 15,
    "start_time": "2022-11-10T18:54:10.339Z"
   },
   {
    "duration": 31,
    "start_time": "2022-11-10T18:54:10.355Z"
   },
   {
    "duration": 72,
    "start_time": "2022-11-10T18:54:10.388Z"
   },
   {
    "duration": 8,
    "start_time": "2022-11-10T18:54:10.462Z"
   },
   {
    "duration": 22,
    "start_time": "2022-11-10T18:54:10.472Z"
   },
   {
    "duration": 11,
    "start_time": "2022-11-10T18:54:10.498Z"
   },
   {
    "duration": 3,
    "start_time": "2022-11-10T18:54:10.511Z"
   },
   {
    "duration": 20,
    "start_time": "2022-11-10T18:55:03.175Z"
   },
   {
    "duration": 8,
    "start_time": "2022-11-10T18:55:05.926Z"
   },
   {
    "duration": 12,
    "start_time": "2022-11-10T18:55:31.975Z"
   },
   {
    "duration": 1674,
    "start_time": "2022-11-11T06:38:58.220Z"
   },
   {
    "duration": 12604,
    "start_time": "2022-11-11T06:39:09.449Z"
   },
   {
    "duration": 3,
    "start_time": "2022-11-11T06:39:42.075Z"
   },
   {
    "duration": 289,
    "start_time": "2022-11-11T06:39:45.800Z"
   },
   {
    "duration": 2953,
    "start_time": "2022-11-11T06:39:48.500Z"
   },
   {
    "duration": 3,
    "start_time": "2022-11-11T06:39:51.455Z"
   },
   {
    "duration": 279,
    "start_time": "2022-11-11T06:39:55.081Z"
   },
   {
    "duration": 114,
    "start_time": "2022-11-11T06:39:58.902Z"
   },
   {
    "duration": 10,
    "start_time": "2022-11-11T06:40:00.047Z"
   },
   {
    "duration": 23,
    "start_time": "2022-11-11T06:40:01.598Z"
   },
   {
    "duration": 156,
    "start_time": "2022-11-11T06:40:04.018Z"
   },
   {
    "duration": 30,
    "start_time": "2022-11-11T06:40:05.094Z"
   },
   {
    "duration": 4,
    "start_time": "2022-11-11T06:40:05.979Z"
   },
   {
    "duration": 3,
    "start_time": "2022-11-11T06:40:06.947Z"
   },
   {
    "duration": 280,
    "start_time": "2022-11-11T06:40:08.869Z"
   },
   {
    "duration": 99,
    "start_time": "2022-11-11T06:40:10.015Z"
   },
   {
    "duration": 13,
    "start_time": "2022-11-11T06:40:10.898Z"
   },
   {
    "duration": 4,
    "start_time": "2022-11-11T06:40:11.790Z"
   },
   {
    "duration": 13,
    "start_time": "2022-11-11T06:40:16.314Z"
   },
   {
    "duration": 33,
    "start_time": "2022-11-11T06:40:18.965Z"
   },
   {
    "duration": 17,
    "start_time": "2022-11-11T06:40:20.005Z"
   },
   {
    "duration": 1230,
    "start_time": "2022-11-11T06:40:21.592Z"
   },
   {
    "duration": 1171,
    "start_time": "2022-11-11T06:40:24.546Z"
   },
   {
    "duration": 988,
    "start_time": "2022-11-11T06:40:31.093Z"
   },
   {
    "duration": 11,
    "start_time": "2022-11-11T06:40:35.311Z"
   },
   {
    "duration": 24,
    "start_time": "2022-11-11T06:40:35.859Z"
   },
   {
    "duration": 77,
    "start_time": "2022-11-11T06:40:39.667Z"
   },
   {
    "duration": 4,
    "start_time": "2022-11-11T06:40:41.196Z"
   },
   {
    "duration": 7,
    "start_time": "2022-11-11T06:40:42.868Z"
   },
   {
    "duration": 8,
    "start_time": "2022-11-11T06:40:44.824Z"
   },
   {
    "duration": 4,
    "start_time": "2022-11-11T06:40:46.631Z"
   },
   {
    "duration": 6,
    "start_time": "2022-11-11T06:40:54.935Z"
   },
   {
    "duration": 582040,
    "start_time": "2022-11-11T06:41:03.377Z"
   },
   {
    "duration": 17823,
    "start_time": "2022-11-11T06:51:33.156Z"
   },
   {
    "duration": 6,
    "start_time": "2022-11-11T06:52:00.930Z"
   },
   {
    "duration": 12990,
    "start_time": "2022-11-11T06:52:06.530Z"
   },
   {
    "duration": 674,
    "start_time": "2022-11-11T06:53:12.446Z"
   },
   {
    "duration": 5,
    "start_time": "2022-11-11T06:53:36.911Z"
   },
   {
    "duration": 18132,
    "start_time": "2022-11-11T06:53:38.327Z"
   },
   {
    "duration": 1777,
    "start_time": "2022-11-11T06:54:38.869Z"
   },
   {
    "duration": 8,
    "start_time": "2022-11-11T06:54:54.745Z"
   },
   {
    "duration": 8,
    "start_time": "2022-11-11T06:54:58.975Z"
   },
   {
    "duration": 4,
    "start_time": "2022-11-11T06:55:01.030Z"
   },
   {
    "duration": 5,
    "start_time": "2022-11-11T06:55:08.844Z"
   },
   {
    "duration": 2507600,
    "start_time": "2022-11-11T06:55:10.674Z"
   },
   {
    "duration": 47824,
    "start_time": "2022-11-11T07:38:49.339Z"
   },
   {
    "duration": 6,
    "start_time": "2022-11-11T07:41:37.849Z"
   },
   {
    "duration": 21076,
    "start_time": "2022-11-11T07:41:43.549Z"
   },
   {
    "duration": 570,
    "start_time": "2022-11-11T07:43:09.592Z"
   },
   {
    "duration": 6,
    "start_time": "2022-11-11T07:44:21.983Z"
   },
   {
    "duration": 46024,
    "start_time": "2022-11-11T07:44:23.536Z"
   },
   {
    "duration": 177,
    "start_time": "2022-11-11T07:46:18.376Z"
   },
   {
    "duration": 59,
    "start_time": "2022-11-11T07:50:58.586Z"
   },
   {
    "duration": 125,
    "start_time": "2022-11-11T07:51:41.738Z"
   },
   {
    "duration": 6,
    "start_time": "2022-11-11T07:56:15.823Z"
   },
   {
    "duration": 10,
    "start_time": "2022-11-11T07:58:44.806Z"
   },
   {
    "duration": 11,
    "start_time": "2022-11-11T08:01:08.600Z"
   },
   {
    "duration": 3,
    "start_time": "2022-11-11T08:02:11.590Z"
   }
  ],
  "kernelspec": {
   "display_name": "Python 3 (ipykernel)",
   "language": "python",
   "name": "python3"
  },
  "language_info": {
   "codemirror_mode": {
    "name": "ipython",
    "version": 3
   },
   "file_extension": ".py",
   "mimetype": "text/x-python",
   "name": "python",
   "nbconvert_exporter": "python",
   "pygments_lexer": "ipython3",
   "version": "3.9.7"
  },
  "toc": {
   "base_numbering": 1,
   "nav_menu": {},
   "number_sections": true,
   "sideBar": true,
   "skip_h1_title": true,
   "title_cell": "Содержание",
   "title_sidebar": "Contents",
   "toc_cell": true,
   "toc_position": {
    "height": "calc(100% - 180px)",
    "left": "10px",
    "top": "150px",
    "width": "245px"
   },
   "toc_section_display": true,
   "toc_window_display": false
  },
  "toc-autonumbering": false
 },
 "nbformat": 4,
 "nbformat_minor": 4
}
