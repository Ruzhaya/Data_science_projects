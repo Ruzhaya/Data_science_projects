{
 "cells": [
  {
   "cell_type": "markdown",
   "metadata": {
    "toc": true
   },
   "source": [
    "<h1>Содержание<span class=\"tocSkip\"></span></h1>\n",
    "<div class=\"toc\"><ul class=\"toc-item\"><li><span><a href=\"#Загрузка-и-подготовка-данных\" data-toc-modified-id=\"Загрузка-и-подготовка-данных-1\"><span class=\"toc-item-num\">1&nbsp;&nbsp;</span>Загрузка и подготовка данных</a></span><ul class=\"toc-item\"><li><span><a href=\"#Подключение-библиотек\" data-toc-modified-id=\"Подключение-библиотек-1.1\"><span class=\"toc-item-num\">1.1&nbsp;&nbsp;</span>Подключение библиотек</a></span></li><li><span><a href=\"#Загрузка-данных\" data-toc-modified-id=\"Загрузка-данных-1.2\"><span class=\"toc-item-num\">1.2&nbsp;&nbsp;</span>Загрузка данных</a></span></li><li><span><a href=\"#Функция-для-первичного-анализа-фрейма\" data-toc-modified-id=\"Функция-для-первичного-анализа-фрейма-1.3\"><span class=\"toc-item-num\">1.3&nbsp;&nbsp;</span>Функция для первичного анализа фрейма</a></span></li><li><span><a href=\"#Функция-подготовки-данных\" data-toc-modified-id=\"Функция-подготовки-данных-1.4\"><span class=\"toc-item-num\">1.4&nbsp;&nbsp;</span>Функция подготовки данных</a></span></li><li><span><a href=\"#Первый-регион\" data-toc-modified-id=\"Первый-регион-1.5\"><span class=\"toc-item-num\">1.5&nbsp;&nbsp;</span>Первый регион</a></span><ul class=\"toc-item\"><li><span><a href=\"#Анализ-датафрейма\" data-toc-modified-id=\"Анализ-датафрейма-1.5.1\"><span class=\"toc-item-num\">1.5.1&nbsp;&nbsp;</span>Анализ датафрейма</a></span></li><li><span><a href=\"#Проверка-на-дубликаты\" data-toc-modified-id=\"Проверка-на-дубликаты-1.5.2\"><span class=\"toc-item-num\">1.5.2&nbsp;&nbsp;</span>Проверка на дубликаты</a></span></li><li><span><a href=\"#Подготовка-данных\" data-toc-modified-id=\"Подготовка-данных-1.5.3\"><span class=\"toc-item-num\">1.5.3&nbsp;&nbsp;</span>Подготовка данных</a></span></li></ul></li><li><span><a href=\"#Второй-регион\" data-toc-modified-id=\"Второй-регион-1.6\"><span class=\"toc-item-num\">1.6&nbsp;&nbsp;</span>Второй регион</a></span><ul class=\"toc-item\"><li><span><a href=\"#Анализ-датафрейма\" data-toc-modified-id=\"Анализ-датафрейма-1.6.1\"><span class=\"toc-item-num\">1.6.1&nbsp;&nbsp;</span>Анализ датафрейма</a></span></li><li><span><a href=\"#Проверка-на-дубликаты\" data-toc-modified-id=\"Проверка-на-дубликаты-1.6.2\"><span class=\"toc-item-num\">1.6.2&nbsp;&nbsp;</span>Проверка на дубликаты</a></span></li><li><span><a href=\"#Подготовка-данных\" data-toc-modified-id=\"Подготовка-данных-1.6.3\"><span class=\"toc-item-num\">1.6.3&nbsp;&nbsp;</span>Подготовка данных</a></span></li></ul></li><li><span><a href=\"#Третий-регион\" data-toc-modified-id=\"Третий-регион-1.7\"><span class=\"toc-item-num\">1.7&nbsp;&nbsp;</span>Третий регион</a></span><ul class=\"toc-item\"><li><span><a href=\"#Анализ-датафрейма\" data-toc-modified-id=\"Анализ-датафрейма-1.7.1\"><span class=\"toc-item-num\">1.7.1&nbsp;&nbsp;</span>Анализ датафрейма</a></span></li><li><span><a href=\"#Проверка-на-дубликаты\" data-toc-modified-id=\"Проверка-на-дубликаты-1.7.2\"><span class=\"toc-item-num\">1.7.2&nbsp;&nbsp;</span>Проверка на дубликаты</a></span></li><li><span><a href=\"#Подготовка-данных\" data-toc-modified-id=\"Подготовка-данных-1.7.3\"><span class=\"toc-item-num\">1.7.3&nbsp;&nbsp;</span>Подготовка данных</a></span></li></ul></li></ul></li><li><span><a href=\"#Обучение-и-проверка-модели\" data-toc-modified-id=\"Обучение-и-проверка-модели-2\"><span class=\"toc-item-num\">2&nbsp;&nbsp;</span>Обучение и проверка модели</a></span><ul class=\"toc-item\"><li><span><a href=\"#Функция-рассчета-RMSE-и-среднего-запаса-сырья\" data-toc-modified-id=\"Функция-рассчета-RMSE-и-среднего-запаса-сырья-2.1\"><span class=\"toc-item-num\">2.1&nbsp;&nbsp;</span>Функция рассчета <code>RMSE</code> и среднего запаса сырья</a></span></li><li><span><a href=\"#Первый-регион\" data-toc-modified-id=\"Первый-регион-2.2\"><span class=\"toc-item-num\">2.2&nbsp;&nbsp;</span>Первый регион</a></span></li><li><span><a href=\"#Второй-регион\" data-toc-modified-id=\"Второй-регион-2.3\"><span class=\"toc-item-num\">2.3&nbsp;&nbsp;</span>Второй регион</a></span></li><li><span><a href=\"#Третий-регион\" data-toc-modified-id=\"Третий-регион-2.4\"><span class=\"toc-item-num\">2.4&nbsp;&nbsp;</span>Третий регион</a></span></li><li><span><a href=\"#Вывод\" data-toc-modified-id=\"Вывод-2.5\"><span class=\"toc-item-num\">2.5&nbsp;&nbsp;</span>Вывод</a></span></li></ul></li><li><span><a href=\"#Подготовка-к-расчёту-прибыли\" data-toc-modified-id=\"Подготовка-к-расчёту-прибыли-3\"><span class=\"toc-item-num\">3&nbsp;&nbsp;</span>Подготовка к расчёту прибыли</a></span><ul class=\"toc-item\"><li><span><a href=\"#Ключевые-константы-для-рассчетов\" data-toc-modified-id=\"Ключевые-константы-для-рассчетов-3.1\"><span class=\"toc-item-num\">3.1&nbsp;&nbsp;</span>Ключевые константы для рассчетов</a></span></li><li><span><a href=\"#Функция-рассчета-прибыли\" data-toc-modified-id=\"Функция-рассчета-прибыли-3.2\"><span class=\"toc-item-num\">3.2&nbsp;&nbsp;</span>Функция рассчета прибыли</a></span></li><li><span><a href=\"#Функция-рассчета-прибыли-и-вероятности-убытков\" data-toc-modified-id=\"Функция-рассчета-прибыли-и-вероятности-убытков-3.3\"><span class=\"toc-item-num\">3.3&nbsp;&nbsp;</span>Функция рассчета прибыли и вероятности убытков</a></span></li><li><span><a href=\"#Вывод\" data-toc-modified-id=\"Вывод-3.4\"><span class=\"toc-item-num\">3.4&nbsp;&nbsp;</span>Вывод</a></span></li></ul></li><li><span><a href=\"#Расчёт-прибыли-и-рисков\" data-toc-modified-id=\"Расчёт-прибыли-и-рисков-4\"><span class=\"toc-item-num\">4&nbsp;&nbsp;</span>Расчёт прибыли и рисков</a></span></li><li><span><a href=\"#Выводы\" data-toc-modified-id=\"Выводы-5\"><span class=\"toc-item-num\">5&nbsp;&nbsp;</span>Выводы</a></span></li><li><span><a href=\"#Чек-лист-готовности-проекта\" data-toc-modified-id=\"Чек-лист-готовности-проекта-6\"><span class=\"toc-item-num\">6&nbsp;&nbsp;</span>Чек-лист готовности проекта</a></span></li></ul></div>"
   ]
  },
  {
   "cell_type": "markdown",
   "metadata": {},
   "source": [
    "# Выбор локации для скважины"
   ]
  },
  {
   "cell_type": "markdown",
   "metadata": {},
   "source": [
    "Необходимо построить модель машинного обучения, которая поможет определить регион, где добыча принесёт наибольшую прибыль. Для анализа предоставлены пробы нефти в трёх регионах: в каждом 10 000 месторождений, где измерили качество нефти и объём её запасов. \n",
    "\n",
    "Шаги для выбора локации:\n",
    "\n",
    "- В избранном регионе ищут месторождения, для каждого определяют значения признаков;\n",
    "- Строят модель и оценивают объём запасов;\n",
    "- Выбирают месторождения с самым высокими оценками значений. Количество месторождений зависит от бюджета компании и стоимости разработки одной скважины;\n",
    "- Прибыль равна суммарной прибыли отобранных месторождений.\n",
    "\n",
    "# Описание данных\n",
    "\n",
    "1. Data Frame `geo_data_0`\n",
    "    * id — уникальный идентификатор скважины;\n",
    "    * f0, f1, f2 — три признака точек (неважно, что они означают, но сами признаки значимы);\n",
    "    * product — объём запасов в скважине (тыс. баррелей)\n",
    "2. Data Frame `geo_data_1`\n",
    "    * id — уникальный идентификатор скважины;\n",
    "    * f0, f1, f2 — три признака точек (неважно, что они означают, но сами признаки значимы);\n",
    "    * product — объём запасов в скважине (тыс. баррелей)\n",
    "3. Data Frame `geo_data_2`\n",
    "    * id — уникальный идентификатор скважины;\n",
    "    * f0, f1, f2 — три признака точек (неважно, что они означают, но сами признаки значимы);\n",
    "    * product — объём запасов в скважине (тыс. баррелей)"
   ]
  },
  {
   "cell_type": "markdown",
   "metadata": {},
   "source": [
    "## Загрузка и подготовка данных"
   ]
  },
  {
   "cell_type": "markdown",
   "metadata": {},
   "source": [
    "### Подключение библиотек"
   ]
  },
  {
   "cell_type": "code",
   "execution_count": 1,
   "metadata": {},
   "outputs": [],
   "source": [
    "import pandas as pd\n",
    "import numpy as np\n",
    "\n",
    "from sklearn.model_selection import train_test_split\n",
    "from sklearn.preprocessing import StandardScaler\n",
    "from sklearn.linear_model import LinearRegression\n",
    "from sklearn.metrics import mean_squared_error"
   ]
  },
  {
   "cell_type": "markdown",
   "metadata": {},
   "source": [
    "### Загрузка данных"
   ]
  },
  {
   "cell_type": "code",
   "execution_count": 2,
   "metadata": {},
   "outputs": [],
   "source": [
    "try:\n",
    "    df_0 = pd.read_csv('geo_data_0.csv')\n",
    "    df_1 = pd.read_csv('geo_data_1.csv')\n",
    "    df_2 = pd.read_csv('geo_data_2.csv')\n",
    "except:\n",
    "    df_0 = pd.read_csv('/datasets/geo_data_0.csv')\n",
    "    df_1 = pd.read_csv('/datasets/geo_data_1.csv')\n",
    "    df_2 = pd.read_csv('/datasets/geo_data_2.csv')"
   ]
  },
  {
   "cell_type": "markdown",
   "metadata": {},
   "source": [
    "### Функция для первичного анализа фрейма"
   ]
  },
  {
   "cell_type": "code",
   "execution_count": 3,
   "metadata": {},
   "outputs": [],
   "source": [
    "def data_info(data):\n",
    "    data.info()\n",
    "    print('')\n",
    "    print('*'*50)\n",
    "    display(data.head())\n",
    "    print('')\n",
    "    print('*'*50)\n",
    "    display(data.describe())"
   ]
  },
  {
   "cell_type": "markdown",
   "metadata": {},
   "source": [
    "### Функция подготовки данных"
   ]
  },
  {
   "cell_type": "code",
   "execution_count": 4,
   "metadata": {},
   "outputs": [],
   "source": [
    "def X_y(df):\n",
    "    features = df[['f0', 'f1', 'f2']]\n",
    "    target = df['product']\n",
    "    features_train, features_valid, target_train, target_valid = train_test_split(\n",
    "    features, target, test_size=0.25, random_state=12345)\n",
    "    scaler = StandardScaler()\n",
    "    scaler.fit(features_train)\n",
    "    features_train = scaler.transform(features_train)\n",
    "    features_valid = scaler.transform(features_valid)\n",
    "    return features_train, features_valid, target_train, target_valid"
   ]
  },
  {
   "cell_type": "markdown",
   "metadata": {},
   "source": [
    "### Первый регион"
   ]
  },
  {
   "cell_type": "markdown",
   "metadata": {},
   "source": [
    "#### Анализ датафрейма"
   ]
  },
  {
   "cell_type": "code",
   "execution_count": 5,
   "metadata": {},
   "outputs": [
    {
     "name": "stdout",
     "output_type": "stream",
     "text": [
      "<class 'pandas.core.frame.DataFrame'>\n",
      "RangeIndex: 100000 entries, 0 to 99999\n",
      "Data columns (total 5 columns):\n",
      " #   Column   Non-Null Count   Dtype  \n",
      "---  ------   --------------   -----  \n",
      " 0   id       100000 non-null  object \n",
      " 1   f0       100000 non-null  float64\n",
      " 2   f1       100000 non-null  float64\n",
      " 3   f2       100000 non-null  float64\n",
      " 4   product  100000 non-null  float64\n",
      "dtypes: float64(4), object(1)\n",
      "memory usage: 3.8+ MB\n",
      "\n",
      "**************************************************\n"
     ]
    },
    {
     "data": {
      "text/html": [
       "<div>\n",
       "<style scoped>\n",
       "    .dataframe tbody tr th:only-of-type {\n",
       "        vertical-align: middle;\n",
       "    }\n",
       "\n",
       "    .dataframe tbody tr th {\n",
       "        vertical-align: top;\n",
       "    }\n",
       "\n",
       "    .dataframe thead th {\n",
       "        text-align: right;\n",
       "    }\n",
       "</style>\n",
       "<table border=\"1\" class=\"dataframe\">\n",
       "  <thead>\n",
       "    <tr style=\"text-align: right;\">\n",
       "      <th></th>\n",
       "      <th>id</th>\n",
       "      <th>f0</th>\n",
       "      <th>f1</th>\n",
       "      <th>f2</th>\n",
       "      <th>product</th>\n",
       "    </tr>\n",
       "  </thead>\n",
       "  <tbody>\n",
       "    <tr>\n",
       "      <th>0</th>\n",
       "      <td>txEyH</td>\n",
       "      <td>0.705745</td>\n",
       "      <td>-0.497823</td>\n",
       "      <td>1.221170</td>\n",
       "      <td>105.280062</td>\n",
       "    </tr>\n",
       "    <tr>\n",
       "      <th>1</th>\n",
       "      <td>2acmU</td>\n",
       "      <td>1.334711</td>\n",
       "      <td>-0.340164</td>\n",
       "      <td>4.365080</td>\n",
       "      <td>73.037750</td>\n",
       "    </tr>\n",
       "    <tr>\n",
       "      <th>2</th>\n",
       "      <td>409Wp</td>\n",
       "      <td>1.022732</td>\n",
       "      <td>0.151990</td>\n",
       "      <td>1.419926</td>\n",
       "      <td>85.265647</td>\n",
       "    </tr>\n",
       "    <tr>\n",
       "      <th>3</th>\n",
       "      <td>iJLyR</td>\n",
       "      <td>-0.032172</td>\n",
       "      <td>0.139033</td>\n",
       "      <td>2.978566</td>\n",
       "      <td>168.620776</td>\n",
       "    </tr>\n",
       "    <tr>\n",
       "      <th>4</th>\n",
       "      <td>Xdl7t</td>\n",
       "      <td>1.988431</td>\n",
       "      <td>0.155413</td>\n",
       "      <td>4.751769</td>\n",
       "      <td>154.036647</td>\n",
       "    </tr>\n",
       "  </tbody>\n",
       "</table>\n",
       "</div>"
      ],
      "text/plain": [
       "      id        f0        f1        f2     product\n",
       "0  txEyH  0.705745 -0.497823  1.221170  105.280062\n",
       "1  2acmU  1.334711 -0.340164  4.365080   73.037750\n",
       "2  409Wp  1.022732  0.151990  1.419926   85.265647\n",
       "3  iJLyR -0.032172  0.139033  2.978566  168.620776\n",
       "4  Xdl7t  1.988431  0.155413  4.751769  154.036647"
      ]
     },
     "metadata": {},
     "output_type": "display_data"
    },
    {
     "name": "stdout",
     "output_type": "stream",
     "text": [
      "\n",
      "**************************************************\n"
     ]
    },
    {
     "data": {
      "text/html": [
       "<div>\n",
       "<style scoped>\n",
       "    .dataframe tbody tr th:only-of-type {\n",
       "        vertical-align: middle;\n",
       "    }\n",
       "\n",
       "    .dataframe tbody tr th {\n",
       "        vertical-align: top;\n",
       "    }\n",
       "\n",
       "    .dataframe thead th {\n",
       "        text-align: right;\n",
       "    }\n",
       "</style>\n",
       "<table border=\"1\" class=\"dataframe\">\n",
       "  <thead>\n",
       "    <tr style=\"text-align: right;\">\n",
       "      <th></th>\n",
       "      <th>f0</th>\n",
       "      <th>f1</th>\n",
       "      <th>f2</th>\n",
       "      <th>product</th>\n",
       "    </tr>\n",
       "  </thead>\n",
       "  <tbody>\n",
       "    <tr>\n",
       "      <th>count</th>\n",
       "      <td>100000.000000</td>\n",
       "      <td>100000.000000</td>\n",
       "      <td>100000.000000</td>\n",
       "      <td>100000.000000</td>\n",
       "    </tr>\n",
       "    <tr>\n",
       "      <th>mean</th>\n",
       "      <td>0.500419</td>\n",
       "      <td>0.250143</td>\n",
       "      <td>2.502647</td>\n",
       "      <td>92.500000</td>\n",
       "    </tr>\n",
       "    <tr>\n",
       "      <th>std</th>\n",
       "      <td>0.871832</td>\n",
       "      <td>0.504433</td>\n",
       "      <td>3.248248</td>\n",
       "      <td>44.288691</td>\n",
       "    </tr>\n",
       "    <tr>\n",
       "      <th>min</th>\n",
       "      <td>-1.408605</td>\n",
       "      <td>-0.848218</td>\n",
       "      <td>-12.088328</td>\n",
       "      <td>0.000000</td>\n",
       "    </tr>\n",
       "    <tr>\n",
       "      <th>25%</th>\n",
       "      <td>-0.072580</td>\n",
       "      <td>-0.200881</td>\n",
       "      <td>0.287748</td>\n",
       "      <td>56.497507</td>\n",
       "    </tr>\n",
       "    <tr>\n",
       "      <th>50%</th>\n",
       "      <td>0.502360</td>\n",
       "      <td>0.250252</td>\n",
       "      <td>2.515969</td>\n",
       "      <td>91.849972</td>\n",
       "    </tr>\n",
       "    <tr>\n",
       "      <th>75%</th>\n",
       "      <td>1.073581</td>\n",
       "      <td>0.700646</td>\n",
       "      <td>4.715088</td>\n",
       "      <td>128.564089</td>\n",
       "    </tr>\n",
       "    <tr>\n",
       "      <th>max</th>\n",
       "      <td>2.362331</td>\n",
       "      <td>1.343769</td>\n",
       "      <td>16.003790</td>\n",
       "      <td>185.364347</td>\n",
       "    </tr>\n",
       "  </tbody>\n",
       "</table>\n",
       "</div>"
      ],
      "text/plain": [
       "                  f0             f1             f2        product\n",
       "count  100000.000000  100000.000000  100000.000000  100000.000000\n",
       "mean        0.500419       0.250143       2.502647      92.500000\n",
       "std         0.871832       0.504433       3.248248      44.288691\n",
       "min        -1.408605      -0.848218     -12.088328       0.000000\n",
       "25%        -0.072580      -0.200881       0.287748      56.497507\n",
       "50%         0.502360       0.250252       2.515969      91.849972\n",
       "75%         1.073581       0.700646       4.715088     128.564089\n",
       "max         2.362331       1.343769      16.003790     185.364347"
      ]
     },
     "metadata": {},
     "output_type": "display_data"
    }
   ],
   "source": [
    "data_info(df_0)"
   ]
  },
  {
   "cell_type": "markdown",
   "metadata": {},
   "source": [
    "#### Проверка на дубликаты"
   ]
  },
  {
   "cell_type": "code",
   "execution_count": 6,
   "metadata": {},
   "outputs": [
    {
     "data": {
      "text/plain": [
       "0"
      ]
     },
     "execution_count": 6,
     "metadata": {},
     "output_type": "execute_result"
    }
   ],
   "source": [
    "df_0.duplicated().sum()"
   ]
  },
  {
   "cell_type": "markdown",
   "metadata": {},
   "source": [
    "#### Подготовка данных"
   ]
  },
  {
   "cell_type": "code",
   "execution_count": 7,
   "metadata": {},
   "outputs": [],
   "source": [
    "(features_train_0, \n",
    "features_valid_0, \n",
    " target_train_0, \n",
    " target_valid_0) = X_y(df_0)"
   ]
  },
  {
   "cell_type": "markdown",
   "metadata": {},
   "source": [
    "### Второй регион"
   ]
  },
  {
   "cell_type": "markdown",
   "metadata": {},
   "source": [
    "#### Анализ датафрейма"
   ]
  },
  {
   "cell_type": "code",
   "execution_count": 8,
   "metadata": {},
   "outputs": [
    {
     "name": "stdout",
     "output_type": "stream",
     "text": [
      "<class 'pandas.core.frame.DataFrame'>\n",
      "RangeIndex: 100000 entries, 0 to 99999\n",
      "Data columns (total 5 columns):\n",
      " #   Column   Non-Null Count   Dtype  \n",
      "---  ------   --------------   -----  \n",
      " 0   id       100000 non-null  object \n",
      " 1   f0       100000 non-null  float64\n",
      " 2   f1       100000 non-null  float64\n",
      " 3   f2       100000 non-null  float64\n",
      " 4   product  100000 non-null  float64\n",
      "dtypes: float64(4), object(1)\n",
      "memory usage: 3.8+ MB\n",
      "\n",
      "**************************************************\n"
     ]
    },
    {
     "data": {
      "text/html": [
       "<div>\n",
       "<style scoped>\n",
       "    .dataframe tbody tr th:only-of-type {\n",
       "        vertical-align: middle;\n",
       "    }\n",
       "\n",
       "    .dataframe tbody tr th {\n",
       "        vertical-align: top;\n",
       "    }\n",
       "\n",
       "    .dataframe thead th {\n",
       "        text-align: right;\n",
       "    }\n",
       "</style>\n",
       "<table border=\"1\" class=\"dataframe\">\n",
       "  <thead>\n",
       "    <tr style=\"text-align: right;\">\n",
       "      <th></th>\n",
       "      <th>id</th>\n",
       "      <th>f0</th>\n",
       "      <th>f1</th>\n",
       "      <th>f2</th>\n",
       "      <th>product</th>\n",
       "    </tr>\n",
       "  </thead>\n",
       "  <tbody>\n",
       "    <tr>\n",
       "      <th>0</th>\n",
       "      <td>kBEdx</td>\n",
       "      <td>-15.001348</td>\n",
       "      <td>-8.276000</td>\n",
       "      <td>-0.005876</td>\n",
       "      <td>3.179103</td>\n",
       "    </tr>\n",
       "    <tr>\n",
       "      <th>1</th>\n",
       "      <td>62mP7</td>\n",
       "      <td>14.272088</td>\n",
       "      <td>-3.475083</td>\n",
       "      <td>0.999183</td>\n",
       "      <td>26.953261</td>\n",
       "    </tr>\n",
       "    <tr>\n",
       "      <th>2</th>\n",
       "      <td>vyE1P</td>\n",
       "      <td>6.263187</td>\n",
       "      <td>-5.948386</td>\n",
       "      <td>5.001160</td>\n",
       "      <td>134.766305</td>\n",
       "    </tr>\n",
       "    <tr>\n",
       "      <th>3</th>\n",
       "      <td>KcrkZ</td>\n",
       "      <td>-13.081196</td>\n",
       "      <td>-11.506057</td>\n",
       "      <td>4.999415</td>\n",
       "      <td>137.945408</td>\n",
       "    </tr>\n",
       "    <tr>\n",
       "      <th>4</th>\n",
       "      <td>AHL4O</td>\n",
       "      <td>12.702195</td>\n",
       "      <td>-8.147433</td>\n",
       "      <td>5.004363</td>\n",
       "      <td>134.766305</td>\n",
       "    </tr>\n",
       "  </tbody>\n",
       "</table>\n",
       "</div>"
      ],
      "text/plain": [
       "      id         f0         f1        f2     product\n",
       "0  kBEdx -15.001348  -8.276000 -0.005876    3.179103\n",
       "1  62mP7  14.272088  -3.475083  0.999183   26.953261\n",
       "2  vyE1P   6.263187  -5.948386  5.001160  134.766305\n",
       "3  KcrkZ -13.081196 -11.506057  4.999415  137.945408\n",
       "4  AHL4O  12.702195  -8.147433  5.004363  134.766305"
      ]
     },
     "metadata": {},
     "output_type": "display_data"
    },
    {
     "name": "stdout",
     "output_type": "stream",
     "text": [
      "\n",
      "**************************************************\n"
     ]
    },
    {
     "data": {
      "text/html": [
       "<div>\n",
       "<style scoped>\n",
       "    .dataframe tbody tr th:only-of-type {\n",
       "        vertical-align: middle;\n",
       "    }\n",
       "\n",
       "    .dataframe tbody tr th {\n",
       "        vertical-align: top;\n",
       "    }\n",
       "\n",
       "    .dataframe thead th {\n",
       "        text-align: right;\n",
       "    }\n",
       "</style>\n",
       "<table border=\"1\" class=\"dataframe\">\n",
       "  <thead>\n",
       "    <tr style=\"text-align: right;\">\n",
       "      <th></th>\n",
       "      <th>f0</th>\n",
       "      <th>f1</th>\n",
       "      <th>f2</th>\n",
       "      <th>product</th>\n",
       "    </tr>\n",
       "  </thead>\n",
       "  <tbody>\n",
       "    <tr>\n",
       "      <th>count</th>\n",
       "      <td>100000.000000</td>\n",
       "      <td>100000.000000</td>\n",
       "      <td>100000.000000</td>\n",
       "      <td>100000.000000</td>\n",
       "    </tr>\n",
       "    <tr>\n",
       "      <th>mean</th>\n",
       "      <td>1.141296</td>\n",
       "      <td>-4.796579</td>\n",
       "      <td>2.494541</td>\n",
       "      <td>68.825000</td>\n",
       "    </tr>\n",
       "    <tr>\n",
       "      <th>std</th>\n",
       "      <td>8.965932</td>\n",
       "      <td>5.119872</td>\n",
       "      <td>1.703572</td>\n",
       "      <td>45.944423</td>\n",
       "    </tr>\n",
       "    <tr>\n",
       "      <th>min</th>\n",
       "      <td>-31.609576</td>\n",
       "      <td>-26.358598</td>\n",
       "      <td>-0.018144</td>\n",
       "      <td>0.000000</td>\n",
       "    </tr>\n",
       "    <tr>\n",
       "      <th>25%</th>\n",
       "      <td>-6.298551</td>\n",
       "      <td>-8.267985</td>\n",
       "      <td>1.000021</td>\n",
       "      <td>26.953261</td>\n",
       "    </tr>\n",
       "    <tr>\n",
       "      <th>50%</th>\n",
       "      <td>1.153055</td>\n",
       "      <td>-4.813172</td>\n",
       "      <td>2.011479</td>\n",
       "      <td>57.085625</td>\n",
       "    </tr>\n",
       "    <tr>\n",
       "      <th>75%</th>\n",
       "      <td>8.621015</td>\n",
       "      <td>-1.332816</td>\n",
       "      <td>3.999904</td>\n",
       "      <td>107.813044</td>\n",
       "    </tr>\n",
       "    <tr>\n",
       "      <th>max</th>\n",
       "      <td>29.421755</td>\n",
       "      <td>18.734063</td>\n",
       "      <td>5.019721</td>\n",
       "      <td>137.945408</td>\n",
       "    </tr>\n",
       "  </tbody>\n",
       "</table>\n",
       "</div>"
      ],
      "text/plain": [
       "                  f0             f1             f2        product\n",
       "count  100000.000000  100000.000000  100000.000000  100000.000000\n",
       "mean        1.141296      -4.796579       2.494541      68.825000\n",
       "std         8.965932       5.119872       1.703572      45.944423\n",
       "min       -31.609576     -26.358598      -0.018144       0.000000\n",
       "25%        -6.298551      -8.267985       1.000021      26.953261\n",
       "50%         1.153055      -4.813172       2.011479      57.085625\n",
       "75%         8.621015      -1.332816       3.999904     107.813044\n",
       "max        29.421755      18.734063       5.019721     137.945408"
      ]
     },
     "metadata": {},
     "output_type": "display_data"
    }
   ],
   "source": [
    "data_info(df_1)"
   ]
  },
  {
   "cell_type": "markdown",
   "metadata": {},
   "source": [
    "#### Проверка на дубликаты"
   ]
  },
  {
   "cell_type": "code",
   "execution_count": 9,
   "metadata": {},
   "outputs": [
    {
     "data": {
      "text/plain": [
       "0"
      ]
     },
     "execution_count": 9,
     "metadata": {},
     "output_type": "execute_result"
    }
   ],
   "source": [
    "df_1.duplicated().sum()"
   ]
  },
  {
   "cell_type": "markdown",
   "metadata": {},
   "source": [
    "#### Подготовка данных"
   ]
  },
  {
   "cell_type": "code",
   "execution_count": 10,
   "metadata": {},
   "outputs": [],
   "source": [
    "(features_train_1, \n",
    "features_valid_1, \n",
    " target_train_1, \n",
    " target_valid_1) = X_y(df_1)"
   ]
  },
  {
   "cell_type": "markdown",
   "metadata": {},
   "source": [
    "### Третий регион"
   ]
  },
  {
   "cell_type": "markdown",
   "metadata": {},
   "source": [
    "#### Анализ датафрейма"
   ]
  },
  {
   "cell_type": "code",
   "execution_count": 11,
   "metadata": {},
   "outputs": [
    {
     "name": "stdout",
     "output_type": "stream",
     "text": [
      "<class 'pandas.core.frame.DataFrame'>\n",
      "RangeIndex: 100000 entries, 0 to 99999\n",
      "Data columns (total 5 columns):\n",
      " #   Column   Non-Null Count   Dtype  \n",
      "---  ------   --------------   -----  \n",
      " 0   id       100000 non-null  object \n",
      " 1   f0       100000 non-null  float64\n",
      " 2   f1       100000 non-null  float64\n",
      " 3   f2       100000 non-null  float64\n",
      " 4   product  100000 non-null  float64\n",
      "dtypes: float64(4), object(1)\n",
      "memory usage: 3.8+ MB\n",
      "\n",
      "**************************************************\n"
     ]
    },
    {
     "data": {
      "text/html": [
       "<div>\n",
       "<style scoped>\n",
       "    .dataframe tbody tr th:only-of-type {\n",
       "        vertical-align: middle;\n",
       "    }\n",
       "\n",
       "    .dataframe tbody tr th {\n",
       "        vertical-align: top;\n",
       "    }\n",
       "\n",
       "    .dataframe thead th {\n",
       "        text-align: right;\n",
       "    }\n",
       "</style>\n",
       "<table border=\"1\" class=\"dataframe\">\n",
       "  <thead>\n",
       "    <tr style=\"text-align: right;\">\n",
       "      <th></th>\n",
       "      <th>id</th>\n",
       "      <th>f0</th>\n",
       "      <th>f1</th>\n",
       "      <th>f2</th>\n",
       "      <th>product</th>\n",
       "    </tr>\n",
       "  </thead>\n",
       "  <tbody>\n",
       "    <tr>\n",
       "      <th>0</th>\n",
       "      <td>fwXo0</td>\n",
       "      <td>-1.146987</td>\n",
       "      <td>0.963328</td>\n",
       "      <td>-0.828965</td>\n",
       "      <td>27.758673</td>\n",
       "    </tr>\n",
       "    <tr>\n",
       "      <th>1</th>\n",
       "      <td>WJtFt</td>\n",
       "      <td>0.262778</td>\n",
       "      <td>0.269839</td>\n",
       "      <td>-2.530187</td>\n",
       "      <td>56.069697</td>\n",
       "    </tr>\n",
       "    <tr>\n",
       "      <th>2</th>\n",
       "      <td>ovLUW</td>\n",
       "      <td>0.194587</td>\n",
       "      <td>0.289035</td>\n",
       "      <td>-5.586433</td>\n",
       "      <td>62.871910</td>\n",
       "    </tr>\n",
       "    <tr>\n",
       "      <th>3</th>\n",
       "      <td>q6cA6</td>\n",
       "      <td>2.236060</td>\n",
       "      <td>-0.553760</td>\n",
       "      <td>0.930038</td>\n",
       "      <td>114.572842</td>\n",
       "    </tr>\n",
       "    <tr>\n",
       "      <th>4</th>\n",
       "      <td>WPMUX</td>\n",
       "      <td>-0.515993</td>\n",
       "      <td>1.716266</td>\n",
       "      <td>5.899011</td>\n",
       "      <td>149.600746</td>\n",
       "    </tr>\n",
       "  </tbody>\n",
       "</table>\n",
       "</div>"
      ],
      "text/plain": [
       "      id        f0        f1        f2     product\n",
       "0  fwXo0 -1.146987  0.963328 -0.828965   27.758673\n",
       "1  WJtFt  0.262778  0.269839 -2.530187   56.069697\n",
       "2  ovLUW  0.194587  0.289035 -5.586433   62.871910\n",
       "3  q6cA6  2.236060 -0.553760  0.930038  114.572842\n",
       "4  WPMUX -0.515993  1.716266  5.899011  149.600746"
      ]
     },
     "metadata": {},
     "output_type": "display_data"
    },
    {
     "name": "stdout",
     "output_type": "stream",
     "text": [
      "\n",
      "**************************************************\n"
     ]
    },
    {
     "data": {
      "text/html": [
       "<div>\n",
       "<style scoped>\n",
       "    .dataframe tbody tr th:only-of-type {\n",
       "        vertical-align: middle;\n",
       "    }\n",
       "\n",
       "    .dataframe tbody tr th {\n",
       "        vertical-align: top;\n",
       "    }\n",
       "\n",
       "    .dataframe thead th {\n",
       "        text-align: right;\n",
       "    }\n",
       "</style>\n",
       "<table border=\"1\" class=\"dataframe\">\n",
       "  <thead>\n",
       "    <tr style=\"text-align: right;\">\n",
       "      <th></th>\n",
       "      <th>f0</th>\n",
       "      <th>f1</th>\n",
       "      <th>f2</th>\n",
       "      <th>product</th>\n",
       "    </tr>\n",
       "  </thead>\n",
       "  <tbody>\n",
       "    <tr>\n",
       "      <th>count</th>\n",
       "      <td>100000.000000</td>\n",
       "      <td>100000.000000</td>\n",
       "      <td>100000.000000</td>\n",
       "      <td>100000.000000</td>\n",
       "    </tr>\n",
       "    <tr>\n",
       "      <th>mean</th>\n",
       "      <td>0.002023</td>\n",
       "      <td>-0.002081</td>\n",
       "      <td>2.495128</td>\n",
       "      <td>95.000000</td>\n",
       "    </tr>\n",
       "    <tr>\n",
       "      <th>std</th>\n",
       "      <td>1.732045</td>\n",
       "      <td>1.730417</td>\n",
       "      <td>3.473445</td>\n",
       "      <td>44.749921</td>\n",
       "    </tr>\n",
       "    <tr>\n",
       "      <th>min</th>\n",
       "      <td>-8.760004</td>\n",
       "      <td>-7.084020</td>\n",
       "      <td>-11.970335</td>\n",
       "      <td>0.000000</td>\n",
       "    </tr>\n",
       "    <tr>\n",
       "      <th>25%</th>\n",
       "      <td>-1.162288</td>\n",
       "      <td>-1.174820</td>\n",
       "      <td>0.130359</td>\n",
       "      <td>59.450441</td>\n",
       "    </tr>\n",
       "    <tr>\n",
       "      <th>50%</th>\n",
       "      <td>0.009424</td>\n",
       "      <td>-0.009482</td>\n",
       "      <td>2.484236</td>\n",
       "      <td>94.925613</td>\n",
       "    </tr>\n",
       "    <tr>\n",
       "      <th>75%</th>\n",
       "      <td>1.158535</td>\n",
       "      <td>1.163678</td>\n",
       "      <td>4.858794</td>\n",
       "      <td>130.595027</td>\n",
       "    </tr>\n",
       "    <tr>\n",
       "      <th>max</th>\n",
       "      <td>7.238262</td>\n",
       "      <td>7.844801</td>\n",
       "      <td>16.739402</td>\n",
       "      <td>190.029838</td>\n",
       "    </tr>\n",
       "  </tbody>\n",
       "</table>\n",
       "</div>"
      ],
      "text/plain": [
       "                  f0             f1             f2        product\n",
       "count  100000.000000  100000.000000  100000.000000  100000.000000\n",
       "mean        0.002023      -0.002081       2.495128      95.000000\n",
       "std         1.732045       1.730417       3.473445      44.749921\n",
       "min        -8.760004      -7.084020     -11.970335       0.000000\n",
       "25%        -1.162288      -1.174820       0.130359      59.450441\n",
       "50%         0.009424      -0.009482       2.484236      94.925613\n",
       "75%         1.158535       1.163678       4.858794     130.595027\n",
       "max         7.238262       7.844801      16.739402     190.029838"
      ]
     },
     "metadata": {},
     "output_type": "display_data"
    }
   ],
   "source": [
    "data_info(df_2)"
   ]
  },
  {
   "cell_type": "markdown",
   "metadata": {},
   "source": [
    "#### Проверка на дубликаты"
   ]
  },
  {
   "cell_type": "code",
   "execution_count": 12,
   "metadata": {},
   "outputs": [
    {
     "data": {
      "text/plain": [
       "0"
      ]
     },
     "execution_count": 12,
     "metadata": {},
     "output_type": "execute_result"
    }
   ],
   "source": [
    "df_2.duplicated().sum()"
   ]
  },
  {
   "cell_type": "markdown",
   "metadata": {},
   "source": [
    "#### Подготовка данных"
   ]
  },
  {
   "cell_type": "code",
   "execution_count": 13,
   "metadata": {},
   "outputs": [],
   "source": [
    "(features_train_2, \n",
    "features_valid_2, \n",
    " target_train_2, \n",
    " target_valid_2) = X_y(df_2)"
   ]
  },
  {
   "cell_type": "markdown",
   "metadata": {},
   "source": [
    "## Обучение и проверка модели"
   ]
  },
  {
   "cell_type": "markdown",
   "metadata": {},
   "source": [
    "### Функция рассчета `RMSE` и среднего запаса сырья"
   ]
  },
  {
   "cell_type": "code",
   "execution_count": 14,
   "metadata": {},
   "outputs": [],
   "source": [
    "def rmse(features_train, features_valid,target_train, target_valid):\n",
    "    model = LinearRegression().fit(features_train, target_train)\n",
    "    predict_target = model.predict(features_valid)\n",
    "    mean_predict = predict_target.mean().round(2)\n",
    "    mse = mean_squared_error(target_valid, predict_target)\n",
    "    print('Средний запас предсказанного сырья:', mean_predict)\n",
    "    print('RMSE:', round(mse**0.5, 2))\n",
    "    return predict_target, mean_predict"
   ]
  },
  {
   "cell_type": "markdown",
   "metadata": {},
   "source": [
    "### Первый регион"
   ]
  },
  {
   "cell_type": "code",
   "execution_count": 15,
   "metadata": {},
   "outputs": [
    {
     "name": "stdout",
     "output_type": "stream",
     "text": [
      "Средний запас предсказанного сырья: 92.59\n",
      "RMSE: 37.58\n"
     ]
    }
   ],
   "source": [
    "predict_target_0, mean_predict_0 = rmse(features_train_0,\n",
    "                                        features_valid_0,\n",
    "                                        target_train_0, \n",
    "                                        target_valid_0) "
   ]
  },
  {
   "cell_type": "markdown",
   "metadata": {},
   "source": [
    "### Второй регион"
   ]
  },
  {
   "cell_type": "code",
   "execution_count": 16,
   "metadata": {},
   "outputs": [
    {
     "name": "stdout",
     "output_type": "stream",
     "text": [
      "Средний запас предсказанного сырья: 68.73\n",
      "RMSE: 0.89\n"
     ]
    }
   ],
   "source": [
    "predict_target_1, mean_predict_1 = rmse(features_train_1,\n",
    "                                        features_valid_1,\n",
    "                                        target_train_1, \n",
    "                                        target_valid_1)"
   ]
  },
  {
   "cell_type": "markdown",
   "metadata": {},
   "source": [
    "### Третий регион"
   ]
  },
  {
   "cell_type": "code",
   "execution_count": 17,
   "metadata": {},
   "outputs": [
    {
     "name": "stdout",
     "output_type": "stream",
     "text": [
      "Средний запас предсказанного сырья: 94.97\n",
      "RMSE: 40.03\n"
     ]
    }
   ],
   "source": [
    "predict_target_2, mean_predict_2 = rmse(features_train_2,\n",
    "                                        features_valid_2,\n",
    "                                        target_train_2, \n",
    "                                        target_valid_2)"
   ]
  },
  {
   "cell_type": "markdown",
   "metadata": {},
   "source": [
    "### Вывод"
   ]
  },
  {
   "cell_type": "markdown",
   "metadata": {},
   "source": [
    "Проведя исследования по 3-м регионам наилучшие результаты показал регион № 2. На нём модель имеет наименьшее значение среднеквадратичной ошибки `RMSE` - **0,89**, при наименьшем среднем запасе предсказанного сырья. Иными словами, наша модель наиболее точно предсказывает запас по второму региону."
   ]
  },
  {
   "cell_type": "markdown",
   "metadata": {},
   "source": [
    "## Подготовка к расчёту прибыли"
   ]
  },
  {
   "cell_type": "markdown",
   "metadata": {},
   "source": [
    "### Ключевые константы для рассчетов"
   ]
  },
  {
   "cell_type": "code",
   "execution_count": 18,
   "metadata": {},
   "outputs": [
    {
     "name": "stdout",
     "output_type": "stream",
     "text": [
      "Достаточный объем сырья для безубыточной разработки новой скважины 111.11 тыс. баррелей\n"
     ]
    }
   ],
   "source": [
    "BUDGET = 10000 # бюджет в млн рублей\n",
    "POINTS_PER_BUDGET = 200 # количество разрабатываемых точек\n",
    "PRODUCT_PRICE = 0.45 # прибыль с одной скважины в млн рублей\n",
    "min_product = round(BUDGET / PRODUCT_PRICE / POINTS_PER_BUDGET, 2) \n",
    "print('Достаточный объем сырья для безубыточной разработки новой скважины', min_product, 'тыс. баррелей')"
   ]
  },
  {
   "cell_type": "markdown",
   "metadata": {},
   "source": [
    "### Функция рассчета прибыли"
   ]
  },
  {
   "cell_type": "code",
   "execution_count": 19,
   "metadata": {},
   "outputs": [],
   "source": [
    "def income(predictions, target):\n",
    "    best_predict = pd.Series(predictions).sort_values(ascending=False).head(POINTS_PER_BUDGET)\n",
    "    points = target.iloc[best_predict.index]\n",
    "    income = (PRODUCT_PRICE * points.sum()) - BUDGET\n",
    "    return income"
   ]
  },
  {
   "cell_type": "markdown",
   "metadata": {},
   "source": [
    "### Функция рассчета прибыли и вероятности убытков"
   ]
  },
  {
   "cell_type": "code",
   "execution_count": 20,
   "metadata": {},
   "outputs": [],
   "source": [
    "def bootstrap_income(predictions, target, region):\n",
    "    state = np.random.RandomState(12345)\n",
    "    values = []\n",
    "    for i in range(1000):\n",
    "        subsample = pd.Series(predictions).sample(n=500, \n",
    "                                                  random_state=state, \n",
    "                                                  replace=True)\n",
    "        values.append(income(subsample, target.reset_index(drop=True)))\n",
    "    values = pd.Series(values)\n",
    "    mean_income = values.mean()\n",
    "    lower = values.quantile(0.025)\n",
    "    upper = values.quantile(0.975)\n",
    "    damages = len(values[values < 0]) / len(values)\n",
    "    print(region)\n",
    "    print('Средняя прибыль с региона:', mean_income)\n",
    "    print('95% доверительный интервал от', lower,'до', upper, ', вероятность убытков {:.2%}'.format(damages))"
   ]
  },
  {
   "cell_type": "markdown",
   "metadata": {},
   "source": [
    "### Вывод"
   ]
  },
  {
   "cell_type": "markdown",
   "metadata": {},
   "source": [
    "Достаточный объем сырья для безубыточной разработки новой скважины больше среднего предсказанного запаса сырья по всем 3-м регионам."
   ]
  },
  {
   "cell_type": "markdown",
   "metadata": {},
   "source": [
    "## Расчёт прибыли и рисков "
   ]
  },
  {
   "cell_type": "code",
   "execution_count": 21,
   "metadata": {},
   "outputs": [
    {
     "name": "stdout",
     "output_type": "stream",
     "text": [
      "Первый регион\n",
      "Средняя прибыль с региона: 396.16498480237146\n",
      "95% доверительный интервал от -111.21554589049533 до 909.7669415534222 , вероятность убытков 6.90%\n"
     ]
    }
   ],
   "source": [
    "bootstrap_income(predict_target_0, target_valid_0, 'Первый регион')"
   ]
  },
  {
   "cell_type": "code",
   "execution_count": 22,
   "metadata": {},
   "outputs": [
    {
     "name": "stdout",
     "output_type": "stream",
     "text": [
      "Второй регион\n",
      "Средняя прибыль с региона: 456.04510578666105\n",
      "95% доверительный интервал от 33.82050939898541 до 852.2894538660361 , вероятность убытков 1.50%\n"
     ]
    }
   ],
   "source": [
    "bootstrap_income(predict_target_1, target_valid_1, 'Второй регион')"
   ]
  },
  {
   "cell_type": "code",
   "execution_count": 23,
   "metadata": {},
   "outputs": [
    {
     "name": "stdout",
     "output_type": "stream",
     "text": [
      "Третий регион\n",
      "Средняя прибыль с региона: 404.4038665683571\n",
      "95% доверительный интервал от -163.35041339560078 до 950.3595749238001 , вероятность убытков 7.60%\n"
     ]
    }
   ],
   "source": [
    "bootstrap_income(predict_target_2, target_valid_2, 'Третий регион')"
   ]
  },
  {
   "cell_type": "markdown",
   "metadata": {},
   "source": [
    "## Выводы"
   ]
  },
  {
   "cell_type": "markdown",
   "metadata": {},
   "source": [
    "Не смотря на то, что средний предсказанный запас сырья оказался меньше достаточного объема для безубыточной разработки, все три региона показали **положительную среднюю прибыль**. \n",
    "\n",
    "Однако, учитывая вероятность убытков, для дальнейшей разработки предлагаю выбрать **регион № 2**, т.к. помимо наибольшой средней прибыли, он имеет наименьшую вероятность убытков, равную **1,50%**, которая в свою очередь ниже установленной границы вероятности убытков, равной **2,50%**."
   ]
  }
 ],
 "metadata": {
  "ExecuteTimeLog": [
   {
    "duration": 1087,
    "start_time": "2022-11-03T08:05:19.177Z"
   },
   {
    "duration": 789,
    "start_time": "2022-11-03T08:05:20.266Z"
   },
   {
    "duration": 3,
    "start_time": "2022-11-03T08:05:21.057Z"
   },
   {
    "duration": 6,
    "start_time": "2022-11-03T08:05:21.062Z"
   },
   {
    "duration": 66,
    "start_time": "2022-11-03T08:05:21.069Z"
   },
   {
    "duration": 49,
    "start_time": "2022-11-03T08:05:21.136Z"
   },
   {
    "duration": 12,
    "start_time": "2022-11-03T08:05:21.186Z"
   },
   {
    "duration": 53,
    "start_time": "2022-11-03T08:05:21.200Z"
   },
   {
    "duration": 60,
    "start_time": "2022-11-03T08:05:21.255Z"
   },
   {
    "duration": 12,
    "start_time": "2022-11-03T08:05:21.317Z"
   },
   {
    "duration": 77,
    "start_time": "2022-11-03T08:05:21.330Z"
   },
   {
    "duration": 43,
    "start_time": "2022-11-03T08:05:21.409Z"
   },
   {
    "duration": 30,
    "start_time": "2022-11-03T08:05:21.454Z"
   },
   {
    "duration": 8,
    "start_time": "2022-11-03T08:05:21.486Z"
   },
   {
    "duration": 83,
    "start_time": "2022-11-03T08:05:21.495Z"
   },
   {
    "duration": 113,
    "start_time": "2022-11-03T08:05:21.579Z"
   },
   {
    "duration": 211,
    "start_time": "2022-11-03T08:05:21.694Z"
   },
   {
    "duration": 172,
    "start_time": "2022-11-03T08:05:21.907Z"
   },
   {
    "duration": 43,
    "start_time": "2022-11-03T08:05:22.082Z"
   },
   {
    "duration": 11,
    "start_time": "2022-11-03T08:05:22.127Z"
   },
   {
    "duration": 647,
    "start_time": "2022-11-03T08:05:22.140Z"
   },
   {
    "duration": 601,
    "start_time": "2022-11-03T08:05:22.789Z"
   },
   {
    "duration": 609,
    "start_time": "2022-11-03T08:05:23.392Z"
   },
   {
    "duration": 4,
    "start_time": "2022-11-03T08:46:37.556Z"
   },
   {
    "duration": 5,
    "start_time": "2022-11-03T08:46:45.360Z"
   },
   {
    "duration": 1191,
    "start_time": "2022-11-03T10:07:36.854Z"
   },
   {
    "duration": 977,
    "start_time": "2022-11-03T10:07:38.047Z"
   },
   {
    "duration": 3,
    "start_time": "2022-11-03T10:07:39.025Z"
   },
   {
    "duration": 6,
    "start_time": "2022-11-03T10:07:39.030Z"
   },
   {
    "duration": 63,
    "start_time": "2022-11-03T10:07:39.038Z"
   },
   {
    "duration": 45,
    "start_time": "2022-11-03T10:07:39.103Z"
   },
   {
    "duration": 24,
    "start_time": "2022-11-03T10:07:55.261Z"
   },
   {
    "duration": 20,
    "start_time": "2022-11-03T10:08:36.766Z"
   },
   {
    "duration": 20,
    "start_time": "2022-11-03T10:08:53.941Z"
   },
   {
    "duration": 66,
    "start_time": "2022-11-03T10:10:21.551Z"
   },
   {
    "duration": 4,
    "start_time": "2022-11-03T10:10:55.122Z"
   },
   {
    "duration": 105,
    "start_time": "2022-11-03T10:11:06.979Z"
   },
   {
    "duration": 11,
    "start_time": "2022-11-03T10:12:16.705Z"
   },
   {
    "duration": 9,
    "start_time": "2022-11-03T10:12:50.060Z"
   },
   {
    "duration": 9,
    "start_time": "2022-11-03T10:13:12.379Z"
   },
   {
    "duration": 7,
    "start_time": "2022-11-03T10:19:58.800Z"
   },
   {
    "duration": 12,
    "start_time": "2022-11-03T10:20:07.087Z"
   },
   {
    "duration": 3,
    "start_time": "2022-11-03T10:20:15.473Z"
   },
   {
    "duration": 4,
    "start_time": "2022-11-03T10:20:17.189Z"
   },
   {
    "duration": 16,
    "start_time": "2022-11-03T10:20:20.550Z"
   },
   {
    "duration": 4,
    "start_time": "2022-11-03T10:20:27.681Z"
   },
   {
    "duration": 17,
    "start_time": "2022-11-03T10:20:31.621Z"
   },
   {
    "duration": 4,
    "start_time": "2022-11-03T10:21:22.518Z"
   },
   {
    "duration": 613,
    "start_time": "2022-11-03T10:21:33.124Z"
   },
   {
    "duration": 595,
    "start_time": "2022-11-03T10:21:37.530Z"
   },
   {
    "duration": 583,
    "start_time": "2022-11-03T10:21:40.285Z"
   },
   {
    "duration": 1095,
    "start_time": "2022-11-03T10:22:12.604Z"
   },
   {
    "duration": 385,
    "start_time": "2022-11-03T10:22:13.701Z"
   },
   {
    "duration": 3,
    "start_time": "2022-11-03T10:22:14.088Z"
   },
   {
    "duration": 6,
    "start_time": "2022-11-03T10:22:14.093Z"
   },
   {
    "duration": 69,
    "start_time": "2022-11-03T10:22:14.100Z"
   },
   {
    "duration": 64,
    "start_time": "2022-11-03T10:22:14.171Z"
   },
   {
    "duration": 21,
    "start_time": "2022-11-03T10:22:14.236Z"
   },
   {
    "duration": 77,
    "start_time": "2022-11-03T10:22:14.259Z"
   },
   {
    "duration": 43,
    "start_time": "2022-11-03T10:22:14.337Z"
   },
   {
    "duration": 37,
    "start_time": "2022-11-03T10:22:14.383Z"
   },
   {
    "duration": 61,
    "start_time": "2022-11-03T10:22:14.422Z"
   },
   {
    "duration": 80,
    "start_time": "2022-11-03T10:22:14.485Z"
   },
   {
    "duration": 20,
    "start_time": "2022-11-03T10:22:14.566Z"
   },
   {
    "duration": 23,
    "start_time": "2022-11-03T10:22:14.589Z"
   },
   {
    "duration": 96,
    "start_time": "2022-11-03T10:22:14.614Z"
   },
   {
    "duration": 99,
    "start_time": "2022-11-03T10:22:14.712Z"
   },
   {
    "duration": 195,
    "start_time": "2022-11-03T10:22:14.813Z"
   },
   {
    "duration": 104,
    "start_time": "2022-11-03T10:22:15.010Z"
   },
   {
    "duration": 10,
    "start_time": "2022-11-03T10:22:15.115Z"
   },
   {
    "duration": 19,
    "start_time": "2022-11-03T10:22:15.127Z"
   },
   {
    "duration": 596,
    "start_time": "2022-11-03T10:22:15.147Z"
   },
   {
    "duration": 587,
    "start_time": "2022-11-03T10:22:15.744Z"
   },
   {
    "duration": 600,
    "start_time": "2022-11-03T10:22:16.332Z"
   },
   {
    "duration": 1166,
    "start_time": "2022-11-04T01:56:10.661Z"
   },
   {
    "duration": 418,
    "start_time": "2022-11-04T01:56:11.829Z"
   },
   {
    "duration": 4,
    "start_time": "2022-11-04T01:56:12.249Z"
   },
   {
    "duration": 13,
    "start_time": "2022-11-04T01:56:12.254Z"
   },
   {
    "duration": 82,
    "start_time": "2022-11-04T01:56:12.268Z"
   },
   {
    "duration": 68,
    "start_time": "2022-11-04T01:56:12.351Z"
   },
   {
    "duration": 25,
    "start_time": "2022-11-04T01:56:12.421Z"
   },
   {
    "duration": 77,
    "start_time": "2022-11-04T01:56:12.448Z"
   },
   {
    "duration": 70,
    "start_time": "2022-11-04T01:56:12.527Z"
   },
   {
    "duration": 22,
    "start_time": "2022-11-04T01:56:12.600Z"
   },
   {
    "duration": 82,
    "start_time": "2022-11-04T01:56:12.624Z"
   },
   {
    "duration": 71,
    "start_time": "2022-11-04T01:56:12.707Z"
   },
   {
    "duration": 19,
    "start_time": "2022-11-04T01:56:12.780Z"
   },
   {
    "duration": 13,
    "start_time": "2022-11-04T01:56:12.801Z"
   },
   {
    "duration": 34,
    "start_time": "2022-11-04T01:56:12.815Z"
   },
   {
    "duration": 115,
    "start_time": "2022-11-04T01:56:12.878Z"
   },
   {
    "duration": 197,
    "start_time": "2022-11-04T01:56:12.995Z"
   },
   {
    "duration": 82,
    "start_time": "2022-11-04T01:56:13.198Z"
   },
   {
    "duration": 101,
    "start_time": "2022-11-04T01:56:13.283Z"
   },
   {
    "duration": 9,
    "start_time": "2022-11-04T01:56:13.386Z"
   },
   {
    "duration": 808,
    "start_time": "2022-11-04T01:56:13.397Z"
   },
   {
    "duration": 741,
    "start_time": "2022-11-04T01:56:14.208Z"
   },
   {
    "duration": 870,
    "start_time": "2022-11-04T01:56:14.951Z"
   }
  ],
  "kernelspec": {
   "display_name": "Python 3 (ipykernel)",
   "language": "python",
   "name": "python3"
  },
  "language_info": {
   "codemirror_mode": {
    "name": "ipython",
    "version": 3
   },
   "file_extension": ".py",
   "mimetype": "text/x-python",
   "name": "python",
   "nbconvert_exporter": "python",
   "pygments_lexer": "ipython3",
   "version": "3.9.7"
  },
  "toc": {
   "base_numbering": 1,
   "nav_menu": {},
   "number_sections": true,
   "sideBar": true,
   "skip_h1_title": true,
   "title_cell": "Содержание",
   "title_sidebar": "Contents",
   "toc_cell": true,
   "toc_position": {
    "height": "calc(100% - 180px)",
    "left": "10px",
    "top": "150px",
    "width": "270px"
   },
   "toc_section_display": true,
   "toc_window_display": false
  }
 },
 "nbformat": 4,
 "nbformat_minor": 4
}
