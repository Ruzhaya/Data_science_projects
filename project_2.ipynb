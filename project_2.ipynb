{
 "cells": [
  {
   "cell_type": "markdown",
   "metadata": {
    "toc": true
   },
   "source": [
    "<h1>Содержание<span class=\"tocSkip\"></span></h1>\n",
    "<div class=\"toc\"><ul class=\"toc-item\"><li><span><a href=\"#Подготовка-данных\" data-toc-modified-id=\"Подготовка-данных-1\"><span class=\"toc-item-num\">1&nbsp;&nbsp;</span>Подготовка данных</a></span><ul class=\"toc-item\"><li><span><a href=\"#Подключение-библиотек\" data-toc-modified-id=\"Подключение-библиотек-1.1\"><span class=\"toc-item-num\">1.1&nbsp;&nbsp;</span>Подключение библиотек</a></span></li><li><span><a href=\"#Загрузка-данных\" data-toc-modified-id=\"Загрузка-данных-1.2\"><span class=\"toc-item-num\">1.2&nbsp;&nbsp;</span>Загрузка данных</a></span></li><li><span><a href=\"#Функция-первичного-анализа-данных\" data-toc-modified-id=\"Функция-первичного-анализа-данных-1.3\"><span class=\"toc-item-num\">1.3&nbsp;&nbsp;</span>Функция первичного анализа данных</a></span></li><li><span><a href=\"#Первичный-анализ-данных\" data-toc-modified-id=\"Первичный-анализ-данных-1.4\"><span class=\"toc-item-num\">1.4&nbsp;&nbsp;</span>Первичный анализ данных</a></span></li><li><span><a href=\"#Проверка-на-дубликаты\" data-toc-modified-id=\"Проверка-на-дубликаты-1.5\"><span class=\"toc-item-num\">1.5&nbsp;&nbsp;</span>Проверка на дубликаты</a></span></li><li><span><a href=\"#Проверка-пропущенных-значений\" data-toc-modified-id=\"Проверка-пропущенных-значений-1.6\"><span class=\"toc-item-num\">1.6&nbsp;&nbsp;</span>Проверка пропущенных значений</a></span></li><li><span><a href=\"#Проверка-значений-столбца-Geography\" data-toc-modified-id=\"Проверка-значений-столбца-Geography-1.7\"><span class=\"toc-item-num\">1.7&nbsp;&nbsp;</span>Проверка значений столбца <code>Geography</code></a></span></li><li><span><a href=\"#Вывод\" data-toc-modified-id=\"Вывод-1.8\"><span class=\"toc-item-num\">1.8&nbsp;&nbsp;</span>Вывод</a></span></li></ul></li><li><span><a href=\"#Исследование-задачи\" data-toc-modified-id=\"Исследование-задачи-2\"><span class=\"toc-item-num\">2&nbsp;&nbsp;</span>Исследование задачи</a></span><ul class=\"toc-item\"><li><span><a href=\"#Изучение-баланса-классов-целевого-признака\" data-toc-modified-id=\"Изучение-баланса-классов-целевого-признака-2.1\"><span class=\"toc-item-num\">2.1&nbsp;&nbsp;</span>Изучение баланса классов целевого признака</a></span></li><li><span><a href=\"#Формирование-признаков-и-целевого-признака\" data-toc-modified-id=\"Формирование-признаков-и-целевого-признака-2.2\"><span class=\"toc-item-num\">2.2&nbsp;&nbsp;</span>Формирование признаков и целевого признака</a></span></li><li><span><a href=\"#Преобразование-категориальных-признаков,-а-так-же-масштабирование-признаков\" data-toc-modified-id=\"Преобразование-категориальных-признаков,-а-так-же-масштабирование-признаков-2.3\"><span class=\"toc-item-num\">2.3&nbsp;&nbsp;</span>Преобразование категориальных признаков, а так же масштабирование признаков</a></span></li><li><span><a href=\"#Разбивка-данных-на-обучающую,-валидационную-и-тестовую-выборки\" data-toc-modified-id=\"Разбивка-данных-на-обучающую,-валидационную-и-тестовую-выборки-2.4\"><span class=\"toc-item-num\">2.4&nbsp;&nbsp;</span>Разбивка данных на обучающую, валидационную и тестовую выборки</a></span></li><li><span><a href=\"#Функция-подбора-гиперпараметров-для-модели-дерево-решений\" data-toc-modified-id=\"Функция-подбора-гиперпараметров-для-модели-дерево-решений-2.5\"><span class=\"toc-item-num\">2.5&nbsp;&nbsp;</span>Функция подбора гиперпараметров для модели дерево решений</a></span></li><li><span><a href=\"#Сохранение-модели-дерево-решений-с-наилучшими-параметрами\" data-toc-modified-id=\"Сохранение-модели-дерево-решений-с-наилучшими-параметрами-2.6\"><span class=\"toc-item-num\">2.6&nbsp;&nbsp;</span>Сохранение модели дерево решений с наилучшими параметрами</a></span></li><li><span><a href=\"#Функция-подбора-гиперпараметров-для-модели-слуйчайный-лес\" data-toc-modified-id=\"Функция-подбора-гиперпараметров-для-модели-слуйчайный-лес-2.7\"><span class=\"toc-item-num\">2.7&nbsp;&nbsp;</span>Функция подбора гиперпараметров для модели слуйчайный лес</a></span></li><li><span><a href=\"#Сохранение-модели-случайный-лес-с-наилучшими-гиперпараметрами\" data-toc-modified-id=\"Сохранение-модели-случайный-лес-с-наилучшими-гиперпараметрами-2.8\"><span class=\"toc-item-num\">2.8&nbsp;&nbsp;</span>Сохранение модели случайный лес с наилучшими гиперпараметрами</a></span></li><li><span><a href=\"#Функция-для-подбора-гиперпараметров-для-модели-логистическая-регрессия\" data-toc-modified-id=\"Функция-для-подбора-гиперпараметров-для-модели-логистическая-регрессия-2.9\"><span class=\"toc-item-num\">2.9&nbsp;&nbsp;</span>Функция для подбора гиперпараметров для модели логистическая регрессия</a></span></li><li><span><a href=\"#Сохранение-модели-логистическая-регрессия\" data-toc-modified-id=\"Сохранение-модели-логистическая-регрессия-2.10\"><span class=\"toc-item-num\">2.10&nbsp;&nbsp;</span>Сохранение модели логистическая регрессия</a></span></li><li><span><a href=\"#Вывод\" data-toc-modified-id=\"Вывод-2.11\"><span class=\"toc-item-num\">2.11&nbsp;&nbsp;</span>Вывод</a></span></li></ul></li><li><span><a href=\"#Борьба-с-дисбалансом\" data-toc-modified-id=\"Борьба-с-дисбалансом-3\"><span class=\"toc-item-num\">3&nbsp;&nbsp;</span>Борьба с дисбалансом</a></span><ul class=\"toc-item\"><li><span><a href=\"#Взвешивание-классов\" data-toc-modified-id=\"Взвешивание-классов-3.1\"><span class=\"toc-item-num\">3.1&nbsp;&nbsp;</span>Взвешивание классов</a></span><ul class=\"toc-item\"><li><span><a href=\"#Модель-дерево-решений\" data-toc-modified-id=\"Модель-дерево-решений-3.1.1\"><span class=\"toc-item-num\">3.1.1&nbsp;&nbsp;</span>Модель дерево решений</a></span></li><li><span><a href=\"#Модель-случайный-лес\" data-toc-modified-id=\"Модель-случайный-лес-3.1.2\"><span class=\"toc-item-num\">3.1.2&nbsp;&nbsp;</span>Модель случайный лес</a></span></li><li><span><a href=\"#Модель-логистической-регрессии\" data-toc-modified-id=\"Модель-логистической-регрессии-3.1.3\"><span class=\"toc-item-num\">3.1.3&nbsp;&nbsp;</span>Модель логистической регрессии</a></span></li></ul></li><li><span><a href=\"#Увеличение-выборки\" data-toc-modified-id=\"Увеличение-выборки-3.2\"><span class=\"toc-item-num\">3.2&nbsp;&nbsp;</span>Увеличение выборки</a></span><ul class=\"toc-item\"><li><span><a href=\"#Функция-увеличения-обучающей-выборки\" data-toc-modified-id=\"Функция-увеличения-обучающей-выборки-3.2.1\"><span class=\"toc-item-num\">3.2.1&nbsp;&nbsp;</span>Функция увеличения обучающей выборки</a></span></li><li><span><a href=\"#Сохранение-увеличенных-выборок\" data-toc-modified-id=\"Сохранение-увеличенных-выборок-3.2.2\"><span class=\"toc-item-num\">3.2.2&nbsp;&nbsp;</span>Сохранение увеличенных выборок</a></span></li><li><span><a href=\"#Модель-дерево-решений\" data-toc-modified-id=\"Модель-дерево-решений-3.2.3\"><span class=\"toc-item-num\">3.2.3&nbsp;&nbsp;</span>Модель дерево решений</a></span></li><li><span><a href=\"#Модель-случайный-лес\" data-toc-modified-id=\"Модель-случайный-лес-3.2.4\"><span class=\"toc-item-num\">3.2.4&nbsp;&nbsp;</span>Модель случайный лес</a></span></li><li><span><a href=\"#Модель-логистическая-регрессия\" data-toc-modified-id=\"Модель-логистическая-регрессия-3.2.5\"><span class=\"toc-item-num\">3.2.5&nbsp;&nbsp;</span>Модель логистическая регрессия</a></span></li></ul></li><li><span><a href=\"#Уменьшение-выборки\" data-toc-modified-id=\"Уменьшение-выборки-3.3\"><span class=\"toc-item-num\">3.3&nbsp;&nbsp;</span>Уменьшение выборки</a></span><ul class=\"toc-item\"><li><span><a href=\"#Функция-уменьшения-обучающей-выборки\" data-toc-modified-id=\"Функция-уменьшения-обучающей-выборки-3.3.1\"><span class=\"toc-item-num\">3.3.1&nbsp;&nbsp;</span>Функция уменьшения обучающей выборки</a></span></li><li><span><a href=\"#Сохранение-уменьшенных-выборок\" data-toc-modified-id=\"Сохранение-уменьшенных-выборок-3.3.2\"><span class=\"toc-item-num\">3.3.2&nbsp;&nbsp;</span>Сохранение уменьшенных выборок</a></span></li><li><span><a href=\"#Модель-дерево-решений\" data-toc-modified-id=\"Модель-дерево-решений-3.3.3\"><span class=\"toc-item-num\">3.3.3&nbsp;&nbsp;</span>Модель дерево решений</a></span></li><li><span><a href=\"#Модель-случайный-лес\" data-toc-modified-id=\"Модель-случайный-лес-3.3.4\"><span class=\"toc-item-num\">3.3.4&nbsp;&nbsp;</span>Модель случайный лес</a></span></li><li><span><a href=\"#Модель-логистическая-регрессия\" data-toc-modified-id=\"Модель-логистическая-регрессия-3.3.5\"><span class=\"toc-item-num\">3.3.5&nbsp;&nbsp;</span>Модель логистическая регрессия</a></span></li></ul></li><li><span><a href=\"#Вывод\" data-toc-modified-id=\"Вывод-3.4\"><span class=\"toc-item-num\">3.4&nbsp;&nbsp;</span>Вывод</a></span></li></ul></li><li><span><a href=\"#Тестирование-модели\" data-toc-modified-id=\"Тестирование-модели-4\"><span class=\"toc-item-num\">4&nbsp;&nbsp;</span>Тестирование модели</a></span><ul class=\"toc-item\"><li><span><a href=\"#Функция-подсчета-площади-под-ROC-кривой\" data-toc-modified-id=\"Функция-подсчета-площади-под-ROC-кривой-4.1\"><span class=\"toc-item-num\">4.1&nbsp;&nbsp;</span>Функция подсчета площади под ROC-кривой</a></span></li><li><span><a href=\"#Модель-дерево-решений\" data-toc-modified-id=\"Модель-дерево-решений-4.2\"><span class=\"toc-item-num\">4.2&nbsp;&nbsp;</span>Модель дерево решений</a></span></li><li><span><a href=\"#Модель-случайный-лес\" data-toc-modified-id=\"Модель-случайный-лес-4.3\"><span class=\"toc-item-num\">4.3&nbsp;&nbsp;</span>Модель случайный лес</a></span></li><li><span><a href=\"#Модель-логистическая-регрессия\" data-toc-modified-id=\"Модель-логистическая-регрессия-4.4\"><span class=\"toc-item-num\">4.4&nbsp;&nbsp;</span>Модель логистическая регрессия</a></span></li><li><span><a href=\"#Вывод\" data-toc-modified-id=\"Вывод-4.5\"><span class=\"toc-item-num\">4.5&nbsp;&nbsp;</span>Вывод</a></span></li></ul></li><li><span><a href=\"#Выводы\" data-toc-modified-id=\"Выводы-5\"><span class=\"toc-item-num\">5&nbsp;&nbsp;</span>Выводы</a></span></li><li><span><a href=\"#Чек-лист-готовности-проекта\" data-toc-modified-id=\"Чек-лист-готовности-проекта-6\"><span class=\"toc-item-num\">6&nbsp;&nbsp;</span>Чек-лист готовности проекта</a></span></li></ul></div>"
   ]
  },
  {
   "cell_type": "markdown",
   "metadata": {},
   "source": [
    "# Отток клиентов"
   ]
  },
  {
   "cell_type": "markdown",
   "metadata": {},
   "source": [
    "Необходимо спрогнозировать, уйдёт клиент из банка в ближайшее время или нет. Для обучения моделей предоставлены исторические данные о поведении клиентов и расторжении договоров с банком. \n",
    "\n",
    "Допустимые значения `F1-меры` для выбранной модели прогнозирования - не ниже 0.59\n",
    "\n",
    "Источник данных: [https://www.kaggle.com/barelydedicated/bank-customer-churn-modeling](https://www.kaggle.com/barelydedicated/bank-customer-churn-modeling)\n",
    "\n",
    "# Описание данных\n",
    "\n",
    "**Признаки**\n",
    "\n",
    "* `RowNumber` — индекс строки в данных\n",
    "* `CustomerId` — уникальный идентификатор клиента\n",
    "* `Surname` — фамилия\n",
    "* `CreditScore` — кредитный рейтинг\n",
    "* `Geography` — страна проживания\n",
    "* `Gender` — пол\n",
    "* `Age` — возраст\n",
    "* `Tenure` — сколько лет человек является клиентом банка\n",
    "* `Balance` — баланс на счёте\n",
    "* `NumOfProducts` — количество продуктов банка, используемых клиентом\n",
    "* `HasCrCard` — наличие кредитной карты\n",
    "* `IsActiveMember` — активность клиента\n",
    "* `EstimatedSalary` — предполагаемая зарплата\n",
    "\n",
    "**Целевой признак**\n",
    "\n",
    "* `Exited` — факт ухода клиента"
   ]
  },
  {
   "cell_type": "markdown",
   "metadata": {},
   "source": [
    "## Подготовка данных"
   ]
  },
  {
   "cell_type": "markdown",
   "metadata": {},
   "source": [
    "### Подключение библиотек"
   ]
  },
  {
   "cell_type": "code",
   "execution_count": 1,
   "metadata": {},
   "outputs": [],
   "source": [
    "import pandas as pd\n",
    "import numpy as np\n",
    "from sklearn.tree import DecisionTreeClassifier\n",
    "from sklearn.ensemble import RandomForestClassifier\n",
    "from sklearn.linear_model import LogisticRegression\n",
    "from sklearn.model_selection import train_test_split\n",
    "from sklearn.preprocessing import StandardScaler\n",
    "pd.options.mode.chained_assignment = None\n",
    "from sklearn.metrics import accuracy_score, recall_score, precision_score, f1_score, roc_auc_score\n",
    "from sklearn.utils import shuffle"
   ]
  },
  {
   "cell_type": "markdown",
   "metadata": {},
   "source": [
    "### Загрузка данных"
   ]
  },
  {
   "cell_type": "code",
   "execution_count": 2,
   "metadata": {},
   "outputs": [],
   "source": [
    "try:\n",
    "    df = pd.read_csv('Churn.csv')\n",
    "except:\n",
    "    df = pd.read_csv('/datasets/Churn.csv')"
   ]
  },
  {
   "cell_type": "markdown",
   "metadata": {},
   "source": [
    "### Функция первичного анализа данных"
   ]
  },
  {
   "cell_type": "code",
   "execution_count": 3,
   "metadata": {},
   "outputs": [],
   "source": [
    "def data_info(data):\n",
    "    data.info()\n",
    "    print('')\n",
    "    print('*'*50)\n",
    "    display(data.head())\n",
    "    print('')\n",
    "    print('*'*50)\n",
    "    display(data.describe())"
   ]
  },
  {
   "cell_type": "markdown",
   "metadata": {},
   "source": [
    "### Первичный анализ данных"
   ]
  },
  {
   "cell_type": "code",
   "execution_count": 4,
   "metadata": {},
   "outputs": [
    {
     "name": "stdout",
     "output_type": "stream",
     "text": [
      "<class 'pandas.core.frame.DataFrame'>\n",
      "RangeIndex: 10000 entries, 0 to 9999\n",
      "Data columns (total 14 columns):\n",
      " #   Column           Non-Null Count  Dtype  \n",
      "---  ------           --------------  -----  \n",
      " 0   RowNumber        10000 non-null  int64  \n",
      " 1   CustomerId       10000 non-null  int64  \n",
      " 2   Surname          10000 non-null  object \n",
      " 3   CreditScore      10000 non-null  int64  \n",
      " 4   Geography        10000 non-null  object \n",
      " 5   Gender           10000 non-null  object \n",
      " 6   Age              10000 non-null  int64  \n",
      " 7   Tenure           9091 non-null   float64\n",
      " 8   Balance          10000 non-null  float64\n",
      " 9   NumOfProducts    10000 non-null  int64  \n",
      " 10  HasCrCard        10000 non-null  int64  \n",
      " 11  IsActiveMember   10000 non-null  int64  \n",
      " 12  EstimatedSalary  10000 non-null  float64\n",
      " 13  Exited           10000 non-null  int64  \n",
      "dtypes: float64(3), int64(8), object(3)\n",
      "memory usage: 1.1+ MB\n",
      "\n",
      "**************************************************\n"
     ]
    },
    {
     "data": {
      "text/html": [
       "<div>\n",
       "<style scoped>\n",
       "    .dataframe tbody tr th:only-of-type {\n",
       "        vertical-align: middle;\n",
       "    }\n",
       "\n",
       "    .dataframe tbody tr th {\n",
       "        vertical-align: top;\n",
       "    }\n",
       "\n",
       "    .dataframe thead th {\n",
       "        text-align: right;\n",
       "    }\n",
       "</style>\n",
       "<table border=\"1\" class=\"dataframe\">\n",
       "  <thead>\n",
       "    <tr style=\"text-align: right;\">\n",
       "      <th></th>\n",
       "      <th>RowNumber</th>\n",
       "      <th>CustomerId</th>\n",
       "      <th>Surname</th>\n",
       "      <th>CreditScore</th>\n",
       "      <th>Geography</th>\n",
       "      <th>Gender</th>\n",
       "      <th>Age</th>\n",
       "      <th>Tenure</th>\n",
       "      <th>Balance</th>\n",
       "      <th>NumOfProducts</th>\n",
       "      <th>HasCrCard</th>\n",
       "      <th>IsActiveMember</th>\n",
       "      <th>EstimatedSalary</th>\n",
       "      <th>Exited</th>\n",
       "    </tr>\n",
       "  </thead>\n",
       "  <tbody>\n",
       "    <tr>\n",
       "      <th>0</th>\n",
       "      <td>1</td>\n",
       "      <td>15634602</td>\n",
       "      <td>Hargrave</td>\n",
       "      <td>619</td>\n",
       "      <td>France</td>\n",
       "      <td>Female</td>\n",
       "      <td>42</td>\n",
       "      <td>2.0</td>\n",
       "      <td>0.00</td>\n",
       "      <td>1</td>\n",
       "      <td>1</td>\n",
       "      <td>1</td>\n",
       "      <td>101348.88</td>\n",
       "      <td>1</td>\n",
       "    </tr>\n",
       "    <tr>\n",
       "      <th>1</th>\n",
       "      <td>2</td>\n",
       "      <td>15647311</td>\n",
       "      <td>Hill</td>\n",
       "      <td>608</td>\n",
       "      <td>Spain</td>\n",
       "      <td>Female</td>\n",
       "      <td>41</td>\n",
       "      <td>1.0</td>\n",
       "      <td>83807.86</td>\n",
       "      <td>1</td>\n",
       "      <td>0</td>\n",
       "      <td>1</td>\n",
       "      <td>112542.58</td>\n",
       "      <td>0</td>\n",
       "    </tr>\n",
       "    <tr>\n",
       "      <th>2</th>\n",
       "      <td>3</td>\n",
       "      <td>15619304</td>\n",
       "      <td>Onio</td>\n",
       "      <td>502</td>\n",
       "      <td>France</td>\n",
       "      <td>Female</td>\n",
       "      <td>42</td>\n",
       "      <td>8.0</td>\n",
       "      <td>159660.80</td>\n",
       "      <td>3</td>\n",
       "      <td>1</td>\n",
       "      <td>0</td>\n",
       "      <td>113931.57</td>\n",
       "      <td>1</td>\n",
       "    </tr>\n",
       "    <tr>\n",
       "      <th>3</th>\n",
       "      <td>4</td>\n",
       "      <td>15701354</td>\n",
       "      <td>Boni</td>\n",
       "      <td>699</td>\n",
       "      <td>France</td>\n",
       "      <td>Female</td>\n",
       "      <td>39</td>\n",
       "      <td>1.0</td>\n",
       "      <td>0.00</td>\n",
       "      <td>2</td>\n",
       "      <td>0</td>\n",
       "      <td>0</td>\n",
       "      <td>93826.63</td>\n",
       "      <td>0</td>\n",
       "    </tr>\n",
       "    <tr>\n",
       "      <th>4</th>\n",
       "      <td>5</td>\n",
       "      <td>15737888</td>\n",
       "      <td>Mitchell</td>\n",
       "      <td>850</td>\n",
       "      <td>Spain</td>\n",
       "      <td>Female</td>\n",
       "      <td>43</td>\n",
       "      <td>2.0</td>\n",
       "      <td>125510.82</td>\n",
       "      <td>1</td>\n",
       "      <td>1</td>\n",
       "      <td>1</td>\n",
       "      <td>79084.10</td>\n",
       "      <td>0</td>\n",
       "    </tr>\n",
       "  </tbody>\n",
       "</table>\n",
       "</div>"
      ],
      "text/plain": [
       "   RowNumber  CustomerId   Surname  CreditScore Geography  Gender  Age  \\\n",
       "0          1    15634602  Hargrave          619    France  Female   42   \n",
       "1          2    15647311      Hill          608     Spain  Female   41   \n",
       "2          3    15619304      Onio          502    France  Female   42   \n",
       "3          4    15701354      Boni          699    France  Female   39   \n",
       "4          5    15737888  Mitchell          850     Spain  Female   43   \n",
       "\n",
       "   Tenure    Balance  NumOfProducts  HasCrCard  IsActiveMember  \\\n",
       "0     2.0       0.00              1          1               1   \n",
       "1     1.0   83807.86              1          0               1   \n",
       "2     8.0  159660.80              3          1               0   \n",
       "3     1.0       0.00              2          0               0   \n",
       "4     2.0  125510.82              1          1               1   \n",
       "\n",
       "   EstimatedSalary  Exited  \n",
       "0        101348.88       1  \n",
       "1        112542.58       0  \n",
       "2        113931.57       1  \n",
       "3         93826.63       0  \n",
       "4         79084.10       0  "
      ]
     },
     "metadata": {},
     "output_type": "display_data"
    },
    {
     "name": "stdout",
     "output_type": "stream",
     "text": [
      "\n",
      "**************************************************\n"
     ]
    },
    {
     "data": {
      "text/html": [
       "<div>\n",
       "<style scoped>\n",
       "    .dataframe tbody tr th:only-of-type {\n",
       "        vertical-align: middle;\n",
       "    }\n",
       "\n",
       "    .dataframe tbody tr th {\n",
       "        vertical-align: top;\n",
       "    }\n",
       "\n",
       "    .dataframe thead th {\n",
       "        text-align: right;\n",
       "    }\n",
       "</style>\n",
       "<table border=\"1\" class=\"dataframe\">\n",
       "  <thead>\n",
       "    <tr style=\"text-align: right;\">\n",
       "      <th></th>\n",
       "      <th>RowNumber</th>\n",
       "      <th>CustomerId</th>\n",
       "      <th>CreditScore</th>\n",
       "      <th>Age</th>\n",
       "      <th>Tenure</th>\n",
       "      <th>Balance</th>\n",
       "      <th>NumOfProducts</th>\n",
       "      <th>HasCrCard</th>\n",
       "      <th>IsActiveMember</th>\n",
       "      <th>EstimatedSalary</th>\n",
       "      <th>Exited</th>\n",
       "    </tr>\n",
       "  </thead>\n",
       "  <tbody>\n",
       "    <tr>\n",
       "      <th>count</th>\n",
       "      <td>10000.00000</td>\n",
       "      <td>1.000000e+04</td>\n",
       "      <td>10000.000000</td>\n",
       "      <td>10000.000000</td>\n",
       "      <td>9091.000000</td>\n",
       "      <td>10000.000000</td>\n",
       "      <td>10000.000000</td>\n",
       "      <td>10000.00000</td>\n",
       "      <td>10000.000000</td>\n",
       "      <td>10000.000000</td>\n",
       "      <td>10000.000000</td>\n",
       "    </tr>\n",
       "    <tr>\n",
       "      <th>mean</th>\n",
       "      <td>5000.50000</td>\n",
       "      <td>1.569094e+07</td>\n",
       "      <td>650.528800</td>\n",
       "      <td>38.921800</td>\n",
       "      <td>4.997690</td>\n",
       "      <td>76485.889288</td>\n",
       "      <td>1.530200</td>\n",
       "      <td>0.70550</td>\n",
       "      <td>0.515100</td>\n",
       "      <td>100090.239881</td>\n",
       "      <td>0.203700</td>\n",
       "    </tr>\n",
       "    <tr>\n",
       "      <th>std</th>\n",
       "      <td>2886.89568</td>\n",
       "      <td>7.193619e+04</td>\n",
       "      <td>96.653299</td>\n",
       "      <td>10.487806</td>\n",
       "      <td>2.894723</td>\n",
       "      <td>62397.405202</td>\n",
       "      <td>0.581654</td>\n",
       "      <td>0.45584</td>\n",
       "      <td>0.499797</td>\n",
       "      <td>57510.492818</td>\n",
       "      <td>0.402769</td>\n",
       "    </tr>\n",
       "    <tr>\n",
       "      <th>min</th>\n",
       "      <td>1.00000</td>\n",
       "      <td>1.556570e+07</td>\n",
       "      <td>350.000000</td>\n",
       "      <td>18.000000</td>\n",
       "      <td>0.000000</td>\n",
       "      <td>0.000000</td>\n",
       "      <td>1.000000</td>\n",
       "      <td>0.00000</td>\n",
       "      <td>0.000000</td>\n",
       "      <td>11.580000</td>\n",
       "      <td>0.000000</td>\n",
       "    </tr>\n",
       "    <tr>\n",
       "      <th>25%</th>\n",
       "      <td>2500.75000</td>\n",
       "      <td>1.562853e+07</td>\n",
       "      <td>584.000000</td>\n",
       "      <td>32.000000</td>\n",
       "      <td>2.000000</td>\n",
       "      <td>0.000000</td>\n",
       "      <td>1.000000</td>\n",
       "      <td>0.00000</td>\n",
       "      <td>0.000000</td>\n",
       "      <td>51002.110000</td>\n",
       "      <td>0.000000</td>\n",
       "    </tr>\n",
       "    <tr>\n",
       "      <th>50%</th>\n",
       "      <td>5000.50000</td>\n",
       "      <td>1.569074e+07</td>\n",
       "      <td>652.000000</td>\n",
       "      <td>37.000000</td>\n",
       "      <td>5.000000</td>\n",
       "      <td>97198.540000</td>\n",
       "      <td>1.000000</td>\n",
       "      <td>1.00000</td>\n",
       "      <td>1.000000</td>\n",
       "      <td>100193.915000</td>\n",
       "      <td>0.000000</td>\n",
       "    </tr>\n",
       "    <tr>\n",
       "      <th>75%</th>\n",
       "      <td>7500.25000</td>\n",
       "      <td>1.575323e+07</td>\n",
       "      <td>718.000000</td>\n",
       "      <td>44.000000</td>\n",
       "      <td>7.000000</td>\n",
       "      <td>127644.240000</td>\n",
       "      <td>2.000000</td>\n",
       "      <td>1.00000</td>\n",
       "      <td>1.000000</td>\n",
       "      <td>149388.247500</td>\n",
       "      <td>0.000000</td>\n",
       "    </tr>\n",
       "    <tr>\n",
       "      <th>max</th>\n",
       "      <td>10000.00000</td>\n",
       "      <td>1.581569e+07</td>\n",
       "      <td>850.000000</td>\n",
       "      <td>92.000000</td>\n",
       "      <td>10.000000</td>\n",
       "      <td>250898.090000</td>\n",
       "      <td>4.000000</td>\n",
       "      <td>1.00000</td>\n",
       "      <td>1.000000</td>\n",
       "      <td>199992.480000</td>\n",
       "      <td>1.000000</td>\n",
       "    </tr>\n",
       "  </tbody>\n",
       "</table>\n",
       "</div>"
      ],
      "text/plain": [
       "         RowNumber    CustomerId   CreditScore           Age       Tenure  \\\n",
       "count  10000.00000  1.000000e+04  10000.000000  10000.000000  9091.000000   \n",
       "mean    5000.50000  1.569094e+07    650.528800     38.921800     4.997690   \n",
       "std     2886.89568  7.193619e+04     96.653299     10.487806     2.894723   \n",
       "min        1.00000  1.556570e+07    350.000000     18.000000     0.000000   \n",
       "25%     2500.75000  1.562853e+07    584.000000     32.000000     2.000000   \n",
       "50%     5000.50000  1.569074e+07    652.000000     37.000000     5.000000   \n",
       "75%     7500.25000  1.575323e+07    718.000000     44.000000     7.000000   \n",
       "max    10000.00000  1.581569e+07    850.000000     92.000000    10.000000   \n",
       "\n",
       "             Balance  NumOfProducts    HasCrCard  IsActiveMember  \\\n",
       "count   10000.000000   10000.000000  10000.00000    10000.000000   \n",
       "mean    76485.889288       1.530200      0.70550        0.515100   \n",
       "std     62397.405202       0.581654      0.45584        0.499797   \n",
       "min         0.000000       1.000000      0.00000        0.000000   \n",
       "25%         0.000000       1.000000      0.00000        0.000000   \n",
       "50%     97198.540000       1.000000      1.00000        1.000000   \n",
       "75%    127644.240000       2.000000      1.00000        1.000000   \n",
       "max    250898.090000       4.000000      1.00000        1.000000   \n",
       "\n",
       "       EstimatedSalary        Exited  \n",
       "count     10000.000000  10000.000000  \n",
       "mean     100090.239881      0.203700  \n",
       "std       57510.492818      0.402769  \n",
       "min          11.580000      0.000000  \n",
       "25%       51002.110000      0.000000  \n",
       "50%      100193.915000      0.000000  \n",
       "75%      149388.247500      0.000000  \n",
       "max      199992.480000      1.000000  "
      ]
     },
     "metadata": {},
     "output_type": "display_data"
    }
   ],
   "source": [
    "data_info(df)"
   ]
  },
  {
   "cell_type": "markdown",
   "metadata": {},
   "source": [
    "Первичный анализ данных показал, что имеются пропуски в стольце `Tenure`."
   ]
  },
  {
   "cell_type": "markdown",
   "metadata": {},
   "source": [
    "### Проверка на дубликаты"
   ]
  },
  {
   "cell_type": "code",
   "execution_count": 5,
   "metadata": {},
   "outputs": [
    {
     "data": {
      "text/plain": [
       "0"
      ]
     },
     "execution_count": 5,
     "metadata": {},
     "output_type": "execute_result"
    }
   ],
   "source": [
    "df.duplicated().sum()"
   ]
  },
  {
   "cell_type": "markdown",
   "metadata": {},
   "source": [
    "Проверка на наличие дубликатов показала, что они в данных отсутствуют"
   ]
  },
  {
   "cell_type": "markdown",
   "metadata": {},
   "source": [
    "### Проверка пропущенных значений"
   ]
  },
  {
   "cell_type": "code",
   "execution_count": 6,
   "metadata": {},
   "outputs": [
    {
     "data": {
      "text/plain": [
       "0    726\n",
       "1    183\n",
       "Name: Exited, dtype: int64"
      ]
     },
     "execution_count": 6,
     "metadata": {},
     "output_type": "execute_result"
    }
   ],
   "source": [
    "df[df['Tenure'].isna() == True]['Exited'].value_counts()"
   ]
  },
  {
   "cell_type": "code",
   "execution_count": 7,
   "metadata": {},
   "outputs": [
    {
     "data": {
      "text/plain": [
       "1.0     952\n",
       "2.0     950\n",
       "8.0     933\n",
       "3.0     928\n",
       "5.0     927\n",
       "7.0     925\n",
       "4.0     885\n",
       "9.0     882\n",
       "6.0     881\n",
       "10.0    446\n",
       "0.0     382\n",
       "Name: Tenure, dtype: int64"
      ]
     },
     "execution_count": 7,
     "metadata": {},
     "output_type": "execute_result"
    }
   ],
   "source": [
    "df['Tenure'].value_counts()"
   ]
  },
  {
   "cell_type": "code",
   "execution_count": 8,
   "metadata": {},
   "outputs": [],
   "source": [
    "df['Tenure'] = df['Tenure'].fillna(0)"
   ]
  },
  {
   "cell_type": "markdown",
   "metadata": {},
   "source": [
    "Пропуски в столбце с данными о длительности пользования банком заполнила нулями для дальнейшего анализа"
   ]
  },
  {
   "cell_type": "markdown",
   "metadata": {},
   "source": [
    "### Проверка значений столбца `Geography`"
   ]
  },
  {
   "cell_type": "code",
   "execution_count": 9,
   "metadata": {},
   "outputs": [
    {
     "data": {
      "text/plain": [
       "array(['France', 'Spain', 'Germany'], dtype=object)"
      ]
     },
     "execution_count": 9,
     "metadata": {},
     "output_type": "execute_result"
    }
   ],
   "source": [
    "df['Geography'].unique()"
   ]
  },
  {
   "cell_type": "markdown",
   "metadata": {},
   "source": [
    "Проверила количество уникальных значений столбца `Geography` для дальнейшей обработки"
   ]
  },
  {
   "cell_type": "markdown",
   "metadata": {},
   "source": [
    "### Вывод"
   ]
  },
  {
   "cell_type": "markdown",
   "metadata": {},
   "source": [
    "В ходе первичного анализа выявлено:\n",
    "\n",
    "* Дубли в данных отсутствуют\n",
    "* Пропуски в данных были в одном столбце `Tenure` - значения, показывющие сколько лет пользователь был клиентом банка\n",
    "* В столбце страна проживания всего **3** уникальных значения, следовательно можно будет преобразовать этот категориальный признак\n",
    "\n",
    "Для дальнейшего корректного обучения моделей пропуски заполнила нулями."
   ]
  },
  {
   "cell_type": "markdown",
   "metadata": {},
   "source": [
    "## Исследование задачи"
   ]
  },
  {
   "cell_type": "markdown",
   "metadata": {},
   "source": [
    "### Изучение баланса классов целевого признака"
   ]
  },
  {
   "cell_type": "code",
   "execution_count": 10,
   "metadata": {},
   "outputs": [
    {
     "data": {
      "text/plain": [
       "0    7963\n",
       "1    2037\n",
       "Name: Exited, dtype: int64"
      ]
     },
     "execution_count": 10,
     "metadata": {},
     "output_type": "execute_result"
    }
   ],
   "source": [
    "df['Exited'].value_counts()"
   ]
  },
  {
   "cell_type": "code",
   "execution_count": 11,
   "metadata": {},
   "outputs": [
    {
     "name": "stdout",
     "output_type": "stream",
     "text": [
      "Процентное соотношение классов \"клиент остался\" 80%, \"клиент ушел\" 20%\n"
     ]
    }
   ],
   "source": [
    "print('Процентное соотношение классов \"клиент остался\" {:.0%}, \"клиент ушел\" {:.0%}'.format(len(df[df['Exited'] == 0])/len(df), \n",
    "                                                                          len(df[df['Exited'] == 1])/len(df)))"
   ]
  },
  {
   "cell_type": "markdown",
   "metadata": {},
   "source": [
    "### Формирование признаков и целевого признака"
   ]
  },
  {
   "cell_type": "code",
   "execution_count": 12,
   "metadata": {},
   "outputs": [
    {
     "data": {
      "text/html": [
       "<div>\n",
       "<style scoped>\n",
       "    .dataframe tbody tr th:only-of-type {\n",
       "        vertical-align: middle;\n",
       "    }\n",
       "\n",
       "    .dataframe tbody tr th {\n",
       "        vertical-align: top;\n",
       "    }\n",
       "\n",
       "    .dataframe thead th {\n",
       "        text-align: right;\n",
       "    }\n",
       "</style>\n",
       "<table border=\"1\" class=\"dataframe\">\n",
       "  <thead>\n",
       "    <tr style=\"text-align: right;\">\n",
       "      <th></th>\n",
       "      <th>CreditScore</th>\n",
       "      <th>Geography</th>\n",
       "      <th>Gender</th>\n",
       "      <th>Age</th>\n",
       "      <th>Tenure</th>\n",
       "      <th>Balance</th>\n",
       "      <th>NumOfProducts</th>\n",
       "      <th>HasCrCard</th>\n",
       "      <th>IsActiveMember</th>\n",
       "      <th>EstimatedSalary</th>\n",
       "    </tr>\n",
       "  </thead>\n",
       "  <tbody>\n",
       "    <tr>\n",
       "      <th>0</th>\n",
       "      <td>619</td>\n",
       "      <td>France</td>\n",
       "      <td>Female</td>\n",
       "      <td>42</td>\n",
       "      <td>2.0</td>\n",
       "      <td>0.00</td>\n",
       "      <td>1</td>\n",
       "      <td>1</td>\n",
       "      <td>1</td>\n",
       "      <td>101348.88</td>\n",
       "    </tr>\n",
       "    <tr>\n",
       "      <th>1</th>\n",
       "      <td>608</td>\n",
       "      <td>Spain</td>\n",
       "      <td>Female</td>\n",
       "      <td>41</td>\n",
       "      <td>1.0</td>\n",
       "      <td>83807.86</td>\n",
       "      <td>1</td>\n",
       "      <td>0</td>\n",
       "      <td>1</td>\n",
       "      <td>112542.58</td>\n",
       "    </tr>\n",
       "    <tr>\n",
       "      <th>2</th>\n",
       "      <td>502</td>\n",
       "      <td>France</td>\n",
       "      <td>Female</td>\n",
       "      <td>42</td>\n",
       "      <td>8.0</td>\n",
       "      <td>159660.80</td>\n",
       "      <td>3</td>\n",
       "      <td>1</td>\n",
       "      <td>0</td>\n",
       "      <td>113931.57</td>\n",
       "    </tr>\n",
       "    <tr>\n",
       "      <th>3</th>\n",
       "      <td>699</td>\n",
       "      <td>France</td>\n",
       "      <td>Female</td>\n",
       "      <td>39</td>\n",
       "      <td>1.0</td>\n",
       "      <td>0.00</td>\n",
       "      <td>2</td>\n",
       "      <td>0</td>\n",
       "      <td>0</td>\n",
       "      <td>93826.63</td>\n",
       "    </tr>\n",
       "    <tr>\n",
       "      <th>4</th>\n",
       "      <td>850</td>\n",
       "      <td>Spain</td>\n",
       "      <td>Female</td>\n",
       "      <td>43</td>\n",
       "      <td>2.0</td>\n",
       "      <td>125510.82</td>\n",
       "      <td>1</td>\n",
       "      <td>1</td>\n",
       "      <td>1</td>\n",
       "      <td>79084.10</td>\n",
       "    </tr>\n",
       "  </tbody>\n",
       "</table>\n",
       "</div>"
      ],
      "text/plain": [
       "   CreditScore Geography  Gender  Age  Tenure    Balance  NumOfProducts  \\\n",
       "0          619    France  Female   42     2.0       0.00              1   \n",
       "1          608     Spain  Female   41     1.0   83807.86              1   \n",
       "2          502    France  Female   42     8.0  159660.80              3   \n",
       "3          699    France  Female   39     1.0       0.00              2   \n",
       "4          850     Spain  Female   43     2.0  125510.82              1   \n",
       "\n",
       "   HasCrCard  IsActiveMember  EstimatedSalary  \n",
       "0          1               1        101348.88  \n",
       "1          0               1        112542.58  \n",
       "2          1               0        113931.57  \n",
       "3          0               0         93826.63  \n",
       "4          1               1         79084.10  "
      ]
     },
     "execution_count": 12,
     "metadata": {},
     "output_type": "execute_result"
    }
   ],
   "source": [
    "features = df.drop(['Exited', 'RowNumber', 'CustomerId', 'Surname'], axis=1)\n",
    "target = df['Exited']\n",
    "features.head()"
   ]
  },
  {
   "cell_type": "markdown",
   "metadata": {},
   "source": [
    "Из признаков для дальнейшего обучения моделей исключила столбцы `RowNumber`, `CustomerId` и `Surname`, т.к. эти данные не влияют на целевой признак."
   ]
  },
  {
   "cell_type": "markdown",
   "metadata": {},
   "source": [
    "### Преобразование категориальных признаков, а так же масштабирование признаков"
   ]
  },
  {
   "cell_type": "code",
   "execution_count": 13,
   "metadata": {},
   "outputs": [
    {
     "data": {
      "text/html": [
       "<div>\n",
       "<style scoped>\n",
       "    .dataframe tbody tr th:only-of-type {\n",
       "        vertical-align: middle;\n",
       "    }\n",
       "\n",
       "    .dataframe tbody tr th {\n",
       "        vertical-align: top;\n",
       "    }\n",
       "\n",
       "    .dataframe thead th {\n",
       "        text-align: right;\n",
       "    }\n",
       "</style>\n",
       "<table border=\"1\" class=\"dataframe\">\n",
       "  <thead>\n",
       "    <tr style=\"text-align: right;\">\n",
       "      <th></th>\n",
       "      <th>CreditScore</th>\n",
       "      <th>Age</th>\n",
       "      <th>Tenure</th>\n",
       "      <th>Balance</th>\n",
       "      <th>NumOfProducts</th>\n",
       "      <th>HasCrCard</th>\n",
       "      <th>IsActiveMember</th>\n",
       "      <th>EstimatedSalary</th>\n",
       "      <th>Geography_Germany</th>\n",
       "      <th>Geography_Spain</th>\n",
       "      <th>Gender_Male</th>\n",
       "    </tr>\n",
       "  </thead>\n",
       "  <tbody>\n",
       "    <tr>\n",
       "      <th>0</th>\n",
       "      <td>-0.326221</td>\n",
       "      <td>0.293517</td>\n",
       "      <td>-0.817441</td>\n",
       "      <td>-1.225848</td>\n",
       "      <td>-0.911583</td>\n",
       "      <td>1</td>\n",
       "      <td>1</td>\n",
       "      <td>0.021886</td>\n",
       "      <td>0</td>\n",
       "      <td>0</td>\n",
       "      <td>0</td>\n",
       "    </tr>\n",
       "    <tr>\n",
       "      <th>1</th>\n",
       "      <td>-0.440036</td>\n",
       "      <td>0.198164</td>\n",
       "      <td>-1.138838</td>\n",
       "      <td>0.117350</td>\n",
       "      <td>-0.911583</td>\n",
       "      <td>0</td>\n",
       "      <td>1</td>\n",
       "      <td>0.216534</td>\n",
       "      <td>0</td>\n",
       "      <td>1</td>\n",
       "      <td>0</td>\n",
       "    </tr>\n",
       "    <tr>\n",
       "      <th>2</th>\n",
       "      <td>-1.536794</td>\n",
       "      <td>0.293517</td>\n",
       "      <td>1.110941</td>\n",
       "      <td>1.333053</td>\n",
       "      <td>2.527057</td>\n",
       "      <td>1</td>\n",
       "      <td>0</td>\n",
       "      <td>0.240687</td>\n",
       "      <td>0</td>\n",
       "      <td>0</td>\n",
       "      <td>0</td>\n",
       "    </tr>\n",
       "    <tr>\n",
       "      <th>3</th>\n",
       "      <td>0.501521</td>\n",
       "      <td>0.007457</td>\n",
       "      <td>-1.138838</td>\n",
       "      <td>-1.225848</td>\n",
       "      <td>0.807737</td>\n",
       "      <td>0</td>\n",
       "      <td>0</td>\n",
       "      <td>-0.108918</td>\n",
       "      <td>0</td>\n",
       "      <td>0</td>\n",
       "      <td>0</td>\n",
       "    </tr>\n",
       "    <tr>\n",
       "      <th>4</th>\n",
       "      <td>2.063884</td>\n",
       "      <td>0.388871</td>\n",
       "      <td>-0.817441</td>\n",
       "      <td>0.785728</td>\n",
       "      <td>-0.911583</td>\n",
       "      <td>1</td>\n",
       "      <td>1</td>\n",
       "      <td>-0.365276</td>\n",
       "      <td>0</td>\n",
       "      <td>1</td>\n",
       "      <td>0</td>\n",
       "    </tr>\n",
       "  </tbody>\n",
       "</table>\n",
       "</div>"
      ],
      "text/plain": [
       "   CreditScore       Age    Tenure   Balance  NumOfProducts  HasCrCard  \\\n",
       "0    -0.326221  0.293517 -0.817441 -1.225848      -0.911583          1   \n",
       "1    -0.440036  0.198164 -1.138838  0.117350      -0.911583          0   \n",
       "2    -1.536794  0.293517  1.110941  1.333053       2.527057          1   \n",
       "3     0.501521  0.007457 -1.138838 -1.225848       0.807737          0   \n",
       "4     2.063884  0.388871 -0.817441  0.785728      -0.911583          1   \n",
       "\n",
       "   IsActiveMember  EstimatedSalary  Geography_Germany  Geography_Spain  \\\n",
       "0               1         0.021886                  0                0   \n",
       "1               1         0.216534                  0                1   \n",
       "2               0         0.240687                  0                0   \n",
       "3               0        -0.108918                  0                0   \n",
       "4               1        -0.365276                  0                1   \n",
       "\n",
       "   Gender_Male  \n",
       "0            0  \n",
       "1            0  \n",
       "2            0  \n",
       "3            0  \n",
       "4            0  "
      ]
     },
     "execution_count": 13,
     "metadata": {},
     "output_type": "execute_result"
    }
   ],
   "source": [
    "features = pd.get_dummies(features, drop_first=True)\n",
    "\n",
    "numeric = ['CreditScore', 'Age', 'Tenure', 'Balance', 'NumOfProducts', 'EstimatedSalary']\n",
    "scaler = StandardScaler()\n",
    "scaler.fit(features[numeric])\n",
    "features[numeric] = scaler.transform(features[numeric])\n",
    "features.head()"
   ]
  },
  {
   "cell_type": "markdown",
   "metadata": {},
   "source": [
    "Для корректного обучения моделей преобразовала категориальные признаки в числовые путем прямого кодирования **One-Hot Encoding** с помощью функции `get_dummies` с аргументом *drop_first*.\n",
    "Так же произвела **стандартизирование** признаков из-за разного масштаба значений с помощью `StandardScaler`"
   ]
  },
  {
   "cell_type": "markdown",
   "metadata": {},
   "source": [
    "### Разбивка данных на обучающую, валидационную и тестовую выборки"
   ]
  },
  {
   "cell_type": "code",
   "execution_count": 14,
   "metadata": {},
   "outputs": [
    {
     "name": "stdout",
     "output_type": "stream",
     "text": [
      "Размер обучающей выборки: (6000, 11) , т.е. 60.0% от общего размера\n",
      "Размер валидационной выборки: (2000, 11) , т.е. 20.0% от общего размера\n",
      "Размер тестовой выборки: (2000, 11) , т.е. 20.0% от общего размера\n"
     ]
    }
   ],
   "source": [
    "features_train, features_test, target_train, target_test = train_test_split(\n",
    "    features, target, test_size=0.2, random_state=12345, stratify=target)\n",
    "features_train, features_valid, target_train, target_valid = train_test_split(\n",
    "    features_train, target_train, test_size=0.25, random_state=12345, stratify=target_train)\n",
    "print('Размер обучающей выборки:', features_train.shape, \n",
    "      ', т.е.','{:.1%}'.format(len(features_train)/len(df)), \n",
    "      'от общего размера', end='\\n')\n",
    "print('Размер валидационной выборки:', features_valid.shape, \n",
    "      ', т.е.','{:.1%}'.format(len(features_valid)/len(df)), \n",
    "      'от общего размера', end='\\n')\n",
    "print('Размер тестовой выборки:', features_test.shape, \n",
    "      ', т.е.','{:.1%}'.format(len(features_test)/len(df)), \n",
    "      'от общего размера', end='\\n')"
   ]
  },
  {
   "cell_type": "markdown",
   "metadata": {},
   "source": [
    "Разделила исходные данные на **обучающую**, **валидационную** и **тестовую** выборки с сохранением баланса классов целевого признака. "
   ]
  },
  {
   "cell_type": "markdown",
   "metadata": {},
   "source": [
    "### Функция подбора гиперпараметров для модели дерево решений"
   ]
  },
  {
   "cell_type": "code",
   "execution_count": 15,
   "metadata": {},
   "outputs": [],
   "source": [
    "def tree(fear_train, target_train, fear_valid, target_valid, random_state, max_depth, class_weight=None):\n",
    "    best_depth = 0\n",
    "    best_result_ac = 0\n",
    "    best_result_re = 0\n",
    "    best_result_pre = 0\n",
    "    best_result_f1 = 0\n",
    "    for depth in range(1, max_depth+1):\n",
    "        model = DecisionTreeClassifier(max_depth = depth, random_state = random_state, class_weight=class_weight)\n",
    "        model.fit(fear_train, target_train)\n",
    "        prediction_valid = model.predict(fear_valid)\n",
    "        result_ac = accuracy_score(target_valid, prediction_valid)\n",
    "        result_re = recall_score(target_valid, prediction_valid)\n",
    "        result_pre = precision_score(target_valid, prediction_valid, zero_division=0)\n",
    "        result_f1 = f1_score(target_valid, prediction_valid)\n",
    "        print('max_depth =', depth)\n",
    "        print('')\n",
    "        print('Accuracy :{:.3f}'.format(result_ac))\n",
    "        print('Recall :{:.3f}'.format(result_re))\n",
    "        print('Precision :{:.3f}'.format(result_pre))\n",
    "        print('F1 :{:.3f}'.format(result_f1))\n",
    "        print('-'*20)\n",
    "        print('')\n",
    "        if result_f1 > best_result_f1:\n",
    "            best_depth = depth\n",
    "            best_result_ac = result_ac\n",
    "            best_result_pre = result_pre\n",
    "            best_result_re = result_re\n",
    "            best_result_f1 = result_f1\n",
    "            model_tree = model\n",
    "    print('*'*40)\n",
    "    print('''Наилучший результат \n",
    "    \n",
    "    Accuracy {:.3f}\n",
    "    Recall :{:.3f}\n",
    "    Precision :{:.3f}\n",
    "    F1 :{:.3f} \n",
    "    \n",
    "    при максимальной глубине дерева {}'''.format(best_result_ac, best_result_re, best_result_pre, best_result_f1, best_depth))\n",
    "    print('*'*40)\n",
    "    return model_tree "
   ]
  },
  {
   "cell_type": "markdown",
   "metadata": {},
   "source": [
    "### Сохранение модели дерево решений с наилучшими параметрами"
   ]
  },
  {
   "cell_type": "code",
   "execution_count": 16,
   "metadata": {},
   "outputs": [
    {
     "name": "stdout",
     "output_type": "stream",
     "text": [
      "max_depth = 1\n",
      "\n",
      "Accuracy :0.796\n",
      "Recall :0.000\n",
      "Precision :0.000\n",
      "F1 :0.000\n",
      "--------------------\n",
      "\n",
      "max_depth = 2\n",
      "\n",
      "Accuracy :0.836\n",
      "Recall :0.428\n",
      "Precision :0.647\n",
      "F1 :0.515\n",
      "--------------------\n",
      "\n",
      "max_depth = 3\n",
      "\n",
      "Accuracy :0.835\n",
      "Recall :0.243\n",
      "Precision :0.818\n",
      "F1 :0.375\n",
      "--------------------\n",
      "\n",
      "max_depth = 4\n",
      "\n",
      "Accuracy :0.850\n",
      "Recall :0.396\n",
      "Precision :0.745\n",
      "F1 :0.517\n",
      "--------------------\n",
      "\n",
      "max_depth = 5\n",
      "\n",
      "Accuracy :0.847\n",
      "Recall :0.322\n",
      "Precision :0.809\n",
      "F1 :0.460\n",
      "--------------------\n",
      "\n",
      "max_depth = 6\n",
      "\n",
      "Accuracy :0.854\n",
      "Recall :0.405\n",
      "Precision :0.764\n",
      "F1 :0.530\n",
      "--------------------\n",
      "\n",
      "max_depth = 7\n",
      "\n",
      "Accuracy :0.854\n",
      "Recall :0.430\n",
      "Precision :0.745\n",
      "F1 :0.545\n",
      "--------------------\n",
      "\n",
      "max_depth = 8\n",
      "\n",
      "Accuracy :0.856\n",
      "Recall :0.494\n",
      "Precision :0.708\n",
      "F1 :0.582\n",
      "--------------------\n",
      "\n",
      "max_depth = 9\n",
      "\n",
      "Accuracy :0.847\n",
      "Recall :0.501\n",
      "Precision :0.662\n",
      "F1 :0.571\n",
      "--------------------\n",
      "\n",
      "max_depth = 10\n",
      "\n",
      "Accuracy :0.838\n",
      "Recall :0.455\n",
      "Precision :0.642\n",
      "F1 :0.532\n",
      "--------------------\n",
      "\n",
      "****************************************\n",
      "Наилучший результат \n",
      "    \n",
      "    Accuracy 0.856\n",
      "    Recall :0.494\n",
      "    Precision :0.708\n",
      "    F1 :0.582 \n",
      "    \n",
      "    при максимальной глубине дерева 8\n",
      "****************************************\n"
     ]
    }
   ],
   "source": [
    "model_tree = tree(features_train, target_train, features_valid, target_valid, 12345, 10)"
   ]
  },
  {
   "cell_type": "markdown",
   "metadata": {},
   "source": [
    "### Функция подбора гиперпараметров для модели слуйчайный лес"
   ]
  },
  {
   "cell_type": "code",
   "execution_count": 17,
   "metadata": {},
   "outputs": [],
   "source": [
    "def forest(fear_train, target_train, fear_valid, target_valid, random_state, max_depth, n_est, class_weight=None):\n",
    "    best_depth = 0\n",
    "    best_est = 0\n",
    "    best_result_ac = 0\n",
    "    best_result_re = 0\n",
    "    best_result_pre = 0\n",
    "    best_result_f1 = 0\n",
    "    for est in range(1, n_est+1):\n",
    "#         print('n_est =', est)\n",
    "#         print('_'*25)\n",
    "#         print('')\n",
    "        for depth in range(1, max_depth+1):\n",
    "            model = RandomForestClassifier(random_state = random_state, \n",
    "                                           max_depth = depth, \n",
    "                                           n_estimators = est, \n",
    "                                           class_weight=class_weight)\n",
    "            model.fit(fear_train, target_train)\n",
    "            prediction_valid = model.predict(fear_valid)\n",
    "            result_ac = accuracy_score(target_valid, prediction_valid)\n",
    "            result_re = recall_score(target_valid, prediction_valid)\n",
    "            result_pre = precision_score(target_valid, prediction_valid, zero_division=0)\n",
    "            result_f1 = f1_score(target_valid, prediction_valid)\n",
    "#             print('max_depth =', depth)\n",
    "#             print('')\n",
    "#             print('Accuracy :{:.3f}'.format(result_ac))\n",
    "#             print('Recall :{:.3f}'.format(result_re))\n",
    "#             print('Precision :{:.3f}'.format(result_pre))\n",
    "#             print('F1 :{:.3f}'.format(result_f1))\n",
    "#             print('-'*20)\n",
    "#             print('')\n",
    "            if result_f1 > best_result_f1:\n",
    "                best_depth = depth\n",
    "                best_est = est\n",
    "                best_result_ac = result_ac\n",
    "                best_result_pre = result_pre\n",
    "                best_result_re = result_re\n",
    "                best_result_f1 = result_f1\n",
    "                model_forest = model\n",
    "#         print('_'*25)\n",
    "#         print('')\n",
    "#     print('*'*20)\n",
    "    print('''Наилучший результат \n",
    "    \n",
    "    Accuracy {:.3f}\n",
    "    Recall :{:.3f}\n",
    "    Precision :{:.3f}\n",
    "    F1 :{:.3f} \n",
    "    \n",
    "при максимальной глубине дерева {} \n",
    "и максимальном количестве деревьев {}'''.format(best_result_ac, \n",
    "                                                best_result_re, \n",
    "                                                best_result_pre, \n",
    "                                                best_result_f1, \n",
    "                                                best_depth, \n",
    "                                                best_est))\n",
    "    print('*'*40)\n",
    "    return model_forest "
   ]
  },
  {
   "cell_type": "markdown",
   "metadata": {},
   "source": [
    "### Сохранение модели случайный лес с наилучшими гиперпараметрами"
   ]
  },
  {
   "cell_type": "code",
   "execution_count": 18,
   "metadata": {},
   "outputs": [
    {
     "name": "stdout",
     "output_type": "stream",
     "text": [
      "Наилучший результат \n",
      "    \n",
      "    Accuracy 0.864\n",
      "    Recall :0.452\n",
      "    Precision :0.790\n",
      "    F1 :0.575 \n",
      "    \n",
      "при максимальной глубине дерева 12 \n",
      "и максимальном количестве деревьев 17\n",
      "****************************************\n"
     ]
    }
   ],
   "source": [
    "model_forest = forest(features_train, target_train, features_valid, target_valid, 12345, 15, 20)"
   ]
  },
  {
   "cell_type": "markdown",
   "metadata": {},
   "source": [
    "### Функция для подбора гиперпараметров для модели логистическая регрессия"
   ]
  },
  {
   "cell_type": "code",
   "execution_count": 19,
   "metadata": {},
   "outputs": [],
   "source": [
    "def regression(fear_train, target_train, fear_valid, target_valid, random_state, max_iter, class_weight=None):\n",
    "    best_result_ac = 0\n",
    "    best_result_re = 0\n",
    "    best_result_pre = 0\n",
    "    best_result_f1 = 0\n",
    "    best_iter = 0\n",
    "    for iters in range(100, max_iter+1, 100):\n",
    "        model = LogisticRegression(random_state = random_state, \n",
    "                                   solver='lbfgs', \n",
    "                                   max_iter=iters, \n",
    "                                   multi_class='multinomial', \n",
    "                                   class_weight=class_weight)\n",
    "        model.fit(fear_train, target_train)\n",
    "        prediction_valid = model.predict(fear_valid)\n",
    "        result_ac = accuracy_score(target_valid, prediction_valid)\n",
    "        result_re = recall_score(target_valid, prediction_valid)\n",
    "        result_pre = precision_score(target_valid, prediction_valid)\n",
    "        result_f1 = f1_score(target_valid, prediction_valid)\n",
    "        print('max_iter =', iters)\n",
    "        print('')\n",
    "        print('Accuracy :{:.3f}'.format(result_ac))\n",
    "        print('Recall :{:.3f}'.format(result_re))\n",
    "        print('Precision :{:.3f}'.format(result_pre))\n",
    "        print('F1 :{:.3f}'.format(result_f1))\n",
    "        print('-'*20)\n",
    "        print('')\n",
    "\n",
    "    model_reg = model\n",
    "    return model_reg"
   ]
  },
  {
   "cell_type": "markdown",
   "metadata": {},
   "source": [
    "### Сохранение модели логистическая регрессия"
   ]
  },
  {
   "cell_type": "code",
   "execution_count": 20,
   "metadata": {},
   "outputs": [
    {
     "name": "stdout",
     "output_type": "stream",
     "text": [
      "max_iter = 100\n",
      "\n",
      "Accuracy :0.819\n",
      "Recall :0.214\n",
      "Precision :0.674\n",
      "F1 :0.325\n",
      "--------------------\n",
      "\n"
     ]
    }
   ],
   "source": [
    "model_regression = regression(features_train, target_train, features_valid, target_valid, 12345, 100)"
   ]
  },
  {
   "cell_type": "markdown",
   "metadata": {},
   "source": [
    "### Вывод"
   ]
  },
  {
   "cell_type": "markdown",
   "metadata": {},
   "source": [
    "В ходе исследования задачи, получила следующие выводы:\n",
    "\n",
    "1. Баланс классов на исходных данных\n",
    "    * 80% - клиент остался, целевой признак равен 0\n",
    "    * 20% - клиент ушел, целевой признак равен 1\n",
    "2. Для формирования фрейма с признаками исключила 3 столбца с данными, не влияющими на целевой признак\n",
    "    * `RowNumber` — индекс строки в данных\n",
    "    * `CustomerId` — уникальный идентификатор клиента\n",
    "    * `Surname` — фамилия\n",
    "3. Для корректного обучения моделей необходимо было преобразовать категориальные признаки в численные в столбцах `Gender` и `Geography`\n",
    "4. Так же из-за разного масштаба в численных значениях мной была применена стандартизация признаков, для корректной работы моделей прогнозирования\n",
    "5. При игнорирования дисбаланса классов целевого признака имеем следующие показатели:\n",
    "    * Модель **дерево решений**\n",
    "        - Accuracy 0.856\n",
    "        - Recall :0.494\n",
    "        - Precision :0.708\n",
    "        - F1 :0.582\n",
    "    * Модель **случайный лес**\n",
    "        - Accuracy 0.864\n",
    "        - Recall :0.452\n",
    "        - Precision :0.790\n",
    "        - F1 :0.575\n",
    "    * Модель **логистическая регрессия**\n",
    "        - Accuracy :0.819\n",
    "        - Recall :0.214\n",
    "        - Precision :0.674\n",
    "        - F1 :0.325"
   ]
  },
  {
   "cell_type": "markdown",
   "metadata": {},
   "source": [
    "## Борьба с дисбалансом"
   ]
  },
  {
   "cell_type": "markdown",
   "metadata": {},
   "source": [
    "### Взвешивание классов"
   ]
  },
  {
   "cell_type": "markdown",
   "metadata": {},
   "source": [
    "#### Модель дерево решений"
   ]
  },
  {
   "cell_type": "code",
   "execution_count": 21,
   "metadata": {},
   "outputs": [
    {
     "name": "stdout",
     "output_type": "stream",
     "text": [
      "max_depth = 1\n",
      "\n",
      "Accuracy :0.700\n",
      "Recall :0.735\n",
      "Precision :0.378\n",
      "F1 :0.499\n",
      "--------------------\n",
      "\n",
      "max_depth = 2\n",
      "\n",
      "Accuracy :0.701\n",
      "Recall :0.757\n",
      "Precision :0.382\n",
      "F1 :0.507\n",
      "--------------------\n",
      "\n",
      "max_depth = 3\n",
      "\n",
      "Accuracy :0.806\n",
      "Recall :0.545\n",
      "Precision :0.522\n",
      "F1 :0.534\n",
      "--------------------\n",
      "\n",
      "max_depth = 4\n",
      "\n",
      "Accuracy :0.727\n",
      "Recall :0.796\n",
      "Precision :0.411\n",
      "F1 :0.542\n",
      "--------------------\n",
      "\n",
      "max_depth = 5\n",
      "\n",
      "Accuracy :0.744\n",
      "Recall :0.799\n",
      "Precision :0.430\n",
      "F1 :0.559\n",
      "--------------------\n",
      "\n",
      "max_depth = 6\n",
      "\n",
      "Accuracy :0.760\n",
      "Recall :0.791\n",
      "Precision :0.450\n",
      "F1 :0.573\n",
      "--------------------\n",
      "\n",
      "max_depth = 7\n",
      "\n",
      "Accuracy :0.758\n",
      "Recall :0.774\n",
      "Precision :0.446\n",
      "F1 :0.566\n",
      "--------------------\n",
      "\n",
      "max_depth = 8\n",
      "\n",
      "Accuracy :0.761\n",
      "Recall :0.744\n",
      "Precision :0.448\n",
      "F1 :0.559\n",
      "--------------------\n",
      "\n",
      "max_depth = 9\n",
      "\n",
      "Accuracy :0.750\n",
      "Recall :0.695\n",
      "Precision :0.430\n",
      "F1 :0.531\n",
      "--------------------\n",
      "\n",
      "max_depth = 10\n",
      "\n",
      "Accuracy :0.753\n",
      "Recall :0.676\n",
      "Precision :0.432\n",
      "F1 :0.527\n",
      "--------------------\n",
      "\n",
      "****************************************\n",
      "Наилучший результат \n",
      "    \n",
      "    Accuracy 0.760\n",
      "    Recall :0.791\n",
      "    Precision :0.450\n",
      "    F1 :0.573 \n",
      "    \n",
      "    при максимальной глубине дерева 6\n",
      "****************************************\n"
     ]
    }
   ],
   "source": [
    "model_tree_weight = tree(features_train, target_train, features_valid, target_valid, 12345, 10, 'balanced')"
   ]
  },
  {
   "cell_type": "markdown",
   "metadata": {},
   "source": [
    "#### Модель случайный лес"
   ]
  },
  {
   "cell_type": "code",
   "execution_count": 22,
   "metadata": {},
   "outputs": [
    {
     "name": "stdout",
     "output_type": "stream",
     "text": [
      "Наилучший результат \n",
      "    \n",
      "    Accuracy 0.834\n",
      "    Recall :0.703\n",
      "    Precision :0.575\n",
      "    F1 :0.633 \n",
      "    \n",
      "при максимальной глубине дерева 8 \n",
      "и максимальном количестве деревьев 16\n",
      "****************************************\n"
     ]
    }
   ],
   "source": [
    "model_forest_weight = forest(features_train, target_train, features_valid, target_valid, 12345, 15, 20, 'balanced')"
   ]
  },
  {
   "cell_type": "markdown",
   "metadata": {},
   "source": [
    "#### Модель логистической регрессии"
   ]
  },
  {
   "cell_type": "code",
   "execution_count": 23,
   "metadata": {},
   "outputs": [
    {
     "name": "stdout",
     "output_type": "stream",
     "text": [
      "max_iter = 100\n",
      "\n",
      "Accuracy :0.718\n",
      "Recall :0.722\n",
      "Precision :0.394\n",
      "F1 :0.510\n",
      "--------------------\n",
      "\n"
     ]
    }
   ],
   "source": [
    "model_regression_weight = regression(features_train, target_train, features_valid, target_valid, 12345, 100, 'balanced')"
   ]
  },
  {
   "cell_type": "markdown",
   "metadata": {},
   "source": [
    "При использование метода взвешивания классов имеем следующие результаты:\n",
    "\n",
    "* Модель **дерево решений**\n",
    "    - Accuracy 0.760\n",
    "    - Recall :0.791\n",
    "    - Precision :0.450\n",
    "    - F1 :0.573\n",
    "* Модель **случайный лес**\n",
    "    - Accuracy 0.834\n",
    "    - Recall :0.703\n",
    "    - Precision :0.575\n",
    "    - F1 :0.633\n",
    "* Модель **логистическая регрессия**\n",
    "    - Accuracy :0.718\n",
    "    - Recall :0.722\n",
    "    - Precision :0.394\n",
    "    - F1 :0.510"
   ]
  },
  {
   "cell_type": "markdown",
   "metadata": {},
   "source": [
    "### Увеличение выборки"
   ]
  },
  {
   "cell_type": "markdown",
   "metadata": {},
   "source": [
    "#### Функция увеличения обучающей выборки"
   ]
  },
  {
   "cell_type": "code",
   "execution_count": 24,
   "metadata": {},
   "outputs": [],
   "source": [
    "def upsample(features, target, repeat):\n",
    "    features_zeros = features[target == 0]\n",
    "    features_ones = features[target == 1]\n",
    "    target_zeros = target[target == 0]\n",
    "    target_ones = target[target == 1]\n",
    "\n",
    "    features_upsampled = pd.concat([features_zeros] + [features_ones] * repeat)\n",
    "    target_upsampled = pd.concat([target_zeros] + [target_ones] * repeat)\n",
    "    \n",
    "    features_upsampled, target_upsampled = shuffle(\n",
    "        features_upsampled, target_upsampled, random_state=12345)\n",
    "    \n",
    "    return features_upsampled, target_upsampled"
   ]
  },
  {
   "cell_type": "markdown",
   "metadata": {},
   "source": [
    "#### Сохранение увеличенных выборок"
   ]
  },
  {
   "cell_type": "code",
   "execution_count": 55,
   "metadata": {},
   "outputs": [],
   "source": [
    "(features_upsampled_train, \n",
    " target_upsampled_train) = upsample(features_train, \n",
    "                                    target_train, \n",
    "                                    4)"
   ]
  },
  {
   "cell_type": "code",
   "execution_count": 56,
   "metadata": {},
   "outputs": [
    {
     "data": {
      "text/plain": [
       "1    4892\n",
       "0    4777\n",
       "Name: Exited, dtype: int64"
      ]
     },
     "execution_count": 56,
     "metadata": {},
     "output_type": "execute_result"
    }
   ],
   "source": [
    "target_upsampled_train.value_counts()"
   ]
  },
  {
   "cell_type": "markdown",
   "metadata": {},
   "source": [
    "#### Модель дерево решений"
   ]
  },
  {
   "cell_type": "code",
   "execution_count": 34,
   "metadata": {},
   "outputs": [
    {
     "name": "stdout",
     "output_type": "stream",
     "text": [
      "max_depth = 1\n",
      "\n",
      "Accuracy :0.700\n",
      "Recall :0.735\n",
      "Precision :0.378\n",
      "F1 :0.499\n",
      "--------------------\n",
      "\n",
      "max_depth = 2\n",
      "\n",
      "Accuracy :0.701\n",
      "Recall :0.757\n",
      "Precision :0.382\n",
      "F1 :0.507\n",
      "--------------------\n",
      "\n",
      "max_depth = 3\n",
      "\n",
      "Accuracy :0.701\n",
      "Recall :0.757\n",
      "Precision :0.382\n",
      "F1 :0.507\n",
      "--------------------\n",
      "\n",
      "max_depth = 4\n",
      "\n",
      "Accuracy :0.727\n",
      "Recall :0.796\n",
      "Precision :0.411\n",
      "F1 :0.542\n",
      "--------------------\n",
      "\n",
      "max_depth = 5\n",
      "\n",
      "Accuracy :0.745\n",
      "Recall :0.801\n",
      "Precision :0.431\n",
      "F1 :0.561\n",
      "--------------------\n",
      "\n",
      "max_depth = 6\n",
      "\n",
      "Accuracy :0.763\n",
      "Recall :0.789\n",
      "Precision :0.453\n",
      "F1 :0.575\n",
      "--------------------\n",
      "\n",
      "max_depth = 7\n",
      "\n",
      "Accuracy :0.759\n",
      "Recall :0.774\n",
      "Precision :0.447\n",
      "F1 :0.567\n",
      "--------------------\n",
      "\n",
      "max_depth = 8\n",
      "\n",
      "Accuracy :0.755\n",
      "Recall :0.715\n",
      "Precision :0.438\n",
      "F1 :0.543\n",
      "--------------------\n",
      "\n",
      "max_depth = 9\n",
      "\n",
      "Accuracy :0.755\n",
      "Recall :0.703\n",
      "Precision :0.437\n",
      "F1 :0.539\n",
      "--------------------\n",
      "\n",
      "max_depth = 10\n",
      "\n",
      "Accuracy :0.756\n",
      "Recall :0.651\n",
      "Precision :0.434\n",
      "F1 :0.521\n",
      "--------------------\n",
      "\n",
      "****************************************\n",
      "Наилучший результат \n",
      "    \n",
      "    Accuracy 0.763\n",
      "    Recall :0.789\n",
      "    Precision :0.453\n",
      "    F1 :0.575 \n",
      "    \n",
      "    при максимальной глубине дерева 6\n",
      "****************************************\n"
     ]
    }
   ],
   "source": [
    "model_tree_up = tree(features_upsampled_train, target_upsampled_train, features_valid, target_valid, 12345, 10)"
   ]
  },
  {
   "cell_type": "markdown",
   "metadata": {},
   "source": [
    "#### Модель случайный лес"
   ]
  },
  {
   "cell_type": "code",
   "execution_count": 35,
   "metadata": {},
   "outputs": [
    {
     "name": "stdout",
     "output_type": "stream",
     "text": [
      "Наилучший результат \n",
      "    \n",
      "    Accuracy 0.823\n",
      "    Recall :0.737\n",
      "    Precision :0.548\n",
      "    F1 :0.629 \n",
      "    \n",
      "при максимальной глубине дерева 9 \n",
      "и максимальном количестве деревьев 20\n",
      "****************************************\n"
     ]
    }
   ],
   "source": [
    "model_forest_up = forest(features_upsampled_train, target_upsampled_train, features_valid, target_valid, 12345, 15, 20)"
   ]
  },
  {
   "cell_type": "markdown",
   "metadata": {},
   "source": [
    "#### Модель логистическая регрессия"
   ]
  },
  {
   "cell_type": "code",
   "execution_count": 36,
   "metadata": {},
   "outputs": [
    {
     "name": "stdout",
     "output_type": "stream",
     "text": [
      "max_iter = 100\n",
      "\n",
      "Accuracy :0.712\n",
      "Recall :0.727\n",
      "Precision :0.388\n",
      "F1 :0.506\n",
      "--------------------\n",
      "\n"
     ]
    }
   ],
   "source": [
    "model_regression_up = regression(features_upsampled_train, target_upsampled_train, features_valid, target_valid, 12345, 100)"
   ]
  },
  {
   "cell_type": "markdown",
   "metadata": {},
   "source": [
    "При использовании метода увеличения выборки имеем следующие результаты:\n",
    "\n",
    "* Модель **дерево решений**\n",
    "    - Accuracy 0.763\n",
    "    - Recall :0.789\n",
    "    - Precision :0.453\n",
    "    - F1 :0.575\n",
    "* Модель **случайный лес**\n",
    "    - Accuracy 0.823\n",
    "    - Recall :0.737\n",
    "    - Precision :0.548\n",
    "    - F1 :0.629\n",
    "* Модель **логистическая регрессия**\n",
    "    - Accuracy :0.712\n",
    "    - Recall :0.727\n",
    "    - Precision :0.388\n",
    "    - F1 :0.506"
   ]
  },
  {
   "cell_type": "markdown",
   "metadata": {},
   "source": [
    "### Уменьшение выборки"
   ]
  },
  {
   "cell_type": "markdown",
   "metadata": {},
   "source": [
    "#### Функция уменьшения обучающей выборки"
   ]
  },
  {
   "cell_type": "code",
   "execution_count": 38,
   "metadata": {},
   "outputs": [],
   "source": [
    "def downsample(features, target, fraction):\n",
    "    features_zeros = features[target == 0]\n",
    "    features_ones = features[target == 1]\n",
    "    target_zeros = target[target == 0]\n",
    "    target_ones = target[target == 1]\n",
    "\n",
    "    features_downsampled = pd.concat(\n",
    "        [features_zeros.sample(frac=fraction, random_state=12345)] + [features_ones])\n",
    "    target_downsampled = pd.concat(\n",
    "        [target_zeros.sample(frac=fraction, random_state=12345)] + [target_ones])\n",
    "    \n",
    "    features_downsampled, target_downsampled = shuffle(\n",
    "        features_downsampled, target_downsampled, random_state=12345)\n",
    "    \n",
    "    return features_downsampled, target_downsampled"
   ]
  },
  {
   "cell_type": "markdown",
   "metadata": {},
   "source": [
    "#### Сохранение уменьшенных выборок"
   ]
  },
  {
   "cell_type": "code",
   "execution_count": 54,
   "metadata": {},
   "outputs": [],
   "source": [
    "(features_downsampled_train, \n",
    " target_downsampled_train) = downsample(features_train, \n",
    "                                        target_train, \n",
    "                                        0.25)"
   ]
  },
  {
   "cell_type": "code",
   "execution_count": 50,
   "metadata": {},
   "outputs": [
    {
     "data": {
      "text/plain": [
       "1    1223\n",
       "0    1194\n",
       "Name: Exited, dtype: int64"
      ]
     },
     "execution_count": 50,
     "metadata": {},
     "output_type": "execute_result"
    }
   ],
   "source": [
    "target_downsampled_train.value_counts()"
   ]
  },
  {
   "cell_type": "markdown",
   "metadata": {},
   "source": [
    "#### Модель дерево решений"
   ]
  },
  {
   "cell_type": "code",
   "execution_count": 51,
   "metadata": {},
   "outputs": [
    {
     "name": "stdout",
     "output_type": "stream",
     "text": [
      "max_depth = 1\n",
      "\n",
      "Accuracy :0.668\n",
      "Recall :0.754\n",
      "Precision :0.352\n",
      "F1 :0.480\n",
      "--------------------\n",
      "\n",
      "max_depth = 2\n",
      "\n",
      "Accuracy :0.668\n",
      "Recall :0.771\n",
      "Precision :0.355\n",
      "F1 :0.486\n",
      "--------------------\n",
      "\n",
      "max_depth = 3\n",
      "\n",
      "Accuracy :0.788\n",
      "Recall :0.555\n",
      "Precision :0.482\n",
      "F1 :0.516\n",
      "--------------------\n",
      "\n",
      "max_depth = 4\n",
      "\n",
      "Accuracy :0.703\n",
      "Recall :0.799\n",
      "Precision :0.388\n",
      "F1 :0.523\n",
      "--------------------\n",
      "\n",
      "max_depth = 5\n",
      "\n",
      "Accuracy :0.730\n",
      "Recall :0.826\n",
      "Precision :0.417\n",
      "F1 :0.554\n",
      "--------------------\n",
      "\n",
      "max_depth = 6\n",
      "\n",
      "Accuracy :0.799\n",
      "Recall :0.722\n",
      "Precision :0.504\n",
      "F1 :0.594\n",
      "--------------------\n",
      "\n",
      "max_depth = 7\n",
      "\n",
      "Accuracy :0.737\n",
      "Recall :0.776\n",
      "Precision :0.421\n",
      "F1 :0.546\n",
      "--------------------\n",
      "\n",
      "max_depth = 8\n",
      "\n",
      "Accuracy :0.748\n",
      "Recall :0.732\n",
      "Precision :0.430\n",
      "F1 :0.542\n",
      "--------------------\n",
      "\n",
      "max_depth = 9\n",
      "\n",
      "Accuracy :0.716\n",
      "Recall :0.730\n",
      "Precision :0.393\n",
      "F1 :0.511\n",
      "--------------------\n",
      "\n",
      "max_depth = 10\n",
      "\n",
      "Accuracy :0.725\n",
      "Recall :0.730\n",
      "Precision :0.402\n",
      "F1 :0.519\n",
      "--------------------\n",
      "\n",
      "****************************************\n",
      "Наилучший результат \n",
      "    \n",
      "    Accuracy 0.799\n",
      "    Recall :0.722\n",
      "    Precision :0.504\n",
      "    F1 :0.594 \n",
      "    \n",
      "    при максимальной глубине дерева 6\n",
      "****************************************\n"
     ]
    }
   ],
   "source": [
    "model_tree_down = tree(features_downsampled_train, target_downsampled_train, features_valid, target_valid, 12345, 10)"
   ]
  },
  {
   "cell_type": "markdown",
   "metadata": {},
   "source": [
    "#### Модель случайный лес"
   ]
  },
  {
   "cell_type": "code",
   "execution_count": 52,
   "metadata": {},
   "outputs": [
    {
     "name": "stdout",
     "output_type": "stream",
     "text": [
      "Наилучший результат \n",
      "    \n",
      "    Accuracy 0.802\n",
      "    Recall :0.776\n",
      "    Precision :0.510\n",
      "    F1 :0.615 \n",
      "    \n",
      "при максимальной глубине дерева 8 \n",
      "и максимальном количестве деревьев 19\n",
      "****************************************\n"
     ]
    }
   ],
   "source": [
    "model_forest_down = forest(features_downsampled_train, target_downsampled_train, features_valid, target_valid, 12345, 15, 20)"
   ]
  },
  {
   "cell_type": "markdown",
   "metadata": {},
   "source": [
    "#### Модель логистическая регрессия"
   ]
  },
  {
   "cell_type": "code",
   "execution_count": 53,
   "metadata": {},
   "outputs": [
    {
     "name": "stdout",
     "output_type": "stream",
     "text": [
      "max_iter = 100\n",
      "\n",
      "Accuracy :0.711\n",
      "Recall :0.722\n",
      "Precision :0.387\n",
      "F1 :0.504\n",
      "--------------------\n",
      "\n"
     ]
    }
   ],
   "source": [
    "model_regression_down = regression(features_downsampled_train, \n",
    "                                   target_downsampled_train, \n",
    "                                   features_valid, \n",
    "                                   target_valid, \n",
    "                                   12345, \n",
    "                                   100)"
   ]
  },
  {
   "cell_type": "markdown",
   "metadata": {},
   "source": [
    "При использовании метода уменьшения выборки имеем следующие результаты:\n",
    "\n",
    "* Модель **дерево решений**\n",
    "    - Accuracy 0.799\n",
    "    - Recall :0.722\n",
    "    - Precision :0.504\n",
    "    - F1 :0.594 \n",
    "* Модель **случайный лес**\n",
    "    - Accuracy 0.802\n",
    "    - Recall :0.776\n",
    "    - Precision :0.510\n",
    "    - F1 :0.615\n",
    "* Модель **логистическая регрессия**\n",
    "    - Accuracy :0.711\n",
    "    - Recall :0.722\n",
    "    - Precision :0.387\n",
    "    - F1 :0.504"
   ]
  },
  {
   "cell_type": "markdown",
   "metadata": {},
   "source": [
    "### Вывод"
   ]
  },
  {
   "cell_type": "markdown",
   "metadata": {},
   "source": [
    "Наиболее высокие результаты показал метод взвешивания классов:\n",
    "\n",
    "* Модель **дерево решений**\n",
    "    - Accuracy 0.760\n",
    "    - Recall :0.791\n",
    "    - Precision :0.450\n",
    "    - F1 :0.573\n",
    "* Модель **случайный лес**\n",
    "    - Accuracy 0.834\n",
    "    - Recall :0.703\n",
    "    - Precision :0.575\n",
    "    - F1 :0.633\n",
    "* Модель **логистическая регрессия**\n",
    "    - Accuracy :0.718\n",
    "    - Recall :0.722\n",
    "    - Precision :0.394\n",
    "    - F1 :0.510"
   ]
  },
  {
   "cell_type": "markdown",
   "metadata": {},
   "source": [
    "## Тестирование модели"
   ]
  },
  {
   "cell_type": "markdown",
   "metadata": {},
   "source": [
    "### Функция подсчета площади под ROC-кривой"
   ]
  },
  {
   "cell_type": "code",
   "execution_count": 58,
   "metadata": {},
   "outputs": [],
   "source": [
    "def auc_roc(model):\n",
    "    probabilities_valid = model.predict_proba(features_valid)\n",
    "    probabilities_one_valid = probabilities_valid[:, 1]\n",
    "    auc_roc = roc_auc_score(target_valid, probabilities_one_valid)\n",
    "    print('Площадь под ROC-кривой: {:.3f}'.format(auc_roc))"
   ]
  },
  {
   "cell_type": "markdown",
   "metadata": {},
   "source": [
    "### Модель дерево решений"
   ]
  },
  {
   "cell_type": "code",
   "execution_count": 35,
   "metadata": {},
   "outputs": [
    {
     "name": "stdout",
     "output_type": "stream",
     "text": [
      "Accuracy 0.760\n",
      "Precision 0.449\n",
      "Recall 0.784\n",
      "F1 0.571\n",
      "Площадь под ROC-кривой: 0.833\n"
     ]
    }
   ],
   "source": [
    "predict_tree = model_tree_weight.predict(features_test)\n",
    "print('Accuracy {:.3f}'.format(accuracy_score(target_test, predict_tree)))\n",
    "print('Precision {:.3f}'.format(precision_score(target_test, predict_tree)))\n",
    "print('Recall {:.3f}'.format(recall_score(target_test, predict_tree)))\n",
    "print('F1 {:.3f}'.format(f1_score(target_test, predict_tree)))\n",
    "auc_roc(model_tree_weight)"
   ]
  },
  {
   "cell_type": "code",
   "execution_count": 59,
   "metadata": {},
   "outputs": [
    {
     "name": "stdout",
     "output_type": "stream",
     "text": [
      "Accuracy 0.760\n",
      "Precision 0.449\n",
      "Recall 0.781\n",
      "F1 0.570\n",
      "Площадь под ROC-кривой: 0.834\n"
     ]
    }
   ],
   "source": [
    "predict_tree = model_tree_up.predict(features_test)\n",
    "print('Accuracy {:.3f}'.format(accuracy_score(target_test, predict_tree)))\n",
    "print('Precision {:.3f}'.format(precision_score(target_test, predict_tree)))\n",
    "print('Recall {:.3f}'.format(recall_score(target_test, predict_tree)))\n",
    "print('F1 {:.3f}'.format(f1_score(target_test, predict_tree)))\n",
    "auc_roc(model_tree_up)"
   ]
  },
  {
   "cell_type": "markdown",
   "metadata": {},
   "source": [
    "### Модель случайный лес"
   ]
  },
  {
   "cell_type": "code",
   "execution_count": 36,
   "metadata": {},
   "outputs": [
    {
     "name": "stdout",
     "output_type": "stream",
     "text": [
      "Accuracy 0.828\n",
      "Precision 0.561\n",
      "Recall 0.715\n",
      "F1 0.629\n",
      "Площадь под ROC-кривой: 0.863\n"
     ]
    }
   ],
   "source": [
    "predict_forest = model_forest_weight.predict(features_test)\n",
    "print('Accuracy {:.3f}'.format(accuracy_score(target_test, predict_forest)))\n",
    "print('Precision {:.3f}'.format(precision_score(target_test, predict_forest)))\n",
    "print('Recall {:.3f}'.format(recall_score(target_test, predict_forest)))\n",
    "print('F1 {:.3f}'.format(f1_score(target_test, predict_forest)))\n",
    "auc_roc(model_forest_weight)"
   ]
  },
  {
   "cell_type": "code",
   "execution_count": 60,
   "metadata": {},
   "outputs": [
    {
     "name": "stdout",
     "output_type": "stream",
     "text": [
      "Accuracy 0.822\n",
      "Precision 0.546\n",
      "Recall 0.735\n",
      "F1 0.626\n",
      "Площадь под ROC-кривой: 0.868\n"
     ]
    }
   ],
   "source": [
    "predict_forest = model_forest_up.predict(features_test)\n",
    "print('Accuracy {:.3f}'.format(accuracy_score(target_test, predict_forest)))\n",
    "print('Precision {:.3f}'.format(precision_score(target_test, predict_forest)))\n",
    "print('Recall {:.3f}'.format(recall_score(target_test, predict_forest)))\n",
    "print('F1 {:.3f}'.format(f1_score(target_test, predict_forest)))\n",
    "auc_roc(model_forest_up)"
   ]
  },
  {
   "cell_type": "markdown",
   "metadata": {},
   "source": [
    "### Модель логистическая регрессия"
   ]
  },
  {
   "cell_type": "code",
   "execution_count": 37,
   "metadata": {},
   "outputs": [
    {
     "name": "stdout",
     "output_type": "stream",
     "text": [
      "Accuracy 0.710\n",
      "Precision 0.387\n",
      "Recall 0.730\n",
      "F1 0.506\n",
      "Площадь под ROC-кривой: 0.792\n"
     ]
    }
   ],
   "source": [
    "predict_regression = model_regression_weight.predict(features_test)\n",
    "print('Accuracy {:.3f}'.format(accuracy_score(target_test, predict_regression)))\n",
    "print('Precision {:.3f}'.format(precision_score(target_test, predict_regression)))\n",
    "print('Recall {:.3f}'.format(recall_score(target_test, predict_regression)))\n",
    "print('F1 {:.3f}'.format(f1_score(target_test, predict_regression)))\n",
    "auc_roc(model_regression_weight)"
   ]
  },
  {
   "cell_type": "markdown",
   "metadata": {},
   "source": [
    "### Вывод"
   ]
  },
  {
   "cell_type": "markdown",
   "metadata": {},
   "source": [
    "При проверке моделей на тестовой выборке с использованием метода взвешивания классов получены следующие результаты:\n",
    "\n",
    "* Модель **дерево решений**\n",
    "    - Accuracy 0.760\n",
    "    - Precision 0.449\n",
    "    - Recall 0.784\n",
    "    - F1 0.571\n",
    "    - Площадь под ROC-кривой: 0.833\n",
    "* Модель **случайный лес**\n",
    "    - Accuracy 0.828\n",
    "    - Precision 0.561\n",
    "    - Recall 0.715\n",
    "    - F1 0.629\n",
    "    - Площадь под ROC-кривой: 0.863\n",
    "* Модель **логистическая регрессия**\n",
    "    - Accuracy 0.710\n",
    "    - Precision 0.387\n",
    "    - Recall 0.730\n",
    "    - F1 0.506\n",
    "    - Площадь под ROC-кривой: 0.792"
   ]
  },
  {
   "cell_type": "markdown",
   "metadata": {},
   "source": [
    "## Выводы"
   ]
  },
  {
   "cell_type": "markdown",
   "metadata": {},
   "source": [
    "В ходе исследования были рассмотены три модели классификации:\n",
    "\n",
    "* Модель **дерево решений**\n",
    "* Модель **случайный лес**\n",
    "* Модель **логистическая регрессия**\n",
    "\n",
    "Так же в ходе исследования были рассмотрены три метода борьбы с дисбалансом классов целевого признака:\n",
    "\n",
    "* Метод **взвешивание классов**\n",
    "* Метод **увеличение выборки**\n",
    "* Метод **уменьшение выборки**\n",
    "\n",
    "Наилучшим образом на валидационной и тестовой выборках показала себя модель **случайный лес**, получившая следующие результаты:\n",
    "\n",
    "* Accuracy 0.828\n",
    "* Precision 0.561\n",
    "* Recall 0.715\n",
    "* F1 0.629\n",
    "* Площадь под ROC-кривой: 0.863\n",
    "\n",
    "Достигнуто необходимое значение `F1`-меры - 0.63, так же рассчитано значение площади под кривой `auc-roc` для оценки качества модели."
   ]
  }
 ],
 "metadata": {
  "ExecuteTimeLog": [
   {
    "duration": 49,
    "start_time": "2022-10-17T20:18:37.865Z"
   },
   {
    "duration": 1044,
    "start_time": "2022-10-18T05:56:20.554Z"
   },
   {
    "duration": 78,
    "start_time": "2022-10-18T05:56:21.600Z"
   },
   {
    "duration": 3,
    "start_time": "2022-10-18T05:56:21.680Z"
   },
   {
    "duration": 66,
    "start_time": "2022-10-18T05:56:21.684Z"
   },
   {
    "duration": 9,
    "start_time": "2022-10-18T05:56:21.752Z"
   },
   {
    "duration": 7,
    "start_time": "2022-10-18T05:56:21.763Z"
   },
   {
    "duration": 18,
    "start_time": "2022-10-18T05:56:21.772Z"
   },
   {
    "duration": 9,
    "start_time": "2022-10-18T05:56:21.791Z"
   },
   {
    "duration": 21,
    "start_time": "2022-10-18T05:56:21.801Z"
   },
   {
    "duration": 11,
    "start_time": "2022-10-18T05:56:21.824Z"
   },
   {
    "duration": 17,
    "start_time": "2022-10-18T05:56:21.836Z"
   },
   {
    "duration": 21,
    "start_time": "2022-10-18T05:56:21.854Z"
   },
   {
    "duration": 42,
    "start_time": "2022-10-18T05:56:21.877Z"
   },
   {
    "duration": 14,
    "start_time": "2022-10-18T05:56:21.923Z"
   },
   {
    "duration": 16,
    "start_time": "2022-10-18T05:56:21.938Z"
   },
   {
    "duration": 214,
    "start_time": "2022-10-18T05:56:21.956Z"
   },
   {
    "duration": 6,
    "start_time": "2022-10-18T05:56:22.173Z"
   },
   {
    "duration": 16481,
    "start_time": "2022-10-18T05:56:22.182Z"
   },
   {
    "duration": 6,
    "start_time": "2022-10-18T05:56:38.665Z"
   },
   {
    "duration": 59,
    "start_time": "2022-10-18T05:56:38.673Z"
   },
   {
    "duration": 461,
    "start_time": "2022-10-18T05:56:38.734Z"
   },
   {
    "duration": 17000,
    "start_time": "2022-10-18T05:56:39.197Z"
   },
   {
    "duration": 42,
    "start_time": "2022-10-18T05:56:56.199Z"
   },
   {
    "duration": 11,
    "start_time": "2022-10-18T05:56:56.321Z"
   },
   {
    "duration": 14,
    "start_time": "2022-10-18T05:56:56.422Z"
   },
   {
    "duration": 10,
    "start_time": "2022-10-18T05:56:56.438Z"
   },
   {
    "duration": 5,
    "start_time": "2022-10-18T05:57:06.103Z"
   },
   {
    "duration": 12,
    "start_time": "2022-10-18T05:58:31.823Z"
   },
   {
    "duration": 5,
    "start_time": "2022-10-18T05:58:35.161Z"
   },
   {
    "duration": 8,
    "start_time": "2022-10-18T05:58:53.276Z"
   },
   {
    "duration": 6,
    "start_time": "2022-10-18T05:58:55.902Z"
   },
   {
    "duration": 10,
    "start_time": "2022-10-18T05:59:13.580Z"
   },
   {
    "duration": 5,
    "start_time": "2022-10-18T05:59:15.624Z"
   },
   {
    "duration": 258,
    "start_time": "2022-10-18T05:59:37.398Z"
   },
   {
    "duration": 22304,
    "start_time": "2022-10-18T05:59:47.878Z"
   },
   {
    "duration": 93,
    "start_time": "2022-10-18T06:00:19.133Z"
   },
   {
    "duration": 93,
    "start_time": "2022-10-18T06:01:04.197Z"
   },
   {
    "duration": 4,
    "start_time": "2022-10-18T06:01:15.605Z"
   },
   {
    "duration": 8,
    "start_time": "2022-10-18T06:01:16.723Z"
   },
   {
    "duration": 5,
    "start_time": "2022-10-18T06:01:18.455Z"
   },
   {
    "duration": 9,
    "start_time": "2022-10-18T06:02:21.808Z"
   },
   {
    "duration": 6,
    "start_time": "2022-10-18T06:02:23.311Z"
   },
   {
    "duration": 13,
    "start_time": "2022-10-18T06:02:30.992Z"
   },
   {
    "duration": 7,
    "start_time": "2022-10-18T06:02:32.424Z"
   },
   {
    "duration": 9,
    "start_time": "2022-10-18T06:02:40.953Z"
   },
   {
    "duration": 5,
    "start_time": "2022-10-18T06:02:42.388Z"
   },
   {
    "duration": 12,
    "start_time": "2022-10-18T06:02:48.917Z"
   },
   {
    "duration": 5,
    "start_time": "2022-10-18T06:02:50.508Z"
   },
   {
    "duration": 10,
    "start_time": "2022-10-18T06:03:11.498Z"
   },
   {
    "duration": 5,
    "start_time": "2022-10-18T06:03:12.942Z"
   },
   {
    "duration": 127,
    "start_time": "2022-10-18T06:03:30.244Z"
   },
   {
    "duration": 10536,
    "start_time": "2022-10-18T06:03:40.958Z"
   },
   {
    "duration": 30,
    "start_time": "2022-10-18T06:03:59.506Z"
   },
   {
    "duration": 13,
    "start_time": "2022-10-18T06:07:26.052Z"
   },
   {
    "duration": 10,
    "start_time": "2022-10-18T06:08:21.172Z"
   },
   {
    "duration": 5,
    "start_time": "2022-10-18T06:08:24.767Z"
   },
   {
    "duration": 17,
    "start_time": "2022-10-18T06:21:50.904Z"
   },
   {
    "duration": 3,
    "start_time": "2022-10-18T06:21:58.778Z"
   },
   {
    "duration": 14,
    "start_time": "2022-10-18T06:22:04.841Z"
   },
   {
    "duration": 30,
    "start_time": "2022-10-18T06:23:05.034Z"
   }
  ],
  "kernelspec": {
   "display_name": "Python 3 (ipykernel)",
   "language": "python",
   "name": "python3"
  },
  "language_info": {
   "codemirror_mode": {
    "name": "ipython",
    "version": 3
   },
   "file_extension": ".py",
   "mimetype": "text/x-python",
   "name": "python",
   "nbconvert_exporter": "python",
   "pygments_lexer": "ipython3",
   "version": "3.9.7"
  },
  "toc": {
   "base_numbering": 1,
   "nav_menu": {},
   "number_sections": true,
   "sideBar": true,
   "skip_h1_title": true,
   "title_cell": "Содержание",
   "title_sidebar": "Contents",
   "toc_cell": true,
   "toc_position": {
    "height": "calc(100% - 180px)",
    "left": "10px",
    "top": "150px",
    "width": "269px"
   },
   "toc_section_display": true,
   "toc_window_display": false
  }
 },
 "nbformat": 4,
 "nbformat_minor": 4
}
