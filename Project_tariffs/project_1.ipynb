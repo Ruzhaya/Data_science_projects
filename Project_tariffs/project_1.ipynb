{
 "cells": [
  {
   "cell_type": "markdown",
   "metadata": {
    "toc": true
   },
   "source": [
    "<h1>Содержание<span class=\"tocSkip\"></span></h1>\n",
    "<div class=\"toc\"><ul class=\"toc-item\"><li><span><a href=\"#Откройте-и-изучите-файл\" data-toc-modified-id=\"Откройте-и-изучите-файл-1\"><span class=\"toc-item-num\">1&nbsp;&nbsp;</span>Откройте и изучите файл</a></span><ul class=\"toc-item\"><li><span><a href=\"#Подключение-библиотек\" data-toc-modified-id=\"Подключение-библиотек-1.1\"><span class=\"toc-item-num\">1.1&nbsp;&nbsp;</span>Подключение библиотек</a></span></li><li><span><a href=\"#Загрузка-файла\" data-toc-modified-id=\"Загрузка-файла-1.2\"><span class=\"toc-item-num\">1.2&nbsp;&nbsp;</span>Загрузка файла</a></span></li><li><span><a href=\"#Функция-для-первичного-анализа-базы\" data-toc-modified-id=\"Функция-для-первичного-анализа-базы-1.3\"><span class=\"toc-item-num\">1.3&nbsp;&nbsp;</span>Функция для первичного анализа базы</a></span></li><li><span><a href=\"#Анализ-базы\" data-toc-modified-id=\"Анализ-базы-1.4\"><span class=\"toc-item-num\">1.4&nbsp;&nbsp;</span>Анализ базы</a></span></li><li><span><a href=\"#Вывод\" data-toc-modified-id=\"Вывод-1.5\"><span class=\"toc-item-num\">1.5&nbsp;&nbsp;</span>Вывод</a></span></li></ul></li><li><span><a href=\"#Разбейте-данные-на-выборки\" data-toc-modified-id=\"Разбейте-данные-на-выборки-2\"><span class=\"toc-item-num\">2&nbsp;&nbsp;</span>Разбейте данные на выборки</a></span><ul class=\"toc-item\"><li><span><a href=\"#Формирование-признаков-features-и-целевого-признака-target\" data-toc-modified-id=\"Формирование-признаков-features-и-целевого-признака-target-2.1\"><span class=\"toc-item-num\">2.1&nbsp;&nbsp;</span>Формирование признаков <code>features</code> и целевого признака <code>target</code></a></span></li><li><span><a href=\"#Разбивка-данных-на-обучающую,-валидационную-и-тестовую-выборки\" data-toc-modified-id=\"Разбивка-данных-на-обучающую,-валидационную-и-тестовую-выборки-2.2\"><span class=\"toc-item-num\">2.2&nbsp;&nbsp;</span>Разбивка данных на обучающую, валидационную и тестовую выборки</a></span></li><li><span><a href=\"#Вывод\" data-toc-modified-id=\"Вывод-2.3\"><span class=\"toc-item-num\">2.3&nbsp;&nbsp;</span>Вывод</a></span></li></ul></li><li><span><a href=\"#Исследуйте-модели\" data-toc-modified-id=\"Исследуйте-модели-3\"><span class=\"toc-item-num\">3&nbsp;&nbsp;</span>Исследуйте модели</a></span><ul class=\"toc-item\"><li><span><a href=\"#Модель-решающее-дерево\" data-toc-modified-id=\"Модель-решающее-дерево-3.1\"><span class=\"toc-item-num\">3.1&nbsp;&nbsp;</span>Модель решающее дерево</a></span><ul class=\"toc-item\"><li><span><a href=\"#Функция-подбора-гиперпараметров-для-Дерева-решений\" data-toc-modified-id=\"Функция-подбора-гиперпараметров-для-Дерева-решений-3.1.1\"><span class=\"toc-item-num\">3.1.1&nbsp;&nbsp;</span>Функция подбора гиперпараметров для Дерева решений</a></span></li><li><span><a href=\"#Сохранение-модели-с-наилучшими-гиперпараметрами\" data-toc-modified-id=\"Сохранение-модели-с-наилучшими-гиперпараметрами-3.1.2\"><span class=\"toc-item-num\">3.1.2&nbsp;&nbsp;</span>Сохранение модели с наилучшими гиперпараметрами</a></span></li><li><span><a href=\"#Перекрёстная-проверка\" data-toc-modified-id=\"Перекрёстная-проверка-3.1.3\"><span class=\"toc-item-num\">3.1.3&nbsp;&nbsp;</span>Перекрёстная проверка</a></span></li></ul></li><li><span><a href=\"#Модель-случайный-лес\" data-toc-modified-id=\"Модель-случайный-лес-3.2\"><span class=\"toc-item-num\">3.2&nbsp;&nbsp;</span>Модель случайный лес</a></span><ul class=\"toc-item\"><li><span><a href=\"#Функция-подбора-гиперпараметров-для-Случайного-леса\" data-toc-modified-id=\"Функция-подбора-гиперпараметров-для-Случайного-леса-3.2.1\"><span class=\"toc-item-num\">3.2.1&nbsp;&nbsp;</span>Функция подбора гиперпараметров для Случайного леса</a></span></li><li><span><a href=\"#Сохранение-модели-с-наилучшими-гиперпараметрами\" data-toc-modified-id=\"Сохранение-модели-с-наилучшими-гиперпараметрами-3.2.2\"><span class=\"toc-item-num\">3.2.2&nbsp;&nbsp;</span>Сохранение модели с наилучшими гиперпараметрами</a></span></li><li><span><a href=\"#Перекрёстная-проверка\" data-toc-modified-id=\"Перекрёстная-проверка-3.2.3\"><span class=\"toc-item-num\">3.2.3&nbsp;&nbsp;</span>Перекрёстная проверка</a></span></li></ul></li><li><span><a href=\"#Модель-логистическая-регрессия\" data-toc-modified-id=\"Модель-логистическая-регрессия-3.3\"><span class=\"toc-item-num\">3.3&nbsp;&nbsp;</span>Модель логистическая регрессия</a></span><ul class=\"toc-item\"><li><span><a href=\"#Функция-подбора-гиперпараметров-для-Логистической-регрессии\" data-toc-modified-id=\"Функция-подбора-гиперпараметров-для-Логистической-регрессии-3.3.1\"><span class=\"toc-item-num\">3.3.1&nbsp;&nbsp;</span>Функция подбора гиперпараметров для Логистической регрессии</a></span></li><li><span><a href=\"#Сохранение-модели-с-наилучшими-гиперпараметрами\" data-toc-modified-id=\"Сохранение-модели-с-наилучшими-гиперпараметрами-3.3.2\"><span class=\"toc-item-num\">3.3.2&nbsp;&nbsp;</span>Сохранение модели с наилучшими гиперпараметрами</a></span></li></ul></li><li><span><a href=\"#Вывод\" data-toc-modified-id=\"Вывод-3.4\"><span class=\"toc-item-num\">3.4&nbsp;&nbsp;</span>Вывод</a></span></li></ul></li><li><span><a href=\"#Проверьте-модель-на-тестовой-выборке\" data-toc-modified-id=\"Проверьте-модель-на-тестовой-выборке-4\"><span class=\"toc-item-num\">4&nbsp;&nbsp;</span>Проверьте модель на тестовой выборке</a></span><ul class=\"toc-item\"><li><span><a href=\"#Проверка-модели-решающее-дерево\" data-toc-modified-id=\"Проверка-модели-решающее-дерево-4.1\"><span class=\"toc-item-num\">4.1&nbsp;&nbsp;</span>Проверка модели решающее дерево</a></span></li><li><span><a href=\"#Проверка-модели-случайный-лес\" data-toc-modified-id=\"Проверка-модели-случайный-лес-4.2\"><span class=\"toc-item-num\">4.2&nbsp;&nbsp;</span>Проверка модели случайный лес</a></span></li><li><span><a href=\"#Проверка-модели-логистическая-регрессия\" data-toc-modified-id=\"Проверка-модели-логистическая-регрессия-4.3\"><span class=\"toc-item-num\">4.3&nbsp;&nbsp;</span>Проверка модели логистическая регрессия</a></span></li><li><span><a href=\"#Вывод\" data-toc-modified-id=\"Вывод-4.4\"><span class=\"toc-item-num\">4.4&nbsp;&nbsp;</span>Вывод</a></span></li></ul></li><li><span><a href=\"#(бонус)-Проверьте-модели-на-адекватность\" data-toc-modified-id=\"(бонус)-Проверьте-модели-на-адекватность-5\"><span class=\"toc-item-num\">5&nbsp;&nbsp;</span>(бонус) Проверьте модели на адекватность</a></span></li><li><span><a href=\"#Выводы\" data-toc-modified-id=\"Выводы-6\"><span class=\"toc-item-num\">6&nbsp;&nbsp;</span>Выводы</a></span></li></ul></div>"
   ]
  },
  {
   "cell_type": "markdown",
   "metadata": {},
   "source": [
    "# Рекомендация тарифов"
   ]
  },
  {
   "cell_type": "markdown",
   "metadata": {},
   "source": [
    "Нужно построить модель для задачи классификации, которая выберет подходящий тариф. Пороговое значение **accuracy** - не ниже 0,75.\n",
    "\n",
    "# Описание данных\n",
    "Каждый объект в наборе данных — это информация о поведении одного пользователя за месяц.\n",
    "\n",
    "* сalls — количество звонков,\n",
    "* minutes — суммарная длительность звонков в минутах,\n",
    "* messages — количество sms-сообщений,\n",
    "* mb_used — израсходованный интернет-трафик в Мб,\n",
    "* is_ultra — каким тарифом пользовался в течение месяца («Ультра» — 1, «Смарт» — 0)."
   ]
  },
  {
   "cell_type": "markdown",
   "metadata": {},
   "source": [
    "## Загрузка и анализ данных"
   ]
  },
  {
   "cell_type": "markdown",
   "metadata": {},
   "source": [
    "### Подключение библиотек"
   ]
  },
  {
   "cell_type": "code",
   "execution_count": 1,
   "metadata": {},
   "outputs": [],
   "source": [
    "import pandas as pd\n",
    "from sklearn.tree import DecisionTreeClassifier\n",
    "from sklearn.ensemble import RandomForestClassifier\n",
    "from sklearn.linear_model import LogisticRegression\n",
    "from sklearn.model_selection import train_test_split\n",
    "from sklearn.metrics import accuracy_score\n",
    "from sklearn.model_selection import cross_val_score"
   ]
  },
  {
   "cell_type": "markdown",
   "metadata": {},
   "source": [
    "### Загрузка файла"
   ]
  },
  {
   "cell_type": "code",
   "execution_count": 2,
   "metadata": {},
   "outputs": [],
   "source": [
    "try:\n",
    "    df = pd.read_csv('users_behavior.csv')\n",
    "except:\n",
    "    df = pd.read_csv('/datasets/users_behavior.csv')"
   ]
  },
  {
   "cell_type": "markdown",
   "metadata": {},
   "source": [
    "### Функция для первичного анализа базы"
   ]
  },
  {
   "cell_type": "code",
   "execution_count": 3,
   "metadata": {},
   "outputs": [],
   "source": [
    "def data_info(data):\n",
    "    data.info()\n",
    "    print('')\n",
    "    print('*'*50)\n",
    "    display(data.head())\n",
    "    print('')\n",
    "    print('*'*50)\n",
    "    display(data.describe())"
   ]
  },
  {
   "cell_type": "markdown",
   "metadata": {},
   "source": [
    "### Анализ базы"
   ]
  },
  {
   "cell_type": "code",
   "execution_count": 4,
   "metadata": {},
   "outputs": [
    {
     "name": "stdout",
     "output_type": "stream",
     "text": [
      "<class 'pandas.core.frame.DataFrame'>\n",
      "RangeIndex: 3214 entries, 0 to 3213\n",
      "Data columns (total 5 columns):\n",
      " #   Column    Non-Null Count  Dtype  \n",
      "---  ------    --------------  -----  \n",
      " 0   calls     3214 non-null   float64\n",
      " 1   minutes   3214 non-null   float64\n",
      " 2   messages  3214 non-null   float64\n",
      " 3   mb_used   3214 non-null   float64\n",
      " 4   is_ultra  3214 non-null   int64  \n",
      "dtypes: float64(4), int64(1)\n",
      "memory usage: 125.7 KB\n",
      "\n",
      "**************************************************\n"
     ]
    },
    {
     "data": {
      "text/html": [
       "<div>\n",
       "<style scoped>\n",
       "    .dataframe tbody tr th:only-of-type {\n",
       "        vertical-align: middle;\n",
       "    }\n",
       "\n",
       "    .dataframe tbody tr th {\n",
       "        vertical-align: top;\n",
       "    }\n",
       "\n",
       "    .dataframe thead th {\n",
       "        text-align: right;\n",
       "    }\n",
       "</style>\n",
       "<table border=\"1\" class=\"dataframe\">\n",
       "  <thead>\n",
       "    <tr style=\"text-align: right;\">\n",
       "      <th></th>\n",
       "      <th>calls</th>\n",
       "      <th>minutes</th>\n",
       "      <th>messages</th>\n",
       "      <th>mb_used</th>\n",
       "      <th>is_ultra</th>\n",
       "    </tr>\n",
       "  </thead>\n",
       "  <tbody>\n",
       "    <tr>\n",
       "      <th>0</th>\n",
       "      <td>40.0</td>\n",
       "      <td>311.90</td>\n",
       "      <td>83.0</td>\n",
       "      <td>19915.42</td>\n",
       "      <td>0</td>\n",
       "    </tr>\n",
       "    <tr>\n",
       "      <th>1</th>\n",
       "      <td>85.0</td>\n",
       "      <td>516.75</td>\n",
       "      <td>56.0</td>\n",
       "      <td>22696.96</td>\n",
       "      <td>0</td>\n",
       "    </tr>\n",
       "    <tr>\n",
       "      <th>2</th>\n",
       "      <td>77.0</td>\n",
       "      <td>467.66</td>\n",
       "      <td>86.0</td>\n",
       "      <td>21060.45</td>\n",
       "      <td>0</td>\n",
       "    </tr>\n",
       "    <tr>\n",
       "      <th>3</th>\n",
       "      <td>106.0</td>\n",
       "      <td>745.53</td>\n",
       "      <td>81.0</td>\n",
       "      <td>8437.39</td>\n",
       "      <td>1</td>\n",
       "    </tr>\n",
       "    <tr>\n",
       "      <th>4</th>\n",
       "      <td>66.0</td>\n",
       "      <td>418.74</td>\n",
       "      <td>1.0</td>\n",
       "      <td>14502.75</td>\n",
       "      <td>0</td>\n",
       "    </tr>\n",
       "  </tbody>\n",
       "</table>\n",
       "</div>"
      ],
      "text/plain": [
       "   calls  minutes  messages   mb_used  is_ultra\n",
       "0   40.0   311.90      83.0  19915.42         0\n",
       "1   85.0   516.75      56.0  22696.96         0\n",
       "2   77.0   467.66      86.0  21060.45         0\n",
       "3  106.0   745.53      81.0   8437.39         1\n",
       "4   66.0   418.74       1.0  14502.75         0"
      ]
     },
     "metadata": {},
     "output_type": "display_data"
    },
    {
     "name": "stdout",
     "output_type": "stream",
     "text": [
      "\n",
      "**************************************************\n"
     ]
    },
    {
     "data": {
      "text/html": [
       "<div>\n",
       "<style scoped>\n",
       "    .dataframe tbody tr th:only-of-type {\n",
       "        vertical-align: middle;\n",
       "    }\n",
       "\n",
       "    .dataframe tbody tr th {\n",
       "        vertical-align: top;\n",
       "    }\n",
       "\n",
       "    .dataframe thead th {\n",
       "        text-align: right;\n",
       "    }\n",
       "</style>\n",
       "<table border=\"1\" class=\"dataframe\">\n",
       "  <thead>\n",
       "    <tr style=\"text-align: right;\">\n",
       "      <th></th>\n",
       "      <th>calls</th>\n",
       "      <th>minutes</th>\n",
       "      <th>messages</th>\n",
       "      <th>mb_used</th>\n",
       "      <th>is_ultra</th>\n",
       "    </tr>\n",
       "  </thead>\n",
       "  <tbody>\n",
       "    <tr>\n",
       "      <th>count</th>\n",
       "      <td>3214.000000</td>\n",
       "      <td>3214.000000</td>\n",
       "      <td>3214.000000</td>\n",
       "      <td>3214.000000</td>\n",
       "      <td>3214.000000</td>\n",
       "    </tr>\n",
       "    <tr>\n",
       "      <th>mean</th>\n",
       "      <td>63.038892</td>\n",
       "      <td>438.208787</td>\n",
       "      <td>38.281269</td>\n",
       "      <td>17207.673836</td>\n",
       "      <td>0.306472</td>\n",
       "    </tr>\n",
       "    <tr>\n",
       "      <th>std</th>\n",
       "      <td>33.236368</td>\n",
       "      <td>234.569872</td>\n",
       "      <td>36.148326</td>\n",
       "      <td>7570.968246</td>\n",
       "      <td>0.461100</td>\n",
       "    </tr>\n",
       "    <tr>\n",
       "      <th>min</th>\n",
       "      <td>0.000000</td>\n",
       "      <td>0.000000</td>\n",
       "      <td>0.000000</td>\n",
       "      <td>0.000000</td>\n",
       "      <td>0.000000</td>\n",
       "    </tr>\n",
       "    <tr>\n",
       "      <th>25%</th>\n",
       "      <td>40.000000</td>\n",
       "      <td>274.575000</td>\n",
       "      <td>9.000000</td>\n",
       "      <td>12491.902500</td>\n",
       "      <td>0.000000</td>\n",
       "    </tr>\n",
       "    <tr>\n",
       "      <th>50%</th>\n",
       "      <td>62.000000</td>\n",
       "      <td>430.600000</td>\n",
       "      <td>30.000000</td>\n",
       "      <td>16943.235000</td>\n",
       "      <td>0.000000</td>\n",
       "    </tr>\n",
       "    <tr>\n",
       "      <th>75%</th>\n",
       "      <td>82.000000</td>\n",
       "      <td>571.927500</td>\n",
       "      <td>57.000000</td>\n",
       "      <td>21424.700000</td>\n",
       "      <td>1.000000</td>\n",
       "    </tr>\n",
       "    <tr>\n",
       "      <th>max</th>\n",
       "      <td>244.000000</td>\n",
       "      <td>1632.060000</td>\n",
       "      <td>224.000000</td>\n",
       "      <td>49745.730000</td>\n",
       "      <td>1.000000</td>\n",
       "    </tr>\n",
       "  </tbody>\n",
       "</table>\n",
       "</div>"
      ],
      "text/plain": [
       "             calls      minutes     messages       mb_used     is_ultra\n",
       "count  3214.000000  3214.000000  3214.000000   3214.000000  3214.000000\n",
       "mean     63.038892   438.208787    38.281269  17207.673836     0.306472\n",
       "std      33.236368   234.569872    36.148326   7570.968246     0.461100\n",
       "min       0.000000     0.000000     0.000000      0.000000     0.000000\n",
       "25%      40.000000   274.575000     9.000000  12491.902500     0.000000\n",
       "50%      62.000000   430.600000    30.000000  16943.235000     0.000000\n",
       "75%      82.000000   571.927500    57.000000  21424.700000     1.000000\n",
       "max     244.000000  1632.060000   224.000000  49745.730000     1.000000"
      ]
     },
     "metadata": {},
     "output_type": "display_data"
    }
   ],
   "source": [
    "data_info(df)"
   ]
  },
  {
   "cell_type": "code",
   "execution_count": 5,
   "metadata": {},
   "outputs": [
    {
     "data": {
      "text/plain": [
       "0    2229\n",
       "1     985\n",
       "Name: is_ultra, dtype: int64"
      ]
     },
     "execution_count": 5,
     "metadata": {},
     "output_type": "execute_result"
    }
   ],
   "source": [
    "df['is_ultra'].value_counts()"
   ]
  },
  {
   "cell_type": "code",
   "execution_count": 6,
   "metadata": {},
   "outputs": [
    {
     "name": "stdout",
     "output_type": "stream",
     "text": [
      "Процентное соотношение тарифов Смарт 69%, Ультра 31%\n"
     ]
    }
   ],
   "source": [
    "print('Процентное соотношение тарифов Смарт {:.0%}, Ультра {:.0%}'.format(len(df[df['is_ultra'] == 0])/len(df), \n",
    "                                                                          len(df[df['is_ultra'] == 1])/len(df)))"
   ]
  },
  {
   "cell_type": "markdown",
   "metadata": {},
   "source": [
    "### Вывод"
   ]
  },
  {
   "cell_type": "markdown",
   "metadata": {},
   "source": [
    "В нашем распоряжении предобработанные данные о 3214 пользователей, распределение пользователей по тарифам:\n",
    "* \"Смарт\" - 2229 человек, **69%** от общего числа пользователей\n",
    "* \"Ультра\" - 985 человек, **31%** от общего числа пользователей "
   ]
  },
  {
   "cell_type": "markdown",
   "metadata": {},
   "source": [
    "## Подготовка данных"
   ]
  },
  {
   "cell_type": "markdown",
   "metadata": {},
   "source": [
    "### Формирование признаков `features` и целевого признака `target`"
   ]
  },
  {
   "cell_type": "code",
   "execution_count": 7,
   "metadata": {},
   "outputs": [],
   "source": [
    "features = df.drop(['is_ultra'], axis=1)\n",
    "target = df['is_ultra']"
   ]
  },
  {
   "cell_type": "markdown",
   "metadata": {},
   "source": [
    "### Разбивка данных на обучающую, валидационную и тестовую выборки"
   ]
  },
  {
   "cell_type": "code",
   "execution_count": 8,
   "metadata": {},
   "outputs": [
    {
     "name": "stdout",
     "output_type": "stream",
     "text": [
      "Размер обучающей выборки: (1928, 4) , т.е. 60.0% от общего размера\n",
      "Размер валидационной выборки: (643, 4) , т.е. 20.0% от общего размера\n",
      "Размер тестовой выборки: (643, 4) , т.е. 20.0% от общего размера\n"
     ]
    }
   ],
   "source": [
    "features_train, features_test, target_train, target_test = train_test_split(\n",
    "    features, target, test_size=0.2, random_state=12345)\n",
    "features_train, features_valid, target_train, target_valid = train_test_split(\n",
    "    features_train, target_train, test_size=0.25, random_state=12345)\n",
    "print('Размер обучающей выборки:', features_train.shape, \n",
    "      ', т.е.','{:.1%}'.format(len(features_train)/len(df)), \n",
    "      'от общего размера', end='\\n')\n",
    "print('Размер валидационной выборки:', features_valid.shape, \n",
    "      ', т.е.','{:.1%}'.format(len(features_valid)/len(df)), \n",
    "      'от общего размера', end='\\n')\n",
    "print('Размер тестовой выборки:', features_test.shape, \n",
    "      ', т.е.','{:.1%}'.format(len(features_test)/len(df)), \n",
    "      'от общего размера', end='\\n')"
   ]
  },
  {
   "cell_type": "markdown",
   "metadata": {},
   "source": [
    "### Вывод"
   ]
  },
  {
   "cell_type": "markdown",
   "metadata": {},
   "source": [
    "Дважды воспользовавшись функцией `train_test_split` мы получили:\n",
    "* **Обучающую** выборку, равную 60% от общего объема данных\n",
    "* **Валидационную** выборку, равную 20% от общего объема данных\n",
    "* **Тестовую** выборку, равную валидационной выборке и соответственно равной 20% от общего объема данных"
   ]
  },
  {
   "cell_type": "markdown",
   "metadata": {},
   "source": [
    "## Обучение моделей"
   ]
  },
  {
   "cell_type": "markdown",
   "metadata": {},
   "source": [
    "### Модель решающее дерево"
   ]
  },
  {
   "cell_type": "markdown",
   "metadata": {},
   "source": [
    "#### Функция подбора гиперпараметров для Дерева решений"
   ]
  },
  {
   "cell_type": "code",
   "execution_count": 9,
   "metadata": {},
   "outputs": [],
   "source": [
    "def tree(fear_train, target_train, fear_valid, target_valid, random_state, max_depth):\n",
    "    best_depth = 0\n",
    "    best_result = 0\n",
    "    for depth in range(1, max_depth+1):\n",
    "        model = DecisionTreeClassifier(max_depth = depth, random_state = random_state)\n",
    "        model.fit(fear_train, target_train)\n",
    "        prediction_valid = model.predict(fear_valid)\n",
    "        result = accuracy_score(target_valid, prediction_valid)\n",
    "        print('max_depth =', depth, ': ', end='')\n",
    "        print('{:.3f}'.format(result))\n",
    "        if result > best_result:\n",
    "            best_depth = depth\n",
    "            best_result = result\n",
    "            model_tree = model\n",
    "    print('-'*70)\n",
    "    print('Наилучший результат Accuracy {:.3f} при максимальной глубине дерева {}'.format(best_result, best_depth))\n",
    "    return model_tree"
   ]
  },
  {
   "cell_type": "markdown",
   "metadata": {},
   "source": [
    "#### Сохранение модели с наилучшими гиперпараметрами"
   ]
  },
  {
   "cell_type": "code",
   "execution_count": 10,
   "metadata": {},
   "outputs": [
    {
     "name": "stdout",
     "output_type": "stream",
     "text": [
      "max_depth = 1 : 0.739\n",
      "max_depth = 2 : 0.757\n",
      "max_depth = 3 : 0.765\n",
      "max_depth = 4 : 0.764\n",
      "max_depth = 5 : 0.759\n",
      "max_depth = 6 : 0.757\n",
      "----------------------------------------------------------------------\n",
      "Наилучший результат Accuracy 0.765 при максимальной глубине дерева 3\n"
     ]
    }
   ],
   "source": [
    "model_tree = tree(features_train, target_train, features_valid, target_valid, 12345, 6)"
   ]
  },
  {
   "cell_type": "markdown",
   "metadata": {},
   "source": [
    "#### Перекрёстная проверка"
   ]
  },
  {
   "cell_type": "code",
   "execution_count": 11,
   "metadata": {},
   "outputs": [
    {
     "name": "stdout",
     "output_type": "stream",
     "text": [
      "Средняя оценка Accuracy модели перекрестной валидацией 79.15%\n"
     ]
    }
   ],
   "source": [
    "print('Средняя оценка Accuracy модели перекрестной валидацией {:.2%}'\n",
    "      .format(cross_val_score(model_tree, features, target, cv=5).mean()))"
   ]
  },
  {
   "cell_type": "markdown",
   "metadata": {},
   "source": [
    "### Модель случайный лес"
   ]
  },
  {
   "cell_type": "markdown",
   "metadata": {},
   "source": [
    "#### Функция подбора гиперпараметров для Случайного леса"
   ]
  },
  {
   "cell_type": "code",
   "execution_count": 12,
   "metadata": {},
   "outputs": [],
   "source": [
    "def forest(fear_train, target_train, fear_valid, target_valid, random_state, max_depth, n_est):\n",
    "    best_depth = 0\n",
    "    best_result = 0\n",
    "    best_est = 0\n",
    "    for est in range(1, n_est+1):\n",
    "        print('n_est =', est)\n",
    "        print('-'*30)\n",
    "        for depth in range(1, max_depth+1):\n",
    "            model = RandomForestClassifier(random_state = random_state, max_depth = depth, n_estimators = est)\n",
    "            model.fit(fear_train, target_train)\n",
    "            prediction_valid = model.predict(fear_valid)\n",
    "            result = accuracy_score(target_valid, prediction_valid)\n",
    "            print('max_depth =', depth, ': ', end='')\n",
    "            print('{:.3f}'.format(result))\n",
    "            if result > best_result:\n",
    "                best_depth = depth\n",
    "                best_result = result\n",
    "                best_est = est\n",
    "                model_forest = model\n",
    "        print('')\n",
    "        print('-'*30)\n",
    "    print('Наилучший результат Accuracy {:.3f} при максимальной глубине дерева {} и максимальном количестве деревьев {}'\n",
    "          .format(best_result, best_depth, best_est))\n",
    "    return model_forest"
   ]
  },
  {
   "cell_type": "markdown",
   "metadata": {},
   "source": [
    "#### Сохранение модели с наилучшими гиперпараметрами"
   ]
  },
  {
   "cell_type": "code",
   "execution_count": 13,
   "metadata": {},
   "outputs": [
    {
     "name": "stdout",
     "output_type": "stream",
     "text": [
      "n_est = 1\n",
      "------------------------------\n",
      "max_depth = 1 : 0.726\n",
      "max_depth = 2 : 0.757\n",
      "max_depth = 3 : 0.757\n",
      "max_depth = 4 : 0.770\n",
      "max_depth = 5 : 0.771\n",
      "max_depth = 6 : 0.767\n",
      "\n",
      "------------------------------\n",
      "n_est = 2\n",
      "------------------------------\n",
      "max_depth = 1 : 0.726\n",
      "max_depth = 2 : 0.757\n",
      "max_depth = 3 : 0.757\n",
      "max_depth = 4 : 0.767\n",
      "max_depth = 5 : 0.767\n",
      "max_depth = 6 : 0.774\n",
      "\n",
      "------------------------------\n",
      "n_est = 3\n",
      "------------------------------\n",
      "max_depth = 1 : 0.726\n",
      "max_depth = 2 : 0.757\n",
      "max_depth = 3 : 0.760\n",
      "max_depth = 4 : 0.764\n",
      "max_depth = 5 : 0.764\n",
      "max_depth = 6 : 0.779\n",
      "\n",
      "------------------------------\n",
      "n_est = 4\n",
      "------------------------------\n",
      "max_depth = 1 : 0.726\n",
      "max_depth = 2 : 0.762\n",
      "max_depth = 3 : 0.760\n",
      "max_depth = 4 : 0.765\n",
      "max_depth = 5 : 0.762\n",
      "max_depth = 6 : 0.778\n",
      "\n",
      "------------------------------\n",
      "n_est = 5\n",
      "------------------------------\n",
      "max_depth = 1 : 0.726\n",
      "max_depth = 2 : 0.736\n",
      "max_depth = 3 : 0.760\n",
      "max_depth = 4 : 0.767\n",
      "max_depth = 5 : 0.770\n",
      "max_depth = 6 : 0.785\n",
      "\n",
      "------------------------------\n",
      "n_est = 6\n",
      "------------------------------\n",
      "max_depth = 1 : 0.728\n",
      "max_depth = 2 : 0.765\n",
      "max_depth = 3 : 0.765\n",
      "max_depth = 4 : 0.771\n",
      "max_depth = 5 : 0.770\n",
      "max_depth = 6 : 0.790\n",
      "\n",
      "------------------------------\n",
      "n_est = 7\n",
      "------------------------------\n",
      "max_depth = 1 : 0.729\n",
      "max_depth = 2 : 0.737\n",
      "max_depth = 3 : 0.768\n",
      "max_depth = 4 : 0.776\n",
      "max_depth = 5 : 0.776\n",
      "max_depth = 6 : 0.785\n",
      "\n",
      "------------------------------\n",
      "n_est = 8\n",
      "------------------------------\n",
      "max_depth = 1 : 0.731\n",
      "max_depth = 2 : 0.762\n",
      "max_depth = 3 : 0.770\n",
      "max_depth = 4 : 0.776\n",
      "max_depth = 5 : 0.778\n",
      "max_depth = 6 : 0.785\n",
      "\n",
      "------------------------------\n",
      "n_est = 9\n",
      "------------------------------\n",
      "max_depth = 1 : 0.731\n",
      "max_depth = 2 : 0.739\n",
      "max_depth = 3 : 0.768\n",
      "max_depth = 4 : 0.776\n",
      "max_depth = 5 : 0.778\n",
      "max_depth = 6 : 0.784\n",
      "\n",
      "------------------------------\n",
      "n_est = 10\n",
      "------------------------------\n",
      "max_depth = 1 : 0.731\n",
      "max_depth = 2 : 0.764\n",
      "max_depth = 3 : 0.771\n",
      "max_depth = 4 : 0.778\n",
      "max_depth = 5 : 0.778\n",
      "max_depth = 6 : 0.785\n",
      "\n",
      "------------------------------\n",
      "n_est = 11\n",
      "------------------------------\n",
      "max_depth = 1 : 0.731\n",
      "max_depth = 2 : 0.765\n",
      "max_depth = 3 : 0.774\n",
      "max_depth = 4 : 0.778\n",
      "max_depth = 5 : 0.776\n",
      "max_depth = 6 : 0.781\n",
      "\n",
      "------------------------------\n",
      "n_est = 12\n",
      "------------------------------\n",
      "max_depth = 1 : 0.731\n",
      "max_depth = 2 : 0.765\n",
      "max_depth = 3 : 0.768\n",
      "max_depth = 4 : 0.778\n",
      "max_depth = 5 : 0.779\n",
      "max_depth = 6 : 0.779\n",
      "\n",
      "------------------------------\n",
      "n_est = 13\n",
      "------------------------------\n",
      "max_depth = 1 : 0.731\n",
      "max_depth = 2 : 0.765\n",
      "max_depth = 3 : 0.774\n",
      "max_depth = 4 : 0.774\n",
      "max_depth = 5 : 0.778\n",
      "max_depth = 6 : 0.779\n",
      "\n",
      "------------------------------\n",
      "n_est = 14\n",
      "------------------------------\n",
      "max_depth = 1 : 0.731\n",
      "max_depth = 2 : 0.765\n",
      "max_depth = 3 : 0.770\n",
      "max_depth = 4 : 0.779\n",
      "max_depth = 5 : 0.779\n",
      "max_depth = 6 : 0.779\n",
      "\n",
      "------------------------------\n",
      "n_est = 15\n",
      "------------------------------\n",
      "max_depth = 1 : 0.731\n",
      "max_depth = 2 : 0.764\n",
      "max_depth = 3 : 0.778\n",
      "max_depth = 4 : 0.778\n",
      "max_depth = 5 : 0.778\n",
      "max_depth = 6 : 0.785\n",
      "\n",
      "------------------------------\n",
      "Наилучший результат Accuracy 0.790 при максимальной глубине дерева 6 и максимальном количестве деревьев 6\n"
     ]
    }
   ],
   "source": [
    "model_forest = forest(features_train, target_train, features_valid, target_valid, 12345, 6, 15)"
   ]
  },
  {
   "cell_type": "markdown",
   "metadata": {},
   "source": [
    "#### Перекрёстная проверка"
   ]
  },
  {
   "cell_type": "code",
   "execution_count": 14,
   "metadata": {},
   "outputs": [
    {
     "name": "stdout",
     "output_type": "stream",
     "text": [
      "Средняя оценка Accuracy модели перекрестной валидацией 80.34%\n"
     ]
    }
   ],
   "source": [
    "print('Средняя оценка Accuracy модели перекрестной валидацией {:.2%}'\n",
    "      .format(cross_val_score(model_forest, features, target, cv=5).mean()))"
   ]
  },
  {
   "cell_type": "markdown",
   "metadata": {},
   "source": [
    "### Модель логистическая регрессия"
   ]
  },
  {
   "cell_type": "markdown",
   "metadata": {},
   "source": [
    "#### Функция подбора гиперпараметров для Логистической регрессии"
   ]
  },
  {
   "cell_type": "code",
   "execution_count": 15,
   "metadata": {},
   "outputs": [],
   "source": [
    "def regression(fear_train, target_train, fear_valid, target_valid, random_state, max_iter):\n",
    "    best_result = 0\n",
    "    best_iter = 0\n",
    "    for iters in range(100, max_iter+1, 100):\n",
    "        model = LogisticRegression(random_state = random_state, solver='lbfgs', max_iter=iters, multi_class='multinomial')\n",
    "        model.fit(fear_train, target_train)\n",
    "        prediction_valid = model.predict(fear_valid)\n",
    "        result = model.score(fear_valid, target_valid)\n",
    "        print('max_iter =', iters, ': ', end='')\n",
    "        print('{:.3f}'.format(result))\n",
    "        if result > best_result:\n",
    "            best_iter = iters\n",
    "            best_result = result\n",
    "            model_reg = model\n",
    "    print('-'*70)\n",
    "    print('Наилучший результат Accuracy {:.3f} при максимальном количестве итераций {}'.format(best_result, best_iter))\n",
    "    return model_reg"
   ]
  },
  {
   "cell_type": "markdown",
   "metadata": {},
   "source": [
    "#### Сохранение модели с наилучшими гиперпараметрами"
   ]
  },
  {
   "cell_type": "code",
   "execution_count": 16,
   "metadata": {},
   "outputs": [
    {
     "name": "stdout",
     "output_type": "stream",
     "text": [
      "max_iter = 100 : 0.726\n",
      "max_iter = 200 : 0.726\n",
      "max_iter = 300 : 0.726\n",
      "max_iter = 400 : 0.726\n",
      "max_iter = 500 : 0.726\n",
      "max_iter = 600 : 0.726\n",
      "max_iter = 700 : 0.726\n",
      "max_iter = 800 : 0.726\n",
      "max_iter = 900 : 0.726\n",
      "max_iter = 1000 : 0.726\n",
      "----------------------------------------------------------------------\n",
      "Наилучший результат Accuracy 0.726 при максимальном количестве итераций 100\n"
     ]
    }
   ],
   "source": [
    "model_regression = regression(features_train, target_train, features_valid, target_valid, 12345, 1000)"
   ]
  },
  {
   "cell_type": "code",
   "execution_count": 17,
   "metadata": {},
   "outputs": [
    {
     "name": "stdout",
     "output_type": "stream",
     "text": [
      "Средняя оценка Accuracy модели перекрестной валидацией 72.71%\n"
     ]
    }
   ],
   "source": [
    "print('Средняя оценка Accuracy модели перекрестной валидацией {:.2%}'\n",
    "      .format(cross_val_score(model_regression, features, target, cv=5).mean()))"
   ]
  },
  {
   "cell_type": "markdown",
   "metadata": {},
   "source": [
    "### Вывод"
   ]
  },
  {
   "cell_type": "markdown",
   "metadata": {},
   "source": [
    "Рассмотрев три модели классификации, получены следующие результаты:\n",
    "1. Модель Дерево решений\n",
    "    * при разделении на обучающую и валидационную выборки имеет показатель `Accuracy` - **76,5%** при максимальной глубине дерева - 3\n",
    "    * при перекрестной проверке по всему объему данных имеет `Accuracy` - **79,15%**\n",
    "2. Модель Случайный лес \n",
    "    * при разделении на обучающую и валидационную выборки имеет показатель `Accuracy` - **79%** при максимальном количестве деревьев 6 и максимальной глубине дерева 6\n",
    "    * при перекрестной проверке по всему объему данных имеет `Accuracy` - **80,34%**\n",
    "3. Модель Логистическая регрессия \n",
    "    * при разделении на обучающую и валидационную выборки имеет показатель `Accuracy` - **72,6%** при максимальном количестве итераций - 100\n",
    "    * при перекрестной проверке по всему объему данных имеет `Accuracy` - **72,71%**"
   ]
  },
  {
   "cell_type": "markdown",
   "metadata": {},
   "source": [
    "## Проверка моделей на тестовой выборке"
   ]
  },
  {
   "cell_type": "markdown",
   "metadata": {},
   "source": [
    "### Проверка модели решающее дерево"
   ]
  },
  {
   "cell_type": "code",
   "execution_count": 18,
   "metadata": {},
   "outputs": [
    {
     "name": "stdout",
     "output_type": "stream",
     "text": [
      "Accuracy модели дерево решений на тестовой выборке: 78.69%\n"
     ]
    }
   ],
   "source": [
    "predict_tree = model_tree.predict(features_test)\n",
    "result_tree = accuracy_score(target_test, predict_tree)\n",
    "print('Accuracy модели дерево решений на тестовой выборке: {:.2%}'.format(result_tree))"
   ]
  },
  {
   "cell_type": "markdown",
   "metadata": {},
   "source": [
    "### Проверка модели случайный лес"
   ]
  },
  {
   "cell_type": "code",
   "execution_count": 19,
   "metadata": {},
   "outputs": [
    {
     "name": "stdout",
     "output_type": "stream",
     "text": [
      "Accuracy модели случайный лес на тестовой выборке: 79.63%\n"
     ]
    }
   ],
   "source": [
    "predict_forest = model_forest.predict(features_test)\n",
    "result_forest = accuracy_score(target_test, predict_forest)\n",
    "print('Accuracy модели случайный лес на тестовой выборке: {:.2%}'.format(result_forest))"
   ]
  },
  {
   "cell_type": "markdown",
   "metadata": {},
   "source": [
    "### Проверка модели логистическая регрессия"
   ]
  },
  {
   "cell_type": "code",
   "execution_count": 20,
   "metadata": {},
   "outputs": [
    {
     "name": "stdout",
     "output_type": "stream",
     "text": [
      "Accuracy модели логистическая регрессия на тестовой выборке: 75.89%\n"
     ]
    }
   ],
   "source": [
    "predict_regression = model_regression.predict(features_test)\n",
    "result_reg = model_regression.score(features_test, target_test)\n",
    "print('Accuracy модели логистическая регрессия на тестовой выборке: {:.2%}'.format(result_reg))"
   ]
  },
  {
   "cell_type": "markdown",
   "metadata": {},
   "source": [
    "### Вывод"
   ]
  },
  {
   "cell_type": "markdown",
   "metadata": {},
   "source": [
    "При проверке моделей на тестовых данных, получены следующие результаты:\n",
    "* Дерево решений - доля правильных ответов - **78,69%**\n",
    "* Случайный лес - доля правильных ответов - **79,63%**\n",
    "* Логистическая регрессия - доля правильных ответов - **75,89%**"
   ]
  },
  {
   "cell_type": "markdown",
   "metadata": {},
   "source": [
    "## Проверка модели на адекватность"
   ]
  },
  {
   "cell_type": "markdown",
   "metadata": {},
   "source": [
    "Так как мы имеем в данных распределение пользователей по тарифам *Смарт* и *Ультра* **69%** и **31%** соответственно, вероятность верно спрогнозировать тариф *Смарт* равна 69%, а для прогноза более редкого тарифа, в нашем случае это тариф \"Ультра\", метрика `Accuracy`, т.е. *доля правильных ответов*, должна быть больше 70%. \n",
    "\n",
    "Все рассмотренные модели классификации имеют показатель `Accuracy` больше **70%**, в связи с чем, можно судить об адекватности каждой рассмотренной модели классификации."
   ]
  },
  {
   "cell_type": "markdown",
   "metadata": {},
   "source": [
    "## Выводы"
   ]
  },
  {
   "cell_type": "markdown",
   "metadata": {},
   "source": [
    "По результатам проведенного исследования, в ходе которого модели классификации оценивались только по признаку `Accuracy`, т.е. доли правильных ответов, наилучшим образом на тестовой выборке из общего объема данных себя показала модель **Случайного леса** имеющая показатель `Accuracy` равный **79,63%**.\n",
    "\n",
    "Остальные рассмотренные модели так же справились с порогом в требуемые 75%:\n",
    "* Модель **Дерево решений** достигла 78,69% на тестовой выборке\n",
    "* Модель **Логистическая регрессия** достигла 75,89% на тестовой выборке\n",
    "\n",
    "Для более точной оценки каждой модели необходимо так же рассмотреть такие критерии как:\n",
    "* **Precision** - *точность*\n",
    "* **Recall** - *полнота*\n",
    "* **F1** - *баланс между точностью и полнотой*\n",
    "* **ROC_AUC** - *площадь под кривой ошибок*"
   ]
  }
 ],
 "metadata": {
  "kernelspec": {
   "display_name": "Python 3 (ipykernel)",
   "language": "python",
   "name": "python3"
  },
  "language_info": {
   "codemirror_mode": {
    "name": "ipython",
    "version": 3
   },
   "file_extension": ".py",
   "mimetype": "text/x-python",
   "name": "python",
   "nbconvert_exporter": "python",
   "pygments_lexer": "ipython3",
   "version": "3.9.7"
  },
  "toc": {
   "base_numbering": 1,
   "nav_menu": {},
   "number_sections": true,
   "sideBar": true,
   "skip_h1_title": true,
   "title_cell": "Содержание",
   "title_sidebar": "Contents",
   "toc_cell": true,
   "toc_position": {
    "height": "calc(100% - 180px)",
    "left": "10px",
    "top": "150px",
    "width": "165px"
   },
   "toc_section_display": true,
   "toc_window_display": true
  }
 },
 "nbformat": 4,
 "nbformat_minor": 4
}
